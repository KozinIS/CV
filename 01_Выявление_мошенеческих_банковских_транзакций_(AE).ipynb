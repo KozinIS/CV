{
  "nbformat": 4,
  "nbformat_minor": 0,
  "metadata": {
    "colab": {
      "provenance": [],
      "toc_visible": true,
      "include_colab_link": true
    },
    "kernelspec": {
      "name": "python3",
      "display_name": "Python 3"
    },
    "accelerator": "GPU"
  },
  "cells": [
    {
      "cell_type": "markdown",
      "metadata": {
        "id": "view-in-github",
        "colab_type": "text"
      },
      "source": [
        "<a href=\"https://colab.research.google.com/github/KozinIS/CV/blob/main/01_%D0%92%D1%8B%D1%8F%D0%B2%D0%BB%D0%B5%D0%BD%D0%B8%D0%B5_%D0%BC%D0%BE%D1%88%D0%B5%D0%BD%D0%B5%D1%87%D0%B5%D1%81%D0%BA%D0%B8%D1%85_%D0%B1%D0%B0%D0%BD%D0%BA%D0%BE%D0%B2%D1%81%D0%BA%D0%B8%D1%85_%D1%82%D1%80%D0%B0%D0%BD%D0%B7%D0%B0%D0%BA%D1%86%D0%B8%D0%B9_(AE).ipynb\" target=\"_parent\"><img src=\"https://colab.research.google.com/assets/colab-badge.svg\" alt=\"Open In Colab\"/></a>"
      ]
    },
    {
      "cell_type": "markdown",
      "metadata": {
        "id": "6eCKyS29gZOE"
      },
      "source": [
        "# **Выявление мошенеческих банковских транзакций (AE)**"
      ]
    },
    {
      "cell_type": "markdown",
      "source": [
        "# 1 Постановка задачи\n",
        "\n",
        "*Добейтесь точности не менее 90 % в решении задачи поиска мошеннических операций*\n",
        "\n",
        "*Попробуйте сделать автокодировщик со свёрточными слоями. Сделайте гибкую настройку порога (bias), по которому мы определяем, мошенническая транзакция или нет.*"
      ],
      "metadata": {
        "id": "Y-5eHsQTdU1A"
      }
    },
    {
      "cell_type": "markdown",
      "metadata": {
        "id": "O4US6ovtgyo9"
      },
      "source": [
        "# 2 Подгрузка библиотек и подключение диска"
      ]
    },
    {
      "cell_type": "code",
      "metadata": {
        "id": "6mxzJJidg2L8"
      },
      "source": [
        "from tensorflow.keras.models import Model, Sequential      # Абстрактный класс базовой модели сети от кераса и последовательная модель\n",
        "\n",
        "# Из кераса загружаем необходимые слои для нейросети:\n",
        "from tensorflow.keras.layers import Dense, Dropout, Flatten, Reshape, Input, Conv2DTranspose, Conv1DTranspose, concatenate, Activation, MaxPooling2D, MaxPooling1D, Conv2D, Conv1D, BatchNormalization\n",
        "from tensorflow.keras import backend as K                  # Базовые керасовские функции\n",
        "from tensorflow.keras.optimizers import Adam               # Оптимизатор Адам\n",
        "from tensorflow.keras import utils                         # Утилиты кераса\n",
        "from tensorflow.keras.datasets import mnist, fashion_mnist # Готовые базы mnist\n",
        "\n",
        "import matplotlib.pyplot as plt                            # Из библиотеки для визуализации данных возьмём интерфейс для построения графиков простых функций\n",
        "from tensorflow.keras.preprocessing import image           # Модуль для отрисовки изображения\n",
        "import numpy as np                                         # Библиотека для работы с массивами данных\n",
        "import pandas as pd                                        # Библиотека для анализа и обработки данных\n",
        "from PIL import Image                                      # Модуль для отрисовки изображения\n",
        "from sklearn.model_selection import train_test_split       # Модуль для разбивки выборки на тренировочную/тестовую\n",
        "from sklearn.preprocessing import StandardScaler           # Модуль для стандартизации данных\n",
        "\n",
        "import os\n",
        "from google.colab import drive\n",
        "import time"
      ],
      "execution_count": null,
      "outputs": []
    },
    {
      "cell_type": "code",
      "metadata": {
        "id": "5Di1eMcjg6em",
        "colab": {
          "base_uri": "https://localhost:8080/"
        },
        "outputId": "fadc39f6-eed2-4728-91cc-8e623ec92a75"
      },
      "source": [
        "drive.mount('/content/drive/')"
      ],
      "execution_count": null,
      "outputs": [
        {
          "output_type": "stream",
          "text": [
            "Mounted at /content/drive/\n"
          ],
          "name": "stdout"
        }
      ]
    },
    {
      "cell_type": "markdown",
      "metadata": {
        "id": "m9xCIX-phZqp"
      },
      "source": [
        "# 3 Подгрузка базы и создание обучеющей выборки"
      ]
    },
    {
      "cell_type": "code",
      "metadata": {
        "id": "xyV8Twka115Y"
      },
      "source": [
        "df = pd.read_csv(\"/content/drive/My Drive/HW_22/creditcard.csv\")"
      ],
      "execution_count": null,
      "outputs": []
    },
    {
      "cell_type": "code",
      "metadata": {
        "id": "q_R5ZUM912Ad",
        "colab": {
          "base_uri": "https://localhost:8080/",
          "height": 226
        },
        "outputId": "7de3d906-6054-41b7-9e13-178caf9f0b21"
      },
      "source": [
        "df.head()"
      ],
      "execution_count": null,
      "outputs": [
        {
          "output_type": "execute_result",
          "data": {
            "text/html": [
              "<div>\n",
              "<style scoped>\n",
              "    .dataframe tbody tr th:only-of-type {\n",
              "        vertical-align: middle;\n",
              "    }\n",
              "\n",
              "    .dataframe tbody tr th {\n",
              "        vertical-align: top;\n",
              "    }\n",
              "\n",
              "    .dataframe thead th {\n",
              "        text-align: right;\n",
              "    }\n",
              "</style>\n",
              "<table border=\"1\" class=\"dataframe\">\n",
              "  <thead>\n",
              "    <tr style=\"text-align: right;\">\n",
              "      <th></th>\n",
              "      <th>Time</th>\n",
              "      <th>V1</th>\n",
              "      <th>V2</th>\n",
              "      <th>V3</th>\n",
              "      <th>V4</th>\n",
              "      <th>V5</th>\n",
              "      <th>V6</th>\n",
              "      <th>V7</th>\n",
              "      <th>V8</th>\n",
              "      <th>V9</th>\n",
              "      <th>V10</th>\n",
              "      <th>V11</th>\n",
              "      <th>V12</th>\n",
              "      <th>V13</th>\n",
              "      <th>V14</th>\n",
              "      <th>V15</th>\n",
              "      <th>V16</th>\n",
              "      <th>V17</th>\n",
              "      <th>V18</th>\n",
              "      <th>V19</th>\n",
              "      <th>V20</th>\n",
              "      <th>V21</th>\n",
              "      <th>V22</th>\n",
              "      <th>V23</th>\n",
              "      <th>V24</th>\n",
              "      <th>V25</th>\n",
              "      <th>V26</th>\n",
              "      <th>V27</th>\n",
              "      <th>V28</th>\n",
              "      <th>Amount</th>\n",
              "      <th>Class</th>\n",
              "    </tr>\n",
              "  </thead>\n",
              "  <tbody>\n",
              "    <tr>\n",
              "      <th>0</th>\n",
              "      <td>0.0</td>\n",
              "      <td>-1.359807</td>\n",
              "      <td>-0.072781</td>\n",
              "      <td>2.536347</td>\n",
              "      <td>1.378155</td>\n",
              "      <td>-0.338321</td>\n",
              "      <td>0.462388</td>\n",
              "      <td>0.239599</td>\n",
              "      <td>0.098698</td>\n",
              "      <td>0.363787</td>\n",
              "      <td>0.090794</td>\n",
              "      <td>-0.551600</td>\n",
              "      <td>-0.617801</td>\n",
              "      <td>-0.991390</td>\n",
              "      <td>-0.311169</td>\n",
              "      <td>1.468177</td>\n",
              "      <td>-0.470401</td>\n",
              "      <td>0.207971</td>\n",
              "      <td>0.025791</td>\n",
              "      <td>0.403993</td>\n",
              "      <td>0.251412</td>\n",
              "      <td>-0.018307</td>\n",
              "      <td>0.277838</td>\n",
              "      <td>-0.110474</td>\n",
              "      <td>0.066928</td>\n",
              "      <td>0.128539</td>\n",
              "      <td>-0.189115</td>\n",
              "      <td>0.133558</td>\n",
              "      <td>-0.021053</td>\n",
              "      <td>149.62</td>\n",
              "      <td>0</td>\n",
              "    </tr>\n",
              "    <tr>\n",
              "      <th>1</th>\n",
              "      <td>0.0</td>\n",
              "      <td>1.191857</td>\n",
              "      <td>0.266151</td>\n",
              "      <td>0.166480</td>\n",
              "      <td>0.448154</td>\n",
              "      <td>0.060018</td>\n",
              "      <td>-0.082361</td>\n",
              "      <td>-0.078803</td>\n",
              "      <td>0.085102</td>\n",
              "      <td>-0.255425</td>\n",
              "      <td>-0.166974</td>\n",
              "      <td>1.612727</td>\n",
              "      <td>1.065235</td>\n",
              "      <td>0.489095</td>\n",
              "      <td>-0.143772</td>\n",
              "      <td>0.635558</td>\n",
              "      <td>0.463917</td>\n",
              "      <td>-0.114805</td>\n",
              "      <td>-0.183361</td>\n",
              "      <td>-0.145783</td>\n",
              "      <td>-0.069083</td>\n",
              "      <td>-0.225775</td>\n",
              "      <td>-0.638672</td>\n",
              "      <td>0.101288</td>\n",
              "      <td>-0.339846</td>\n",
              "      <td>0.167170</td>\n",
              "      <td>0.125895</td>\n",
              "      <td>-0.008983</td>\n",
              "      <td>0.014724</td>\n",
              "      <td>2.69</td>\n",
              "      <td>0</td>\n",
              "    </tr>\n",
              "    <tr>\n",
              "      <th>2</th>\n",
              "      <td>1.0</td>\n",
              "      <td>-1.358354</td>\n",
              "      <td>-1.340163</td>\n",
              "      <td>1.773209</td>\n",
              "      <td>0.379780</td>\n",
              "      <td>-0.503198</td>\n",
              "      <td>1.800499</td>\n",
              "      <td>0.791461</td>\n",
              "      <td>0.247676</td>\n",
              "      <td>-1.514654</td>\n",
              "      <td>0.207643</td>\n",
              "      <td>0.624501</td>\n",
              "      <td>0.066084</td>\n",
              "      <td>0.717293</td>\n",
              "      <td>-0.165946</td>\n",
              "      <td>2.345865</td>\n",
              "      <td>-2.890083</td>\n",
              "      <td>1.109969</td>\n",
              "      <td>-0.121359</td>\n",
              "      <td>-2.261857</td>\n",
              "      <td>0.524980</td>\n",
              "      <td>0.247998</td>\n",
              "      <td>0.771679</td>\n",
              "      <td>0.909412</td>\n",
              "      <td>-0.689281</td>\n",
              "      <td>-0.327642</td>\n",
              "      <td>-0.139097</td>\n",
              "      <td>-0.055353</td>\n",
              "      <td>-0.059752</td>\n",
              "      <td>378.66</td>\n",
              "      <td>0</td>\n",
              "    </tr>\n",
              "    <tr>\n",
              "      <th>3</th>\n",
              "      <td>1.0</td>\n",
              "      <td>-0.966272</td>\n",
              "      <td>-0.185226</td>\n",
              "      <td>1.792993</td>\n",
              "      <td>-0.863291</td>\n",
              "      <td>-0.010309</td>\n",
              "      <td>1.247203</td>\n",
              "      <td>0.237609</td>\n",
              "      <td>0.377436</td>\n",
              "      <td>-1.387024</td>\n",
              "      <td>-0.054952</td>\n",
              "      <td>-0.226487</td>\n",
              "      <td>0.178228</td>\n",
              "      <td>0.507757</td>\n",
              "      <td>-0.287924</td>\n",
              "      <td>-0.631418</td>\n",
              "      <td>-1.059647</td>\n",
              "      <td>-0.684093</td>\n",
              "      <td>1.965775</td>\n",
              "      <td>-1.232622</td>\n",
              "      <td>-0.208038</td>\n",
              "      <td>-0.108300</td>\n",
              "      <td>0.005274</td>\n",
              "      <td>-0.190321</td>\n",
              "      <td>-1.175575</td>\n",
              "      <td>0.647376</td>\n",
              "      <td>-0.221929</td>\n",
              "      <td>0.062723</td>\n",
              "      <td>0.061458</td>\n",
              "      <td>123.50</td>\n",
              "      <td>0</td>\n",
              "    </tr>\n",
              "    <tr>\n",
              "      <th>4</th>\n",
              "      <td>2.0</td>\n",
              "      <td>-1.158233</td>\n",
              "      <td>0.877737</td>\n",
              "      <td>1.548718</td>\n",
              "      <td>0.403034</td>\n",
              "      <td>-0.407193</td>\n",
              "      <td>0.095921</td>\n",
              "      <td>0.592941</td>\n",
              "      <td>-0.270533</td>\n",
              "      <td>0.817739</td>\n",
              "      <td>0.753074</td>\n",
              "      <td>-0.822843</td>\n",
              "      <td>0.538196</td>\n",
              "      <td>1.345852</td>\n",
              "      <td>-1.119670</td>\n",
              "      <td>0.175121</td>\n",
              "      <td>-0.451449</td>\n",
              "      <td>-0.237033</td>\n",
              "      <td>-0.038195</td>\n",
              "      <td>0.803487</td>\n",
              "      <td>0.408542</td>\n",
              "      <td>-0.009431</td>\n",
              "      <td>0.798278</td>\n",
              "      <td>-0.137458</td>\n",
              "      <td>0.141267</td>\n",
              "      <td>-0.206010</td>\n",
              "      <td>0.502292</td>\n",
              "      <td>0.219422</td>\n",
              "      <td>0.215153</td>\n",
              "      <td>69.99</td>\n",
              "      <td>0</td>\n",
              "    </tr>\n",
              "  </tbody>\n",
              "</table>\n",
              "</div>"
            ],
            "text/plain": [
              "   Time        V1        V2        V3  ...       V27       V28  Amount  Class\n",
              "0   0.0 -1.359807 -0.072781  2.536347  ...  0.133558 -0.021053  149.62      0\n",
              "1   0.0  1.191857  0.266151  0.166480  ... -0.008983  0.014724    2.69      0\n",
              "2   1.0 -1.358354 -1.340163  1.773209  ... -0.055353 -0.059752  378.66      0\n",
              "3   1.0 -0.966272 -0.185226  1.792993  ...  0.062723  0.061458  123.50      0\n",
              "4   2.0 -1.158233  0.877737  1.548718  ...  0.219422  0.215153   69.99      0\n",
              "\n",
              "[5 rows x 31 columns]"
            ]
          },
          "metadata": {
            "tags": []
          },
          "execution_count": 4
        }
      ]
    },
    {
      "cell_type": "code",
      "metadata": {
        "id": "v5l3zngi119o"
      },
      "source": [
        "# Удаляем столбец со временем:\n",
        "data = df.drop(['Time'], axis=1)\n",
        "\n",
        "# Нормализуем столбец с суммой транзакции:\n",
        "data['Amount'] = StandardScaler().fit_transform(data['Amount'].values.reshape(-1, 1))\n",
        "\n",
        "frauds = data[data.Class == 1]  # Записываем мошеннические операции\n",
        "normal = data[data.Class == 0]  # Записываем нормальные операции"
      ],
      "execution_count": null,
      "outputs": []
    },
    {
      "cell_type": "code",
      "metadata": {
        "id": "iVE1VPIa191R",
        "colab": {
          "base_uri": "https://localhost:8080/"
        },
        "outputId": "b2d75530-0ec5-4a88-e17d-44e3ca940484"
      },
      "source": [
        "frauds.shape"
      ],
      "execution_count": null,
      "outputs": [
        {
          "output_type": "execute_result",
          "data": {
            "text/plain": [
              "(492, 30)"
            ]
          },
          "metadata": {
            "tags": []
          },
          "execution_count": 6
        }
      ]
    },
    {
      "cell_type": "code",
      "metadata": {
        "id": "n4j5lTfE197U",
        "colab": {
          "base_uri": "https://localhost:8080/"
        },
        "outputId": "6f1fbe88-1805-4bbc-cdb5-b27d540febdc"
      },
      "source": [
        "normal.shape"
      ],
      "execution_count": null,
      "outputs": [
        {
          "output_type": "execute_result",
          "data": {
            "text/plain": [
              "(284315, 30)"
            ]
          },
          "metadata": {
            "tags": []
          },
          "execution_count": 7
        }
      ]
    },
    {
      "cell_type": "code",
      "metadata": {
        "id": "15T6btSI1-IS"
      },
      "source": [
        "RANDOM_SEED = 42 # Задаем случайное значение\n",
        "\n",
        "# Берём нормальные операции и разбиваем на train_test(только 'X'):\n",
        "X_train, X_test = train_test_split(normal, test_size=0.2, random_state=RANDOM_SEED)"
      ],
      "execution_count": null,
      "outputs": []
    },
    {
      "cell_type": "code",
      "metadata": {
        "id": "XzrftybC2Iae"
      },
      "source": [
        "X_train = X_train.drop(['Class'], axis=1) # Удаляем класс в обучающем наборе данных\n",
        "X_test = pd.concat([X_test, frauds])      # Добавляем все мошеннические транзакции в тестовый набор данных\n",
        "y_test = X_test['Class']                  # Делаем метки для тестового набора данных\n",
        "X_test = X_test.drop(['Class'], axis=1)   # Удаляем класс у тестового набора данных\n",
        "\n",
        "# Преобразуем данные в массивы numpy:\n",
        "X_train = X_train.values\n",
        "X_test = X_test.values"
      ],
      "execution_count": null,
      "outputs": []
    },
    {
      "cell_type": "code",
      "metadata": {
        "id": "a50no6rq2IhL",
        "colab": {
          "base_uri": "https://localhost:8080/"
        },
        "outputId": "50cd5fcd-b0c2-408f-e3cd-52332368d208"
      },
      "source": [
        "print(X_train.shape)"
      ],
      "execution_count": null,
      "outputs": [
        {
          "output_type": "stream",
          "text": [
            "(227452, 29)\n"
          ],
          "name": "stdout"
        }
      ]
    },
    {
      "cell_type": "code",
      "metadata": {
        "id": "2uNmtTK2j9Eu",
        "colab": {
          "base_uri": "https://localhost:8080/"
        },
        "outputId": "9f1780ef-fa49-48c0-9221-3212412d1ccb"
      },
      "source": [
        "X_train[0].shape"
      ],
      "execution_count": null,
      "outputs": [
        {
          "output_type": "execute_result",
          "data": {
            "text/plain": [
              "(29,)"
            ]
          },
          "metadata": {
            "tags": []
          },
          "execution_count": 11
        }
      ]
    },
    {
      "cell_type": "code",
      "metadata": {
        "id": "G51YaCdbLQ0m",
        "colab": {
          "base_uri": "https://localhost:8080/"
        },
        "outputId": "e802b1fb-56bc-4d80-e031-7895945348e2"
      },
      "source": [
        "X_train.shape[1]"
      ],
      "execution_count": null,
      "outputs": [
        {
          "output_type": "execute_result",
          "data": {
            "text/plain": [
              "29"
            ]
          },
          "metadata": {
            "tags": []
          },
          "execution_count": 13
        }
      ]
    },
    {
      "cell_type": "code",
      "metadata": {
        "colab": {
          "base_uri": "https://localhost:8080/"
        },
        "id": "al_crjexNH3N",
        "outputId": "8c065393-c3af-4f0b-dd13-38ea2f102afb"
      },
      "source": [
        "type(X_test)"
      ],
      "execution_count": null,
      "outputs": [
        {
          "output_type": "execute_result",
          "data": {
            "text/plain": [
              "numpy.ndarray"
            ]
          },
          "metadata": {
            "tags": []
          },
          "execution_count": 30
        }
      ]
    },
    {
      "cell_type": "markdown",
      "metadata": {
        "id": "zamKCtJAh2NU"
      },
      "source": [
        "# 4 Создание и обучение базового автокодировщика"
      ]
    },
    {
      "cell_type": "markdown",
      "metadata": {
        "id": "l11BakUDtGGs"
      },
      "source": [
        "Функция создания автокодировщика"
      ]
    },
    {
      "cell_type": "code",
      "metadata": {
        "id": "MIx5i1uysi1X"
      },
      "source": [
        "def creditcardAutoencoder():             # Объявляем автокодировщик для определения мошейнич. транзакций\n",
        "  dataSize = X_train.shape[1]            # Берём размеры X_train по второй оси (29)\n",
        "  dataInput = Input(shape=(dataSize, ))  # Задаем эти размеры как входные в сеть\n",
        "\n",
        "  x = Dense(10, activation='relu')(dataInput)       # Пропускаем через полносвязный слой размером 10\n",
        "  x = Dense(dataSize, activation='linear')(x)       # и через полносвязный слой размером 29\n",
        "\n",
        "  autoencoder = Model(inputs=dataInput, outputs=x)  # Сборка модели\n",
        "\n",
        "  autoencoder.compile(optimizer='Adam', loss='mse') # Компилируем модель с выбором оптимайзера и среднеквадратичной ошибки\n",
        "\n",
        "  return autoencoder"
      ],
      "execution_count": null,
      "outputs": []
    },
    {
      "cell_type": "markdown",
      "metadata": {
        "id": "Eufot4KVtPOm"
      },
      "source": [
        "Создание и обучение нейросети"
      ]
    },
    {
      "cell_type": "code",
      "metadata": {
        "id": "-6FAuuRoqB13",
        "colab": {
          "base_uri": "https://localhost:8080/"
        },
        "outputId": "e96cad2d-abcc-4bc7-8b58-c07638af54f1"
      },
      "source": [
        "model = creditcardAutoencoder()\n",
        "\n",
        "model.summary()"
      ],
      "execution_count": null,
      "outputs": [
        {
          "output_type": "stream",
          "text": [
            "Model: \"model_1\"\n",
            "_________________________________________________________________\n",
            "Layer (type)                 Output Shape              Param #   \n",
            "=================================================================\n",
            "input_2 (InputLayer)         [(None, 29)]              0         \n",
            "_________________________________________________________________\n",
            "dense_2 (Dense)              (None, 10)                300       \n",
            "_________________________________________________________________\n",
            "dense_3 (Dense)              (None, 29)                319       \n",
            "=================================================================\n",
            "Total params: 619\n",
            "Trainable params: 619\n",
            "Non-trainable params: 0\n",
            "_________________________________________________________________\n"
          ],
          "name": "stdout"
        }
      ]
    },
    {
      "cell_type": "code",
      "metadata": {
        "id": "ine2f_2Ih5qx",
        "colab": {
          "base_uri": "https://localhost:8080/"
        },
        "outputId": "087cf299-d10d-4446-c4d7-7ba0367bda76"
      },
      "source": [
        "history = model.fit(X_train, X_train,\n",
        "                    epochs=10,\n",
        "                    batch_size=33) # Загружаем данные в модель(X_train'ы) и обучаем"
      ],
      "execution_count": null,
      "outputs": [
        {
          "output_type": "stream",
          "text": [
            "Epoch 1/10\n",
            "6893/6893 [==============================] - 12s 2ms/step - loss: 0.3570\n",
            "Epoch 2/10\n",
            "6893/6893 [==============================] - 12s 2ms/step - loss: 0.3555\n",
            "Epoch 3/10\n",
            "6893/6893 [==============================] - 12s 2ms/step - loss: 0.3550\n",
            "Epoch 4/10\n",
            "6893/6893 [==============================] - 12s 2ms/step - loss: 0.3546\n",
            "Epoch 5/10\n",
            "6893/6893 [==============================] - 12s 2ms/step - loss: 0.3545\n",
            "Epoch 6/10\n",
            "6893/6893 [==============================] - 12s 2ms/step - loss: 0.3544\n",
            "Epoch 7/10\n",
            "6893/6893 [==============================] - 12s 2ms/step - loss: 0.3542\n",
            "Epoch 8/10\n",
            "6893/6893 [==============================] - 12s 2ms/step - loss: 0.3543\n",
            "Epoch 9/10\n",
            "6893/6893 [==============================] - 12s 2ms/step - loss: 0.3543\n",
            "Epoch 10/10\n",
            "6893/6893 [==============================] - 12s 2ms/step - loss: 0.3542\n"
          ],
          "name": "stdout"
        }
      ]
    },
    {
      "cell_type": "markdown",
      "metadata": {
        "id": "miTvLv_1ogLh"
      },
      "source": [
        "Результаты"
      ]
    },
    {
      "cell_type": "code",
      "metadata": {
        "id": "2Z80JuFnofdL",
        "colab": {
          "base_uri": "https://localhost:8080/",
          "height": 146
        },
        "outputId": "a772429d-a02e-4e01-db9f-984f383e3679"
      },
      "source": [
        "predictions = model.predict(X_test)                      # делаем предсказание по X_test\n",
        "mse = np.mean(np.power(X_test - predictions, 2), axis=1) # определяем среднеквадратичную ошибку по X_test и предсказанием по X_test\n",
        "mse_normal = mse[y_test.values == 0]                     # среднеквадратичная ошибка на нормальных операциях\n",
        "mse_frauds = mse[y_test.values == 1]                     # среднеквадратичная ошибка на мошеннических операциях\n",
        "print(\"Минимальная ошибка нормальных трансакций:\", round(min(mse_normal),4))      # найдем минимальную среднеквадратичную ошибку на нормальных операциях\n",
        "print(\"Максимальная ошибка нормальных трансакций:\", round(max(mse_normal),4))     # найдем максимальную среднеквадратичную ошибку на нормальных операциях\n",
        "print(\"Средняя ошибка нормальных трансакций:\", round(sum(mse_normal) / len(mse_normal),4)) # среднюю ошибку\n",
        "print(\"=================================\")\n",
        "print(\"Минимальная ошибка мошеннических трансакций:\", round(min(mse_frauds),4))   # найдем минимальную среднеквадратичную ошибку на мошеннических операциях\n",
        "print(\"Максимальная ошибка мошеннических трансакций:\", round(max(mse_frauds),4))  # найдем максимальную среднеквадратичную ошибку на мошеннических операциях\n",
        "print(\"Средняя ошибка мошеннических трансакций:\", round(sum(mse_frauds) / len(mse_frauds),4))"
      ],
      "execution_count": null,
      "outputs": [
        {
          "output_type": "stream",
          "text": [
            "Минимальная ошибка нормальных трансакций: 0.0403\n",
            "Максимальная ошибка нормальных трансакций: 337.8032\n",
            "Средняя ошибка нормальных трансакций: 0.355\n",
            "=================================\n",
            "Минимальная ошибка мошеннических трансакций: 0.1553\n",
            "Максимальная ошибка мошеннических трансакций: 97.2615\n",
            "Средняя ошибка мошеннических трансакций: 18.7157\n"
          ],
          "name": "stdout"
        }
      ]
    },
    {
      "cell_type": "code",
      "metadata": {
        "id": "VJcAv65Fok6v"
      },
      "source": [
        "def getAccByBias(bias): # Функция будет принимать какое-то пороговое значение:\n",
        "  isNormal = mse_normal < bias # - если ошибка меньше порога - то транзакция нормальная;\n",
        "  isFrauds = mse_frauds > bias # - если ошибка больше порога - то транзакция мошенническая.\n",
        "\n",
        "  accNormal = sum(isNormal) / len(isNormal) # Подсчёт процента нормальных операций\n",
        "  accFaruds = sum(isFrauds) / len(isFrauds) # Подсчёт процента мошеннических операций\n",
        "\n",
        "  print(\"Распознано нормальных трансакций: \", round(100*accNormal), \"%\", sep=\"\")\n",
        "  print(\"Распознано мошеннических трансакций: \", round(100*accFaruds), \"%\", sep=\"\")\n",
        "  print(\"Средняя точность распознавания: \", round(50*(accNormal + accFaruds)), \"%\", sep=\"\")"
      ],
      "execution_count": null,
      "outputs": []
    },
    {
      "cell_type": "code",
      "metadata": {
        "id": "8NiyIWfwok9S",
        "colab": {
          "base_uri": "https://localhost:8080/",
          "height": 72
        },
        "outputId": "0411e09d-c150-4ad9-86a9-268a35360e9c"
      },
      "source": [
        "getAccByBias(0.8) # Вывод данных по распознаванию с конкретным пороговым значением"
      ],
      "execution_count": null,
      "outputs": [
        {
          "output_type": "stream",
          "text": [
            "Распознано нормальных трансакций: 96.0%\n",
            "Распознано мошеннических трансакций: 88.0%\n",
            "Средняя точность распознавания: 92.0%\n"
          ],
          "name": "stdout"
        }
      ]
    },
    {
      "cell_type": "markdown",
      "metadata": {
        "id": "WT2_GTBO7jR4"
      },
      "source": [
        "# 5 Эксперимент № 1 (с разжимаем и сжимаем)"
      ]
    },
    {
      "cell_type": "markdown",
      "metadata": {
        "id": "_OzD9w7x0Alk"
      },
      "source": [
        "## 5.1 Создание нейросети"
      ]
    },
    {
      "cell_type": "code",
      "metadata": {
        "id": "rsPLxl2UTyI4",
        "colab": {
          "base_uri": "https://localhost:8080/",
          "height": 788
        },
        "outputId": "0ca3cc05-4c8d-44d1-9188-98d85e9126de"
      },
      "source": [
        "dataInput = Input(shape=(29,1))  # (29,)\n",
        "\n",
        "x = Conv1D(32, (3), padding='same', activation='relu')(dataInput)\n",
        "x = BatchNormalization()(x)\n",
        "x = Conv1D(32, (3), padding='same', activation='relu')(x)\n",
        "x = BatchNormalization()(x)\n",
        "\n",
        "x = Conv1DTranspose(64, (2), strides=(2), padding='same', activation='relu')(x)\n",
        "\n",
        "x = Conv1D(32, (3), padding='same', activation='relu')(x)\n",
        "x = BatchNormalization()(x)\n",
        "x = Conv1D(32, (3), padding='same', activation='relu')(x)\n",
        "x = BatchNormalization()(x)\n",
        "\n",
        "x = MaxPooling1D()(x)\n",
        "x = BatchNormalization()(x)\n",
        "\n",
        "x = Conv1D(64, (3), padding='same', activation='relu')(x)\n",
        "x = BatchNormalization()(x)\n",
        "x = Conv1D(64, (3), padding='same', activation='relu')(x)\n",
        "x = BatchNormalization()(x)\n",
        "\n",
        "x = Conv1D(1, (3), activation='sigmoid', padding='same')(x)\n",
        "\n",
        "autoencoder = Model(inputs=dataInput, outputs=x)\n",
        "autoencoder.compile(optimizer='Adam', loss='mse')\n",
        "\n",
        "autoencoder.summary()"
      ],
      "execution_count": null,
      "outputs": [
        {
          "output_type": "stream",
          "text": [
            "Model: \"functional_65\"\n",
            "_________________________________________________________________\n",
            "Layer (type)                 Output Shape              Param #   \n",
            "=================================================================\n",
            "input_37 (InputLayer)        [(None, 29, 1)]           0         \n",
            "_________________________________________________________________\n",
            "conv1d_71 (Conv1D)           (None, 29, 32)            128       \n",
            "_________________________________________________________________\n",
            "batch_normalization_12 (Batc (None, 29, 32)            128       \n",
            "_________________________________________________________________\n",
            "conv1d_72 (Conv1D)           (None, 29, 32)            3104      \n",
            "_________________________________________________________________\n",
            "batch_normalization_13 (Batc (None, 29, 32)            128       \n",
            "_________________________________________________________________\n",
            "conv1d_transpose (Conv1DTran (None, 58, 64)            4160      \n",
            "_________________________________________________________________\n",
            "conv1d_73 (Conv1D)           (None, 58, 32)            6176      \n",
            "_________________________________________________________________\n",
            "batch_normalization_14 (Batc (None, 58, 32)            128       \n",
            "_________________________________________________________________\n",
            "conv1d_74 (Conv1D)           (None, 58, 32)            3104      \n",
            "_________________________________________________________________\n",
            "batch_normalization_15 (Batc (None, 58, 32)            128       \n",
            "_________________________________________________________________\n",
            "max_pooling1d (MaxPooling1D) (None, 29, 32)            0         \n",
            "_________________________________________________________________\n",
            "batch_normalization_16 (Batc (None, 29, 32)            128       \n",
            "_________________________________________________________________\n",
            "conv1d_75 (Conv1D)           (None, 29, 64)            6208      \n",
            "_________________________________________________________________\n",
            "batch_normalization_17 (Batc (None, 29, 64)            256       \n",
            "_________________________________________________________________\n",
            "conv1d_76 (Conv1D)           (None, 29, 64)            12352     \n",
            "_________________________________________________________________\n",
            "batch_normalization_18 (Batc (None, 29, 64)            256       \n",
            "_________________________________________________________________\n",
            "conv1d_77 (Conv1D)           (None, 29, 1)             193       \n",
            "=================================================================\n",
            "Total params: 36,577\n",
            "Trainable params: 36,001\n",
            "Non-trainable params: 576\n",
            "_________________________________________________________________\n"
          ],
          "name": "stdout"
        }
      ]
    },
    {
      "cell_type": "markdown",
      "metadata": {
        "id": "MDpeSlCy0Clr"
      },
      "source": [
        "## 5.2 Обучение нейросети"
      ]
    },
    {
      "cell_type": "code",
      "metadata": {
        "id": "PV_asJZF0FT-",
        "colab": {
          "base_uri": "https://localhost:8080/",
          "height": 201
        },
        "outputId": "cef941ba-0e0c-46c1-e83a-b1c6d37f8826"
      },
      "source": [
        "history = autoencoder.fit(X_train, X_train,\n",
        "                    epochs=5,\n",
        "                    batch_size=32)"
      ],
      "execution_count": null,
      "outputs": [
        {
          "output_type": "stream",
          "text": [
            "Epoch 1/5\n",
            "7108/7108 [==============================] - 54s 8ms/step - loss: 0.7087\n",
            "Epoch 2/5\n",
            "7108/7108 [==============================] - 54s 8ms/step - loss: 0.7072\n",
            "Epoch 3/5\n",
            "7108/7108 [==============================] - 55s 8ms/step - loss: 0.7070\n",
            "Epoch 4/5\n",
            "7108/7108 [==============================] - 54s 8ms/step - loss: 0.7070\n",
            "Epoch 5/5\n",
            "7108/7108 [==============================] - 54s 8ms/step - loss: 0.7070\n"
          ],
          "name": "stdout"
        }
      ]
    },
    {
      "cell_type": "markdown",
      "metadata": {
        "id": "IDIZkZSB0I4K"
      },
      "source": [
        "## 5.3 Результаты работы нейорсети"
      ]
    },
    {
      "cell_type": "code",
      "metadata": {
        "id": "YScwpyKd0Luf",
        "colab": {
          "base_uri": "https://localhost:8080/",
          "height": 146
        },
        "outputId": "f9fa1385-6d20-42f5-ad67-414dc12124cf"
      },
      "source": [
        "predictions = autoencoder.predict(X_test)  # Делаем предсказание по X_test\n",
        "\n",
        "predictions_2 = predictions.reshape(57355, 29)\n",
        "\n",
        "mse = np.mean(np.power(X_test - predictions_2, 2), axis=1)  # Определяем среднеквадратичную ошибку по X_test и предсказанием по X_test\n",
        "mse_normal = mse[y_test.values == 0]                        # Среднеквадратичная ошибка на нормальных операциях\n",
        "mse_frauds = mse[y_test.values == 1]                        # Среднеквадратичная ошибка на мошеннических операциях\n",
        "\n",
        "print(\"Минимальная ошибка нормальных транзакций:\", round(min(mse_normal),4))  # Поиск минимальной среднеквадратичной ошибки на нормальных операциях\n",
        "print(\"Максимальная ошибка нормальных транзакций:\", round(max(mse_normal),4)) # Поиск максимальной среднеквадратичной ошибки на нормальных операциях\n",
        "print(\"Средняя ошибка нормальных транзакций:\", round(sum(mse_normal) / len(mse_normal),4))\n",
        "print(\"========================================:\")\n",
        "print(\"Минимальная ошибка мошеннических транзакций:\", round(min(mse_frauds),4))  # Поиск минимальной среднеквадратичной ошибки на мошеннических операциях\n",
        "print(\"Максимальная ошибка мошеннических транзакций:\", round(max(mse_frauds),4)) # Поиск максимальной среднеквадратичной ошибки на мошеннических операциях\n",
        "print(\"Средняя ошибка мошеннических транзакций:\", round(sum(mse_frauds) / len(mse_frauds),4))"
      ],
      "execution_count": null,
      "outputs": [
        {
          "output_type": "stream",
          "text": [
            "Минимальная ошибка нормальных транзакций: 0.0263\n",
            "Максимальная ошибка нормальных транзакций: 1853.1406\n",
            "Средняя ошибка нормальных транзакций: 0.7189\n",
            "========================================:\n",
            "Минимальная ошибка мошеннических транзакций: 0.0855\n",
            "Максимальная ошибка мошеннических транзакций: 275.1559\n",
            "Средняя ошибка мошеннических транзакций: 26.0601\n"
          ],
          "name": "stdout"
        }
      ]
    },
    {
      "cell_type": "code",
      "metadata": {
        "id": "1WNUlMy20NHC"
      },
      "source": [
        "def getAccByBias(bias): # Функция будет принимать какое-то пороговое значение:\n",
        "  isNormal = mse_normal < bias # - если ошибка меньше порога - то транзакция нормальная;\n",
        "  isFrauds = mse_frauds > bias # - если ошибка больше порога - то транзакция мошенническая.\n",
        "\n",
        "  accNormal = sum(isNormal) / len(isNormal) # Подсчёт процента нормальных операций\n",
        "  accFaruds = sum(isFrauds) / len(isFrauds) # Подсчёт процента мошеннических операций\n",
        "\n",
        "  print(\"Распознано нормальных трансакций: \", round(100*accNormal), \"%\", sep=\"\")\n",
        "  print(\"Распознано мошеннических трансакций: \", round(100*accFaruds), \"%\", sep=\"\")\n",
        "  print(\"Средняя точность распознавания: \", round(50*(accNormal + accFaruds)), \"%\", sep=\"\")"
      ],
      "execution_count": null,
      "outputs": []
    },
    {
      "cell_type": "code",
      "metadata": {
        "id": "TPgx5aIl0QIl",
        "colab": {
          "base_uri": "https://localhost:8080/",
          "height": 72
        },
        "outputId": "94ebda62-8e12-42ee-e7b6-f5faefa11c19"
      },
      "source": [
        "getAccByBias(1) # Вывод данных по распознаванию с конкретным пороговым значением"
      ],
      "execution_count": null,
      "outputs": [
        {
          "output_type": "stream",
          "text": [
            "Распознано нормальных трансакций: 91.0%\n",
            "Распознано мошеннических трансакций: 90.0%\n",
            "Средняя точность распознавания: 90.0%\n"
          ],
          "name": "stdout"
        }
      ]
    },
    {
      "cell_type": "markdown",
      "metadata": {
        "id": "yHhd7E4fYLjO"
      },
      "source": [
        "# 6 Эксперимент № 2 (без разжатия/сжатия)"
      ]
    },
    {
      "cell_type": "markdown",
      "metadata": {
        "id": "jCi_nWfK0kPn"
      },
      "source": [
        "## 6.1 Создание нейросети"
      ]
    },
    {
      "cell_type": "code",
      "metadata": {
        "id": "h3GGmWnjYTCz",
        "colab": {
          "base_uri": "https://localhost:8080/",
          "height": 348
        },
        "outputId": "aade0c20-27b2-4dd4-a2fd-f4d748e04fda"
      },
      "source": [
        "dataInput = Input(shape=(29,1))  # было (29,)\n",
        "\n",
        "x = Dense(10, activation='relu')(dataInput)\n",
        "\n",
        "x = Conv1D(64, (2), padding='same', activation='relu')(x)\n",
        "x = Conv1D(64, (2), padding='same', activation='relu')(x)\n",
        "\n",
        "x = Conv1D(1, (2), activation='sigmoid', padding='same')(x)\n",
        "\n",
        "autoencoder = Model(inputs=dataInput, outputs=x)\n",
        "autoencoder.compile(optimizer='Adam', loss='mse')\n",
        "\n",
        "autoencoder.summary()"
      ],
      "execution_count": null,
      "outputs": [
        {
          "output_type": "stream",
          "text": [
            "Model: \"functional_63\"\n",
            "_________________________________________________________________\n",
            "Layer (type)                 Output Shape              Param #   \n",
            "=================================================================\n",
            "input_36 (InputLayer)        [(None, 29, 1)]           0         \n",
            "_________________________________________________________________\n",
            "dense_51 (Dense)             (None, 29, 10)            20        \n",
            "_________________________________________________________________\n",
            "conv1d_68 (Conv1D)           (None, 29, 64)            1344      \n",
            "_________________________________________________________________\n",
            "conv1d_69 (Conv1D)           (None, 29, 64)            8256      \n",
            "_________________________________________________________________\n",
            "conv1d_70 (Conv1D)           (None, 29, 1)             129       \n",
            "=================================================================\n",
            "Total params: 9,749\n",
            "Trainable params: 9,749\n",
            "Non-trainable params: 0\n",
            "_________________________________________________________________\n"
          ],
          "name": "stdout"
        }
      ]
    },
    {
      "cell_type": "markdown",
      "metadata": {
        "id": "Y0W8kwMY0mpS"
      },
      "source": [
        "## 6.2 Обучение нейросети"
      ]
    },
    {
      "cell_type": "code",
      "metadata": {
        "id": "BvZXUf2c7pB_",
        "colab": {
          "base_uri": "https://localhost:8080/",
          "height": 127
        },
        "outputId": "9202f4cc-37e1-41ba-cf24-48a3b34fc1a4"
      },
      "source": [
        "history = autoencoder.fit(X_train, X_train,\n",
        "                    epochs=3,\n",
        "                    batch_size=32)"
      ],
      "execution_count": null,
      "outputs": [
        {
          "output_type": "stream",
          "text": [
            "Epoch 1/3\n",
            "7108/7108 [==============================] - 20s 3ms/step - loss: 0.7069\n",
            "Epoch 2/3\n",
            "7108/7108 [==============================] - 20s 3ms/step - loss: 0.7069\n",
            "Epoch 3/3\n",
            "7108/7108 [==============================] - 19s 3ms/step - loss: 0.7069\n"
          ],
          "name": "stdout"
        }
      ]
    },
    {
      "cell_type": "markdown",
      "metadata": {
        "id": "yAQEbDGtiKo_"
      },
      "source": [
        "## 6.3 Результаты работы нейорсети"
      ]
    },
    {
      "cell_type": "code",
      "metadata": {
        "id": "5tbQy8ln69VT",
        "colab": {
          "base_uri": "https://localhost:8080/",
          "height": 146
        },
        "outputId": "3880aa00-08a8-4d92-8249-00f3bc88727e"
      },
      "source": [
        "predictions = autoencoder.predict(X_test)  # Делаем предсказание по X_test\n",
        "\n",
        "predictions_2 = predictions.reshape(57355, 29)\n",
        "\n",
        "mse = np.mean(np.power(X_test - predictions_2, 2), axis=1)  # Определяем среднеквадратичную ошибку по X_test и предсказанием по X_test\n",
        "mse_normal = mse[y_test.values == 0]                        # Среднеквадратичная ошибка на нормальных операциях\n",
        "mse_frauds = mse[y_test.values == 1]                        # Среднеквадратичная ошибка на мошеннических операциях\n",
        "\n",
        "print(\"Минимальная ошибка нормальных транзакций:\", round(min(mse_normal),4))     # Поиск минимальной среднеквадратичной ошибки на нормальных операциях\n",
        "print(\"Максимальная ошибка нормальных транзакций:\", round(max(mse_normal),4))    # Поиск максимальной среднеквадратичной ошибки на нормальных операциях\n",
        "print(\"Средняя ошибка нормальных транзакций:\", round(sum(mse_normal) / len(mse_normal),4))\n",
        "print(\"========================================:\")\n",
        "print(\"Минимальная ошибка мошеннических транзакций:\", round(min(mse_frauds),4))  # Поиск минимальной среднеквадратичной ошибки на мошеннических операциях\n",
        "print(\"Максимальная ошибка мошеннических транзакций:\", round(max(mse_frauds),4)) # Поиск максимальной среднеквадратичной ошибки на мошеннических операциях\n",
        "print(\"Средняя ошибка мошеннических транзакций:\", round(sum(mse_frauds) / len(mse_frauds),4))"
      ],
      "execution_count": null,
      "outputs": [
        {
          "output_type": "stream",
          "text": [
            "Минимальная ошибка нормальных транзакций: 0.0263\n",
            "Максимальная ошибка нормальных транзакций: 1853.1406\n",
            "Средняя ошибка нормальных транзакций: 0.7189\n",
            "========================================:\n",
            "Минимальная ошибка мошеннических транзакций: 0.0855\n",
            "Максимальная ошибка мошеннических транзакций: 275.1559\n",
            "Средняя ошибка мошеннических транзакций: 26.0599\n"
          ],
          "name": "stdout"
        }
      ]
    },
    {
      "cell_type": "code",
      "metadata": {
        "id": "QVmum2Gd2vqc"
      },
      "source": [
        "def getAccByBias(bias): # Функция будет принимать какое-то пороговое значение:\n",
        "  isNormal = mse_normal < bias # - если ошибка меньше порога - то транзакция нормальная;\n",
        "  isFrauds = mse_frauds > bias # - если ошибка больше порога - то транзакция мошенническая.\n",
        "\n",
        "  accNormal = sum(isNormal) / len(isNormal) # Подсчёт процента нормальных операций\n",
        "  accFaruds = sum(isFrauds) / len(isFrauds) # Подсчёт процента мошеннических операций\n",
        "\n",
        "  print(\"Распознано нормальных трансакций: \", round(100*accNormal), \"%\", sep=\"\")\n",
        "  print(\"Распознано мошеннических трансакций: \", round(100*accFaruds), \"%\", sep=\"\")\n",
        "  print(\"Средняя точность распознавания: \", round(50*(accNormal + accFaruds)), \"%\", sep=\"\")"
      ],
      "execution_count": null,
      "outputs": []
    },
    {
      "cell_type": "code",
      "metadata": {
        "id": "XmVnaaqG2vuC",
        "colab": {
          "base_uri": "https://localhost:8080/",
          "height": 72
        },
        "outputId": "b42a81f3-798c-4be0-f540-d1a273f60d2d"
      },
      "source": [
        "getAccByBias(1) # Вывод данных по распознаванию с конкретным пороговым значением"
      ],
      "execution_count": null,
      "outputs": [
        {
          "output_type": "stream",
          "text": [
            "Распознано нормальных трансакций: 91.0%\n",
            "Распознано мошеннических трансакций: 90.0%\n",
            "Средняя точность распознавания: 90.0%\n"
          ],
          "name": "stdout"
        }
      ]
    },
    {
      "cell_type": "markdown",
      "metadata": {
        "id": "9XDcq13PwiBY"
      },
      "source": [
        "# 7 Выводы"
      ]
    },
    {
      "cell_type": "markdown",
      "metadata": {
        "id": "IomRcCv3wrS_"
      },
      "source": [
        "Создан и обучен автокодировщик со свёрточными слоями, предназначенный для выявления мошенеческих банковсеких транзакций. Средняя точность работы автокодировщика составила 90%.\n",
        "\n",
        "Эксперементально показано - значительное влияние на точность работы оказывает внесение изменений в размерность входных данных (для Conv1D необходима размерность (29,1)), вследствие которых на выходе нейросети остаётся только один нейрон. При такой размерности на точность работы нейросети не оказывает значительного влияния состав скрытых слоёв и их параметры. В т.ч. была проверена гипотеза о включении в состав нейронной сети скрытых слоёв, \"расширяющих\" и \"сужающих\" размер выборок (Conv1DTranspose и MaxPooling1D)."
      ]
    }
  ]
}