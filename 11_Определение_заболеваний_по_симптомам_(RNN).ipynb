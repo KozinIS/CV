{
  "nbformat": 4,
  "nbformat_minor": 0,
  "metadata": {
    "colab": {
      "provenance": [],
      "collapsed_sections": [
        "pKXq5v8wUFfM"
      ],
      "toc_visible": true,
      "include_colab_link": true
    },
    "kernelspec": {
      "name": "python3",
      "display_name": "Python 3"
    },
    "accelerator": "GPU"
  },
  "cells": [
    {
      "cell_type": "markdown",
      "metadata": {
        "id": "view-in-github",
        "colab_type": "text"
      },
      "source": [
        "<a href=\"https://colab.research.google.com/github/KozinIS/CV/blob/main/11_%D0%9E%D0%BF%D1%80%D0%B5%D0%B4%D0%B5%D0%BB%D0%B5%D0%BD%D0%B8%D0%B5_%D0%B7%D0%B0%D0%B1%D0%BE%D0%BB%D0%B5%D0%B2%D0%B0%D0%BD%D0%B8%D0%B9_%D0%BF%D0%BE_%D1%81%D0%B8%D0%BC%D0%BF%D1%82%D0%BE%D0%BC%D0%B0%D0%BC_(RNN).ipynb\" target=\"_parent\"><img src=\"https://colab.research.google.com/assets/colab-badge.svg\" alt=\"Open In Colab\"/></a>"
      ]
    },
    {
      "cell_type": "markdown",
      "metadata": {
        "id": "LP0SpFYiVSP-"
      },
      "source": [
        "# **Определение заболеваний по симптомам (RNN)**\n",
        "\n"
      ]
    },
    {
      "cell_type": "markdown",
      "source": [
        "# 1 Постановка задачи\n"
      ],
      "metadata": {
        "id": "r-dRXu9CvhuP"
      }
    },
    {
      "cell_type": "markdown",
      "source": [
        "*Подготовьте рекурентную нейронную сеть, предназначенную для классификации заболеваний по базе симптомов. Использйте различные подходы, связанные с обработкой текстов:*\n",
        "\n",
        "*1) Embedding + LSTM сеть;*\n",
        "\n",
        "*2) Embedding + Conv1D сеть;*\n",
        "\n",
        "*3) Embedding + сложная сеть из Dense, LSTM и Conv1D.*\n",
        "\n",
        "*Добейтесь максимальной точности распознавания.*\n",
        "\n",
        "*Используйте xLen = 50.*"
      ],
      "metadata": {
        "id": "awFAIWXIvl7t"
      }
    },
    {
      "cell_type": "markdown",
      "metadata": {
        "id": "Xrzg-RQdVq4I"
      },
      "source": [
        "# 2 Подгрузка библиотек и подключени едиска"
      ]
    },
    {
      "cell_type": "code",
      "metadata": {
        "id": "h5Ih8KDtVt00"
      },
      "source": [
        "import numpy as np\n",
        "import pandas as pd\n",
        "import matplotlib.pyplot as plt\n",
        "from google.colab import files   # Для работы с файлами\n",
        "import os                        # Для работы с файлами\n",
        "\n",
        "# \"Магическая\" команда python для запуска библиотеки в ноутбуке\n",
        "%matplotlib inline\n",
        "\n",
        "from tensorflow.keras import utils                                  # Для работы с категориальными данными\n",
        "from tensorflow.keras.models import Sequential                      # Полносвязная модель\n",
        "from tensorflow.keras.layers import Dense, Dropout, BatchNormalization, Embedding, Flatten, Activation      # Cтандартные слои (полносвязный, регуляризации, нормализации, векторного представления слов, выравнивания, активации)\n",
        "from tensorflow.keras.layers import Conv1D, SpatialDropout1D, MaxPooling1D, GlobalAveragePooling1D, GlobalMaxPooling1D      # Свёрточные слои\n",
        "from tensorflow.keras.layers import LSTM, GRU, SimpleRNN, Bidirectional     # Рекуррентные слои\n",
        "from tensorflow.keras.preprocessing.text import Tokenizer           # Методы для работы с текстами и преобразования их в последовательности\n",
        "from tensorflow.keras.preprocessing.sequence import pad_sequences   # Метод для работы с последовательностями\n",
        "from tensorflow.python.keras.optimizers import Adam, RMSprop         # Алгоритмы обучения/оптимизации\n",
        "\n",
        "from keras.preprocessing.text import Tokenizer, text_to_word_sequence # Инструменты предобработки текста от кераса\n",
        "\n",
        "from sklearn.preprocessing import LabelEncoder             # Метод кодирования тестовых лейблов\n",
        "from sklearn.model_selection import train_test_split       # Для разделения выборки на тестовую и обучающую\n",
        "\n",
        "from google.colab import drive\n",
        "import time                                                # Библиотека time"
      ],
      "execution_count": null,
      "outputs": []
    },
    {
      "cell_type": "code",
      "metadata": {
        "id": "p5NYVW0zVt3a",
        "colab": {
          "base_uri": "https://localhost:8080/",
          "height": 35
        },
        "outputId": "2049b19f-1329-43fb-b9b4-41182471d3f1"
      },
      "source": [
        "from google.colab import drive\n",
        "drive.mount('/content/drive')"
      ],
      "execution_count": null,
      "outputs": [
        {
          "output_type": "stream",
          "text": [
            "Mounted at /content/drive\n"
          ],
          "name": "stdout"
        }
      ]
    },
    {
      "cell_type": "markdown",
      "metadata": {
        "id": "_N1ESZgwWfPR"
      },
      "source": [
        "# 3 Подгрузка данных"
      ]
    },
    {
      "cell_type": "code",
      "metadata": {
        "id": "PZpP3qdYWlw8"
      },
      "source": [
        "def readText(fileName):          # Объявление функции для чтения файла. На вход подаётся путь к файлу\n",
        "  f = open(fileName, 'r')        # Задаем открытие нужного файла в режиме чтения\n",
        "  text = f.read()                # Чтение текста\n",
        "  text = text.replace(\"\\n\", \" \") # Перевод переносов строк в пробелы\n",
        "\n",
        "  return text                    # Возвращение текста файла\n",
        "\n",
        "className = [\"Панкреатит\", \"Колит\", \"Гастрит\", \"Энтерит\", \"Холицестит\", \"Эзофагит\", \"Гепатит\", \"Аппендицит\", \"Дуоденит\", \"Язва\"] # Объявление интересующих нас классов\n",
        "nClasses = len(className)      # Подсчёт количества классов"
      ],
      "execution_count": null,
      "outputs": []
    },
    {
      "cell_type": "code",
      "metadata": {
        "id": "pptsGofTqJxv"
      },
      "source": [
        "trainText = [] # Формирование обучающих текстов\n",
        "testText = []  # Формирование тестовых текстов\n",
        "\n",
        "trainText.append(readText('/content/drive/My Drive/HW_18/Панкреатит.txt'))\n",
        "trainText.append(readText('/content/drive/My Drive/HW_18/Колит.txt'))\n",
        "trainText.append(readText('/content/drive/My Drive/HW_18/Гастрит.txt'))\n",
        "trainText.append(readText('/content/drive/My Drive/HW_18/Энтерит.txt'))\n",
        "trainText.append(readText('/content/drive/My Drive/HW_18/Холицестит.txt'))\n",
        "trainText.append(readText('/content/drive/My Drive/HW_18/Эзофагит.txt'))\n",
        "trainText.append(readText('/content/drive/My Drive/HW_18/Гепатит.txt'))\n",
        "trainText.append(readText('/content/drive/My Drive/HW_18/Аппендицит.txt'))\n",
        "trainText.append(readText('/content/drive/My Drive/HW_18/Дуоденит.txt'))\n",
        "trainText.append(readText('/content/drive/My Drive/HW_18/Язва.txt'))\n",
        "\n",
        "testText.append(readText('/content/drive/My Drive/HW_18/Панкреатит_val.txt'))\n",
        "testText.append(readText('/content/drive/My Drive/HW_18/Колит_val.txt'))\n",
        "testText.append(readText('/content/drive/My Drive/HW_18/Гастрит_val.txt'))\n",
        "testText.append(readText('/content/drive/My Drive/HW_18/Энтерит_val.txt'))\n",
        "testText.append(readText('/content/drive/My Drive/HW_18/Холицестит_val.txt'))\n",
        "testText.append(readText('/content/drive/My Drive/HW_18/Эзофагит_val.txt'))\n",
        "testText.append(readText('/content/drive/My Drive/HW_18/Гепатит_val.txt'))\n",
        "testText.append(readText('/content/drive/My Drive/HW_18/Аппендицит_val.txt'))\n",
        "testText.append(readText('/content/drive/My Drive/HW_18/Дуоденит_val.txt'))\n",
        "testText.append(readText('/content/drive/My Drive/HW_18/Язва_val.txt'))"
      ],
      "execution_count": null,
      "outputs": []
    },
    {
      "cell_type": "code",
      "metadata": {
        "id": "TFbJ9K2cW0T-",
        "colab": {
          "base_uri": "https://localhost:8080/",
          "height": 54
        },
        "outputId": "b507ec4b-98ad-4c71-f877-f9240fa49864"
      },
      "source": [
        "print(len(trainText))    # Количество элементов в trainText\n",
        "print(len(trainText[3])) # Количество символов в первом источнике в trainText"
      ],
      "execution_count": null,
      "outputs": [
        {
          "output_type": "stream",
          "text": [
            "10\n",
            "4519\n"
          ],
          "name": "stdout"
        }
      ]
    },
    {
      "cell_type": "markdown",
      "metadata": {
        "id": "3I57yDr1W36b"
      },
      "source": [
        "# 4 Преобразование текстовых данных в числовые"
      ]
    },
    {
      "cell_type": "code",
      "metadata": {
        "id": "uj-6IlROW8cr",
        "colab": {
          "base_uri": "https://localhost:8080/",
          "height": 35
        },
        "outputId": "e364a560-ccc9-4a1e-fdc1-bfc07cf89daf"
      },
      "source": [
        "cur_time = time.time()  # Засекаем текущее время\n",
        "maxWordsCount = 20000   # Определяем максимальное количество слов/индексов, учитываемое при обучении текстов\n",
        "\n",
        "# Воспользуемся встроенной в Keras функцией Tokenizer для разбиения текста и превращения в матрицу числовых значений.\n",
        "# num_words = maxWordsCount - определяем максимальное количество слов/индексов, учитываемое при обучении текстов.\n",
        "# filters = '!\"#$%&()*+,-./:;<=>?@[\\\\]^_`{|}~\\t\\n' - исключение ненужных символов. Можно добавить сюда цифры.\n",
        "# lower=True          - приведение слов к нижнему регистру\n",
        "# split = ' '         - разделение пробелами слов, \"слипшихся\" в результате удаления '\\n'\n",
        "# char_level = False  - токенизируем по словам (Если будет True - каждый символ будет рассматриваться как отдельный токен )\n",
        "tokenizer = Tokenizer(num_words = maxWordsCount, filters = '–—!\"#$%&()*+,-./:;<=>?@[\\\\]^_`{|}~\\t\\n\\xa0–\\ufeff', lower = True, split = ' ', oov_token = 'unknown', char_level = False)\n",
        "\n",
        "tokenizer.fit_on_texts(trainText)             # \"Скармливаем\" наши тексты, т.е. даём в обработку методу, который соберет словарь частотности\n",
        "items = list(tokenizer.word_index.items())    # Вытаскиваем индексы слов для просмотра\n",
        "print('Время обработки: ', round(time.time() - cur_time, 2), 'c', sep = '')"
      ],
      "execution_count": null,
      "outputs": [
        {
          "output_type": "stream",
          "text": [
            "Время обработки: 0.02c\n"
          ],
          "name": "stdout"
        }
      ]
    },
    {
      "cell_type": "code",
      "metadata": {
        "id": "4hpfhblhYniQ",
        "colab": {
          "base_uri": "https://localhost:8080/",
          "height": 74
        },
        "outputId": "60b2a5d8-d006-4acd-a598-9c85d2df8c9b"
      },
      "source": [
        "print(items[:50])                      # Просмотр 50 самых часто встречающихся слов\n",
        "print(\"Размер словаря\", len(items))    # Длина словаря"
      ],
      "execution_count": null,
      "outputs": [
        {
          "output_type": "stream",
          "text": [
            "[('unknown', 1), ('в', 2), ('и', 3), ('боль', 4), ('или', 5), ('тошнота', 6), ('рвота', 7), ('боли', 8), ('живота', 9), ('при', 10), ('животе', 11), ('после', 12), ('отрыжка', 13), ('с', 14), ('области', 15), ('слабость', 16), ('аппетита', 17), ('во', 18), ('вздутие', 19), ('тела', 20), ('изжога', 21), ('температуры', 22), ('повышение', 23), ('может', 24), ('рту', 25), ('пищи', 26), ('снижение', 27), ('еды', 28), ('диарея', 29), ('на', 30), ('температура', 31), ('иногда', 32), ('части', 33), ('подреберье', 34), ('стул', 35), ('метеоризм', 36), ('потеря', 37), ('к', 38), ('до', 39), ('правом', 40), ('верхней', 41), ('урчание', 42), ('не', 43), ('общая', 44), ('чувство', 45), ('эпигастральной', 46), ('ощущение', 47), ('кожи', 48), ('нарушение', 49), ('отсутствие', 50)]\n",
            "Размер словаря 1644\n"
          ],
          "name": "stdout"
        }
      ]
    },
    {
      "cell_type": "code",
      "metadata": {
        "id": "L0L4Joa6Ynku"
      },
      "source": [
        "#print(\"Интересующее слово имеет индекс: \", tokenizer.word_index[input(\"Уточните слово: \")]) # Тестирование словаря частотности"
      ],
      "execution_count": null,
      "outputs": []
    },
    {
      "cell_type": "code",
      "metadata": {
        "id": "XLSbSdO0YnnK",
        "colab": {
          "base_uri": "https://localhost:8080/",
          "height": 90
        },
        "outputId": "6e5ece81-33f9-4e0c-c55f-8b0c16bb66cd"
      },
      "source": [
        "# Преобразовываем текста в последовательность индексов в соответствии с частотным словарём:\n",
        "trainWordIndexes = tokenizer.texts_to_sequences(trainText)  # Перевод обучающих текстов в индексы\n",
        "testWordIndexes = tokenizer.texts_to_sequences(testText)    # Перевод проверочных текстов в индексы\n",
        "\n",
        "print(\"Взглянем на фрагмент обучающего текста:\")\n",
        "print(\"В виде оригинального текста:              \", trainText[1][:87])\n",
        "print(\"Он же в виде последовательности индексов: \", trainWordIndexes[1][:20], '\\n')"
      ],
      "execution_count": null,
      "outputs": [
        {
          "output_type": "stream",
          "text": [
            "Взглянем на фрагмент обучающего текста:\n",
            "В виде оригинального текста:               постоянные позывы на дефекацию, урчание, вздутие живота, профузный понос, иногда с кров\n",
            "Он же в виде последовательности индексов:  [284, 58, 30, 181, 42, 19, 9, 1000, 51, 32, 14, 182, 3, 285, 231, 8, 2, 11, 1001, 3] \n",
            "\n"
          ],
          "name": "stdout"
        }
      ]
    },
    {
      "cell_type": "code",
      "metadata": {
        "id": "BTfSQVwcY9MX",
        "colab": {
          "base_uri": "https://localhost:8080/",
          "height": 531
        },
        "outputId": "6f6adec5-6273-4524-b874-60c33a0a3272"
      },
      "source": [
        "print(\"Статистика по обучающим текстам:\")\n",
        "\n",
        "symbolsTrainText = 0       # Объявляем переменную для подсчета символов в обучающих текстах\n",
        "wordsTrainText = 0         # Объявляем переменную для подсчета слов в обучающих текстах\n",
        "\n",
        "for i in range(nClasses):  # Проходим по всем классам\n",
        "  print(className[i], \" \"*(10-len(className[i])), len(trainText[i]), \"символов, \", len(trainWordIndexes[i]), \"слов\")\n",
        "  symbolsTrainText += len(trainText[i])       # Подсчёт символов\n",
        "  wordsTrainText += len(trainWordIndexes[i])  # Подсчёт слов\n",
        "\n",
        "print('----')\n",
        "print(\"В сумме \", symbolsTrainText, \" символов, \", wordsTrainText, \" слов \\n\")\n",
        "print()\n",
        "print(\"Статистика по тестовым текстам:\")\n",
        "\n",
        "symbolsTestText = 0        # Объявляем переменную для подсчета символов в тестовых текстах\n",
        "wordsTestText = 0          # Объявляем переменную для подсчета слов в тестовых текстах\n",
        "\n",
        "for i in range(nClasses):  # Проходим по всем классам\n",
        "  print(className[i], ' '*(10-len(className[i])), len(testText[i]), \"символов, \", len(testWordIndexes[i]), \"слов\")\n",
        "  symbolsTestText += len(testText[i])       # Подсчёт символов\n",
        "  wordsTestText += len(testWordIndexes[i])  # Подсчёт слов\n",
        "print('----')\n",
        "print(\"В сумме \", symbolsTestText, \" символов, \", wordsTestText, \" слов\")"
      ],
      "execution_count": null,
      "outputs": [
        {
          "output_type": "stream",
          "text": [
            "Статистика по обучающим текстам:\n",
            "Панкреатит  9647 символов,  1234 слов\n",
            "Колит       7906 символов,  1028 слов\n",
            "Гастрит     5207 символов,  629 слов\n",
            "Энтерит     4519 символов,  567 слов\n",
            "Холицестит  4994 символов,  680 слов\n",
            "Эзофагит    4084 символов,  558 слов\n",
            "Гепатит     3958 символов,  498 слов\n",
            "Аппендицит  3056 символов,  439 слов\n",
            "Дуоденит    2862 символов,  349 слов\n",
            "Язва        2452 символов,  337 слов\n",
            "----\n",
            "В сумме  48685  символов,  6319  слов \n",
            "\n",
            "\n",
            "Статистика по тестовым текстам:\n",
            "Панкреатит  1663 символов,  246 слов\n",
            "Колит       1221 символов,  164 слов\n",
            "Гастрит     1510 символов,  210 слов\n",
            "Энтерит     1867 символов,  261 слов\n",
            "Холицестит  1163 символов,  161 слов\n",
            "Эзофагит    1783 символов,  235 слов\n",
            "Гепатит     1565 символов,  189 слов\n",
            "Аппендицит  1019 символов,  140 слов\n",
            "Дуоденит    1079 символов,  139 слов\n",
            "Язва        1008 символов,  135 слов\n",
            "----\n",
            "В сумме  13878  символов,  1880  слов\n"
          ],
          "name": "stdout"
        }
      ]
    },
    {
      "cell_type": "markdown",
      "metadata": {
        "id": "CLVZ1-8PZeno"
      },
      "source": [
        "# 5 Создание обучающей и тестовой выборок"
      ]
    },
    {
      "cell_type": "markdown",
      "metadata": {
        "id": "78SfJQhGajRV"
      },
      "source": [
        "## 5.1 Функции для формирования выборки по отрезкам текста с заданным шагом"
      ]
    },
    {
      "cell_type": "markdown",
      "metadata": {
        "id": "sbo6CGGfZvjp"
      },
      "source": [
        "Формирование обучающей выборки по листу индексов слов\n",
        "(разделение на короткие векторы)"
      ]
    },
    {
      "cell_type": "code",
      "metadata": {
        "id": "SBoUFA7IZnRD"
      },
      "source": [
        "def getSetFromIndexes(wordIndexes, xLen, step):   # функция принимает последовательность индексов, размер окна, шаг окна\n",
        "  xSample = []                    # Объявление переменной для векторов\n",
        "  wordsLen = len(wordIndexes)     # Подсчёт количества слов\n",
        "  index = 0                       # Задаем начальный индекс\n",
        "\n",
        "  while (index + xLen <= wordsLen):                   # Проходка по всей длине вектора индексов\n",
        "    xSample.append(wordIndexes[index:index + xLen])   # \"Откусываем\" векторы длины xLen\n",
        "    index += step                                     # Смещаеммся вперёд на шаг step\n",
        "\n",
        "  return xSample"
      ],
      "execution_count": null,
      "outputs": []
    },
    {
      "cell_type": "markdown",
      "metadata": {
        "id": "wGo7u5a4ZywR"
      },
      "source": [
        "Формирование обучающей и проверочной выборки из двух листов индексов от двух классов"
      ]
    },
    {
      "cell_type": "code",
      "metadata": {
        "id": "A5RZcT1rZnVv"
      },
      "source": [
        "def createSetsMultiClasses(wordIndexes, xLen, step): # Функция принимает последовательность индексов, размер окна, шаг окна\n",
        "\n",
        "  # Для каждого из 6 классов создаём обучающую/проверочную выборку из индексов:\n",
        "  nClasses = len(wordIndexes) # Задаем количество классов выборки\n",
        "  classesXSamples = []        # Здесь будет список размером [кол-во классов] * [кол-во окон в тексте] * [длина окна]. Пример: с 6 по 1341*1000.\n",
        "  for wI in wordIndexes:      # Для каждого текста выборки из последовательности индексов:\n",
        "    classesXSamples.append(getSetFromIndexes(wI, xLen, step)) # добавляем в список очередной текст индексов, разбитый на [кол-во окон] * [длина окна]\n",
        "\n",
        "  # Формируем один общий xSamples\n",
        "  xSamples = [] # Здесь будет список размером [суммарное кол-во окон во всех текстах] * [длина окна]. Например: 15779 * 1000.\n",
        "  ySamples = [] # Здесь будет список размером [суммарное кол-во окон во всех текстах] * [вектор длиной 6]\n",
        "\n",
        "  for t in range(nClasses):  # В диапазоне кол-ва классов(6):\n",
        "    xT = classesXSamples[t]      # берем очередной текст вида [кол-во окон в тексте] * [длину окна]. Например: 1341 * 1000.\n",
        "    for i in range(len(xT)):     # и каждое его окно:\n",
        "      xSamples.append(xT[i])                              # добавляем в общий список выборки;\n",
        "      ySamples.append(utils.to_categorical(t, nClasses))  # добавляем соответствующий вектор класса\n",
        "\n",
        "  xSamples = np.array(xSamples)  # Перевод в массив numpy для подачи в нейронку\n",
        "  ySamples = np.array(ySamples)  # Перевод в массив numpy для подачи в нейронку\n",
        "\n",
        "\n",
        "  return (xSamples, ySamples)    # Функция возвращает выборку и соответствующие векторы классов"
      ],
      "execution_count": null,
      "outputs": []
    },
    {
      "cell_type": "markdown",
      "metadata": {
        "id": "uBFuCCVmal4X"
      },
      "source": [
        "## 5.2 Подготовка данных"
      ]
    },
    {
      "cell_type": "code",
      "metadata": {
        "id": "1ug8uNr-ZnZw"
      },
      "source": [
        "# Задание базовых параметров\n",
        "xLen = 50  # Длина отрезка текста, по которой анализируем, в словах\n",
        "step = 1   # Шаг разбиения исходного текста на обучающие векторы"
      ],
      "execution_count": null,
      "outputs": []
    },
    {
      "cell_type": "code",
      "metadata": {
        "id": "1lhwVRCKZncg",
        "colab": {
          "base_uri": "https://localhost:8080/",
          "height": 109
        },
        "outputId": "34987010-e510-4cc5-f9d2-2aa3a0d37d52"
      },
      "source": [
        "cur_time = time.time() # Засекание текущего времени\n",
        "# Формирование обучающей и тестовой выборок\n",
        "xTrain, yTrain = createSetsMultiClasses(trainWordIndexes, xLen, step) # Извлечение обучающей выборки\n",
        "xTest, yTest = createSetsMultiClasses(testWordIndexes, xLen, step)    # Извлечение тестовой выборки\n",
        "print(xTrain.shape)\n",
        "print(yTrain.shape)\n",
        "print(xTest.shape)\n",
        "print(yTest.shape)\n",
        "\n",
        "# Получен обучающий/тестовый набор, достаточный для запуска Embedding, но для Bag of Words нужно xTrain и xTest представить в виде векторов из 0 и 1\n",
        "print('Время обработки: ', round(time.time() - cur_time, 2), 'c', sep='')"
      ],
      "execution_count": null,
      "outputs": [
        {
          "output_type": "stream",
          "text": [
            "(5829, 50)\n",
            "(5829, 10)\n",
            "(1390, 50)\n",
            "(1390, 10)\n",
            "Время обработки: 0.12c\n"
          ],
          "name": "stdout"
        }
      ]
    },
    {
      "cell_type": "code",
      "metadata": {
        "id": "b1WmubvmaqDb",
        "colab": {
          "base_uri": "https://localhost:8080/",
          "height": 72
        },
        "outputId": "9f8d5d14-cc94-4bc7-8fb6-0977741802d6"
      },
      "source": [
        "print(xTrain[0])"
      ],
      "execution_count": null,
      "outputs": [
        {
          "output_type": "stream",
          "text": [
            "[  4  10 201 104 114 729  66  81 447 323 448 730  82 731 449 732   4  93\n",
            " 324  34 251 165 251 733   2 450  94 734 735 166   2 451 736 737 738 739\n",
            " 252   4 253 254  81 115  31 740   5 452 741 255 202 203]\n"
          ],
          "name": "stdout"
        }
      ]
    },
    {
      "cell_type": "code",
      "metadata": {
        "id": "SRy3x3URar09",
        "colab": {
          "base_uri": "https://localhost:8080/",
          "height": 35
        },
        "outputId": "ef577453-0359-4bc8-e14e-ec6106e1a177"
      },
      "source": [
        "for i in range(100):\n",
        "  print(int(i in xTrain[0]),end=' ')"
      ],
      "execution_count": null,
      "outputs": [
        {
          "output_type": "stream",
          "text": [
            "0 0 1 0 1 1 0 0 0 0 1 0 0 0 0 0 0 0 0 0 0 0 0 0 0 0 0 0 0 0 0 1 0 0 1 0 0 0 0 0 0 0 0 0 0 0 0 0 0 0 0 0 0 0 0 0 0 0 0 0 0 0 0 0 0 0 1 0 0 0 0 0 0 0 0 0 0 0 0 0 0 1 1 0 0 0 0 0 0 0 0 0 0 1 1 0 0 0 0 0 "
          ],
          "name": "stdout"
        }
      ]
    },
    {
      "cell_type": "markdown",
      "metadata": {
        "id": "g0AIeJBjg0cI"
      },
      "source": [
        "# 6 Уточнённые сведения о результатах распозначания проверочной выборки"
      ]
    },
    {
      "cell_type": "code",
      "metadata": {
        "id": "zkqALPF9g2-T"
      },
      "source": [
        "###########################\n",
        "# Представляем тестовую выборку в удобных для распознавания размерах\n",
        "##########################\n",
        "def createTestMultiClasses(wordIndexes, xLen, step): # функция принимает последовательность индексов, размер окна, шаг окна\n",
        "\n",
        "  # Для каждого из 6 классов\n",
        "  # Создаём тестовую выборку из индексов\n",
        "  nClasses = len(wordIndexes) # задаем количество классов\n",
        "  xTest10Classes01 = []               # здесь будет список из всех классов,каждый размером \"кол-во окон в тексте * 20000(при maxWordsCount=20000)\"\n",
        "  xTest10Classes = []                 # здесь будет список массивов, каждый размером \"кол-во окон в тексте * длину окна\"(6 по 420*1000)\n",
        "  for wI in wordIndexes:             # для каждого тестового текста из последовательности индексов\n",
        "    sample = (getSetFromIndexes(wI, xLen, step)) # тестовая выборка размером \"кол-во окон*длину окна\"(например 420*1000)\n",
        "    xTest10Classes.append(np.array(sample))       # переводим в массив numpy и добавляем в список\n",
        "    xTest10Classes01.append(tokenizer.sequences_to_matrix(sample)) # трансформируется в Bag of Words в виде \"кол-во окон в тексте * 20000\"\n",
        "  xTest10Classes01 = np.array(xTest10Classes01)                     # и добавляется к нашему списку,\n",
        "\n",
        "  return xTest10Classes01, xTest10Classes # функция вернёт тестовые данные: TestBg 6 классов на n*20000 и xTestEm 6 по n*1000\n",
        "\n",
        "###########################\n",
        "# Расспознаём тестовую выборку и выводим результаты\n",
        "##########################\n",
        "def recognizeMultiClass(model, xTest, modelName):\n",
        "  print(\"НЕЙРОНКА: \", modelName)\n",
        "  print()\n",
        "\n",
        "  val = []\n",
        "  pred = []\n",
        "\n",
        "  totalSumRec = []\n",
        "\n",
        "  # Проходим по всем классам\n",
        "  for i in range(nClasses):\n",
        "    # Получаем результаты распознавания класса по блокам слов длины xLen\n",
        "    currPred = model.predict(xTest[i])\n",
        "    pred.append(currPred)\n",
        "    # Определяем номер распознанного класса для каждохо блока слов длины xLen\n",
        "    currOut = np.argmax(currPred, axis=1)\n",
        "\n",
        "    # Считаем процент распознавания каждого класса за каждый\n",
        "    # Получам матрицу 6 на 6\n",
        "    evVal = []\n",
        "    sumRec = []\n",
        "    for j in range(nClasses):\n",
        "      sumRec.append(0)\n",
        "      for t in range(len(currOut)):\n",
        "        if (currOut[t] == j):\n",
        "          sumRec[j] += 1\n",
        "      evVal.append(sumRec[j] / len(currOut))\n",
        "\n",
        "    totalSumRec.append(sumRec[i])\n",
        "\n",
        "    # Определяем, какой в класс в итоге за какой был распознан\n",
        "    val.append(evVal[i])\n",
        "    recognizedClass = np.argmax(evVal)\n",
        "\n",
        "    # Выводим результаты распознавания по текущему классу\n",
        "    isRecognized = \"распознано НЕ ВЕРНО!\"\n",
        "    if (recognizedClass == i):\n",
        "      isRecognized = \"распознано ВЕРНО!\"\n",
        "    print(className[i], \" распознано \", int(100*evVal[i]), \"% сеть считает, что это \", className[recognizedClass], \", \", isRecognized)\n",
        "\n",
        "  # Выводим вредний процент распознавания по всем классам вместе\n",
        "  print()\n",
        "  sumVal = 0\n",
        "  sumCount = 0\n",
        "  lenXtest = []\n",
        "  for i in range(nClasses):\n",
        "    sumCount += len(xTest[i])\n",
        "    sumVal += totalSumRec[i]\n",
        "  print(\"Средний процент распознавания \", int(100*sumVal/sumCount), \"%\")\n",
        "  print()\n",
        "  return sumVal/sumCount\n",
        "\n",
        "xTest10Classes01, xTest10Classes = createTestMultiClasses(testWordIndexes, xLen, step) # подгоним форму тестовых классов под функцию recognizeMultiClass"
      ],
      "execution_count": null,
      "outputs": []
    },
    {
      "cell_type": "markdown",
      "metadata": {
        "id": "pKXq5v8wUFfM"
      },
      "source": [
        "# 7 Перебор параметров\n",
        "\n",
        "*(функции и цикл в настоящей работе не использовались)*"
      ]
    },
    {
      "cell_type": "markdown",
      "metadata": {
        "id": "M_evBMi6UJh_"
      },
      "source": [
        "## 7.1 Подготовка функций"
      ]
    },
    {
      "cell_type": "code",
      "metadata": {
        "id": "3IZHmcgDUPzE"
      },
      "source": [
        "activation_list = ['linear','relu','tanh','softmax','sigmoid', 'elu']"
      ],
      "execution_count": null,
      "outputs": []
    },
    {
      "cell_type": "code",
      "metadata": {
        "id": "hPXhh2SgUQe8"
      },
      "source": [
        "def create_model(dense1_filters, use_dropout1, dropout1_value, use_bn1, dense1_activation, dense2_filters, use_dropout2, dropout2_value, use_bn2, dense2_activation):\n",
        "  model = Sequential()\n",
        "  model.add(Dense(dense1_filters, activation=activation_list[dense1_activation]))\n",
        "  if (use_dropout1):\n",
        "    model.add(Dropout(dropout1_value))\n",
        "  if (use_bn1):\n",
        "    model.add(BatchNormalization())\n",
        "  model.add(Dense(dense2_filters, activation=activation_list[dense2_activation]))\n",
        "  if (use_dropout2):\n",
        "    model.add(Dropout(dropout2_value))\n",
        "  if (use_bn2):\n",
        "    model.add(BatchNormalization())\n",
        "  model.add(Dense(1, activation='linear'))\n",
        "  return model\n",
        "\n",
        "def train_model(num_epoch, len, dense1_filters, use_dropout1, dropout1_value, use_bn1, dense1_activation, dense2_filters, use_dropout2, dropout2_value, use_bn2, dense2_activation):\n",
        "  total = 0\n",
        "  model = create_model(dense1_filters, use_dropout1, dropout1_value, use_bn1, dense1_activation, dense2_filters, use_dropout2, dropout2_value, use_bn2, dense2_activation)\n",
        "  for i in range(num_epoch):\n",
        "    model.compile(optimizer='adam', loss='mse')\n",
        "    history = model.fit(xTrain[:len], yTrain[:len], batch_size = 128, epochs= 10, verbose=0, validation_data = (xVal, yVal))\n",
        "    total += float(history.history['val_loss'][-1])\n",
        "  print('*** Результат теста ***')\n",
        "  print('Модель')\n",
        "  print('Dense(', dense1_filters,', activation=\\'', activation_list[dense1_activation],'\\')', sep='')\n",
        "  if (use_dropout1):\n",
        "    print('Dropout(',dropout1_value,')',sep='')\n",
        "  if (use_bn1):\n",
        "    print('BatchNormalization()')\n",
        "  print('Dense(', dense2_filters,', activation=\\'', activation_list[dense2_activation],'\\')',sep='')\n",
        "  if (use_dropout2):\n",
        "    print('Dropout(',dropout2_value,')',sep='')\n",
        "  if (use_bn2):\n",
        "    print('BatchNormalization()')\n",
        "  print('Dense(1, activation=\\'linear\\'')\n",
        "  print()\n",
        "  print(' -------------- ТОЧНОСТЬ МОДЕЛИ: ', round(total/num_epoch, 4),'---------------------')"
      ],
      "execution_count": null,
      "outputs": []
    },
    {
      "cell_type": "code",
      "metadata": {
        "id": "rVB6bDTKUY19"
      },
      "source": [
        "dense1_filters = [16, 32, 64]\n",
        "use_dropout1 = [True, False]\n",
        "dropout1_value = [0.1, 0.2, 0.3, 0.4]\n",
        "use_bn1 = [True, False]\n",
        "dense1_activation = [0,1,2,3,4,5]\n",
        "dense2_filters = [16, 32, 64]\n",
        "use_dropout2 = [True, False]\n",
        "dropout2_value = [0.1, 0.2, 0.3, 0.4]\n",
        "use_bn2 = [True, False]\n",
        "dense2_activation = [0,1,2,3,4,5]"
      ],
      "execution_count": null,
      "outputs": []
    },
    {
      "cell_type": "code",
      "metadata": {
        "id": "EVvjFJkDUY77"
      },
      "source": [
        "for param1 in dense1_filters:\n",
        "  for param2 in use_dropout1:\n",
        "    for param3 in dropout1_value:\n",
        "      for param4 in use_bn1:\n",
        "        for param5 in dense1_activation:\n",
        "          for param6 in dense2_filters:\n",
        "            for param7 in use_dropout2:\n",
        "              for param8 in dropout2_value:\n",
        "                for param9 in use_bn2:\n",
        "                  print('###################')\n",
        "                  for param10 in dense2_activation:\n",
        "                    train_model(5, 15000, param1, param2, param3, param4, param5, param6, param7, param8, param9, param10)"
      ],
      "execution_count": null,
      "outputs": []
    },
    {
      "cell_type": "markdown",
      "metadata": {
        "id": "wDl1UfaLg6D9"
      },
      "source": [
        "# 8 Создание нейронной сети"
      ]
    },
    {
      "cell_type": "markdown",
      "metadata": {
        "id": "sRX-1WjmmiFB"
      },
      "source": [
        "## 8.1 Embedding + LSTM сеть\n",
        "\n",
        "*(при step = 10)*"
      ]
    },
    {
      "cell_type": "code",
      "metadata": {
        "id": "_Pesl_mLmktW",
        "colab": {
          "base_uri": "https://localhost:8080/",
          "height": 1000
        },
        "outputId": "901b2b31-a87c-479a-bde6-1982f9b5ecdd"
      },
      "source": [
        "brain_P_01 = Sequential()\n",
        "\n",
        "brain_P_01.add(Embedding(maxWordsCount, 20, input_length=xLen))\n",
        "\n",
        "brain_P_01.add(SpatialDropout1D(0.4)) # добавляем слой регуляризации, \"выключая\" 1D карты объектов из эмбединг векторов, во избежание переобучения\n",
        "brain_P_01.add(BatchNormalization())  # добавляем слой нормализации данных\n",
        "brain_P_01.add(LSTM(64)) # добавляем слой LSTM, совместимый с Cuda при поддержке GPU\n",
        "\n",
        "brain_P_01.add(Dense(10, activation='sigmoid'))\n",
        "\n",
        "brain_P_01.compile(optimizer='adam',\n",
        "              loss='categorical_crossentropy',\n",
        "              metrics=['accuracy'])\n",
        "\n",
        "brain_P_01.summary()\n",
        "\n",
        "\n",
        "history = brain_P_01.fit(xTrain,\n",
        "                    yTrain,\n",
        "                    epochs=70,\n",
        "                    batch_size=8,\n",
        "                    validation_data=(xTest, yTest))\n",
        "\n",
        "\n",
        "plt.plot(history.history['accuracy'],\n",
        "         label='Доля верных ответов на обучающем наборе')\n",
        "plt.plot(history.history['val_accuracy'],\n",
        "         label='Доля верных ответов на проверочном наборе')\n",
        "plt.xlabel('Эпоха обучения')\n",
        "plt.ylabel('Доля верных ответов')\n",
        "plt.legend()\n",
        "plt.show()"
      ],
      "execution_count": null,
      "outputs": [
        {
          "output_type": "stream",
          "text": [
            "Model: \"sequential_116\"\n",
            "_________________________________________________________________\n",
            "Layer (type)                 Output Shape              Param #   \n",
            "=================================================================\n",
            "embedding_116 (Embedding)    (None, 50, 20)            400000    \n",
            "_________________________________________________________________\n",
            "spatial_dropout1d_116 (Spati (None, 50, 20)            0         \n",
            "_________________________________________________________________\n",
            "batch_normalization_128 (Bat (None, 50, 20)            80        \n",
            "_________________________________________________________________\n",
            "lstm_116 (LSTM)              (None, 64)                21760     \n",
            "_________________________________________________________________\n",
            "dense_128 (Dense)            (None, 10)                650       \n",
            "=================================================================\n",
            "Total params: 422,490\n",
            "Trainable params: 422,450\n",
            "Non-trainable params: 40\n",
            "_________________________________________________________________\n",
            "Epoch 1/70\n",
            "74/74 [==============================] - 1s 16ms/step - loss: 2.2700 - accuracy: 0.1812 - val_loss: 2.2951 - val_accuracy: 0.1389\n",
            "Epoch 2/70\n",
            "74/74 [==============================] - 1s 11ms/step - loss: 1.9531 - accuracy: 0.3880 - val_loss: 2.4135 - val_accuracy: 0.1389\n",
            "Epoch 3/70\n",
            "74/74 [==============================] - 1s 11ms/step - loss: 1.5774 - accuracy: 0.5231 - val_loss: 2.7550 - val_accuracy: 0.1458\n",
            "Epoch 4/70\n",
            "74/74 [==============================] - 1s 10ms/step - loss: 1.3301 - accuracy: 0.5983 - val_loss: 2.8282 - val_accuracy: 0.1736\n",
            "Epoch 5/70\n",
            "74/74 [==============================] - 1s 10ms/step - loss: 1.2071 - accuracy: 0.5932 - val_loss: 2.4775 - val_accuracy: 0.1806\n",
            "Epoch 6/70\n",
            "74/74 [==============================] - 1s 11ms/step - loss: 1.0586 - accuracy: 0.6325 - val_loss: 2.0261 - val_accuracy: 0.3125\n",
            "Epoch 7/70\n",
            "74/74 [==============================] - 1s 10ms/step - loss: 1.0356 - accuracy: 0.6496 - val_loss: 2.2426 - val_accuracy: 0.3264\n",
            "Epoch 8/70\n",
            "74/74 [==============================] - 1s 10ms/step - loss: 0.8598 - accuracy: 0.7094 - val_loss: 1.8559 - val_accuracy: 0.3750\n",
            "Epoch 9/70\n",
            "74/74 [==============================] - 1s 11ms/step - loss: 0.8353 - accuracy: 0.7094 - val_loss: 1.9455 - val_accuracy: 0.3819\n",
            "Epoch 10/70\n",
            "74/74 [==============================] - 1s 10ms/step - loss: 0.8251 - accuracy: 0.7111 - val_loss: 1.7165 - val_accuracy: 0.4653\n",
            "Epoch 11/70\n",
            "74/74 [==============================] - 1s 10ms/step - loss: 0.6672 - accuracy: 0.7556 - val_loss: 1.7491 - val_accuracy: 0.4375\n",
            "Epoch 12/70\n",
            "74/74 [==============================] - 1s 9ms/step - loss: 0.6420 - accuracy: 0.7521 - val_loss: 1.9329 - val_accuracy: 0.4583\n",
            "Epoch 13/70\n",
            "74/74 [==============================] - 1s 10ms/step - loss: 0.5660 - accuracy: 0.8017 - val_loss: 1.8782 - val_accuracy: 0.4167\n",
            "Epoch 14/70\n",
            "74/74 [==============================] - 1s 12ms/step - loss: 0.5169 - accuracy: 0.8034 - val_loss: 1.7139 - val_accuracy: 0.4375\n",
            "Epoch 15/70\n",
            "74/74 [==============================] - 1s 10ms/step - loss: 0.5287 - accuracy: 0.7983 - val_loss: 1.8352 - val_accuracy: 0.3958\n",
            "Epoch 16/70\n",
            "74/74 [==============================] - 1s 10ms/step - loss: 0.5059 - accuracy: 0.8154 - val_loss: 1.9260 - val_accuracy: 0.4167\n",
            "Epoch 17/70\n",
            "74/74 [==============================] - 1s 10ms/step - loss: 0.4139 - accuracy: 0.8376 - val_loss: 1.6255 - val_accuracy: 0.4861\n",
            "Epoch 18/70\n",
            "74/74 [==============================] - 1s 11ms/step - loss: 0.4469 - accuracy: 0.8684 - val_loss: 1.8742 - val_accuracy: 0.3889\n",
            "Epoch 19/70\n",
            "74/74 [==============================] - 1s 10ms/step - loss: 0.4277 - accuracy: 0.8684 - val_loss: 1.5566 - val_accuracy: 0.4931\n",
            "Epoch 20/70\n",
            "74/74 [==============================] - 1s 10ms/step - loss: 0.3334 - accuracy: 0.8923 - val_loss: 1.5496 - val_accuracy: 0.5486\n",
            "Epoch 21/70\n",
            "74/74 [==============================] - 1s 10ms/step - loss: 0.3338 - accuracy: 0.8957 - val_loss: 1.7242 - val_accuracy: 0.5417\n",
            "Epoch 22/70\n",
            "74/74 [==============================] - 1s 10ms/step - loss: 0.3558 - accuracy: 0.8923 - val_loss: 1.6876 - val_accuracy: 0.5417\n",
            "Epoch 23/70\n",
            "74/74 [==============================] - 1s 11ms/step - loss: 0.3718 - accuracy: 0.8769 - val_loss: 1.3876 - val_accuracy: 0.5694\n",
            "Epoch 24/70\n",
            "74/74 [==============================] - 1s 11ms/step - loss: 0.3119 - accuracy: 0.9077 - val_loss: 1.5909 - val_accuracy: 0.5486\n",
            "Epoch 25/70\n",
            "74/74 [==============================] - 1s 10ms/step - loss: 0.2577 - accuracy: 0.9265 - val_loss: 1.6169 - val_accuracy: 0.5347\n",
            "Epoch 26/70\n",
            "74/74 [==============================] - 1s 10ms/step - loss: 0.2812 - accuracy: 0.9145 - val_loss: 1.3933 - val_accuracy: 0.6042\n",
            "Epoch 27/70\n",
            "74/74 [==============================] - 1s 10ms/step - loss: 0.2813 - accuracy: 0.9282 - val_loss: 1.6533 - val_accuracy: 0.5417\n",
            "Epoch 28/70\n",
            "74/74 [==============================] - 1s 10ms/step - loss: 0.2404 - accuracy: 0.9333 - val_loss: 1.4172 - val_accuracy: 0.5903\n",
            "Epoch 29/70\n",
            "74/74 [==============================] - 1s 9ms/step - loss: 0.2733 - accuracy: 0.9265 - val_loss: 1.6413 - val_accuracy: 0.5347\n",
            "Epoch 30/70\n",
            "74/74 [==============================] - 1s 10ms/step - loss: 0.2982 - accuracy: 0.8957 - val_loss: 1.7175 - val_accuracy: 0.5556\n",
            "Epoch 31/70\n",
            "74/74 [==============================] - 1s 10ms/step - loss: 0.1959 - accuracy: 0.9538 - val_loss: 1.7155 - val_accuracy: 0.5417\n",
            "Epoch 32/70\n",
            "74/74 [==============================] - 1s 10ms/step - loss: 0.2176 - accuracy: 0.9368 - val_loss: 1.6114 - val_accuracy: 0.5417\n",
            "Epoch 33/70\n",
            "74/74 [==============================] - 1s 10ms/step - loss: 0.1834 - accuracy: 0.9504 - val_loss: 1.5656 - val_accuracy: 0.5764\n",
            "Epoch 34/70\n",
            "74/74 [==============================] - 1s 10ms/step - loss: 0.1780 - accuracy: 0.9521 - val_loss: 1.5173 - val_accuracy: 0.5347\n",
            "Epoch 35/70\n",
            "74/74 [==============================] - 1s 10ms/step - loss: 0.1871 - accuracy: 0.9487 - val_loss: 1.5374 - val_accuracy: 0.5556\n",
            "Epoch 36/70\n",
            "74/74 [==============================] - 1s 10ms/step - loss: 0.1721 - accuracy: 0.9504 - val_loss: 1.7834 - val_accuracy: 0.5278\n",
            "Epoch 37/70\n",
            "74/74 [==============================] - 1s 10ms/step - loss: 0.1320 - accuracy: 0.9778 - val_loss: 1.3022 - val_accuracy: 0.6042\n",
            "Epoch 38/70\n",
            "74/74 [==============================] - 1s 10ms/step - loss: 0.1803 - accuracy: 0.9504 - val_loss: 1.6066 - val_accuracy: 0.5139\n",
            "Epoch 39/70\n",
            "74/74 [==============================] - 1s 10ms/step - loss: 0.1401 - accuracy: 0.9675 - val_loss: 1.6273 - val_accuracy: 0.5833\n",
            "Epoch 40/70\n",
            "74/74 [==============================] - 1s 10ms/step - loss: 0.1209 - accuracy: 0.9692 - val_loss: 1.5459 - val_accuracy: 0.5208\n",
            "Epoch 41/70\n",
            "74/74 [==============================] - 1s 10ms/step - loss: 0.1097 - accuracy: 0.9744 - val_loss: 1.6236 - val_accuracy: 0.5556\n",
            "Epoch 42/70\n",
            "74/74 [==============================] - 1s 11ms/step - loss: 0.1025 - accuracy: 0.9744 - val_loss: 1.7454 - val_accuracy: 0.5556\n",
            "Epoch 43/70\n",
            "74/74 [==============================] - 1s 11ms/step - loss: 0.1025 - accuracy: 0.9778 - val_loss: 1.7373 - val_accuracy: 0.4722\n",
            "Epoch 44/70\n",
            "74/74 [==============================] - 1s 10ms/step - loss: 0.1066 - accuracy: 0.9744 - val_loss: 1.6417 - val_accuracy: 0.5069\n",
            "Epoch 45/70\n",
            "74/74 [==============================] - 1s 10ms/step - loss: 0.1229 - accuracy: 0.9744 - val_loss: 1.5293 - val_accuracy: 0.5000\n",
            "Epoch 46/70\n",
            "74/74 [==============================] - 1s 11ms/step - loss: 0.1220 - accuracy: 0.9692 - val_loss: 1.7111 - val_accuracy: 0.4931\n",
            "Epoch 47/70\n",
            "74/74 [==============================] - 1s 10ms/step - loss: 0.0867 - accuracy: 0.9846 - val_loss: 1.5839 - val_accuracy: 0.4861\n",
            "Epoch 48/70\n",
            "74/74 [==============================] - 1s 11ms/step - loss: 0.0677 - accuracy: 0.9863 - val_loss: 1.6333 - val_accuracy: 0.5208\n",
            "Epoch 49/70\n",
            "74/74 [==============================] - 1s 10ms/step - loss: 0.0781 - accuracy: 0.9829 - val_loss: 1.5037 - val_accuracy: 0.5278\n",
            "Epoch 50/70\n",
            "74/74 [==============================] - 1s 10ms/step - loss: 0.1174 - accuracy: 0.9709 - val_loss: 1.3212 - val_accuracy: 0.5903\n",
            "Epoch 51/70\n",
            "74/74 [==============================] - 1s 11ms/step - loss: 0.0566 - accuracy: 0.9863 - val_loss: 1.5436 - val_accuracy: 0.5625\n",
            "Epoch 52/70\n",
            "74/74 [==============================] - 1s 10ms/step - loss: 0.0864 - accuracy: 0.9897 - val_loss: 1.4582 - val_accuracy: 0.5625\n",
            "Epoch 53/70\n",
            "74/74 [==============================] - 1s 11ms/step - loss: 0.0673 - accuracy: 0.9812 - val_loss: 1.5300 - val_accuracy: 0.5417\n",
            "Epoch 54/70\n",
            "74/74 [==============================] - 1s 10ms/step - loss: 0.0519 - accuracy: 0.9880 - val_loss: 1.5554 - val_accuracy: 0.5556\n",
            "Epoch 55/70\n",
            "74/74 [==============================] - 1s 10ms/step - loss: 0.0549 - accuracy: 0.9863 - val_loss: 1.4281 - val_accuracy: 0.5556\n",
            "Epoch 56/70\n",
            "74/74 [==============================] - 1s 10ms/step - loss: 0.0558 - accuracy: 0.9880 - val_loss: 1.6408 - val_accuracy: 0.5069\n",
            "Epoch 57/70\n",
            "74/74 [==============================] - 1s 10ms/step - loss: 0.0921 - accuracy: 0.9761 - val_loss: 1.5803 - val_accuracy: 0.5417\n",
            "Epoch 58/70\n",
            "74/74 [==============================] - 1s 10ms/step - loss: 0.0685 - accuracy: 0.9863 - val_loss: 1.5336 - val_accuracy: 0.5903\n",
            "Epoch 59/70\n",
            "74/74 [==============================] - 1s 11ms/step - loss: 0.0667 - accuracy: 0.9829 - val_loss: 1.6010 - val_accuracy: 0.5833\n",
            "Epoch 60/70\n",
            "74/74 [==============================] - 1s 11ms/step - loss: 0.0645 - accuracy: 0.9812 - val_loss: 1.6151 - val_accuracy: 0.5625\n",
            "Epoch 61/70\n",
            "74/74 [==============================] - 1s 11ms/step - loss: 0.0605 - accuracy: 0.9863 - val_loss: 1.6002 - val_accuracy: 0.5625\n",
            "Epoch 62/70\n",
            "74/74 [==============================] - 1s 10ms/step - loss: 0.0613 - accuracy: 0.9846 - val_loss: 1.5501 - val_accuracy: 0.5833\n",
            "Epoch 63/70\n",
            "74/74 [==============================] - 1s 10ms/step - loss: 0.0412 - accuracy: 0.9915 - val_loss: 1.5320 - val_accuracy: 0.6111\n",
            "Epoch 64/70\n",
            "74/74 [==============================] - 1s 11ms/step - loss: 0.0706 - accuracy: 0.9829 - val_loss: 1.5321 - val_accuracy: 0.6111\n",
            "Epoch 65/70\n",
            "74/74 [==============================] - 1s 11ms/step - loss: 0.0808 - accuracy: 0.9778 - val_loss: 1.3898 - val_accuracy: 0.5764\n",
            "Epoch 66/70\n",
            "74/74 [==============================] - 1s 11ms/step - loss: 0.0269 - accuracy: 0.9949 - val_loss: 1.4929 - val_accuracy: 0.5347\n",
            "Epoch 67/70\n",
            "74/74 [==============================] - 1s 10ms/step - loss: 0.0411 - accuracy: 0.9880 - val_loss: 1.4948 - val_accuracy: 0.6181\n",
            "Epoch 68/70\n",
            "74/74 [==============================] - 1s 11ms/step - loss: 0.0544 - accuracy: 0.9863 - val_loss: 1.3799 - val_accuracy: 0.6111\n",
            "Epoch 69/70\n",
            "74/74 [==============================] - 1s 11ms/step - loss: 0.0519 - accuracy: 0.9880 - val_loss: 1.4324 - val_accuracy: 0.5694\n",
            "Epoch 70/70\n",
            "74/74 [==============================] - 1s 10ms/step - loss: 0.0293 - accuracy: 0.9932 - val_loss: 1.5389 - val_accuracy: 0.6111\n"
          ],
          "name": "stdout"
        },
        {
          "output_type": "display_data",
          "data": {
            "image/png": "[encoded data removed]",
            "text/plain": [
              "<Figure size 432x288 with 1 Axes>"
            ]
          },
          "metadata": {
            "tags": [],
            "needs_background": "light"
          }
        }
      ]
    },
    {
      "cell_type": "code",
      "metadata": {
        "id": "cp9yjCFBmpYy",
        "colab": {
          "base_uri": "https://localhost:8080/",
          "height": 293
        },
        "outputId": "5aa12afe-82fb-4ac4-b949-ad93f59a7ee6"
      },
      "source": [
        "_, xTest10Classes = createTestMultiClasses(testWordIndexes, xLen, step) #Преобразование тестовой выборки\n",
        "pred = recognizeMultiClass(brain_P_01, xTest10Classes, \"Embedding + LSTM\")"
      ],
      "execution_count": null,
      "outputs": [
        {
          "output_type": "stream",
          "text": [
            "НЕЙРОНКА:  Embedding + LSTM\n",
            "\n",
            "Панкреатит  распознано  85 % сеть считает, что это  Панкреатит ,  распознано ВЕРНО!\n",
            "Колит  распознано  66 % сеть считает, что это  Колит ,  распознано ВЕРНО!\n",
            "Гастрит  распознано  52 % сеть считает, что это  Гастрит ,  распознано ВЕРНО!\n",
            "Энтерит  распознано  77 % сеть считает, что это  Энтерит ,  распознано ВЕРНО!\n",
            "Холицестит  распознано  33 % сеть считает, что это  Панкреатит ,  распознано НЕ ВЕРНО!\n",
            "Эзофагит  распознано  89 % сеть считает, что это  Эзофагит ,  распознано ВЕРНО!\n",
            "Гепатит  распознано  78 % сеть считает, что это  Гепатит ,  распознано ВЕРНО!\n",
            "Аппендицит  распознано  20 % сеть считает, что это  Панкреатит ,  распознано НЕ ВЕРНО!\n",
            "Дуоденит  распознано  33 % сеть считает, что это  Гастрит ,  распознано НЕ ВЕРНО!\n",
            "Язва  распознано  0 % сеть считает, что это  Гастрит ,  распознано НЕ ВЕРНО!\n",
            "\n",
            "Средний процент распознавания  61 %\n",
            "\n"
          ],
          "name": "stdout"
        }
      ]
    },
    {
      "cell_type": "markdown",
      "metadata": {
        "id": "XrZ7klUOoGf9"
      },
      "source": [
        "## 8.2 Embedding + Conv1D сеть\n",
        "\n",
        "*(при step = 1)*"
      ]
    },
    {
      "cell_type": "code",
      "metadata": {
        "id": "aooFMLCMoI2P",
        "colab": {
          "base_uri": "https://localhost:8080/",
          "height": 1000
        },
        "outputId": "cfe58fb1-9df9-42f0-a54f-f09215a1aae4"
      },
      "source": [
        "brain_P_02 = Sequential()\n",
        "\n",
        "brain_P_02.add(Embedding(maxWordsCount, 20, input_length=xLen))\n",
        "\n",
        "brain_P_02.add(SpatialDropout1D(0.5))             # слой регуляризации, \"выключая\" 1D карты объектов из эмбединг векторов, во избежание переобучения\n",
        "brain_P_02.add(BatchNormalization())             # слой нормализации данных\n",
        "brain_P_02.add(Conv1D(20, 5, activation=\"sigmoid\"))  # одномерный сверточный слой, указывая кол-во фильтров и ширину окна для фильтров\n",
        "brain_P_02.add(Conv1D(20, 5, activation=\"sigmoid\"))  # второй Conv1D для комплектности\n",
        "brain_P_02.add(MaxPooling1D(8))                   # слой подвыборки/пулинга с функцией максимума\n",
        "brain_P_02.add(Dropout(0.5))                      # слой регуляризации, \"выключая\" указанное количество нейронов, во избежание переобучения\n",
        "brain_P_02.add(BatchNormalization())              # слой нормализации данных\n",
        "brain_P_02.add(Flatten())                         # слой выравнивания/сглаживания (\"сплющиваем\" данные в вектор)\n",
        "\n",
        "\n",
        "brain_P_02.add(BatchNormalization())\n",
        "brain_P_02.add(Dense(10, activation='sigmoid'))\n",
        "\n",
        "brain_P_02.compile(optimizer='adam',\n",
        "              loss='categorical_crossentropy',\n",
        "              metrics=['accuracy'])\n",
        "\n",
        "brain_P_02.summary()\n",
        "\n",
        "\n",
        "history = brain_P_02.fit(xTrain,\n",
        "                    yTrain,\n",
        "                    epochs=15,\n",
        "                    batch_size=32,\n",
        "                    validation_data=(xTest, yTest))\n",
        "\n",
        "\n",
        "plt.plot(history.history['accuracy'],\n",
        "         label='Доля верных ответов на обучающем наборе')\n",
        "plt.plot(history.history['val_accuracy'],\n",
        "         label='Доля верных ответов на проверочном наборе')\n",
        "plt.xlabel('Эпоха обучения')\n",
        "plt.ylabel('Доля верных ответов')\n",
        "plt.legend()\n",
        "plt.show()"
      ],
      "execution_count": null,
      "outputs": [
        {
          "output_type": "stream",
          "text": [
            "Model: \"sequential_7\"\n",
            "_________________________________________________________________\n",
            "Layer (type)                 Output Shape              Param #   \n",
            "=================================================================\n",
            "embedding_7 (Embedding)      (None, 50, 20)            400000    \n",
            "_________________________________________________________________\n",
            "spatial_dropout1d_7 (Spatial (None, 50, 20)            0         \n",
            "_________________________________________________________________\n",
            "batch_normalization_19 (Batc (None, 50, 20)            80        \n",
            "_________________________________________________________________\n",
            "conv1d_15 (Conv1D)           (None, 46, 20)            2020      \n",
            "_________________________________________________________________\n",
            "conv1d_16 (Conv1D)           (None, 42, 20)            2020      \n",
            "_________________________________________________________________\n",
            "max_pooling1d_7 (MaxPooling1 (None, 5, 20)             0         \n",
            "_________________________________________________________________\n",
            "dropout_11 (Dropout)         (None, 5, 20)             0         \n",
            "_________________________________________________________________\n",
            "batch_normalization_20 (Batc (None, 5, 20)             80        \n",
            "_________________________________________________________________\n",
            "flatten_7 (Flatten)          (None, 100)               0         \n",
            "_________________________________________________________________\n",
            "batch_normalization_21 (Batc (None, 100)               400       \n",
            "_________________________________________________________________\n",
            "dense_10 (Dense)             (None, 10)                1010      \n",
            "=================================================================\n",
            "Total params: 405,610\n",
            "Trainable params: 405,330\n",
            "Non-trainable params: 280\n",
            "_________________________________________________________________\n",
            "Epoch 1/15\n",
            "183/183 [==============================] - 2s 12ms/step - loss: 2.3580 - accuracy: 0.1306 - val_loss: 2.3154 - val_accuracy: 0.0827\n",
            "Epoch 2/15\n",
            "183/183 [==============================] - 2s 11ms/step - loss: 1.9088 - accuracy: 0.3800 - val_loss: 2.4862 - val_accuracy: 0.0827\n",
            "Epoch 3/15\n",
            "183/183 [==============================] - 2s 11ms/step - loss: 1.4386 - accuracy: 0.5394 - val_loss: 1.9291 - val_accuracy: 0.1842\n",
            "Epoch 4/15\n",
            "183/183 [==============================] - 2s 11ms/step - loss: 1.0325 - accuracy: 0.5768 - val_loss: 2.0453 - val_accuracy: 0.2417\n",
            "Epoch 5/15\n",
            "183/183 [==============================] - 2s 11ms/step - loss: 0.7138 - accuracy: 0.7051 - val_loss: 1.7502 - val_accuracy: 0.3957\n",
            "Epoch 6/15\n",
            "183/183 [==============================] - 2s 12ms/step - loss: 0.4351 - accuracy: 0.8674 - val_loss: 1.6350 - val_accuracy: 0.5115\n",
            "Epoch 7/15\n",
            "183/183 [==============================] - 2s 12ms/step - loss: 0.2786 - accuracy: 0.9274 - val_loss: 1.7079 - val_accuracy: 0.5331\n",
            "Epoch 8/15\n",
            "183/183 [==============================] - 2s 11ms/step - loss: 0.2071 - accuracy: 0.9449 - val_loss: 1.8102 - val_accuracy: 0.5079\n",
            "Epoch 9/15\n",
            "183/183 [==============================] - 2s 11ms/step - loss: 0.1913 - accuracy: 0.9477 - val_loss: 1.6668 - val_accuracy: 0.5367\n",
            "Epoch 10/15\n",
            "183/183 [==============================] - 2s 11ms/step - loss: 0.1605 - accuracy: 0.9561 - val_loss: 1.7245 - val_accuracy: 0.5324\n",
            "Epoch 11/15\n",
            "183/183 [==============================] - 2s 11ms/step - loss: 0.1492 - accuracy: 0.9551 - val_loss: 1.7092 - val_accuracy: 0.5806\n",
            "Epoch 12/15\n",
            "183/183 [==============================] - 2s 11ms/step - loss: 0.1265 - accuracy: 0.9629 - val_loss: 1.7375 - val_accuracy: 0.5547\n",
            "Epoch 13/15\n",
            "183/183 [==============================] - 2s 11ms/step - loss: 0.1196 - accuracy: 0.9667 - val_loss: 1.7736 - val_accuracy: 0.5597\n",
            "Epoch 14/15\n",
            "183/183 [==============================] - 2s 11ms/step - loss: 0.1142 - accuracy: 0.9664 - val_loss: 1.8228 - val_accuracy: 0.5439\n",
            "Epoch 15/15\n",
            "183/183 [==============================] - 2s 11ms/step - loss: 0.1340 - accuracy: 0.9623 - val_loss: 1.5800 - val_accuracy: 0.5590\n"
          ],
          "name": "stdout"
        },
        {
          "output_type": "display_data",
          "data": {
            "image/png": "[encoded data removed]",
            "text/plain": [
              "<Figure size 432x288 with 1 Axes>"
            ]
          },
          "metadata": {
            "tags": [],
            "needs_background": "light"
          }
        }
      ]
    },
    {
      "cell_type": "code",
      "metadata": {
        "id": "d2UzjCNwoSCC",
        "colab": {
          "base_uri": "https://localhost:8080/",
          "height": 293
        },
        "outputId": "b2222476-aea2-4e24-cf7c-1c86d479e963"
      },
      "source": [
        "_, xTest6Classes = createTestMultiClasses(testWordIndexes, xLen, step) # Преобразование тестовой выборки\n",
        "pred = recognizeMultiClass(brain_P_02, xTest10Classes, \"Embedding + Conv1D\")"
      ],
      "execution_count": null,
      "outputs": [
        {
          "output_type": "stream",
          "text": [
            "НЕЙРОНКА:  Embedding + Conv1D\n",
            "\n",
            "Панкреатит  распознано  40 % сеть считает, что это  Панкреатит ,  распознано ВЕРНО!\n",
            "Колит  распознано  80 % сеть считает, что это  Колит ,  распознано ВЕРНО!\n",
            "Гастрит  распознано  36 % сеть считает, что это  Дуоденит ,  распознано НЕ ВЕРНО!\n",
            "Энтерит  распознано  69 % сеть считает, что это  Энтерит ,  распознано ВЕРНО!\n",
            "Холицестит  распознано  10 % сеть считает, что это  Панкреатит ,  распознано НЕ ВЕРНО!\n",
            "Эзофагит  распознано  49 % сеть считает, что это  Эзофагит ,  распознано ВЕРНО!\n",
            "Гепатит  распознано  99 % сеть считает, что это  Гепатит ,  распознано ВЕРНО!\n",
            "Аппендицит  распознано  14 % сеть считает, что это  Холицестит ,  распознано НЕ ВЕРНО!\n",
            "Дуоденит  распознано  71 % сеть считает, что это  Дуоденит ,  распознано ВЕРНО!\n",
            "Язва  распознано  0 % сеть считает, что это  Дуоденит ,  распознано НЕ ВЕРНО!\n",
            "\n",
            "Средний процент распознавания  50 %\n",
            "\n"
          ],
          "name": "stdout"
        }
      ]
    },
    {
      "cell_type": "markdown",
      "metadata": {
        "id": "JmVuox4Bpth9"
      },
      "source": [
        "## 8.3 Embedding + LSTM + Conv1D + Dense сеть\n",
        "\n",
        "*(при step = 1)*"
      ]
    },
    {
      "cell_type": "code",
      "metadata": {
        "id": "mStdysH0p3zZ",
        "colab": {
          "base_uri": "https://localhost:8080/",
          "height": 1000
        },
        "outputId": "18d80790-7488-4a1a-8698-ee7ad8c40e1e"
      },
      "source": [
        "brain_P_03 = Sequential()\n",
        "\n",
        "brain_P_03.add(Embedding(maxWordsCount, 20, input_length=xLen))\n",
        "\n",
        "brain_P_03.add(SpatialDropout1D(0.4)) # добавляем слой регуляризации, \"выключая\" 1D карты объектов из эмбединг векторов, во избежание переобучения\n",
        "brain_P_03.add(LSTM(16, return_sequences=1)) # добавляем слой LSTM, совместимый с Cuda при поддержке GPU\n",
        "\n",
        "\n",
        "brain_P_03.add(Dropout(0.3))\n",
        "brain_P_03.add(Dense(10, activation=\"softmax\"))\n",
        "\n",
        "brain_P_03.add(Dropout(0.5)) # добавляем слой регуляризации, \"выключая\" указанное количество нейронов, во избежание переобучения\n",
        "brain_P_03.add(BatchNormalization()) # добавляем слой нормализации данных\n",
        "brain_P_03.add(Conv1D(20, 5, activation=\"relu\")) # добавляем одномерный сверточный слой, указывая кол-во фильтров и ширину окна для фильтров\n",
        "brain_P_03.add(Conv1D(20, 5, activation=\"relu\")) # добавляем одномерный сверточный слой, указывая кол-во фильтров и ширину окна для фильтров\n",
        "brain_P_03.add(MaxPooling1D(2)) # добавляем слой подвыборки/пулинга с функцией максимума\n",
        "brain_P_03.add(Dropout(0.5)) # добавляем слой регуляризации, \"выключая\" указанное количество нейронов, во избежание переобучения\n",
        "brain_P_03.add(BatchNormalization()) # добавляем слой нормализации данных\n",
        "brain_P_03.add(Flatten()) # добавляем слой выравнивания/сглаживания (\"сплющиваем\" данные в вектор)\n",
        "brain_P_03.add(Dense(10, activation='softmax')) # добавляем полносвязный слой на 6 нейронов, с функцией активации softmax на выходном слое\n",
        "\n",
        "brain_P_03.compile(optimizer='adam',\n",
        "              loss='categorical_crossentropy',\n",
        "              metrics=['accuracy'])\n",
        "\n",
        "brain_P_03.summary()\n",
        "\n",
        "\n",
        "history = brain_P_03.fit(xTrain,\n",
        "                    yTrain,\n",
        "                    epochs=15,\n",
        "                    batch_size=64,\n",
        "                    validation_data=(xTest, yTest))\n",
        "\n",
        "\n",
        "plt.plot(history.history['accuracy'],\n",
        "         label='Доля верных ответов на обучающем наборе')\n",
        "plt.plot(history.history['val_accuracy'],\n",
        "         label='Доля верных ответов на проверочном наборе')\n",
        "plt.xlabel('Эпоха обучения')\n",
        "plt.ylabel('Доля верных ответов')\n",
        "plt.legend()\n",
        "plt.show()"
      ],
      "execution_count": null,
      "outputs": [
        {
          "output_type": "stream",
          "text": [
            "Model: \"sequential_43\"\n",
            "_________________________________________________________________\n",
            "Layer (type)                 Output Shape              Param #   \n",
            "=================================================================\n",
            "embedding_43 (Embedding)     (None, 50, 20)            400000    \n",
            "_________________________________________________________________\n",
            "spatial_dropout1d_43 (Spatia (None, 50, 20)            0         \n",
            "_________________________________________________________________\n",
            "lstm_38 (LSTM)               (None, 50, 16)            2368      \n",
            "_________________________________________________________________\n",
            "dropout_117 (Dropout)        (None, 50, 16)            0         \n",
            "_________________________________________________________________\n",
            "dense_81 (Dense)             (None, 50, 10)            170       \n",
            "_________________________________________________________________\n",
            "dropout_118 (Dropout)        (None, 50, 10)            0         \n",
            "_________________________________________________________________\n",
            "batch_normalization_90 (Batc (None, 50, 10)            40        \n",
            "_________________________________________________________________\n",
            "conv1d_87 (Conv1D)           (None, 46, 20)            1020      \n",
            "_________________________________________________________________\n",
            "conv1d_88 (Conv1D)           (None, 42, 20)            2020      \n",
            "_________________________________________________________________\n",
            "max_pooling1d_43 (MaxPooling (None, 21, 20)            0         \n",
            "_________________________________________________________________\n",
            "dropout_119 (Dropout)        (None, 21, 20)            0         \n",
            "_________________________________________________________________\n",
            "batch_normalization_91 (Batc (None, 21, 20)            80        \n",
            "_________________________________________________________________\n",
            "flatten_43 (Flatten)         (None, 420)               0         \n",
            "_________________________________________________________________\n",
            "dense_82 (Dense)             (None, 10)                4210      \n",
            "=================================================================\n",
            "Total params: 409,908\n",
            "Trainable params: 409,848\n",
            "Non-trainable params: 60\n",
            "_________________________________________________________________\n",
            "Epoch 1/15\n",
            "92/92 [==============================] - 3s 29ms/step - loss: 2.8277 - accuracy: 0.1258 - val_loss: 2.2625 - val_accuracy: 0.1158\n",
            "Epoch 2/15\n",
            "92/92 [==============================] - 2s 22ms/step - loss: 1.8895 - accuracy: 0.2757 - val_loss: 2.1541 - val_accuracy: 0.2014\n",
            "Epoch 3/15\n",
            "92/92 [==============================] - 2s 21ms/step - loss: 1.3548 - accuracy: 0.4306 - val_loss: 2.5572 - val_accuracy: 0.1115\n",
            "Epoch 4/15\n",
            "92/92 [==============================] - 2s 21ms/step - loss: 0.9507 - accuracy: 0.6265 - val_loss: 2.4814 - val_accuracy: 0.2065\n",
            "Epoch 5/15\n",
            "92/92 [==============================] - 2s 21ms/step - loss: 0.7393 - accuracy: 0.7138 - val_loss: 2.6140 - val_accuracy: 0.2748\n",
            "Epoch 6/15\n",
            "92/92 [==============================] - 2s 21ms/step - loss: 0.5542 - accuracy: 0.7998 - val_loss: 3.1593 - val_accuracy: 0.2734\n",
            "Epoch 7/15\n",
            "92/92 [==============================] - 2s 21ms/step - loss: 0.4917 - accuracy: 0.8166 - val_loss: 3.0435 - val_accuracy: 0.2791\n",
            "Epoch 8/15\n",
            "92/92 [==============================] - 2s 21ms/step - loss: 0.3580 - accuracy: 0.8722 - val_loss: 3.5054 - val_accuracy: 0.3151\n",
            "Epoch 9/15\n",
            "92/92 [==============================] - 2s 21ms/step - loss: 0.2726 - accuracy: 0.9096 - val_loss: 3.8871 - val_accuracy: 0.3007\n",
            "Epoch 10/15\n",
            "92/92 [==============================] - 2s 21ms/step - loss: 0.2404 - accuracy: 0.9182 - val_loss: 4.0141 - val_accuracy: 0.2647\n",
            "Epoch 11/15\n",
            "92/92 [==============================] - 2s 21ms/step - loss: 0.2449 - accuracy: 0.9182 - val_loss: 3.9458 - val_accuracy: 0.2791\n",
            "Epoch 12/15\n",
            "92/92 [==============================] - 2s 21ms/step - loss: 0.1919 - accuracy: 0.9355 - val_loss: 4.4616 - val_accuracy: 0.2921\n",
            "Epoch 13/15\n",
            "92/92 [==============================] - 2s 21ms/step - loss: 0.1482 - accuracy: 0.9511 - val_loss: 4.1780 - val_accuracy: 0.3266\n",
            "Epoch 14/15\n",
            "92/92 [==============================] - 2s 21ms/step - loss: 0.1324 - accuracy: 0.9585 - val_loss: 4.1266 - val_accuracy: 0.3043\n",
            "Epoch 15/15\n",
            "92/92 [==============================] - 2s 21ms/step - loss: 0.1436 - accuracy: 0.9520 - val_loss: 4.5666 - val_accuracy: 0.3022\n"
          ],
          "name": "stdout"
        },
        {
          "output_type": "display_data",
          "data": {
            "image/png": "[encoded data removed]",
            "text/plain": [
              "<Figure size 432x288 with 1 Axes>"
            ]
          },
          "metadata": {
            "tags": [],
            "needs_background": "light"
          }
        }
      ]
    },
    {
      "cell_type": "code",
      "metadata": {
        "id": "nBzlbsbeqRM7",
        "colab": {
          "base_uri": "https://localhost:8080/",
          "height": 293
        },
        "outputId": "03ac7bd0-a60d-4736-eed3-b74bbe595a51"
      },
      "source": [
        "_, xTest6Classes = createTestMultiClasses(testWordIndexes, xLen, step) #Преобразование тестовой выборки\n",
        "pred = recognizeMultiClass(brain_P_03, xTest10Classes, \"Embedding + LSTM + Conv1D + Dense\")"
      ],
      "execution_count": null,
      "outputs": [
        {
          "output_type": "stream",
          "text": [
            "НЕЙРОНКА:  Embedding + LSTM + Conv1D + Dense\n",
            "\n",
            "Панкреатит  распознано  0 % сеть считает, что это  Дуоденит ,  распознано НЕ ВЕРНО!\n",
            "Колит  распознано  34 % сеть считает, что это  Колит ,  распознано ВЕРНО!\n",
            "Гастрит  распознано  40 % сеть считает, что это  Гастрит ,  распознано ВЕРНО!\n",
            "Энтерит  распознано  42 % сеть считает, что это  Энтерит ,  распознано ВЕРНО!\n",
            "Холицестит  распознано  4 % сеть считает, что это  Дуоденит ,  распознано НЕ ВЕРНО!\n",
            "Эзофагит  распознано  67 % сеть считает, что это  Эзофагит ,  распознано ВЕРНО!\n",
            "Гепатит  распознано  50 % сеть считает, что это  Холицестит ,  распознано НЕ ВЕРНО!\n",
            "Аппендицит  распознано  3 % сеть считает, что это  Гастрит ,  распознано НЕ ВЕРНО!\n",
            "Дуоденит  распознано  56 % сеть считает, что это  Дуоденит ,  распознано ВЕРНО!\n",
            "Язва  распознано  0 % сеть считает, что это  Энтерит ,  распознано НЕ ВЕРНО!\n",
            "\n",
            "Средний процент распознавания  32 %\n",
            "\n"
          ],
          "name": "stdout"
        }
      ]
    },
    {
      "cell_type": "markdown",
      "metadata": {
        "id": "BYAsIjdisWNo"
      },
      "source": [
        "# 9 Результаты"
      ]
    },
    {
      "cell_type": "markdown",
      "metadata": {
        "id": "mvoheotStzav"
      },
      "source": [
        "Результаты обучения созданных нейронных сетей представлены в таблице 1."
      ]
    },
    {
      "cell_type": "code",
      "metadata": {
        "id": "pOuEmVfAuRot"
      },
      "source": [
        "results = {'Name':['Embedding + LSTM', 'Embedding + Conv1D', 'Embedding + LSTM + Conv1D + Dense'],\n",
        "        'Accuracy (After 20 Epoch)': [0.9932, 0.9623, 0.9520],\n",
        "        'Validation Accuracy (After 20 Epoch)': [0.6111, 0.5590, 0.3022],\n",
        "        'Total Time after for 1 Epoch (sec))': [1, 2, 2]}\n",
        "results_base = pd.DataFrame(results)"
      ],
      "execution_count": null,
      "outputs": []
    },
    {
      "cell_type": "code",
      "metadata": {
        "id": "hmCc5Bl6vsBx",
        "colab": {
          "base_uri": "https://localhost:8080/",
          "height": 162
        },
        "outputId": "907fbfc0-4241-4967-b6f5-a81bb3c09966"
      },
      "source": [
        "print('Таблица 1. Результаты работы обученных нейронных сетей')\n",
        "results_base.head(4)"
      ],
      "execution_count": null,
      "outputs": [
        {
          "output_type": "stream",
          "text": [
            "Таблица 1. Результаты работы обученных нейронных сетей\n"
          ],
          "name": "stdout"
        },
        {
          "output_type": "execute_result",
          "data": {
            "text/html": [
              "<div>\n",
              "<style scoped>\n",
              "    .dataframe tbody tr th:only-of-type {\n",
              "        vertical-align: middle;\n",
              "    }\n",
              "\n",
              "    .dataframe tbody tr th {\n",
              "        vertical-align: top;\n",
              "    }\n",
              "\n",
              "    .dataframe thead th {\n",
              "        text-align: right;\n",
              "    }\n",
              "</style>\n",
              "<table border=\"1\" class=\"dataframe\">\n",
              "  <thead>\n",
              "    <tr style=\"text-align: right;\">\n",
              "      <th></th>\n",
              "      <th>Name</th>\n",
              "      <th>Accuracy (After 20 Epoch)</th>\n",
              "      <th>Validation Accuracy (After 20 Epoch)</th>\n",
              "      <th>Total Time after for 1 Epoch (sec))</th>\n",
              "    </tr>\n",
              "  </thead>\n",
              "  <tbody>\n",
              "    <tr>\n",
              "      <th>0</th>\n",
              "      <td>Embedding + LSTM</td>\n",
              "      <td>0.9932</td>\n",
              "      <td>0.6111</td>\n",
              "      <td>1</td>\n",
              "    </tr>\n",
              "    <tr>\n",
              "      <th>1</th>\n",
              "      <td>Embedding + Conv1D</td>\n",
              "      <td>0.9623</td>\n",
              "      <td>0.5590</td>\n",
              "      <td>2</td>\n",
              "    </tr>\n",
              "    <tr>\n",
              "      <th>2</th>\n",
              "      <td>Embedding + LSTM + Conv1D + Dense</td>\n",
              "      <td>0.9520</td>\n",
              "      <td>0.3022</td>\n",
              "      <td>2</td>\n",
              "    </tr>\n",
              "  </tbody>\n",
              "</table>\n",
              "</div>"
            ],
            "text/plain": [
              "                                Name  ...  Total Time after for 1 Epoch (sec))\n",
              "0                   Embedding + LSTM  ...                                    1\n",
              "1                 Embedding + Conv1D  ...                                    2\n",
              "2  Embedding + LSTM + Conv1D + Dense  ...                                    2\n",
              "\n",
              "[3 rows x 4 columns]"
            ]
          },
          "metadata": {
            "tags": []
          },
          "execution_count": 71
        }
      ]
    },
    {
      "cell_type": "markdown",
      "metadata": {
        "id": "S13px9TPsc6i"
      },
      "source": [
        "# 10 Выводы"
      ]
    },
    {
      "cell_type": "markdown",
      "metadata": {
        "id": "gvSAgeHEs7tO"
      },
      "source": [
        "Разработаны и обучены три нейронные сети, включающие в свой состав:\n",
        "\n",
        "1) Embedding и LSTM слои;\n",
        "\n",
        "2) Embedding и Conv1D слои;\n",
        "\n",
        "3) Embedding, Dense, LSTM и Conv1D слои.\n",
        "\n",
        "Обучение проводилось на сформированной вручную выборке.\n",
        "\n",
        "В процессе обучения в параметры нейросетей вручную вносились измененеия. Наибольшее количество правильных ответов на проверочной выборке продемонстрировала сеть \"Embedding + Dense\". Наименьшее количество (за счёт быстрого пеереобучения) продемнстрировала сеть, включающая в свой состав LSTM, Conv1D и Dense слои.\n",
        "\n",
        "Представляется возможным дальнейшее увеличение количества правильных ответов на проверочных выборках за счёт продолжения экспериментов по внесению изменений в параметры нейронных сетей, а также улучшения качества обучающей и проверочной выборок."
      ]
    }
  ]
}