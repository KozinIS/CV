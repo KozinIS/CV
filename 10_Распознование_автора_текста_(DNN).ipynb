{
  "nbformat": 4,
  "nbformat_minor": 0,
  "metadata": {
    "colab": {
      "provenance": [],
      "toc_visible": true,
      "include_colab_link": true
    },
    "kernelspec": {
      "name": "python3",
      "display_name": "Python 3"
    },
    "accelerator": "GPU"
  },
  "cells": [
    {
      "cell_type": "markdown",
      "metadata": {
        "id": "view-in-github",
        "colab_type": "text"
      },
      "source": [
        "<a href=\"https://colab.research.google.com/github/KozinIS/CV/blob/main/10_%D0%A0%D0%B0%D1%81%D0%BF%D0%BE%D0%B7%D0%BD%D0%BE%D0%B2%D0%B0%D0%BD%D0%B8%D0%B5_%D0%B0%D0%B2%D1%82%D0%BE%D1%80%D0%B0_%D1%82%D0%B5%D0%BA%D1%81%D1%82%D0%B0_(DNN).ipynb\" target=\"_parent\"><img src=\"https://colab.research.google.com/assets/colab-badge.svg\" alt=\"Open In Colab\"/></a>"
      ]
    },
    {
      "cell_type": "markdown",
      "metadata": {
        "id": "566iHQ5arMKQ"
      },
      "source": [
        "# **Распознование автора текста (DNN)**"
      ]
    },
    {
      "cell_type": "markdown",
      "source": [
        "# 1 Постановка задачи"
      ],
      "metadata": {
        "id": "32UtH3jd6faV"
      }
    },
    {
      "cell_type": "markdown",
      "source": [
        "*Добейтесь точности распознавания 96% и верно распознанных всех писателей с помощью любой нейронной сети. Попробуйте реализовать это без фильтрации данных.*"
      ],
      "metadata": {
        "id": "N5jdd_AZ-iT8"
      }
    },
    {
      "cell_type": "markdown",
      "metadata": {
        "id": "kft8CpAMVpUA"
      },
      "source": [
        "# 2 Подгрузка библиотек и подключение диска"
      ]
    },
    {
      "cell_type": "code",
      "metadata": {
        "id": "0EbtkD_aVtJR"
      },
      "source": [
        "import numpy as np\n",
        "import pandas as pd\n",
        "import matplotlib.pyplot as plt\n",
        "from google.colab import files   # Для работы с файлами\n",
        "import os                        # Для работы с файлами\n",
        "%matplotlib inline\n",
        "\n",
        "from tensorflow.keras import utils                                  # Для работы с категориальными данными\n",
        "from tensorflow.keras.models import Sequential                      # Полносвязная модель\n",
        "from tensorflow.keras.layers import Dense, Dropout, SpatialDropout1D, BatchNormalization, Embedding, Flatten, Activation\n",
        "from tensorflow.keras.preprocessing.text import Tokenizer           # Методы для работы с текстами и преобразования их в последовательности\n",
        "from tensorflow.keras.preprocessing.sequence import pad_sequences   # Метод для работы с последовательностями\n",
        "\n",
        "from sklearn.preprocessing import LabelEncoder             # Метод кодирования тестовых лейблов\n",
        "from sklearn.model_selection import train_test_split       # Для разделения выборки на тестовую и обучающую\n",
        "\n",
        "from google.colab import drive\n",
        "import time                                                # Библиотека time"
      ],
      "execution_count": null,
      "outputs": []
    },
    {
      "cell_type": "code",
      "metadata": {
        "id": "8QLRpNW5W8-6",
        "colab": {
          "base_uri": "https://localhost:8080/",
          "height": 35
        },
        "outputId": "822f2849-4810-4ccc-ac78-ccd3f765b7a9"
      },
      "source": [
        "drive.mount('/content/drive')"
      ],
      "execution_count": null,
      "outputs": [
        {
          "output_type": "stream",
          "text": [
            "Drive already mounted at /content/drive; to attempt to forcibly remount, call drive.mount(\"/content/drive\", force_remount=True).\n"
          ],
          "name": "stdout"
        }
      ]
    },
    {
      "cell_type": "markdown",
      "metadata": {
        "id": "Mahsb5QPXkCK"
      },
      "source": [
        "# 3 Подгрузка данных"
      ]
    },
    {
      "cell_type": "code",
      "metadata": {
        "id": "CcuGAyk4fcE2"
      },
      "source": [
        "def readText(fileName):          # Объявление функции для чтения файла. На вход подаётся путь к файлу\n",
        "  f = open(fileName, 'r')        # Задаем открытие нужного файла в режиме чтения\n",
        "  text = f.read()                # Чтение текста\n",
        "  text = text.replace(\"\\n\", \" \") # Перевод переносов строк в пробелы\n",
        "\n",
        "  return text                    # Возвращение текста файла\n",
        "\n",
        "className = [\"О. Генри\", \"Стругацкие\", \"Булгаков\", \"Саймак\", \"Фрай\", \"Брэдберри\"] # Объявление интересующих нас классов\n",
        "nClasses = len(className)                                                         # Подсчёт количества классов"
      ],
      "execution_count": null,
      "outputs": []
    },
    {
      "cell_type": "code",
      "metadata": {
        "id": "aGm9zpHXgPut",
        "colab": {
          "base_uri": "https://localhost:8080/",
          "height": 274
        },
        "outputId": "ec847b6e-8e75-4ed9-c440-a8b15d3c0619"
      },
      "source": [
        "# Загрузка обучающих текстов\n",
        "\n",
        "trainText = [] # Формирование обучающих текстов\n",
        "testText = []  # Формирование тестовых текстов\n",
        "\n",
        "# Формирование необходимо произвести следующим образом:\n",
        "# класс каждого i-ого эллемента в обучающей выборке должен соответствовать\n",
        "# классу каждого i-ого эллемента в тестовой выборке\n",
        "\n",
        "for i in className:               # Проходим по каждому классу (перечень авторов)\n",
        "  for j in os.listdir('/content/drive/My Drive/HW_17/texts/'):  # Проходим по каждому файлу в папке с текстами\n",
        "    if i in j:                    # Проверяем, содержит ли файл j в названии имя класса i (нужно заранее позаботиться о соответствующих названиях файлов)\n",
        "\n",
        "      if 'Обучающая' in j:        # Если в имени найденного класса есть строка \"Обучающая\", то:\n",
        "        trainText.append(readText('/content/drive/My Drive/HW_17/texts/' + j))   # добавляем в обучающую выборку;\n",
        "        print(j, 'добавлен в обучающую выборку')   # выводим информацию;\n",
        "\n",
        "      if 'Тестовая' in j:         # Если в имени найденного класса есть строка \"Тестовая\", то:\n",
        "        testText.append(readText('/content/drive/My Drive/HW_17/texts/' + j))    # добавляем в обучающую выборку;\n",
        "        print(j, 'добавлен в тестовую выборку')    # выводим информацию.\n",
        "  print()"
      ],
      "execution_count": null,
      "outputs": [
        {
          "output_type": "stream",
          "text": [
            "(О. Генри) Тестовая_20 вместе.txt добавлен в тестовую выборку\n",
            "(О. Генри) Обучающая_50 вместе.txt добавлен в обучающую выборку\n",
            "\n",
            "(Стругацкие) Обучающая_5 вместе.txt добавлен в обучающую выборку\n",
            "(Стругацкие) Тестовая_2 вместе.txt добавлен в тестовую выборку\n",
            "\n",
            "(Булгаков) Обучающая_5 вместе.txt добавлен в обучающую выборку\n",
            "(Булгаков) Тестовая_2 вместе.txt добавлен в тестовую выборку\n",
            "\n",
            "\n",
            "\n",
            "(Рэй Брэдберри) Обучающая_22 вместе.txt добавлен в обучающую выборку\n",
            "(Рэй Брэдберри) Тестовая_8 вместе.txt добавлен в тестовую выборку\n",
            "\n"
          ],
          "name": "stdout"
        }
      ]
    },
    {
      "cell_type": "code",
      "metadata": {
        "id": "Rl08jZwVm5qn"
      },
      "source": [
        "# Добавляю вручную тех, кто не подцепился (не понимаю, почему не захотели):\n",
        "\n",
        "trainText.append(readText('/content/drive/My Drive/HW_17/texts/(Клиффорд_Саймак) Обучающая_5 вместе.txt'))\n",
        "trainText.append(readText('/content/drive/My Drive/HW_17/texts/(Макс Фрай) Обучающая_5 вместе.txt'))\n",
        "testText.append(readText('/content/drive/My Drive/HW_17/texts/(Клиффорд_Саймак) Тестовая_2 вместе.txt'))\n",
        "testText.append(readText('/content/drive/My Drive/HW_17/texts/(Макс Фрай) Тестовая_2 вместе.txt'))"
      ],
      "execution_count": null,
      "outputs": []
    },
    {
      "cell_type": "code",
      "metadata": {
        "id": "jnVWENu5gbGz",
        "colab": {
          "base_uri": "https://localhost:8080/",
          "height": 54
        },
        "outputId": "2e5c7b11-81e8-4660-df84-a0311a46fa62"
      },
      "source": [
        "print(len(trainText))    # Количество элементов в trainText\n",
        "print(len(trainText[3])) # Количество символов в первом источнике в trainText"
      ],
      "execution_count": null,
      "outputs": [
        {
          "output_type": "stream",
          "text": [
            "6\n",
            "1386454\n"
          ],
          "name": "stdout"
        }
      ]
    },
    {
      "cell_type": "markdown",
      "metadata": {
        "id": "8ovN12UrlmLw"
      },
      "source": [
        "# 4 Преобразование текстовых данных в числовые и векторные (для обучения нейросети)"
      ]
    },
    {
      "cell_type": "code",
      "metadata": {
        "id": "5NJbveqPlzXt",
        "colab": {
          "base_uri": "https://localhost:8080/",
          "height": 35
        },
        "outputId": "cd2aa1ed-8046-487a-eb46-05223983289f"
      },
      "source": [
        "cur_time = time.time()  # Засекаем текущее время\n",
        "maxWordsCount = 30000   # Определяем максимальное количество слов/индексов, учитываемое при обучении текстов\n",
        "\n",
        "# Воспользуемся встроенной в Keras функцией Tokenizer для разбиения текста и превращения в матрицу числовых значений.\n",
        "# num_words = maxWordsCount - определяем максимальное количество слов/индексов, учитываемое при обучении текстов.\n",
        "# filters = '!\"#$%&()*+,-./:;<=>?@[\\\\]^_`{|}~\\t\\n' - исключение ненужных символов. Можно добавить сюда цифры.\n",
        "# lower=True          - приведение слов к нижнему регистру\n",
        "# split = ' '         - разделение пробелами слов, \"слипшихся\" в результате удаления '\\n'\n",
        "# char_level = False  - токенизируем по словам (Если будет True - каждый символ будет рассматриваться как отдельный токен )\n",
        "\n",
        "# родной: tokenizer = Tokenizer(num_words = maxWordsCount, filters = '!\"#$%&()*+,-–—./…:;<=>?@[\\\\]^_`{|}~«»\\t\\n\\xa0\\ufeff', lower = True, split = ' ', oov_token = 'unknown', char_level = False)\n",
        "# краденый: tokenizer = Tokenizer(num_words = maxWordsCount, filters=   '!–\"—#$%&amp;()*+,-./:;&lt;=>?@[\\\\]^_`{|}~\\t\\n\\r«»', lower=True, split=' ', char_level=False)\n",
        "# краденый М (без ?!): tokenizer = Tokenizer(num_words = maxWordsCount, filters = ',()–\"—#$%&amp;*+-./:;&lt;=>@[\\\\]^_`{|}~\\t\\n\\r«»', lower=True, split=' ', char_level=False)\n",
        "tokenizer = Tokenizer(num_words = maxWordsCount, filters = ',()–\"—#$%&amp;*+-./:;&lt;=>@[\\\\]^_`{|}~\\t\\n\\r«»', lower=True, split=' ', char_level=False)\n",
        "\n",
        "tokenizer.fit_on_texts(trainText)             # \"Скармливаем\" наши тексты, т.е. даём в обработку методу, который соберет словарь частотности\n",
        "items = list(tokenizer.word_index.items())    # Вытаскиваем индексы слов для просмотра\n",
        "print('Время обработки: ', round(time.time() - cur_time, 2), 'c', sep = '')"
      ],
      "execution_count": null,
      "outputs": [
        {
          "output_type": "stream",
          "text": [
            "Время обработки: 2.63c\n"
          ],
          "name": "stdout"
        }
      ]
    },
    {
      "cell_type": "code",
      "metadata": {
        "id": "oAHGrD7Il5D_",
        "colab": {
          "base_uri": "https://localhost:8080/",
          "height": 54
        },
        "outputId": "116829fc-601e-4dc8-c1ae-7d676d148f5e"
      },
      "source": [
        "print(items[:10])                     # Просмотр 10 самых часто встречающихся слов\n",
        "print(\"Размер словаря\", len(items))    # Длина словаря"
      ],
      "execution_count": null,
      "outputs": [
        {
          "output_type": "stream",
          "text": [
            "[('и', 1), ('в', 2), ('не', 3), ('я', 4), ('что', 5), ('на', 6), ('с', 7), ('он', 8), ('а', 9), ('как', 10)]\n",
            "Размер словаря 155715\n"
          ],
          "name": "stdout"
        }
      ]
    },
    {
      "cell_type": "code",
      "metadata": {
        "id": "WY3yeFH0l_pW",
        "colab": {
          "base_uri": "https://localhost:8080/",
          "height": 90
        },
        "outputId": "08501add-7d24-4661-978f-7ccb48f2a2b5"
      },
      "source": [
        "# Преобразовываем текста в последовательность индексов в соответствии с частотным словарём:\n",
        "trainWordIndexes = tokenizer.texts_to_sequences(trainText)  # Перевод обучающих текстов в индексы\n",
        "testWordIndexes = tokenizer.texts_to_sequences(testText)    # Перевод проверочных текстов в индексы\n",
        "\n",
        "print(\"Взглянем на фрагмент обучающего текста:\")\n",
        "print(\"В виде оригинального текста:              \", trainText[1][:87])\n",
        "print(\"Он же в виде последовательности индексов: \", trainWordIndexes[1][:20], '\\n')"
      ],
      "execution_count": null,
      "outputs": [
        {
          "output_type": "stream",
          "text": [
            "Взглянем на фрагмент обучающего текста:\n",
            "В виде оригинального текста:               Парень из преисподней     1     Ну и деревня! Сроду я таких деревень не видел и не знал\n",
            "Он же в виде последовательности индексов:  [532, 22, 29761, 1472, 50, 1, 7705, 4, 410, 28103, 3, 264, 1, 3, 244, 53, 5, 241, 10559, 2696] \n",
            "\n"
          ],
          "name": "stdout"
        }
      ]
    },
    {
      "cell_type": "code",
      "metadata": {
        "id": "kT7aeeObmCbY",
        "colab": {
          "base_uri": "https://localhost:8080/",
          "height": 384
        },
        "outputId": "b76440c9-394c-4e91-bf91-d25d3ff66adc"
      },
      "source": [
        "print(\"Статистика по обучающим текстам:\")\n",
        "\n",
        "symbolsTrainText = 0       # Объявляем переменную для подсчета символов в обучающих текстах\n",
        "wordsTrainText = 0         # Объявляем переменную для подсчета слов в обучающих текстах\n",
        "\n",
        "for i in range(nClasses):  # Проходим по всем классам\n",
        "  print(className[i], \" \"*(10-len(className[i])), len(trainText[i]), \"символов, \", len(trainWordIndexes[i]), \"слов\")\n",
        "  symbolsTrainText += len(trainText[i])       # Подсчёт символов\n",
        "  wordsTrainText += len(trainWordIndexes[i])  # Подсчёт слов\n",
        "\n",
        "print('----')\n",
        "print(\"В сумме \", symbolsTrainText, \" символов, \", wordsTrainText, \" слов \\n\")\n",
        "print()\n",
        "print(\"Статистика по тестовым текстам:\")\n",
        "\n",
        "symbolsTestText = 0        # Объявляем переменную для подсчета символов в тестовых текстах\n",
        "wordsTestText = 0          # Объявляем переменную для подсчета слов в тестовых текстах\n",
        "\n",
        "for i in range(nClasses):  # Проходим по всем классам\n",
        "  print(className[i], ' '*(10-len(className[i])), len(testText[i]), \"символов, \", len(testWordIndexes[i]), \"слов\")\n",
        "  symbolsTestText += len(testText[i])       # Подсчёт символов\n",
        "  wordsTestText += len(testWordIndexes[i])  # Подсчёт слов\n",
        "print('----')\n",
        "print(\"В сумме \", symbolsTestText, \" символов, \", wordsTestText, \" слов\")"
      ],
      "execution_count": null,
      "outputs": [
        {
          "output_type": "stream",
          "text": [
            "Статистика по обучающим текстам:\n",
            "О. Генри    1049517 символов,  140665 слов\n",
            "Стругацкие  2042469 символов,  271856 слов\n",
            "Булгаков    1765648 символов,  223107 слов\n",
            "Саймак      1386454 символов,  189780 слов\n",
            "Фрай        1609507 символов,  230071 слов\n",
            "Брэдберри   3700010 символов,  510197 слов\n",
            "----\n",
            "В сумме  11553605  символов,  1565676  слов \n",
            "\n",
            "\n",
            "Статистика по тестовым текстам:\n",
            "О. Генри    349662 символов,  44145 слов\n",
            "Стругацкие  704846 символов,  89420 слов\n",
            "Булгаков    875042 символов,  108252 слов\n",
            "Саймак      868673 символов,  110505 слов\n",
            "Фрай        318811 символов,  44951 слов\n",
            "Брэдберри   1278191 символов,  168109 слов\n",
            "----\n",
            "В сумме  4395225  символов,  565382  слов\n"
          ],
          "name": "stdout"
        }
      ]
    },
    {
      "cell_type": "markdown",
      "metadata": {
        "id": "07bGyJmNmI9n"
      },
      "source": [
        "# 5 Создание обучающей и проверочной выборок"
      ]
    },
    {
      "cell_type": "markdown",
      "metadata": {
        "id": "a5Ryp7GFpkjC"
      },
      "source": [
        "**1.5.1 Функции для формирования выборки по отрезкам текста с заданным шагом**"
      ]
    },
    {
      "cell_type": "markdown",
      "metadata": {
        "id": "ZX9wA13KrHJl"
      },
      "source": [
        "Формирование обучающей выборки по листу индексов слов\n",
        "(разделение на короткие векторы)"
      ]
    },
    {
      "cell_type": "code",
      "metadata": {
        "id": "QyM9KFBjpoXs"
      },
      "source": [
        "def getSetFromIndexes(wordIndexes, xLen, step):   # функция принимает последовательность индексов, размер окна, шаг окна\n",
        "  xSample = []                    # Объявление переменной для векторов\n",
        "  wordsLen = len(wordIndexes)     # Подсчёт количества слов\n",
        "  index = 0                       # Задаем начальный индекс\n",
        "\n",
        "  while (index + xLen <= wordsLen):                   # Проходка по всей длине вектора индексов\n",
        "    xSample.append(wordIndexes[index:index + xLen])   # \"Откусываем\" векторы длины xLen\n",
        "    index += step                                     # Смещаеммся вперёд на шаг step\n",
        "\n",
        "  return xSample"
      ],
      "execution_count": null,
      "outputs": []
    },
    {
      "cell_type": "markdown",
      "metadata": {
        "id": "3HYKiOSzrSAg"
      },
      "source": [
        "Формирование обучающей и проверочной выборки из двух листов индексов от двух классов"
      ]
    },
    {
      "cell_type": "code",
      "metadata": {
        "id": "V5UTYxOnpoVE"
      },
      "source": [
        "def createSetsMultiClasses(wordIndexes, xLen, step): # Функция принимает последовательность индексов, размер окна, шаг окна\n",
        "\n",
        "  # Для каждого из 6 классов создаём обучающую/проверочную выборку из индексов:\n",
        "  nClasses = len(wordIndexes) # Задаем количество классов выборки\n",
        "  classesXSamples = []        # Здесь будет список размером [кол-во классов] * [кол-во окон в тексте] * [длина окна]. Пример: с 6 по 1341*1000.\n",
        "  for wI in wordIndexes:      # Для каждого текста выборки из последовательности индексов:\n",
        "    classesXSamples.append(getSetFromIndexes(wI, xLen, step)) # добавляем в список очередной текст индексов, разбитый на [кол-во окон] * [длина окна]\n",
        "\n",
        "  # Формируем один общий xSamples\n",
        "  xSamples = [] # Здесь будет список размером [суммарное кол-во окон во всех текстах] * [длина окна]. Например: 15779 * 1000.\n",
        "  ySamples = [] # Здесь будет список размером [суммарное кол-во окон во всех текстах] * [вектор длиной 6]\n",
        "\n",
        "  for t in range(nClasses):  # В диапазоне кол-ва классов(6):\n",
        "    xT = classesXSamples[t]      # берем очередной текст вида [кол-во окон в тексте] * [длину окна]. Например: 1341 * 1000.\n",
        "    for i in range(len(xT)):     # и каждое его окно:\n",
        "      xSamples.append(xT[i])                              # добавляем в общий список выборки;\n",
        "      ySamples.append(utils.to_categorical(t, nClasses))  # добавляем соответствующий вектор класса\n",
        "\n",
        "  xSamples = np.array(xSamples)  # Перевод в массив numpy для подачи в нейронку\n",
        "  ySamples = np.array(ySamples)  # Перевод в массив numpy для подачи в нейронку\n",
        "\n",
        "\n",
        "  return (xSamples, ySamples)    # Функция возвращает выборку и соответствующие векторы классов"
      ],
      "execution_count": null,
      "outputs": []
    },
    {
      "cell_type": "markdown",
      "metadata": {
        "id": "7RBUC93JpwYM"
      },
      "source": [
        "**1.5.2 Подготовка данных**"
      ]
    },
    {
      "cell_type": "code",
      "metadata": {
        "id": "RkBXX4Kgp2LT"
      },
      "source": [
        "# Задание базовых параметров\n",
        "xLen = 3000  # Длина отрезка текста, по которой анализируем, в словах\n",
        "step = 300   # Шаг разбиения исходного текста на обучающие векторы"
      ],
      "execution_count": null,
      "outputs": []
    },
    {
      "cell_type": "code",
      "metadata": {
        "id": "w3mKoOFip2RX",
        "colab": {
          "base_uri": "https://localhost:8080/",
          "height": 109
        },
        "outputId": "7a6b695d-b334-4f88-8364-14551b7c469f"
      },
      "source": [
        "cur_time = time.time() # Засекание текущего времени\n",
        "# Формирование обучающей и тестовой выборок\n",
        "xTrain, yTrain = createSetsMultiClasses(trainWordIndexes, xLen, step) # Извлечение обучающей выборки\n",
        "xTest, yTest = createSetsMultiClasses(testWordIndexes, xLen, step)    # Извлечение тестовой выборки\n",
        "print(xTrain.shape)\n",
        "print(yTrain.shape)\n",
        "print(xTest.shape)\n",
        "print(yTest.shape)\n",
        "\n",
        "# Получен обучающий/тестовый набор, достаточный для запуска Embedding, но для Bag of Words нужно xTrain и xTest представить в виде векторов из 0 и 1\n",
        "print('Время обработки: ', round(time.time() - cur_time, 2), 'c', sep='')"
      ],
      "execution_count": null,
      "outputs": [
        {
          "output_type": "stream",
          "text": [
            "(5161, 3000)\n",
            "(5161, 6)\n",
            "(1828, 3000)\n",
            "(1828, 6)\n",
            "Время обработки: 1.72c\n"
          ],
          "name": "stdout"
        }
      ]
    },
    {
      "cell_type": "code",
      "metadata": {
        "id": "B0-EaH8TqCW0",
        "colab": {
          "base_uri": "https://localhost:8080/",
          "height": 146
        },
        "outputId": "395206e5-8970-4070-9676-652b40ceb54c"
      },
      "source": [
        "cur_time = time.time() # Засекаем текущее время\n",
        "\n",
        "# Преобразовываем полученные выборки из последовательности индексов в матрицы нулей и единиц по принципу Bag of Words:\n",
        "xTrain01 = tokenizer.sequences_to_matrix(xTrain.tolist())  # Подаем xTrain в виде списка, чтобы метод успешно сработал\n",
        "xTest01 = tokenizer.sequences_to_matrix(xTest.tolist())    # Подаем xTest  в виде списка, чтобы метод успешно сработал\n",
        "\n",
        "print(xTrain01.shape)       # Размер обучающей выборки, сформированной по Bag of Words\n",
        "print(xTrain01[0][0:100])   # Фрагмент набора слов в виде Bag of Words\n",
        "print('Время обработки: ', round(time.time() - cur_time, 2), 'c', sep='')"
      ],
      "execution_count": null,
      "outputs": [
        {
          "output_type": "stream",
          "text": [
            "(5161, 30000)\n",
            "[0. 1. 1. 1. 1. 1. 1. 1. 1. 1. 1. 1. 1. 1. 1. 1. 1. 1. 1. 1. 1. 1. 1. 1.\n",
            " 1. 0. 1. 1. 1. 1. 1. 1. 1. 1. 1. 1. 1. 1. 1. 1. 1. 1. 1. 1. 1. 1. 1. 1.\n",
            " 1. 1. 1. 1. 1. 1. 1. 0. 1. 1. 1. 1. 1. 1. 1. 1. 1. 1. 1. 1. 1. 1. 0. 1.\n",
            " 1. 1. 0. 1. 1. 1. 1. 1. 1. 1. 0. 1. 1. 1. 1. 1. 1. 1. 1. 1. 1. 1. 0. 1.\n",
            " 1. 1. 1. 1.]\n",
            "Время обработки: 8.53c\n"
          ],
          "name": "stdout"
        }
      ]
    },
    {
      "cell_type": "markdown",
      "metadata": {
        "id": "36M2ZT0TJPNz"
      },
      "source": [
        "# 6 Функции для проверок статистики по авторам"
      ]
    },
    {
      "cell_type": "code",
      "metadata": {
        "id": "GPGEe5FzJVMc"
      },
      "source": [
        "# Представляем тестовую выборку в удобных для распознавания размерах\n",
        "def createTestMultiClasses(wordIndexes, xLen, step): #функция принимает последовательность индексов, размер окна, шаг окна\n",
        "\n",
        "  #Для каждого из 6 классов\n",
        "  #Создаём тестовую выборку из индексов\n",
        "  nClasses = len(wordIndexes) #Задаем количество классов\n",
        "  xTest6Classes01 = []               #Здесь будет список из всех классов, каждый размером \"кол-во окон в тексте * 20000 (при maxWordsCount=20000)\"\n",
        "  xTest6Classes = []                 #Здесь будет список массивов, каждый размером \"кол-во окон в тексте * длину окна\"(6 по 420*1000)\n",
        "  for wI in wordIndexes:                       #Для каждого тестового текста из последовательности индексов\n",
        "    sample = (getSetFromIndexes(wI, xLen, step)) #Тестовая выборка размером \"кол-во окон*длину окна\"(например, 420*1000)\n",
        "    xTest6Classes.append(sample)              # Добавляем в список\n",
        "    xTest6Classes01.append(tokenizer.sequences_to_matrix(sample)) #Трансформируется в Bag of Words в виде \"кол-во окон в тексте * 20000\"\n",
        "  xTest6Classes01 = np.array(xTest6Classes01)                     #И добавляется к нашему списку,\n",
        "  xTest6Classes = np.array(xTest6Classes)                     #И добавляется к нашему списку,\n",
        "\n",
        "  return xTest6Classes01, xTest6Classes  #функция вернёт тестовые данные: TestBag 6 классов на n*20000 и xTestEm 6 по n*1000\n",
        "\n",
        "# Распознаём тестовую выборку и выводим результаты\n",
        "def recognizeMultiClass(model, xTest, modelName):\n",
        "  print(\"НЕЙРОНКА: \", modelName)\n",
        "  print()\n",
        "\n",
        "  totalSumRec = 0 # Сумма всех правильных ответов\n",
        "\n",
        "  #Проходим по всем классам\n",
        "  for i in range(nClasses):\n",
        "    #Получаем результаты распознавания класса по блокам слов длины xLen\n",
        "    currPred = model.predict(xTest[i])\n",
        "    #Определяем номер распознанного класса для каждохо блока слов длины xLen\n",
        "    currOut = np.argmax(currPred, axis=1)\n",
        "\n",
        "    evVal = []\n",
        "    for j in range(nClasses):\n",
        "      evVal.append(len(currOut[currOut==j])/len(xTest[i]))\n",
        "\n",
        "    totalSumRec += len(currOut[currOut==i])\n",
        "    recognizedClass = np.argmax(evVal) #Определяем, какой класс в итоге за какой был распознан\n",
        "\n",
        "    #Выводим результаты распознавания по текущему классу\n",
        "    isRecognized = \"Это НЕПРАВИЛЬНЫЙ ответ!\"\n",
        "    if (recognizedClass == i):\n",
        "      isRecognized = \"Это ПРАВИЛЬНЫЙ ответ!\"\n",
        "    str1 = 'Класс: ' + className[i] + \" \" * (11 - len(className[i])) + str(int(100*evVal[i])) + \"% сеть отнесла к классу \" + className[recognizedClass]\n",
        "    print(str1, \" \" * (55-len(str1)), isRecognized, sep='')\n",
        "\n",
        "  #Выводим средний процент распознавания по всем классам вместе\n",
        "  print()\n",
        "  sumCount = 0\n",
        "  for i in range(nClasses):\n",
        "    sumCount += len(xTest[i])\n",
        "  print(\"Средний процент распознавания \", int(100*totalSumRec/sumCount), \"%\", sep='')\n",
        "\n",
        "  print()\n",
        "\n",
        "  return totalSumRec/sumCount\n",
        "\n",
        "xTest6Classes01, x2 = createTestMultiClasses(testWordIndexes, xLen, step) #Преобразование тестовой выборки"
      ],
      "execution_count": null,
      "outputs": []
    },
    {
      "cell_type": "markdown",
      "metadata": {
        "id": "OBWM-K-2tKVU"
      },
      "source": [
        "# 7 Создание и обучение нейронной сети"
      ]
    },
    {
      "cell_type": "markdown",
      "source": [
        "*Примечание: в фильтр не включены \"?!\" / MWC=30000, l=3000, s=300, D=0.35, BS=128, E=30*"
      ],
      "metadata": {
        "id": "oiBDMh5a_Kl6"
      }
    },
    {
      "cell_type": "code",
      "metadata": {
        "id": "y0fp6I9etKVx",
        "colab": {
          "base_uri": "https://localhost:8080/",
          "height": 1000
        },
        "outputId": "f5333c63-5b77-48b1-fd4a-f7e31e940bd7"
      },
      "source": [
        "#Создаём полносвязную сеть (FeedForward Neural Network)\n",
        "brain_P_05 = Sequential()\n",
        "brain_P_05.add(BatchNormalization())\n",
        "brain_P_05.add(Dense(30, input_dim=maxWordsCount, activation=\"relu\"))\n",
        "brain_P_05.add(Dropout(0.35))\n",
        "brain_P_05.add(BatchNormalization())\n",
        "brain_P_05.add(Dense(len(trainText), activation='sigmoid'))\n",
        "brain_P_05.compile(optimizer='adam',\n",
        "              loss='categorical_crossentropy',\n",
        "              metrics=['accuracy'])\n",
        "#Обучаем сеть на выборке, сформированной по bag of words - xTrain01\n",
        "history = brain_P_05.fit(xTrain01,\n",
        "                      yTrain,\n",
        "                      epochs=30,\n",
        "                      batch_size=128,\n",
        "                      validation_data=(xTest01, yTest))\n",
        "plt.plot(history.history['accuracy'],\n",
        "         label='Доля верных ответов на обучающем наборе')\n",
        "plt.plot(history.history['val_accuracy'],\n",
        "         label='Доля верных ответов на проверочном наборе')\n",
        "plt.xlabel('Эпоха обучения')\n",
        "plt.ylabel('Доля верных ответов')\n",
        "plt.legend()\n",
        "plt.show()"
      ],
      "execution_count": null,
      "outputs": [
        {
          "output_type": "stream",
          "text": [
            "Epoch 1/30\n",
            "41/41 [==============================] - 1s 17ms/step - loss: 1.0832 - accuracy: 0.9411 - val_loss: 1.3845 - val_accuracy: 0.8288\n",
            "Epoch 2/30\n",
            "41/41 [==============================] - 1s 14ms/step - loss: 0.8849 - accuracy: 0.9915 - val_loss: 1.3631 - val_accuracy: 0.8605\n",
            "Epoch 3/30\n",
            "41/41 [==============================] - 1s 14ms/step - loss: 0.7528 - accuracy: 0.9857 - val_loss: 1.2890 - val_accuracy: 0.8835\n",
            "Epoch 4/30\n",
            "41/41 [==============================] - 1s 14ms/step - loss: 0.6207 - accuracy: 0.9806 - val_loss: 1.1525 - val_accuracy: 0.8889\n",
            "Epoch 5/30\n",
            "41/41 [==============================] - 1s 14ms/step - loss: 0.5002 - accuracy: 0.9773 - val_loss: 0.9971 - val_accuracy: 0.8857\n",
            "Epoch 6/30\n",
            "41/41 [==============================] - 1s 13ms/step - loss: 0.3864 - accuracy: 0.9764 - val_loss: 0.8523 - val_accuracy: 0.8873\n",
            "Epoch 7/30\n",
            "41/41 [==============================] - 1s 14ms/step - loss: 0.2991 - accuracy: 0.9779 - val_loss: 0.7064 - val_accuracy: 0.8993\n",
            "Epoch 8/30\n",
            "41/41 [==============================] - 1s 13ms/step - loss: 0.2359 - accuracy: 0.9783 - val_loss: 0.5939 - val_accuracy: 0.9141\n",
            "Epoch 9/30\n",
            "41/41 [==============================] - 1s 14ms/step - loss: 0.1915 - accuracy: 0.9791 - val_loss: 0.5023 - val_accuracy: 0.9365\n",
            "Epoch 10/30\n",
            "41/41 [==============================] - 1s 15ms/step - loss: 0.1649 - accuracy: 0.9779 - val_loss: 0.4146 - val_accuracy: 0.9508\n",
            "Epoch 11/30\n",
            "41/41 [==============================] - 1s 13ms/step - loss: 0.1357 - accuracy: 0.9831 - val_loss: 0.3647 - val_accuracy: 0.9475\n",
            "Epoch 12/30\n",
            "41/41 [==============================] - 1s 14ms/step - loss: 0.1120 - accuracy: 0.9820 - val_loss: 0.3263 - val_accuracy: 0.9491\n",
            "Epoch 13/30\n",
            "41/41 [==============================] - 1s 13ms/step - loss: 0.1021 - accuracy: 0.9826 - val_loss: 0.3121 - val_accuracy: 0.9491\n",
            "Epoch 14/30\n",
            "41/41 [==============================] - 1s 14ms/step - loss: 0.0951 - accuracy: 0.9843 - val_loss: 0.2844 - val_accuracy: 0.9475\n",
            "Epoch 15/30\n",
            "41/41 [==============================] - 1s 13ms/step - loss: 0.0776 - accuracy: 0.9864 - val_loss: 0.2524 - val_accuracy: 0.9579\n",
            "Epoch 16/30\n",
            "41/41 [==============================] - 1s 14ms/step - loss: 0.0648 - accuracy: 0.9874 - val_loss: 0.2422 - val_accuracy: 0.9584\n",
            "Epoch 17/30\n",
            "41/41 [==============================] - 1s 13ms/step - loss: 0.0598 - accuracy: 0.9890 - val_loss: 0.2312 - val_accuracy: 0.9623\n",
            "Epoch 18/30\n",
            "41/41 [==============================] - 1s 13ms/step - loss: 0.0525 - accuracy: 0.9917 - val_loss: 0.2075 - val_accuracy: 0.9732\n",
            "Epoch 19/30\n",
            "41/41 [==============================] - 1s 13ms/step - loss: 0.0439 - accuracy: 0.9961 - val_loss: 0.1958 - val_accuracy: 0.9754\n",
            "Epoch 20/30\n",
            "41/41 [==============================] - 1s 13ms/step - loss: 0.0370 - accuracy: 0.9957 - val_loss: 0.1811 - val_accuracy: 0.9819\n",
            "Epoch 21/30\n",
            "41/41 [==============================] - 1s 13ms/step - loss: 0.0329 - accuracy: 0.9967 - val_loss: 0.1698 - val_accuracy: 0.9814\n",
            "Epoch 22/30\n",
            "41/41 [==============================] - 1s 14ms/step - loss: 0.0304 - accuracy: 0.9975 - val_loss: 0.1634 - val_accuracy: 0.9847\n",
            "Epoch 23/30\n",
            "41/41 [==============================] - 1s 13ms/step - loss: 0.0268 - accuracy: 0.9975 - val_loss: 0.1641 - val_accuracy: 0.9841\n",
            "Epoch 24/30\n",
            "41/41 [==============================] - 1s 13ms/step - loss: 0.0234 - accuracy: 0.9971 - val_loss: 0.1623 - val_accuracy: 0.9847\n",
            "Epoch 25/30\n",
            "41/41 [==============================] - 1s 14ms/step - loss: 0.0227 - accuracy: 0.9981 - val_loss: 0.1573 - val_accuracy: 0.9841\n",
            "Epoch 26/30\n",
            "41/41 [==============================] - 1s 13ms/step - loss: 0.0185 - accuracy: 0.9988 - val_loss: 0.1534 - val_accuracy: 0.9858\n",
            "Epoch 27/30\n",
            "41/41 [==============================] - 1s 14ms/step - loss: 0.0205 - accuracy: 0.9981 - val_loss: 0.1525 - val_accuracy: 0.9841\n",
            "Epoch 28/30\n",
            "41/41 [==============================] - 1s 14ms/step - loss: 0.0178 - accuracy: 0.9977 - val_loss: 0.1560 - val_accuracy: 0.9825\n",
            "Epoch 29/30\n",
            "41/41 [==============================] - 1s 14ms/step - loss: 0.0160 - accuracy: 0.9983 - val_loss: 0.1508 - val_accuracy: 0.9852\n",
            "Epoch 30/30\n",
            "41/41 [==============================] - 1s 13ms/step - loss: 0.0172 - accuracy: 0.9981 - val_loss: 0.1441 - val_accuracy: 0.9852\n"
          ],
          "name": "stdout"
        },
        {
          "output_type": "display_data",
          "data": {
            "image/png": "[encoded data removed]",
            "text/plain": [
              "<Figure size 432x288 with 1 Axes>"
            ]
          },
          "metadata": {
            "tags": [],
            "needs_background": "light"
          }
        }
      ]
    },
    {
      "cell_type": "markdown",
      "source": [
        "# 8 Результаты"
      ],
      "metadata": {
        "id": "vKACRa2s_T6w"
      }
    },
    {
      "cell_type": "code",
      "metadata": {
        "id": "J2QbzN4dtKWf",
        "colab": {
          "base_uri": "https://localhost:8080/",
          "height": 219
        },
        "outputId": "7e48811f-0a66-4848-82aa-0afc25002622"
      },
      "source": [
        "#Проверяем точность нейронки обученной на bag of words\n",
        "pred = recognizeMultiClass(brain_P_05, xTest6Classes01, \"статистика\")"
      ],
      "execution_count": null,
      "outputs": [
        {
          "output_type": "stream",
          "text": [
            "НЕЙРОНКА:  статистика\n",
            "\n",
            "Класс: О. Генри   100% сеть отнесла к классу О. Генри  Это ПРАВИЛЬНЫЙ ответ!\n",
            "Класс: Стругацкие 99% сеть отнесла к классу Стругацкие Это ПРАВИЛЬНЫЙ ответ!\n",
            "Класс: Булгаков   99% сеть отнесла к классу Булгаков   Это ПРАВИЛЬНЫЙ ответ!\n",
            "Класс: Саймак     100% сеть отнесла к классу Саймак    Это ПРАВИЛЬНЫЙ ответ!\n",
            "Класс: Фрай       99% сеть отнесла к классу Фрай       Это ПРАВИЛЬНЫЙ ответ!\n",
            "Класс: Брэдберри  96% сеть отнесла к классу Брэдберри  Это ПРАВИЛЬНЫЙ ответ!\n",
            "\n",
            "Средний процент распознавания 98%\n",
            "\n"
          ],
          "name": "stdout"
        }
      ]
    },
    {
      "cell_type": "markdown",
      "source": [
        "# 9 Выводы"
      ],
      "metadata": {
        "id": "xjDqhD0V_cmr"
      }
    },
    {
      "cell_type": "markdown",
      "source": [
        "Поставленная задача выполнена в полной мере:\n",
        "- подготовлена и обучена нейронная сеть (DNN), предназначенная для определения автора текста;\n",
        "- достигнута точность 98,5%;\n",
        "- результаты получены без фильтрации данных."
      ],
      "metadata": {
        "id": "68kCvd4f_e7L"
      }
    }
  ]
}