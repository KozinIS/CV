{
  "nbformat": 4,
  "nbformat_minor": 0,
  "metadata": {
    "colab": {
      "provenance": [],
      "toc_visible": true,
      "include_colab_link": true
    },
    "kernelspec": {
      "name": "python3",
      "display_name": "Python 3"
    },
    "accelerator": "GPU"
  },
  "cells": [
    {
      "cell_type": "markdown",
      "metadata": {
        "id": "view-in-github",
        "colab_type": "text"
      },
      "source": [
        "<a href=\"https://colab.research.google.com/github/KozinIS/CV/blob/main/09_%D0%9E%D0%B1%D0%BD%D0%B0%D1%80%D1%83%D0%B6%D0%B5%D0%BD%D0%B8%D0%B5_%D0%BE%D0%B1%D1%8A%D0%B5%D0%BA%D1%82%D0%BE%D0%B2_(CNN_YOLO_v3).ipynb\" target=\"_parent\"><img src=\"https://colab.research.google.com/assets/colab-badge.svg\" alt=\"Open In Colab\"/></a>"
      ]
    },
    {
      "cell_type": "markdown",
      "metadata": {
        "id": "mB1PvhQxLjrA"
      },
      "source": [
        "# **Обнаружение объектов (CNN YOLO v3)**"
      ]
    },
    {
      "cell_type": "markdown",
      "metadata": {
        "id": "YKmCXeOwLp61"
      },
      "source": [
        "# 1 Постановка задачи"
      ]
    },
    {
      "cell_type": "markdown",
      "metadata": {
        "id": "3QFPM9YNLofB"
      },
      "source": [
        "*1. Обернуть в функцию разобранные на лекции этапы распознавания изображения. На вход должно подаваться исходное изображение. На выходе должно быть исходное изображение со всеми найденными bounding_box.*"
      ]
    },
    {
      "cell_type": "markdown",
      "source": [
        "*2. Проверить гипотезы:*\n",
        "\n",
        "*2.1 Необходимо провести обучение модели (YOLOv3 или RetinaNet) на уменьшенной выборке (взять неполную базу самолетов из 1000 элементов, а 50-100 элементов). Проанализировать изменение ошибки и оценить насколько эти данные коррелируются с ошибкой на полной базе. Оценить на сколько снизилось время обучения.*\n",
        "\n",
        "*2.2 В случае успешного подтверждения теории (то есть падение ошибки на уменьшенной базе соответствует падению ошибки на полной базе): добиться минимального значения ошибки на неполной базе. Провести обучение сети на измененных данных для полной базы (200-300 эпох) и проверить результаты.*"
      ],
      "metadata": {
        "id": "HH78dBy5W_UJ"
      }
    },
    {
      "cell_type": "markdown",
      "metadata": {
        "id": "KuATLaQILuiS"
      },
      "source": [
        "# 2 Подгрузка библиотек и подключение диска"
      ]
    },
    {
      "cell_type": "code",
      "metadata": {
        "id": "QSrfODVcLmZR"
      },
      "source": [
        "from tensorflow.keras.layers import Input, Conv2D, BatchNormalization, ZeroPadding2D, Add, UpSampling2D, Concatenate, Lambda, LeakyReLU # Стандартные слои Keras\n",
        "from tensorflow.keras.regularizers import l2 # Регуляризатор l2\n",
        "from tensorflow.keras.optimizers import Adam # Оптимизатор Adam\n",
        "from tensorflow.keras.models import Model # Абстрактный класс Model\n",
        "from PIL import Image, ImageDraw, ImageFont # Модули работы с изображениями\n",
        "from matplotlib.colors import rgb_to_hsv, hsv_to_rgb # Модули конвертации между RGB и HSV\n",
        "from google.colab import files # Модуль работы с файловой системой google\n",
        "\n",
        "import tensorflow.keras.backend as K # бэкенд Keras\n",
        "import math # Импортируем модуль math\n",
        "import pandas as pd # Пандас для работы с csv\n",
        "import tensorflow as tf # TensorFlow\n",
        "import numpy as np # numpy массивы\n",
        "import matplotlib.pyplot as plt # графики\n",
        "import os # модуль работы с файловой системой\n",
        "import time # модуль работы со временем"
      ],
      "execution_count": null,
      "outputs": []
    },
    {
      "cell_type": "code",
      "metadata": {
        "colab": {
          "base_uri": "https://localhost:8080/"
        },
        "id": "WMvnKF53Mfx2",
        "outputId": "abe424a5-b84b-4f18-cd51-05209d7460a9"
      },
      "source": [
        "from google.colab import drive # подключаем гугл драйв диск для загрузки файлов\n",
        "drive.mount('/content/drive')"
      ],
      "execution_count": null,
      "outputs": [
        {
          "output_type": "stream",
          "text": [
            "Mounted at /content/drive\n"
          ],
          "name": "stdout"
        }
      ]
    },
    {
      "cell_type": "markdown",
      "metadata": {
        "id": "r0ALVbCNMaA3"
      },
      "source": [
        "# 3 Глобальные параметры"
      ]
    },
    {
      "cell_type": "code",
      "metadata": {
        "id": "5PgOXsYCLmeB"
      },
      "source": [
        "path = '/content/drive/My Drive/HW_31/Самолётики/' # Путь к директории на диске, где находятся изображения\n",
        "name_classes = ['Самолеты'] # Названия классов\n",
        "num_classes = len(name_classes) # Количество классов\n",
        "input_shape = (416, 416) # Размерность входного изображения для модели YOLO\n",
        "\n",
        "# Массив используемых анкоров (в пикселях). Используетя по 3 анкора на каждый из 3 уровней сеток\n",
        "# данные значения коррелируются с размерностью входного изображения input_shape\n",
        "anchors = np.array([[10, 13], [16, 30], [33, 23], [30, 61], [62, 45], [59, 119], [116, 90], [156, 198], [373, 326]])\n",
        "num_anchors = len(anchors) # Сохраняем количество анкоров"
      ],
      "execution_count": null,
      "outputs": []
    },
    {
      "cell_type": "markdown",
      "metadata": {
        "id": "_zu4sgdhMkgO"
      },
      "source": [
        "# 4 Создание модели"
      ]
    },
    {
      "cell_type": "markdown",
      "metadata": {
        "id": "rZVySWzXMosw"
      },
      "source": [
        "## 4.1 Функции"
      ]
    },
    {
      "cell_type": "code",
      "metadata": {
        "id": "S-tabCY0MScE"
      },
      "source": [
        "'''\n",
        "    Функция создания полной модели\n",
        "        Входные параметры:\n",
        "          input_shape - размерность входного изображения для модели YOLO\n",
        "          num_anchors - общее количество анкоров\n",
        "          use_weights - использовать ли предобученные веса\n",
        "          weights_path - путь к сохраненным весам модели\n",
        "'''\n",
        "def create_model(\n",
        "        input_shape,\n",
        "        num_anchors,\n",
        "        use_weights = False,\n",
        "        weights_path = 'yolo.h5'\n",
        "        ):\n",
        "    w, h = input_shape # Получаем ширину и высоту входного изображения\n",
        "    inputs = Input(shape = (w, h, 3)) # Создаем входной слой модели, добавляя размерность для глубины цвета\n",
        "\n",
        "    # Создаем три входных слоя y_true с размерностями ((None, 13, 13, 3, 6), (None, 26, 26, 3, 6) и (None, 52, 52, 3, 6))\n",
        "    # 2 и 3 параметры (13, 13) указывают размерность сетки, на которую условно будет разбито исходное изображение\n",
        "    # каждый уровень сетки отвечает за обнаружение объектов различных размеров (13 - крупных, 26 - средних, 52 - мелких)\n",
        "    # 4 параметр - количество анкоров на каждый уровень сетки\n",
        "    # 5 параметр - 4 параметра описывающие параметры анкора (координаты центра, ширина и высота) + вероятность обнаружения объекта + OHE номер класса\n",
        "    y_true = [Input (shape = (w // 32, h // 32, num_anchors // 3, num_classes + 5))] # Уровень сетки 13х13 (416/32)\n",
        "    y_true.append (Input (shape = (w // 16, h // 16, num_anchors // 3, num_classes + 5))) # Уровень сетки 26х26 (416/26)\n",
        "    y_true.append (Input (shape = (w // 8, h // 8, num_anchors // 3, num_classes + 5))) # Уровень сетки 52х52 (416/8)\n",
        "\n",
        "    model_yolo = create_YOLOv3(inputs, num_anchors // 3) # Создаем модель YOLOv3\n",
        "    print ('Создана модель YOLOv3. Количество классов: {}.'.format(num_classes)) # Выводим сообщение о создании модели\n",
        "\n",
        "    # Если установлен флаг загрузки весов\n",
        "    if use_weights:\n",
        "        model_yolo.load_weights(weights_path, by_name = False, skip_mismatch = False) # Загружаем предобученные веса\n",
        "        print ('Загружены веса из файла {}.'.format(weights_path)) # Выводим сообщение о загруженных весах\n",
        "\n",
        "    # Создаем выходной слой Lambda (выходом которого будет значение ошибки модели)\n",
        "    # На вход слоя подается:\n",
        "    #   - model_yolo.output (выход модели model_yolo (то есть то, что посчитала сеть))\n",
        "    #   - y_true (оригинальные данные из обучающей выборки)\n",
        "    outputs = Lambda(yolo_loss, output_shape = (1,), name = 'yolo_loss', arguments = {'num_anchors' : num_anchors}) ([*model_yolo.output, *y_true])\n",
        "\n",
        "    return Model([inputs, *y_true], outputs) # Возвращаем модель"
      ],
      "execution_count": null,
      "outputs": []
    },
    {
      "cell_type": "code",
      "metadata": {
        "id": "3NxBjmUiMSeQ"
      },
      "source": [
        "'''\n",
        "Функция создания модели YOLOv3\n",
        "    Входные параметры:\n",
        "          inputs - Входной слой модели\n",
        "          num_sub_anchors - количество анкоров в каждом уровне сеток\n",
        "'''\n",
        "def create_YOLOv3(\n",
        "        inputs,\n",
        "        num_sub_anchors\n",
        "        ):\n",
        "    #--------------------\n",
        "    # Базовая часть модели YOLOv3\n",
        "    #--------------------\n",
        "\n",
        "    # Состоит из Conv2D-слоев и Residual-блоков. Residual-блок - это блок использующий информацию из предыдущих слоев.\n",
        "    # С помощью слоя Add (Суммируется текущий слой и один из предыдущих), что позволяет избежать проблему потери информации\n",
        "    # Количество resedual блоков и архитектура сети взята из документации YOLOv3\n",
        "    x = ConvBL (inputs, 32, (3, 3)) # Добавляем каскад из трех слоев (Conv2D, BatchNormalization и Leaky)\n",
        "    x = resblock (x, 64, 1) # Добавляем 1 resedual-блок с 64 нейронами\n",
        "    x = resblock (x, 128, 2) # Добавляем 2 resedual-блока с 128 нейронами\n",
        "    x = resblock (x, 256, 8) # Добавляем 8 resedual-блоков с 256 нейронами\n",
        "    x = resblock (x, 512, 8) # Добавляем 8 resedual-блоков с 512 нейронами\n",
        "    x = resblock (x, 1024, 4) # Добавляем 4 resedual-блоков с 1024 нейронами\n",
        "    base_model = Model(inputs, x) # Создаем базовую часть модели YOLOv3\n",
        "\n",
        "    #--------------------\n",
        "    # Detection часть модели YOLOv3\n",
        "    #--------------------\n",
        "\n",
        "    # Выделяем три выхода сети, соответсвующих различным уровням сетки\n",
        "\n",
        "\n",
        "    # 13 x 13 (обнаружение больших объектов)\n",
        "    x = ConvBL(base_model.output, 512, (1, 1))\n",
        "    x = ConvBL(x, 1024, (3, 3))\n",
        "    x = ConvBL(x, 512, (1, 1))\n",
        "    x = ConvBL(x, 1024, (3, 3))\n",
        "    x = ConvBL(x, 512, (1, 1))\n",
        "\n",
        "    # Выделяем первый выход модели, соответствующий размерности 13 х 13\n",
        "    y1 = ConvBL(x, 1024, (3,3))\n",
        "    y1 = Conv2D(num_sub_anchors * (num_classes + 5), (1, 1), padding = 'same', kernel_regularizer = l2(5e-4)) (y1)\n",
        "\n",
        "\n",
        "    # 26x26 (обнаружение средних объектов)\n",
        "\n",
        "    # Размерность текущего выхода сети равна 13 х 13. Необходимо увеличить ее до 26 x 26 и\n",
        "    # объеденить со 152-ым слоем (размерностью 26 x 26)\n",
        "    x = ConvBL(x, 256, ( 1, 1))\n",
        "    x = UpSampling2D(2) (x) # Увеличиваем размерность до 26 на 26, использую UpSampling\n",
        "    x = Concatenate()([x,base_model.layers[152].output])\n",
        "\n",
        "    # Добавляем 5 блоков ConvBL\n",
        "    x = ConvBL(x, 256, (1, 1))\n",
        "    x = ConvBL(x, 512, (3, 3))\n",
        "    x = ConvBL(x, 256, (1, 1))\n",
        "    x = ConvBL(x, 512, (3, 3))\n",
        "    x = ConvBL(x, 256, (1, 1))\n",
        "\n",
        "    # Выделяем второй выход модели, соответствующий размерности 26 х 26\n",
        "    y2 = ConvBL(x, 512, (3, 3))\n",
        "    y2 = Conv2D(num_sub_anchors * (num_classes + 5), (1, 1), padding = 'same', kernel_regularizer = l2(5e-4)) (y2)\n",
        "\n",
        "    # 52 x 52 (обнаружение маленьких объектов)\n",
        "\n",
        "    # Размерность текущего выхода сети равна 26 х 26. Необходимо увеличить ее до 52 x 52 и\n",
        "    # объеденить со 92-ым слоем (размерностью 52 x 52)\n",
        "    x = ConvBL(x, 128, ( 1, 1))\n",
        "    x = UpSampling2D(2) (x)  # Увеличиваем размерность до 52 на 52, использую UpSampling\n",
        "    x = Concatenate()([x,base_model.layers[92].output])\n",
        "\n",
        "    # Добавляем 5 блоков ConvBL\n",
        "    x = ConvBL(x, 128, (1, 1))\n",
        "    x = ConvBL(x, 256, (3, 3))\n",
        "    x = ConvBL(x, 128, (1, 1))\n",
        "    x = ConvBL(x, 256, (3, 3))\n",
        "    x = ConvBL(x, 128, (1, 1))\n",
        "\n",
        "    # Выделяем третий выход модели, соответствующий размерности 52 х 52\n",
        "    y3 = ConvBL(x, 256, (3, 3))\n",
        "    y3 = Conv2D(num_sub_anchors * (num_classes + 5), (1, 1), padding = 'same', kernel_regularizer = l2(5e-4)) (y3)\n",
        "\n",
        "    return Model(inputs, [y1, y2, y3]) # Возвращаем модель"
      ],
      "execution_count": null,
      "outputs": []
    },
    {
      "cell_type": "code",
      "metadata": {
        "id": "wPfRmJEIMSgz"
      },
      "source": [
        "''' Функция создания Residual блока.\n",
        "    Входные параметры:\n",
        "          inputs - Стартовый слой, к которому добавляется Res-блок\n",
        "          num_filters - количество нейронов\n",
        "          num_blocks  - количество блоков\n",
        " '''\n",
        "def resblock(\n",
        "        inputs,\n",
        "        num_filters,\n",
        "        num_blocks\n",
        "        ):\n",
        "    x = ZeroPadding2D(((1, 0), (1, 0)))(inputs) # Увеличиваем размерность на один шаг влево и вверх\n",
        "    x = ConvBL(x, num_filters, (3, 3), strides=(2, 2)) # Добавляем блок ConvBL\n",
        "    for i in range(num_blocks): # Пробегаем в цикле num_blocks-раз (суммируя слои с помощью Add())\n",
        "        y = ConvBL(x, num_filters // 2, (1, 1))\n",
        "        y = ConvBL(y, num_filters, (3, 3))\n",
        "        x = Add() ([x, y])\n",
        "    return x # Возвращаем слой"
      ],
      "execution_count": null,
      "outputs": []
    },
    {
      "cell_type": "code",
      "metadata": {
        "id": "RoGCRWHsMSjJ"
      },
      "source": [
        "''' Функция создания блока Conv2D, BatchNormalization, LeakyRelu\n",
        "    Входные параметры:\n",
        "          inputs - Стартовый слой, к которому добавляется Res-блок\n",
        "          args - массив неименованных параметров\n",
        "          kwargs  - массив именованных параметров\n",
        " '''\n",
        "def ConvBL(\n",
        "        inputs,\n",
        "        *args,\n",
        "        **kwargs\n",
        "        ):\n",
        "    new_kwargs = {'use_bias': False} # создаем новый массив именованных параметров, добавляя параметр use_bias\n",
        "    new_kwargs['kernel_regularizer'] = l2(5e-4) # добавляем параметр kernel_regularizerpadding\n",
        "    new_kwargs['padding'] = 'valid' if kwargs.get('strides') == (2, 2) else 'same' # добавляем параметр  padding\n",
        "    new_kwargs.update(kwargs) # Добавляем уже имеющиеся в kwargs gfhfvtnhs\n",
        "    x = Conv2D(*args, **new_kwargs) (inputs) # Добавляем Conv2D слой\n",
        "    x = BatchNormalization() (x) # Добавляем слой BatchNormalization\n",
        "    x = LeakyReLU(alpha=0.1) (x) # Добавляем слой LeakyRelu\n",
        "    return x"
      ],
      "execution_count": null,
      "outputs": []
    },
    {
      "cell_type": "code",
      "metadata": {
        "id": "gK3jQ5aCMSll"
      },
      "source": [
        "'''\n",
        "Функция подсчета ошибки.\n",
        "    Входные параметры:\n",
        "        inputs - Входные данные\n",
        "        num_anchors - общее количество анкоров\n",
        "'''\n",
        "def yolo_loss(\n",
        "      inputs,\n",
        "      num_anchors\n",
        "      ):\n",
        "    ignore_thresh = .5 # Порог вероятности обнаружения объекта\n",
        "    num_layers = num_anchors // 3 # Подсчитываем количество анкоров на каждом уровне сетки\n",
        "    y_pred = inputs[:num_layers] # Из входных данных выцепляем посчитанные моделью значения\n",
        "    y_true = inputs[num_layers:] # Из входных данных выцепляем эталонные значения\n",
        "    anchor_mask = [[6, 7, 8], [3, 4, 5], [0, 1, 2]] # Задаем маску анкоров для каждого уровня сеток\n",
        "\n",
        "\n",
        "    # Получаем размерность входного изображения ( (13 х 13) * 32 = (416 х 416)) и приводим к типу элемента y_true[0]\n",
        "    input_shape = K.cast(K.shape(y_pred[0])[1:3] * 32, K.dtype(y_true[0]))\n",
        "\n",
        "    # Получаем двумерный массив, соответствующий размерностям сеток ((13, 13), (26, 26), (52, 52))\n",
        "    grid_shapes = [K.cast(K.shape(y_pred[l])[1:3], K.dtype(y_true[0])) for l in range(num_layers)]\n",
        "\n",
        "    loss = 0 # Значение ошибки\n",
        "\n",
        "    # Считываем количество элементов\n",
        "    m = K.shape(y_pred[0])[0] # Размер пакета\n",
        "    batch_size = K.cast(m, K.dtype(y_pred[0])) # Преобразуем к типу y_pred[0]\n",
        "\n",
        "    for l in range(num_layers): # Пробегаем по всем трем уровням сеток\n",
        "        # Получаем маску для сетки l-го уровня по вероятности определения объекта (5-ый параметр в списке общих параметров).\n",
        "        # В массиве object_mask будут значения, которые соответствуют только вероятности обнаружения объекта\n",
        "        object_mask = y_true[l][..., 4:5] # Вернется набор данных вида: ([0][0][0][0]...[1]...[0])\n",
        "\n",
        "        # Получаем аналогичную выборку для сетки l-го уровня с OHE (где записана позиция нашего класса)\n",
        "        # В массиве true_class будут значения, которые соответсвуют только OHE представлению класса ядля данного уровня анкоров\n",
        "        true_class = y_true[l][..., 5:] # Вернется набор данных вида: ([0][0][0][0]...[1]...[0])\n",
        "\n",
        "        num_sub_anchors = len(anchors[anchor_mask[l]]) # Получаем количество анкоров для отдельного уровян сетки (3)\n",
        "\n",
        "        # Решейпим анкоры отдельного уровня сетки и записываем в переменную anchors_tensor\n",
        "        anchors_tensor = K.reshape(K.constant(anchors[anchor_mask[l]]), [1, 1, 1, num_sub_anchors, 2])\n",
        "\n",
        "        # Создаем двумерный массив grid со значениями [[[0, 0] , [0, 1] , [0, 2] , ... , [0, k]],\n",
        "        #                                             [[1, 0] , [1, 1] , [1, 2] , ... , [1 ,k]],\n",
        "        #                                             ...\n",
        "        #                                             [[k, 0] , [k, 1] , [k, 2] , ... , [k, k]]]\n",
        "        # где k - размерность сетки. Массив хранит индексы ячеек сетки\n",
        "        grid_shape = K.shape(y_pred[l])[1:3] # Получаем ширину и высоту сетки\n",
        "        grid_y = K.tile(K.reshape(K.arange(0, stop=grid_shape[0]), [-1, 1, 1, 1]),[1, grid_shape[1], 1, 1]) # Создаем вертикальную линию\n",
        "        grid_x = K.tile(K.reshape(K.arange(0, stop=grid_shape[1]), [1, -1, 1, 1]),[grid_shape[0], 1, 1, 1]) # Создаем горизонтальную линию\n",
        "        grid = K.concatenate([grid_x, grid_y]) # Объединяем\n",
        "        grid = K.cast(grid, K.dtype(y_pred[l])) # Приводим к типу y_pred[l]\n",
        "\n",
        "        # Решейпим y_pred[l]\n",
        "        feats = K.reshape(y_pred[l], [-1, grid_shape[0], grid_shape[1], num_sub_anchors, num_classes + 5])\n",
        "\n",
        "        # Считаем ошибку в определении координат центра объекта\n",
        "        # Получаем координаты центра объекта из спредиктенного значения\n",
        "        pred_xy = (K.sigmoid(feats[..., :2]) + grid) / K.cast(grid_shape[::-1], K.dtype(feats))\n",
        "        # Производим обратные вычесления для оригинальных значений из y_true для координат центра объекта\n",
        "        true_xy = y_true[l][..., :2] * grid_shapes[l][::-1] - grid  # Реальные координаты центра bounding_box\n",
        "        box_loss_scale = 2 - y_true[l][...,2:3] * y_true[l][...,3:4] # чем больше бокс, тем меньше ошибка\n",
        "        # binary_crossentropy для истинного значения и спредиктенного (obect_mask для подсчета только требуемого значения)\n",
        "        xy_loss = object_mask * box_loss_scale * K.binary_crossentropy(true_xy, feats[...,0:2], from_logits=True)\n",
        "\n",
        "        # Считаем ошибку в определении координат ширины и высоты\n",
        "        # Получаем значения ширины и высоты изображения из спредиктенного значения\n",
        "        pred_wh = K.exp(feats[..., 2:4]) * anchors_tensor / K.cast(input_shape[::-1], K.dtype(feats))\n",
        "        # Производим обратные вычесления для оригинальных значений из y_true для ширины и высоты объекта\n",
        "        true_wh = K.log(y_true[l][..., 2:4] / anchors[anchor_mask[l]] * input_shape[::-1])\n",
        "        # Оставляем значение высоты и ширины только у тех элементов, где object_mask = 1\n",
        "        true_wh = K.switch(object_mask, true_wh, K.zeros_like(true_wh))\n",
        "        # Считаем значение ошибки в определении высоты и ширины\n",
        "        wh_loss = object_mask * box_loss_scale * 0.5 * K.square(true_wh-feats[...,2:4])\n",
        "\n",
        "        # Объединяем значения в один  массив\n",
        "        pred_box = K.concatenate([pred_xy, pred_wh])\n",
        "\n",
        "        # Считаем ошибку в определении обнаружения какого-либо класса\n",
        "        # Для этого вначале надо отсечь все найденные объекты, вероятность которых меньше установленного значения ignore_thresh\n",
        "\n",
        "        # Определяем массив, который будет хранить данные о неподходящих значениях\n",
        "        ignore_mask = tf.TensorArray(K.dtype(y_true[0]), size=1, dynamic_size=True)\n",
        "        object_mask_bool = K.cast(object_mask, 'bool') # Приводим тип object_mask к типу 'bool'\n",
        "\n",
        "        # Функция, определяющая данные, которые требуется игнорировать\n",
        "        # Пробегаем по всем элементам пакета (b<m)\n",
        "        # Получаем параметры реального bounding_box для текущей ячейки\n",
        "        # Считаем IoU реального и спредиктенного\n",
        "        # В зависимости от best_iou < ignore_thresh помечаем его как верно распознанный или неверено\n",
        "        def loop_body(\n",
        "                b,\n",
        "                ignore_mask\n",
        "                ):\n",
        "            # в true_box запишутся первыые 4 параметра (центр, высота и ширина объекта) того элемента, значение которого в object_mask_bool равно True\n",
        "            true_box = tf.boolean_mask(y_true[l][b,...,0:4], object_mask_bool[b,...,0])\n",
        "            # Подсчитываем iou для спредиктенной ограничивающей рамки (pred_box) и оригинальной (true_box)\n",
        "            iou = calc_iou(pred_box[b], true_box)\n",
        "            # Находим лучшую ограничивающую рамку\n",
        "            best_iou = K.max(iou, axis=-1)\n",
        "            # Записываем в ignore_mask true или false в зависимости от (best_iou < ignore_thresh)\n",
        "            ignore_mask = ignore_mask.write(b, K.cast(best_iou < ignore_thresh, K.dtype(true_box)))\n",
        "            return b+1, ignore_mask # Увеличиваем счетчик на еденицу и возвращаем ignore_mask\n",
        "\n",
        "        # Пробегаем в цикле по всем элементам в пределах значения m (m = batch size)\n",
        "        _, ignore_mask = tf.while_loop(lambda b,*args: b<m, loop_body, [0, ignore_mask])\n",
        "        ignore_mask = ignore_mask.stack() # Приводим ignore_mask к тензору\n",
        "        ignore_mask = K.expand_dims(ignore_mask, -1) # Добавляем еще одну размерность в конце ignore_mask\n",
        "\n",
        "        # Считаем значение ошибки\n",
        "        # 1 компонента - для значений, которые были верно спредиктены\n",
        "        # 2 компонентя - для значения, которые были неверно спредиктены\n",
        "        confidence_loss = (\n",
        "            object_mask * K.binary_crossentropy(object_mask, feats[...,4:5], from_logits=True) +\n",
        "            (1-object_mask) * K.binary_crossentropy(object_mask, feats[...,4:5], from_logits=True) * ignore_mask\n",
        "            )\n",
        "\n",
        "        # Считаем ошибку в определении класса объекта\n",
        "        class_loss = object_mask * K.binary_crossentropy(true_class, feats[...,5:], from_logits=True)\n",
        "\n",
        "        # Считаем суммарную ошибку\n",
        "        xy_loss = K.sum(xy_loss) / batch_size\n",
        "        wh_loss = K.sum(wh_loss) / batch_size\n",
        "        confidence_loss = K.sum(confidence_loss) / batch_size\n",
        "        class_loss = K.sum(class_loss) / batch_size\n",
        "        loss += xy_loss + wh_loss + confidence_loss + class_loss\n",
        "\n",
        "    return loss # Возвращаем значение ошибки"
      ],
      "execution_count": null,
      "outputs": []
    },
    {
      "cell_type": "code",
      "metadata": {
        "id": "K77TeRLXMSn6"
      },
      "source": [
        "'''\n",
        "    Функция подсчета IoU\n",
        "'''\n",
        "def calc_iou(input1, input2):\n",
        "    input1 = K.expand_dims(input1, -2) # Добавляем одну размерность\n",
        "    xy1 = input1[..., :2] # Получаем координаты x,y центра\n",
        "    wh1 = input1[..., 2:4] # Получаем значения высоты и ширины\n",
        "    wh_half1 = wh1 / 2. # Делим значения высоты и ширины пополам\n",
        "    top_left1 = xy1 - wh_half1 # Получаем значение, соответствующее верхнему левому углу\n",
        "    right_bottom1 = xy1 + wh_half1 # Получаем значение, соотвествующее правому нижнему углу\n",
        "\n",
        "    input2 = K.expand_dims(input2, 0) # Добавляем одну размерность\n",
        "    xy2 = input2[..., :2] # Получаем координаты x,y центра\n",
        "    wh2 = input2[..., 2:4] # Получаем значения высоты и ширины\n",
        "    wh_half2 = wh2 / 2. # Делим значения высоты и ширины пополам\n",
        "    top_left2 = xy2 - wh_half2 # Получаем значение, соответствующее верхнему левому углу\n",
        "    right_bottom2 = xy2 + wh_half2 # Получаем значение, соотвествующее правому нижнему углу\n",
        "\n",
        "    intersect_mins = K.maximum(top_left1, top_left2) # Берем максимальные координаты из левых верхних углов\n",
        "    intersect_maxes = K.minimum(right_bottom1, right_bottom2) # Берем Минимальные координаты координаты из правых нижних углов\n",
        "    intersect_wh = K.maximum(intersect_maxes - intersect_mins, 0.) # Считаем ширину и высоту области пересечения\n",
        "    intersect_area = intersect_wh[..., 0] * intersect_wh[..., 1] # Считаем площадь области пересечения\n",
        "\n",
        "    area1 = wh1[..., 0] * wh1[..., 1] # Считаем площадь первых элементов\n",
        "    area2 = wh2[..., 0] * wh2[..., 1] # Считаем площадь вторых элементов\n",
        "\n",
        "    return intersect_area / (area1 + area2 - intersect_area) # Возвращаем IoU\n"
      ],
      "execution_count": null,
      "outputs": []
    },
    {
      "cell_type": "markdown",
      "metadata": {
        "id": "a09q_3feMz9K"
      },
      "source": [
        "## 4.2 Основной код"
      ]
    },
    {
      "cell_type": "code",
      "metadata": {
        "colab": {
          "base_uri": "https://localhost:8080/"
        },
        "id": "ByQnSDlHMSp7",
        "outputId": "e6c59315-2e64-4c56-a245-b3b3d2ce46aa"
      },
      "source": [
        "# Создаем модель\n",
        "model_YOLO = create_model(input_shape, num_anchors, use_weights=True, weights_path='/content/drive/My Drive/HW_31/YOLOv3__el1000__opt0.0001__ep0_100.h5')"
      ],
      "execution_count": null,
      "outputs": [
        {
          "output_type": "stream",
          "text": [
            "Создана модель YOLOv3. Количество классов: 1.\n",
            "Загружены веса из файла /content/drive/My Drive/HW_31/YOLOv3__el1000__opt0.0001__ep0_100.h5.\n"
          ],
          "name": "stdout"
        }
      ]
    },
    {
      "cell_type": "code",
      "metadata": {
        "colab": {
          "base_uri": "https://localhost:8080/"
        },
        "id": "AmXno0bhMSsH",
        "outputId": "3855f7c8-5014-4099-bf85-98f53ad4ff7f"
      },
      "source": [
        "# Выводим входные размерности для модели\n",
        "model_YOLO.input"
      ],
      "execution_count": null,
      "outputs": [
        {
          "output_type": "execute_result",
          "data": {
            "text/plain": [
              "[<KerasTensor: shape=(None, 416, 416, 3) dtype=float32 (created by layer 'input_1')>,\n",
              " <KerasTensor: shape=(None, 13, 13, 3, 6) dtype=float32 (created by layer 'input_2')>,\n",
              " <KerasTensor: shape=(None, 26, 26, 3, 6) dtype=float32 (created by layer 'input_3')>,\n",
              " <KerasTensor: shape=(None, 52, 52, 3, 6) dtype=float32 (created by layer 'input_4')>]"
            ]
          },
          "metadata": {
            "tags": []
          },
          "execution_count": 18
        }
      ]
    },
    {
      "cell_type": "code",
      "metadata": {
        "colab": {
          "base_uri": "https://localhost:8080/"
        },
        "id": "72-MG0qGMSxp",
        "outputId": "6bf21a1c-2eaf-4c98-c752-c8aa2f19265c"
      },
      "source": [
        "# Выводим выходныую размерность модели\n",
        "model_YOLO.output"
      ],
      "execution_count": null,
      "outputs": [
        {
          "output_type": "execute_result",
          "data": {
            "text/plain": [
              "<KerasTensor: shape=() dtype=float32 (created by layer 'yolo_loss')>"
            ]
          },
          "metadata": {
            "tags": []
          },
          "execution_count": 19
        }
      ]
    },
    {
      "cell_type": "code",
      "metadata": {
        "colab": {
          "base_uri": "https://localhost:8080/"
        },
        "id": "2Y6hA-xhMSzt",
        "outputId": "d4924410-67e4-4bc8-a196-304d8c5dabd1"
      },
      "source": [
        "# Выводим информацию о модели\n",
        "model_YOLO.summary()"
      ],
      "execution_count": null,
      "outputs": [
        {
          "output_type": "stream",
          "text": [
            "Model: \"model_2\"\n",
            "__________________________________________________________________________________________________\n",
            "Layer (type)                    Output Shape         Param #     Connected to                     \n",
            "==================================================================================================\n",
            "input_1 (InputLayer)            [(None, 416, 416, 3) 0                                            \n",
            "__________________________________________________________________________________________________\n",
            "conv2d (Conv2D)                 (None, 416, 416, 32) 864         input_1[0][0]                    \n",
            "__________________________________________________________________________________________________\n",
            "batch_normalization (BatchNorma (None, 416, 416, 32) 128         conv2d[0][0]                     \n",
            "__________________________________________________________________________________________________\n",
            "leaky_re_lu (LeakyReLU)         (None, 416, 416, 32) 0           batch_normalization[0][0]        \n",
            "__________________________________________________________________________________________________\n",
            "zero_padding2d (ZeroPadding2D)  (None, 417, 417, 32) 0           leaky_re_lu[0][0]                \n",
            "__________________________________________________________________________________________________\n",
            "conv2d_1 (Conv2D)               (None, 208, 208, 64) 18432       zero_padding2d[0][0]             \n",
            "__________________________________________________________________________________________________\n",
            "batch_normalization_1 (BatchNor (None, 208, 208, 64) 256         conv2d_1[0][0]                   \n",
            "__________________________________________________________________________________________________\n",
            "leaky_re_lu_1 (LeakyReLU)       (None, 208, 208, 64) 0           batch_normalization_1[0][0]      \n",
            "__________________________________________________________________________________________________\n",
            "conv2d_2 (Conv2D)               (None, 208, 208, 32) 2048        leaky_re_lu_1[0][0]              \n",
            "__________________________________________________________________________________________________\n",
            "batch_normalization_2 (BatchNor (None, 208, 208, 32) 128         conv2d_2[0][0]                   \n",
            "__________________________________________________________________________________________________\n",
            "leaky_re_lu_2 (LeakyReLU)       (None, 208, 208, 32) 0           batch_normalization_2[0][0]      \n",
            "__________________________________________________________________________________________________\n",
            "conv2d_3 (Conv2D)               (None, 208, 208, 64) 18432       leaky_re_lu_2[0][0]              \n",
            "__________________________________________________________________________________________________\n",
            "batch_normalization_3 (BatchNor (None, 208, 208, 64) 256         conv2d_3[0][0]                   \n",
            "__________________________________________________________________________________________________\n",
            "leaky_re_lu_3 (LeakyReLU)       (None, 208, 208, 64) 0           batch_normalization_3[0][0]      \n",
            "__________________________________________________________________________________________________\n",
            "add (Add)                       (None, 208, 208, 64) 0           leaky_re_lu_1[0][0]              \n",
            "                                                                 leaky_re_lu_3[0][0]              \n",
            "__________________________________________________________________________________________________\n",
            "zero_padding2d_1 (ZeroPadding2D (None, 209, 209, 64) 0           add[0][0]                        \n",
            "__________________________________________________________________________________________________\n",
            "conv2d_4 (Conv2D)               (None, 104, 104, 128 73728       zero_padding2d_1[0][0]           \n",
            "__________________________________________________________________________________________________\n",
            "batch_normalization_4 (BatchNor (None, 104, 104, 128 512         conv2d_4[0][0]                   \n",
            "__________________________________________________________________________________________________\n",
            "leaky_re_lu_4 (LeakyReLU)       (None, 104, 104, 128 0           batch_normalization_4[0][0]      \n",
            "__________________________________________________________________________________________________\n",
            "conv2d_5 (Conv2D)               (None, 104, 104, 64) 8192        leaky_re_lu_4[0][0]              \n",
            "__________________________________________________________________________________________________\n",
            "batch_normalization_5 (BatchNor (None, 104, 104, 64) 256         conv2d_5[0][0]                   \n",
            "__________________________________________________________________________________________________\n",
            "leaky_re_lu_5 (LeakyReLU)       (None, 104, 104, 64) 0           batch_normalization_5[0][0]      \n",
            "__________________________________________________________________________________________________\n",
            "conv2d_6 (Conv2D)               (None, 104, 104, 128 73728       leaky_re_lu_5[0][0]              \n",
            "__________________________________________________________________________________________________\n",
            "batch_normalization_6 (BatchNor (None, 104, 104, 128 512         conv2d_6[0][0]                   \n",
            "__________________________________________________________________________________________________\n",
            "leaky_re_lu_6 (LeakyReLU)       (None, 104, 104, 128 0           batch_normalization_6[0][0]      \n",
            "__________________________________________________________________________________________________\n",
            "add_1 (Add)                     (None, 104, 104, 128 0           leaky_re_lu_4[0][0]              \n",
            "                                                                 leaky_re_lu_6[0][0]              \n",
            "__________________________________________________________________________________________________\n",
            "conv2d_7 (Conv2D)               (None, 104, 104, 64) 8192        add_1[0][0]                      \n",
            "__________________________________________________________________________________________________\n",
            "batch_normalization_7 (BatchNor (None, 104, 104, 64) 256         conv2d_7[0][0]                   \n",
            "__________________________________________________________________________________________________\n",
            "leaky_re_lu_7 (LeakyReLU)       (None, 104, 104, 64) 0           batch_normalization_7[0][0]      \n",
            "__________________________________________________________________________________________________\n",
            "conv2d_8 (Conv2D)               (None, 104, 104, 128 73728       leaky_re_lu_7[0][0]              \n",
            "__________________________________________________________________________________________________\n",
            "batch_normalization_8 (BatchNor (None, 104, 104, 128 512         conv2d_8[0][0]                   \n",
            "__________________________________________________________________________________________________\n",
            "leaky_re_lu_8 (LeakyReLU)       (None, 104, 104, 128 0           batch_normalization_8[0][0]      \n",
            "__________________________________________________________________________________________________\n",
            "add_2 (Add)                     (None, 104, 104, 128 0           add_1[0][0]                      \n",
            "                                                                 leaky_re_lu_8[0][0]              \n",
            "__________________________________________________________________________________________________\n",
            "zero_padding2d_2 (ZeroPadding2D (None, 105, 105, 128 0           add_2[0][0]                      \n",
            "__________________________________________________________________________________________________\n",
            "conv2d_9 (Conv2D)               (None, 52, 52, 256)  294912      zero_padding2d_2[0][0]           \n",
            "__________________________________________________________________________________________________\n",
            "batch_normalization_9 (BatchNor (None, 52, 52, 256)  1024        conv2d_9[0][0]                   \n",
            "__________________________________________________________________________________________________\n",
            "leaky_re_lu_9 (LeakyReLU)       (None, 52, 52, 256)  0           batch_normalization_9[0][0]      \n",
            "__________________________________________________________________________________________________\n",
            "conv2d_10 (Conv2D)              (None, 52, 52, 128)  32768       leaky_re_lu_9[0][0]              \n",
            "__________________________________________________________________________________________________\n",
            "batch_normalization_10 (BatchNo (None, 52, 52, 128)  512         conv2d_10[0][0]                  \n",
            "__________________________________________________________________________________________________\n",
            "leaky_re_lu_10 (LeakyReLU)      (None, 52, 52, 128)  0           batch_normalization_10[0][0]     \n",
            "__________________________________________________________________________________________________\n",
            "conv2d_11 (Conv2D)              (None, 52, 52, 256)  294912      leaky_re_lu_10[0][0]             \n",
            "__________________________________________________________________________________________________\n",
            "batch_normalization_11 (BatchNo (None, 52, 52, 256)  1024        conv2d_11[0][0]                  \n",
            "__________________________________________________________________________________________________\n",
            "leaky_re_lu_11 (LeakyReLU)      (None, 52, 52, 256)  0           batch_normalization_11[0][0]     \n",
            "__________________________________________________________________________________________________\n",
            "add_3 (Add)                     (None, 52, 52, 256)  0           leaky_re_lu_9[0][0]              \n",
            "                                                                 leaky_re_lu_11[0][0]             \n",
            "__________________________________________________________________________________________________\n",
            "conv2d_12 (Conv2D)              (None, 52, 52, 128)  32768       add_3[0][0]                      \n",
            "__________________________________________________________________________________________________\n",
            "batch_normalization_12 (BatchNo (None, 52, 52, 128)  512         conv2d_12[0][0]                  \n",
            "__________________________________________________________________________________________________\n",
            "leaky_re_lu_12 (LeakyReLU)      (None, 52, 52, 128)  0           batch_normalization_12[0][0]     \n",
            "__________________________________________________________________________________________________\n",
            "conv2d_13 (Conv2D)              (None, 52, 52, 256)  294912      leaky_re_lu_12[0][0]             \n",
            "__________________________________________________________________________________________________\n",
            "batch_normalization_13 (BatchNo (None, 52, 52, 256)  1024        conv2d_13[0][0]                  \n",
            "__________________________________________________________________________________________________\n",
            "leaky_re_lu_13 (LeakyReLU)      (None, 52, 52, 256)  0           batch_normalization_13[0][0]     \n",
            "__________________________________________________________________________________________________\n",
            "add_4 (Add)                     (None, 52, 52, 256)  0           add_3[0][0]                      \n",
            "                                                                 leaky_re_lu_13[0][0]             \n",
            "__________________________________________________________________________________________________\n",
            "conv2d_14 (Conv2D)              (None, 52, 52, 128)  32768       add_4[0][0]                      \n",
            "__________________________________________________________________________________________________\n",
            "batch_normalization_14 (BatchNo (None, 52, 52, 128)  512         conv2d_14[0][0]                  \n",
            "__________________________________________________________________________________________________\n",
            "leaky_re_lu_14 (LeakyReLU)      (None, 52, 52, 128)  0           batch_normalization_14[0][0]     \n",
            "__________________________________________________________________________________________________\n",
            "conv2d_15 (Conv2D)              (None, 52, 52, 256)  294912      leaky_re_lu_14[0][0]             \n",
            "__________________________________________________________________________________________________\n",
            "batch_normalization_15 (BatchNo (None, 52, 52, 256)  1024        conv2d_15[0][0]                  \n",
            "__________________________________________________________________________________________________\n",
            "leaky_re_lu_15 (LeakyReLU)      (None, 52, 52, 256)  0           batch_normalization_15[0][0]     \n",
            "__________________________________________________________________________________________________\n",
            "add_5 (Add)                     (None, 52, 52, 256)  0           add_4[0][0]                      \n",
            "                                                                 leaky_re_lu_15[0][0]             \n",
            "__________________________________________________________________________________________________\n",
            "conv2d_16 (Conv2D)              (None, 52, 52, 128)  32768       add_5[0][0]                      \n",
            "__________________________________________________________________________________________________\n",
            "batch_normalization_16 (BatchNo (None, 52, 52, 128)  512         conv2d_16[0][0]                  \n",
            "__________________________________________________________________________________________________\n",
            "leaky_re_lu_16 (LeakyReLU)      (None, 52, 52, 128)  0           batch_normalization_16[0][0]     \n",
            "__________________________________________________________________________________________________\n",
            "conv2d_17 (Conv2D)              (None, 52, 52, 256)  294912      leaky_re_lu_16[0][0]             \n",
            "__________________________________________________________________________________________________\n",
            "batch_normalization_17 (BatchNo (None, 52, 52, 256)  1024        conv2d_17[0][0]                  \n",
            "__________________________________________________________________________________________________\n",
            "leaky_re_lu_17 (LeakyReLU)      (None, 52, 52, 256)  0           batch_normalization_17[0][0]     \n",
            "__________________________________________________________________________________________________\n",
            "add_6 (Add)                     (None, 52, 52, 256)  0           add_5[0][0]                      \n",
            "                                                                 leaky_re_lu_17[0][0]             \n",
            "__________________________________________________________________________________________________\n",
            "conv2d_18 (Conv2D)              (None, 52, 52, 128)  32768       add_6[0][0]                      \n",
            "__________________________________________________________________________________________________\n",
            "batch_normalization_18 (BatchNo (None, 52, 52, 128)  512         conv2d_18[0][0]                  \n",
            "__________________________________________________________________________________________________\n",
            "leaky_re_lu_18 (LeakyReLU)      (None, 52, 52, 128)  0           batch_normalization_18[0][0]     \n",
            "__________________________________________________________________________________________________\n",
            "conv2d_19 (Conv2D)              (None, 52, 52, 256)  294912      leaky_re_lu_18[0][0]             \n",
            "__________________________________________________________________________________________________\n",
            "batch_normalization_19 (BatchNo (None, 52, 52, 256)  1024        conv2d_19[0][0]                  \n",
            "__________________________________________________________________________________________________\n",
            "leaky_re_lu_19 (LeakyReLU)      (None, 52, 52, 256)  0           batch_normalization_19[0][0]     \n",
            "__________________________________________________________________________________________________\n",
            "add_7 (Add)                     (None, 52, 52, 256)  0           add_6[0][0]                      \n",
            "                                                                 leaky_re_lu_19[0][0]             \n",
            "__________________________________________________________________________________________________\n",
            "conv2d_20 (Conv2D)              (None, 52, 52, 128)  32768       add_7[0][0]                      \n",
            "__________________________________________________________________________________________________\n",
            "batch_normalization_20 (BatchNo (None, 52, 52, 128)  512         conv2d_20[0][0]                  \n",
            "__________________________________________________________________________________________________\n",
            "leaky_re_lu_20 (LeakyReLU)      (None, 52, 52, 128)  0           batch_normalization_20[0][0]     \n",
            "__________________________________________________________________________________________________\n",
            "conv2d_21 (Conv2D)              (None, 52, 52, 256)  294912      leaky_re_lu_20[0][0]             \n",
            "__________________________________________________________________________________________________\n",
            "batch_normalization_21 (BatchNo (None, 52, 52, 256)  1024        conv2d_21[0][0]                  \n",
            "__________________________________________________________________________________________________\n",
            "leaky_re_lu_21 (LeakyReLU)      (None, 52, 52, 256)  0           batch_normalization_21[0][0]     \n",
            "__________________________________________________________________________________________________\n",
            "add_8 (Add)                     (None, 52, 52, 256)  0           add_7[0][0]                      \n",
            "                                                                 leaky_re_lu_21[0][0]             \n",
            "__________________________________________________________________________________________________\n",
            "conv2d_22 (Conv2D)              (None, 52, 52, 128)  32768       add_8[0][0]                      \n",
            "__________________________________________________________________________________________________\n",
            "batch_normalization_22 (BatchNo (None, 52, 52, 128)  512         conv2d_22[0][0]                  \n",
            "__________________________________________________________________________________________________\n",
            "leaky_re_lu_22 (LeakyReLU)      (None, 52, 52, 128)  0           batch_normalization_22[0][0]     \n",
            "__________________________________________________________________________________________________\n",
            "conv2d_23 (Conv2D)              (None, 52, 52, 256)  294912      leaky_re_lu_22[0][0]             \n",
            "__________________________________________________________________________________________________\n",
            "batch_normalization_23 (BatchNo (None, 52, 52, 256)  1024        conv2d_23[0][0]                  \n",
            "__________________________________________________________________________________________________\n",
            "leaky_re_lu_23 (LeakyReLU)      (None, 52, 52, 256)  0           batch_normalization_23[0][0]     \n",
            "__________________________________________________________________________________________________\n",
            "add_9 (Add)                     (None, 52, 52, 256)  0           add_8[0][0]                      \n",
            "                                                                 leaky_re_lu_23[0][0]             \n",
            "__________________________________________________________________________________________________\n",
            "conv2d_24 (Conv2D)              (None, 52, 52, 128)  32768       add_9[0][0]                      \n",
            "__________________________________________________________________________________________________\n",
            "batch_normalization_24 (BatchNo (None, 52, 52, 128)  512         conv2d_24[0][0]                  \n",
            "__________________________________________________________________________________________________\n",
            "leaky_re_lu_24 (LeakyReLU)      (None, 52, 52, 128)  0           batch_normalization_24[0][0]     \n",
            "__________________________________________________________________________________________________\n",
            "conv2d_25 (Conv2D)              (None, 52, 52, 256)  294912      leaky_re_lu_24[0][0]             \n",
            "__________________________________________________________________________________________________\n",
            "batch_normalization_25 (BatchNo (None, 52, 52, 256)  1024        conv2d_25[0][0]                  \n",
            "__________________________________________________________________________________________________\n",
            "leaky_re_lu_25 (LeakyReLU)      (None, 52, 52, 256)  0           batch_normalization_25[0][0]     \n",
            "__________________________________________________________________________________________________\n",
            "add_10 (Add)                    (None, 52, 52, 256)  0           add_9[0][0]                      \n",
            "                                                                 leaky_re_lu_25[0][0]             \n",
            "__________________________________________________________________________________________________\n",
            "zero_padding2d_3 (ZeroPadding2D (None, 53, 53, 256)  0           add_10[0][0]                     \n",
            "__________________________________________________________________________________________________\n",
            "conv2d_26 (Conv2D)              (None, 26, 26, 512)  1179648     zero_padding2d_3[0][0]           \n",
            "__________________________________________________________________________________________________\n",
            "batch_normalization_26 (BatchNo (None, 26, 26, 512)  2048        conv2d_26[0][0]                  \n",
            "__________________________________________________________________________________________________\n",
            "leaky_re_lu_26 (LeakyReLU)      (None, 26, 26, 512)  0           batch_normalization_26[0][0]     \n",
            "__________________________________________________________________________________________________\n",
            "conv2d_27 (Conv2D)              (None, 26, 26, 256)  131072      leaky_re_lu_26[0][0]             \n",
            "__________________________________________________________________________________________________\n",
            "batch_normalization_27 (BatchNo (None, 26, 26, 256)  1024        conv2d_27[0][0]                  \n",
            "__________________________________________________________________________________________________\n",
            "leaky_re_lu_27 (LeakyReLU)      (None, 26, 26, 256)  0           batch_normalization_27[0][0]     \n",
            "__________________________________________________________________________________________________\n",
            "conv2d_28 (Conv2D)              (None, 26, 26, 512)  1179648     leaky_re_lu_27[0][0]             \n",
            "__________________________________________________________________________________________________\n",
            "batch_normalization_28 (BatchNo (None, 26, 26, 512)  2048        conv2d_28[0][0]                  \n",
            "__________________________________________________________________________________________________\n",
            "leaky_re_lu_28 (LeakyReLU)      (None, 26, 26, 512)  0           batch_normalization_28[0][0]     \n",
            "__________________________________________________________________________________________________\n",
            "add_11 (Add)                    (None, 26, 26, 512)  0           leaky_re_lu_26[0][0]             \n",
            "                                                                 leaky_re_lu_28[0][0]             \n",
            "__________________________________________________________________________________________________\n",
            "conv2d_29 (Conv2D)              (None, 26, 26, 256)  131072      add_11[0][0]                     \n",
            "__________________________________________________________________________________________________\n",
            "batch_normalization_29 (BatchNo (None, 26, 26, 256)  1024        conv2d_29[0][0]                  \n",
            "__________________________________________________________________________________________________\n",
            "leaky_re_lu_29 (LeakyReLU)      (None, 26, 26, 256)  0           batch_normalization_29[0][0]     \n",
            "__________________________________________________________________________________________________\n",
            "conv2d_30 (Conv2D)              (None, 26, 26, 512)  1179648     leaky_re_lu_29[0][0]             \n",
            "__________________________________________________________________________________________________\n",
            "batch_normalization_30 (BatchNo (None, 26, 26, 512)  2048        conv2d_30[0][0]                  \n",
            "__________________________________________________________________________________________________\n",
            "leaky_re_lu_30 (LeakyReLU)      (None, 26, 26, 512)  0           batch_normalization_30[0][0]     \n",
            "__________________________________________________________________________________________________\n",
            "add_12 (Add)                    (None, 26, 26, 512)  0           add_11[0][0]                     \n",
            "                                                                 leaky_re_lu_30[0][0]             \n",
            "__________________________________________________________________________________________________\n",
            "conv2d_31 (Conv2D)              (None, 26, 26, 256)  131072      add_12[0][0]                     \n",
            "__________________________________________________________________________________________________\n",
            "batch_normalization_31 (BatchNo (None, 26, 26, 256)  1024        conv2d_31[0][0]                  \n",
            "__________________________________________________________________________________________________\n",
            "leaky_re_lu_31 (LeakyReLU)      (None, 26, 26, 256)  0           batch_normalization_31[0][0]     \n",
            "__________________________________________________________________________________________________\n",
            "conv2d_32 (Conv2D)              (None, 26, 26, 512)  1179648     leaky_re_lu_31[0][0]             \n",
            "__________________________________________________________________________________________________\n",
            "batch_normalization_32 (BatchNo (None, 26, 26, 512)  2048        conv2d_32[0][0]                  \n",
            "__________________________________________________________________________________________________\n",
            "leaky_re_lu_32 (LeakyReLU)      (None, 26, 26, 512)  0           batch_normalization_32[0][0]     \n",
            "__________________________________________________________________________________________________\n",
            "add_13 (Add)                    (None, 26, 26, 512)  0           add_12[0][0]                     \n",
            "                                                                 leaky_re_lu_32[0][0]             \n",
            "__________________________________________________________________________________________________\n",
            "conv2d_33 (Conv2D)              (None, 26, 26, 256)  131072      add_13[0][0]                     \n",
            "__________________________________________________________________________________________________\n",
            "batch_normalization_33 (BatchNo (None, 26, 26, 256)  1024        conv2d_33[0][0]                  \n",
            "__________________________________________________________________________________________________\n",
            "leaky_re_lu_33 (LeakyReLU)      (None, 26, 26, 256)  0           batch_normalization_33[0][0]     \n",
            "__________________________________________________________________________________________________\n",
            "conv2d_34 (Conv2D)              (None, 26, 26, 512)  1179648     leaky_re_lu_33[0][0]             \n",
            "__________________________________________________________________________________________________\n",
            "batch_normalization_34 (BatchNo (None, 26, 26, 512)  2048        conv2d_34[0][0]                  \n",
            "__________________________________________________________________________________________________\n",
            "leaky_re_lu_34 (LeakyReLU)      (None, 26, 26, 512)  0           batch_normalization_34[0][0]     \n",
            "__________________________________________________________________________________________________\n",
            "add_14 (Add)                    (None, 26, 26, 512)  0           add_13[0][0]                     \n",
            "                                                                 leaky_re_lu_34[0][0]             \n",
            "__________________________________________________________________________________________________\n",
            "conv2d_35 (Conv2D)              (None, 26, 26, 256)  131072      add_14[0][0]                     \n",
            "__________________________________________________________________________________________________\n",
            "batch_normalization_35 (BatchNo (None, 26, 26, 256)  1024        conv2d_35[0][0]                  \n",
            "__________________________________________________________________________________________________\n",
            "leaky_re_lu_35 (LeakyReLU)      (None, 26, 26, 256)  0           batch_normalization_35[0][0]     \n",
            "__________________________________________________________________________________________________\n",
            "conv2d_36 (Conv2D)              (None, 26, 26, 512)  1179648     leaky_re_lu_35[0][0]             \n",
            "__________________________________________________________________________________________________\n",
            "batch_normalization_36 (BatchNo (None, 26, 26, 512)  2048        conv2d_36[0][0]                  \n",
            "__________________________________________________________________________________________________\n",
            "leaky_re_lu_36 (LeakyReLU)      (None, 26, 26, 512)  0           batch_normalization_36[0][0]     \n",
            "__________________________________________________________________________________________________\n",
            "add_15 (Add)                    (None, 26, 26, 512)  0           add_14[0][0]                     \n",
            "                                                                 leaky_re_lu_36[0][0]             \n",
            "__________________________________________________________________________________________________\n",
            "conv2d_37 (Conv2D)              (None, 26, 26, 256)  131072      add_15[0][0]                     \n",
            "__________________________________________________________________________________________________\n",
            "batch_normalization_37 (BatchNo (None, 26, 26, 256)  1024        conv2d_37[0][0]                  \n",
            "__________________________________________________________________________________________________\n",
            "leaky_re_lu_37 (LeakyReLU)      (None, 26, 26, 256)  0           batch_normalization_37[0][0]     \n",
            "__________________________________________________________________________________________________\n",
            "conv2d_38 (Conv2D)              (None, 26, 26, 512)  1179648     leaky_re_lu_37[0][0]             \n",
            "__________________________________________________________________________________________________\n",
            "batch_normalization_38 (BatchNo (None, 26, 26, 512)  2048        conv2d_38[0][0]                  \n",
            "__________________________________________________________________________________________________\n",
            "leaky_re_lu_38 (LeakyReLU)      (None, 26, 26, 512)  0           batch_normalization_38[0][0]     \n",
            "__________________________________________________________________________________________________\n",
            "add_16 (Add)                    (None, 26, 26, 512)  0           add_15[0][0]                     \n",
            "                                                                 leaky_re_lu_38[0][0]             \n",
            "__________________________________________________________________________________________________\n",
            "conv2d_39 (Conv2D)              (None, 26, 26, 256)  131072      add_16[0][0]                     \n",
            "__________________________________________________________________________________________________\n",
            "batch_normalization_39 (BatchNo (None, 26, 26, 256)  1024        conv2d_39[0][0]                  \n",
            "__________________________________________________________________________________________________\n",
            "leaky_re_lu_39 (LeakyReLU)      (None, 26, 26, 256)  0           batch_normalization_39[0][0]     \n",
            "__________________________________________________________________________________________________\n",
            "conv2d_40 (Conv2D)              (None, 26, 26, 512)  1179648     leaky_re_lu_39[0][0]             \n",
            "__________________________________________________________________________________________________\n",
            "batch_normalization_40 (BatchNo (None, 26, 26, 512)  2048        conv2d_40[0][0]                  \n",
            "__________________________________________________________________________________________________\n",
            "leaky_re_lu_40 (LeakyReLU)      (None, 26, 26, 512)  0           batch_normalization_40[0][0]     \n",
            "__________________________________________________________________________________________________\n",
            "add_17 (Add)                    (None, 26, 26, 512)  0           add_16[0][0]                     \n",
            "                                                                 leaky_re_lu_40[0][0]             \n",
            "__________________________________________________________________________________________________\n",
            "conv2d_41 (Conv2D)              (None, 26, 26, 256)  131072      add_17[0][0]                     \n",
            "__________________________________________________________________________________________________\n",
            "batch_normalization_41 (BatchNo (None, 26, 26, 256)  1024        conv2d_41[0][0]                  \n",
            "__________________________________________________________________________________________________\n",
            "leaky_re_lu_41 (LeakyReLU)      (None, 26, 26, 256)  0           batch_normalization_41[0][0]     \n",
            "__________________________________________________________________________________________________\n",
            "conv2d_42 (Conv2D)              (None, 26, 26, 512)  1179648     leaky_re_lu_41[0][0]             \n",
            "__________________________________________________________________________________________________\n",
            "batch_normalization_42 (BatchNo (None, 26, 26, 512)  2048        conv2d_42[0][0]                  \n",
            "__________________________________________________________________________________________________\n",
            "leaky_re_lu_42 (LeakyReLU)      (None, 26, 26, 512)  0           batch_normalization_42[0][0]     \n",
            "__________________________________________________________________________________________________\n",
            "add_18 (Add)                    (None, 26, 26, 512)  0           add_17[0][0]                     \n",
            "                                                                 leaky_re_lu_42[0][0]             \n",
            "__________________________________________________________________________________________________\n",
            "zero_padding2d_4 (ZeroPadding2D (None, 27, 27, 512)  0           add_18[0][0]                     \n",
            "__________________________________________________________________________________________________\n",
            "conv2d_43 (Conv2D)              (None, 13, 13, 1024) 4718592     zero_padding2d_4[0][0]           \n",
            "__________________________________________________________________________________________________\n",
            "batch_normalization_43 (BatchNo (None, 13, 13, 1024) 4096        conv2d_43[0][0]                  \n",
            "__________________________________________________________________________________________________\n",
            "leaky_re_lu_43 (LeakyReLU)      (None, 13, 13, 1024) 0           batch_normalization_43[0][0]     \n",
            "__________________________________________________________________________________________________\n",
            "conv2d_44 (Conv2D)              (None, 13, 13, 512)  524288      leaky_re_lu_43[0][0]             \n",
            "__________________________________________________________________________________________________\n",
            "batch_normalization_44 (BatchNo (None, 13, 13, 512)  2048        conv2d_44[0][0]                  \n",
            "__________________________________________________________________________________________________\n",
            "leaky_re_lu_44 (LeakyReLU)      (None, 13, 13, 512)  0           batch_normalization_44[0][0]     \n",
            "__________________________________________________________________________________________________\n",
            "conv2d_45 (Conv2D)              (None, 13, 13, 1024) 4718592     leaky_re_lu_44[0][0]             \n",
            "__________________________________________________________________________________________________\n",
            "batch_normalization_45 (BatchNo (None, 13, 13, 1024) 4096        conv2d_45[0][0]                  \n",
            "__________________________________________________________________________________________________\n",
            "leaky_re_lu_45 (LeakyReLU)      (None, 13, 13, 1024) 0           batch_normalization_45[0][0]     \n",
            "__________________________________________________________________________________________________\n",
            "add_19 (Add)                    (None, 13, 13, 1024) 0           leaky_re_lu_43[0][0]             \n",
            "                                                                 leaky_re_lu_45[0][0]             \n",
            "__________________________________________________________________________________________________\n",
            "conv2d_46 (Conv2D)              (None, 13, 13, 512)  524288      add_19[0][0]                     \n",
            "__________________________________________________________________________________________________\n",
            "batch_normalization_46 (BatchNo (None, 13, 13, 512)  2048        conv2d_46[0][0]                  \n",
            "__________________________________________________________________________________________________\n",
            "leaky_re_lu_46 (LeakyReLU)      (None, 13, 13, 512)  0           batch_normalization_46[0][0]     \n",
            "__________________________________________________________________________________________________\n",
            "conv2d_47 (Conv2D)              (None, 13, 13, 1024) 4718592     leaky_re_lu_46[0][0]             \n",
            "__________________________________________________________________________________________________\n",
            "batch_normalization_47 (BatchNo (None, 13, 13, 1024) 4096        conv2d_47[0][0]                  \n",
            "__________________________________________________________________________________________________\n",
            "leaky_re_lu_47 (LeakyReLU)      (None, 13, 13, 1024) 0           batch_normalization_47[0][0]     \n",
            "__________________________________________________________________________________________________\n",
            "add_20 (Add)                    (None, 13, 13, 1024) 0           add_19[0][0]                     \n",
            "                                                                 leaky_re_lu_47[0][0]             \n",
            "__________________________________________________________________________________________________\n",
            "conv2d_48 (Conv2D)              (None, 13, 13, 512)  524288      add_20[0][0]                     \n",
            "__________________________________________________________________________________________________\n",
            "batch_normalization_48 (BatchNo (None, 13, 13, 512)  2048        conv2d_48[0][0]                  \n",
            "__________________________________________________________________________________________________\n",
            "leaky_re_lu_48 (LeakyReLU)      (None, 13, 13, 512)  0           batch_normalization_48[0][0]     \n",
            "__________________________________________________________________________________________________\n",
            "conv2d_49 (Conv2D)              (None, 13, 13, 1024) 4718592     leaky_re_lu_48[0][0]             \n",
            "__________________________________________________________________________________________________\n",
            "batch_normalization_49 (BatchNo (None, 13, 13, 1024) 4096        conv2d_49[0][0]                  \n",
            "__________________________________________________________________________________________________\n",
            "leaky_re_lu_49 (LeakyReLU)      (None, 13, 13, 1024) 0           batch_normalization_49[0][0]     \n",
            "__________________________________________________________________________________________________\n",
            "add_21 (Add)                    (None, 13, 13, 1024) 0           add_20[0][0]                     \n",
            "                                                                 leaky_re_lu_49[0][0]             \n",
            "__________________________________________________________________________________________________\n",
            "conv2d_50 (Conv2D)              (None, 13, 13, 512)  524288      add_21[0][0]                     \n",
            "__________________________________________________________________________________________________\n",
            "batch_normalization_50 (BatchNo (None, 13, 13, 512)  2048        conv2d_50[0][0]                  \n",
            "__________________________________________________________________________________________________\n",
            "leaky_re_lu_50 (LeakyReLU)      (None, 13, 13, 512)  0           batch_normalization_50[0][0]     \n",
            "__________________________________________________________________________________________________\n",
            "conv2d_51 (Conv2D)              (None, 13, 13, 1024) 4718592     leaky_re_lu_50[0][0]             \n",
            "__________________________________________________________________________________________________\n",
            "batch_normalization_51 (BatchNo (None, 13, 13, 1024) 4096        conv2d_51[0][0]                  \n",
            "__________________________________________________________________________________________________\n",
            "leaky_re_lu_51 (LeakyReLU)      (None, 13, 13, 1024) 0           batch_normalization_51[0][0]     \n",
            "__________________________________________________________________________________________________\n",
            "add_22 (Add)                    (None, 13, 13, 1024) 0           add_21[0][0]                     \n",
            "                                                                 leaky_re_lu_51[0][0]             \n",
            "__________________________________________________________________________________________________\n",
            "conv2d_52 (Conv2D)              (None, 13, 13, 512)  524288      add_22[0][0]                     \n",
            "__________________________________________________________________________________________________\n",
            "batch_normalization_52 (BatchNo (None, 13, 13, 512)  2048        conv2d_52[0][0]                  \n",
            "__________________________________________________________________________________________________\n",
            "leaky_re_lu_52 (LeakyReLU)      (None, 13, 13, 512)  0           batch_normalization_52[0][0]     \n",
            "__________________________________________________________________________________________________\n",
            "conv2d_53 (Conv2D)              (None, 13, 13, 1024) 4718592     leaky_re_lu_52[0][0]             \n",
            "__________________________________________________________________________________________________\n",
            "batch_normalization_53 (BatchNo (None, 13, 13, 1024) 4096        conv2d_53[0][0]                  \n",
            "__________________________________________________________________________________________________\n",
            "leaky_re_lu_53 (LeakyReLU)      (None, 13, 13, 1024) 0           batch_normalization_53[0][0]     \n",
            "__________________________________________________________________________________________________\n",
            "conv2d_54 (Conv2D)              (None, 13, 13, 512)  524288      leaky_re_lu_53[0][0]             \n",
            "__________________________________________________________________________________________________\n",
            "batch_normalization_54 (BatchNo (None, 13, 13, 512)  2048        conv2d_54[0][0]                  \n",
            "__________________________________________________________________________________________________\n",
            "leaky_re_lu_54 (LeakyReLU)      (None, 13, 13, 512)  0           batch_normalization_54[0][0]     \n",
            "__________________________________________________________________________________________________\n",
            "conv2d_55 (Conv2D)              (None, 13, 13, 1024) 4718592     leaky_re_lu_54[0][0]             \n",
            "__________________________________________________________________________________________________\n",
            "batch_normalization_55 (BatchNo (None, 13, 13, 1024) 4096        conv2d_55[0][0]                  \n",
            "__________________________________________________________________________________________________\n",
            "leaky_re_lu_55 (LeakyReLU)      (None, 13, 13, 1024) 0           batch_normalization_55[0][0]     \n",
            "__________________________________________________________________________________________________\n",
            "conv2d_56 (Conv2D)              (None, 13, 13, 512)  524288      leaky_re_lu_55[0][0]             \n",
            "__________________________________________________________________________________________________\n",
            "batch_normalization_56 (BatchNo (None, 13, 13, 512)  2048        conv2d_56[0][0]                  \n",
            "__________________________________________________________________________________________________\n",
            "leaky_re_lu_56 (LeakyReLU)      (None, 13, 13, 512)  0           batch_normalization_56[0][0]     \n",
            "__________________________________________________________________________________________________\n",
            "conv2d_59 (Conv2D)              (None, 13, 13, 256)  131072      leaky_re_lu_56[0][0]             \n",
            "__________________________________________________________________________________________________\n",
            "batch_normalization_58 (BatchNo (None, 13, 13, 256)  1024        conv2d_59[0][0]                  \n",
            "__________________________________________________________________________________________________\n",
            "leaky_re_lu_58 (LeakyReLU)      (None, 13, 13, 256)  0           batch_normalization_58[0][0]     \n",
            "__________________________________________________________________________________________________\n",
            "up_sampling2d (UpSampling2D)    (None, 26, 26, 256)  0           leaky_re_lu_58[0][0]             \n",
            "__________________________________________________________________________________________________\n",
            "concatenate (Concatenate)       (None, 26, 26, 768)  0           up_sampling2d[0][0]              \n",
            "                                                                 add_18[0][0]                     \n",
            "__________________________________________________________________________________________________\n",
            "conv2d_60 (Conv2D)              (None, 26, 26, 256)  196608      concatenate[0][0]                \n",
            "__________________________________________________________________________________________________\n",
            "batch_normalization_59 (BatchNo (None, 26, 26, 256)  1024        conv2d_60[0][0]                  \n",
            "__________________________________________________________________________________________________\n",
            "leaky_re_lu_59 (LeakyReLU)      (None, 26, 26, 256)  0           batch_normalization_59[0][0]     \n",
            "__________________________________________________________________________________________________\n",
            "conv2d_61 (Conv2D)              (None, 26, 26, 512)  1179648     leaky_re_lu_59[0][0]             \n",
            "__________________________________________________________________________________________________\n",
            "batch_normalization_60 (BatchNo (None, 26, 26, 512)  2048        conv2d_61[0][0]                  \n",
            "__________________________________________________________________________________________________\n",
            "leaky_re_lu_60 (LeakyReLU)      (None, 26, 26, 512)  0           batch_normalization_60[0][0]     \n",
            "__________________________________________________________________________________________________\n",
            "conv2d_62 (Conv2D)              (None, 26, 26, 256)  131072      leaky_re_lu_60[0][0]             \n",
            "__________________________________________________________________________________________________\n",
            "batch_normalization_61 (BatchNo (None, 26, 26, 256)  1024        conv2d_62[0][0]                  \n",
            "__________________________________________________________________________________________________\n",
            "leaky_re_lu_61 (LeakyReLU)      (None, 26, 26, 256)  0           batch_normalization_61[0][0]     \n",
            "__________________________________________________________________________________________________\n",
            "conv2d_63 (Conv2D)              (None, 26, 26, 512)  1179648     leaky_re_lu_61[0][0]             \n",
            "__________________________________________________________________________________________________\n",
            "batch_normalization_62 (BatchNo (None, 26, 26, 512)  2048        conv2d_63[0][0]                  \n",
            "__________________________________________________________________________________________________\n",
            "leaky_re_lu_62 (LeakyReLU)      (None, 26, 26, 512)  0           batch_normalization_62[0][0]     \n",
            "__________________________________________________________________________________________________\n",
            "conv2d_64 (Conv2D)              (None, 26, 26, 256)  131072      leaky_re_lu_62[0][0]             \n",
            "__________________________________________________________________________________________________\n",
            "batch_normalization_63 (BatchNo (None, 26, 26, 256)  1024        conv2d_64[0][0]                  \n",
            "__________________________________________________________________________________________________\n",
            "leaky_re_lu_63 (LeakyReLU)      (None, 26, 26, 256)  0           batch_normalization_63[0][0]     \n",
            "__________________________________________________________________________________________________\n",
            "conv2d_67 (Conv2D)              (None, 26, 26, 128)  32768       leaky_re_lu_63[0][0]             \n",
            "__________________________________________________________________________________________________\n",
            "batch_normalization_65 (BatchNo (None, 26, 26, 128)  512         conv2d_67[0][0]                  \n",
            "__________________________________________________________________________________________________\n",
            "leaky_re_lu_65 (LeakyReLU)      (None, 26, 26, 128)  0           batch_normalization_65[0][0]     \n",
            "__________________________________________________________________________________________________\n",
            "up_sampling2d_1 (UpSampling2D)  (None, 52, 52, 128)  0           leaky_re_lu_65[0][0]             \n",
            "__________________________________________________________________________________________________\n",
            "concatenate_1 (Concatenate)     (None, 52, 52, 384)  0           up_sampling2d_1[0][0]            \n",
            "                                                                 add_10[0][0]                     \n",
            "__________________________________________________________________________________________________\n",
            "conv2d_68 (Conv2D)              (None, 52, 52, 128)  49152       concatenate_1[0][0]              \n",
            "__________________________________________________________________________________________________\n",
            "batch_normalization_66 (BatchNo (None, 52, 52, 128)  512         conv2d_68[0][0]                  \n",
            "__________________________________________________________________________________________________\n",
            "leaky_re_lu_66 (LeakyReLU)      (None, 52, 52, 128)  0           batch_normalization_66[0][0]     \n",
            "__________________________________________________________________________________________________\n",
            "conv2d_69 (Conv2D)              (None, 52, 52, 256)  294912      leaky_re_lu_66[0][0]             \n",
            "__________________________________________________________________________________________________\n",
            "batch_normalization_67 (BatchNo (None, 52, 52, 256)  1024        conv2d_69[0][0]                  \n",
            "__________________________________________________________________________________________________\n",
            "leaky_re_lu_67 (LeakyReLU)      (None, 52, 52, 256)  0           batch_normalization_67[0][0]     \n",
            "__________________________________________________________________________________________________\n",
            "conv2d_70 (Conv2D)              (None, 52, 52, 128)  32768       leaky_re_lu_67[0][0]             \n",
            "__________________________________________________________________________________________________\n",
            "batch_normalization_68 (BatchNo (None, 52, 52, 128)  512         conv2d_70[0][0]                  \n",
            "__________________________________________________________________________________________________\n",
            "leaky_re_lu_68 (LeakyReLU)      (None, 52, 52, 128)  0           batch_normalization_68[0][0]     \n",
            "__________________________________________________________________________________________________\n",
            "conv2d_71 (Conv2D)              (None, 52, 52, 256)  294912      leaky_re_lu_68[0][0]             \n",
            "__________________________________________________________________________________________________\n",
            "batch_normalization_69 (BatchNo (None, 52, 52, 256)  1024        conv2d_71[0][0]                  \n",
            "__________________________________________________________________________________________________\n",
            "leaky_re_lu_69 (LeakyReLU)      (None, 52, 52, 256)  0           batch_normalization_69[0][0]     \n",
            "__________________________________________________________________________________________________\n",
            "conv2d_72 (Conv2D)              (None, 52, 52, 128)  32768       leaky_re_lu_69[0][0]             \n",
            "__________________________________________________________________________________________________\n",
            "batch_normalization_70 (BatchNo (None, 52, 52, 128)  512         conv2d_72[0][0]                  \n",
            "__________________________________________________________________________________________________\n",
            "leaky_re_lu_70 (LeakyReLU)      (None, 52, 52, 128)  0           batch_normalization_70[0][0]     \n",
            "__________________________________________________________________________________________________\n",
            "conv2d_57 (Conv2D)              (None, 13, 13, 1024) 4718592     leaky_re_lu_56[0][0]             \n",
            "__________________________________________________________________________________________________\n",
            "conv2d_65 (Conv2D)              (None, 26, 26, 512)  1179648     leaky_re_lu_63[0][0]             \n",
            "__________________________________________________________________________________________________\n",
            "conv2d_73 (Conv2D)              (None, 52, 52, 256)  294912      leaky_re_lu_70[0][0]             \n",
            "__________________________________________________________________________________________________\n",
            "batch_normalization_57 (BatchNo (None, 13, 13, 1024) 4096        conv2d_57[0][0]                  \n",
            "__________________________________________________________________________________________________\n",
            "batch_normalization_64 (BatchNo (None, 26, 26, 512)  2048        conv2d_65[0][0]                  \n",
            "__________________________________________________________________________________________________\n",
            "batch_normalization_71 (BatchNo (None, 52, 52, 256)  1024        conv2d_73[0][0]                  \n",
            "__________________________________________________________________________________________________\n",
            "leaky_re_lu_57 (LeakyReLU)      (None, 13, 13, 1024) 0           batch_normalization_57[0][0]     \n",
            "__________________________________________________________________________________________________\n",
            "leaky_re_lu_64 (LeakyReLU)      (None, 26, 26, 512)  0           batch_normalization_64[0][0]     \n",
            "__________________________________________________________________________________________________\n",
            "leaky_re_lu_71 (LeakyReLU)      (None, 52, 52, 256)  0           batch_normalization_71[0][0]     \n",
            "__________________________________________________________________________________________________\n",
            "conv2d_58 (Conv2D)              (None, 13, 13, 18)   18450       leaky_re_lu_57[0][0]             \n",
            "__________________________________________________________________________________________________\n",
            "conv2d_66 (Conv2D)              (None, 26, 26, 18)   9234        leaky_re_lu_64[0][0]             \n",
            "__________________________________________________________________________________________________\n",
            "conv2d_74 (Conv2D)              (None, 52, 52, 18)   4626        leaky_re_lu_71[0][0]             \n",
            "__________________________________________________________________________________________________\n",
            "input_2 (InputLayer)            [(None, 13, 13, 3, 6 0                                            \n",
            "__________________________________________________________________________________________________\n",
            "input_3 (InputLayer)            [(None, 26, 26, 3, 6 0                                            \n",
            "__________________________________________________________________________________________________\n",
            "input_4 (InputLayer)            [(None, 52, 52, 3, 6 0                                            \n",
            "__________________________________________________________________________________________________\n",
            "yolo_loss (Lambda)              ()                   0           conv2d_58[0][0]                  \n",
            "                                                                 conv2d_66[0][0]                  \n",
            "                                                                 conv2d_74[0][0]                  \n",
            "                                                                 input_2[0][0]                    \n",
            "                                                                 input_3[0][0]                    \n",
            "                                                                 input_4[0][0]                    \n",
            "==================================================================================================\n",
            "Total params: 61,576,342\n",
            "Trainable params: 61,523,734\n",
            "Non-trainable params: 52,608\n",
            "__________________________________________________________________________________________________\n"
          ],
          "name": "stdout"
        }
      ]
    },
    {
      "cell_type": "markdown",
      "metadata": {
        "id": "DBLDaXq8M-Ar"
      },
      "source": [
        "## 4.3 Обучение модели"
      ]
    },
    {
      "cell_type": "markdown",
      "metadata": {
        "id": "XGuqQwvSNCGt"
      },
      "source": [
        "### 4.3.1 Просмотр данных для обучения"
      ]
    },
    {
      "cell_type": "markdown",
      "metadata": {
        "id": "2ko6dM0rNI-6"
      },
      "source": [
        "На вход модели подается 2 параметра: 1. numpy-массив размерностью (416,416,3), соответствующий исходному изображению 2. трехмерный массив y_true, в котором записана информация об анкоре, описывающем наш объект размерность первого элемента массива (13,13,3,6) - 13на13 - размер сетки, 3 - количество анкоров для каждой ячейки сетки, 6 - параметры анкора размерность второго элемента массива (26,26,3,6) размерность третьего элемента массива (52,52,3,6)"
      ]
    },
    {
      "cell_type": "code",
      "metadata": {
        "colab": {
          "base_uri": "https://localhost:8080/",
          "height": 258
        },
        "id": "-XkkXF_tMS2T",
        "outputId": "a426faa4-6a10-4f6c-d676-8af4970fca3e"
      },
      "source": [
        "# Открываем файл сегментированной модели\n",
        "filename = 'airplane_50' # Имя файла\n",
        "image = Image.open('/content/drive/My Drive/HW_31/Самолётики/Segment/'+filename+'.jpg') # Загружаем изображение сегментированной модели\n",
        "img1 = ImageDraw.Draw(image) # Создаем экземпляр изображения\n",
        "plt.imshow(image) # Рисуем изображение"
      ],
      "execution_count": null,
      "outputs": [
        {
          "output_type": "execute_result",
          "data": {
            "text/plain": [
              "<matplotlib.image.AxesImage at 0x7fdb50ce5d30>"
            ]
          },
          "metadata": {
            "tags": []
          },
          "execution_count": 21
        },
        {
          "output_type": "display_data",
          "data": {
            "image/png": "[encoded data removed]",
            "text/plain": [
              "<Figure size 432x288 with 1 Axes>"
            ]
          },
          "metadata": {
            "tags": [],
            "needs_background": "light"
          }
        }
      ]
    },
    {
      "cell_type": "code",
      "metadata": {
        "id": "k9jgoc_wMS4e",
        "colab": {
          "base_uri": "https://localhost:8080/",
          "height": 277
        },
        "outputId": "0a56f9a1-6211-42dd-d24a-fd5a50ebb72e"
      },
      "source": [
        "# Находим координаты ограничивающего бокса (ищем по красному параметру в массиве RGB)\n",
        "image_n = np.array(image) # Переводим в numpy\n",
        "image_red = image_n[:,:,0] # Оставляем только красный цвет\n",
        "itemindex = np.array(np.where(image_red > 20 )) # Ищем все элементы, в которых значение красного цвета больше 20\n",
        "# np.where веренет двумерный кортеж, где первый элемент соответсвует найденным строкам, второй - найженным столбцам\n",
        "minY = min (itemindex[0]) # minY будет соответствовать минимальному значению в первом элементе itemindex\n",
        "maxY = max (itemindex[0]) # maxY будет соответствовать максимальному значению в первом элементе itemindex\n",
        "minX = min (itemindex[1]) # minX будет соответствовать минимальному значению во втором элементе itemindex\n",
        "maxX = max (itemindex[1]) # maxX будет соответствовать максимальному значению во втором элементе itemindex\n",
        "print ('minX = ',minX, '    minY = ', minY, '    maxX = ', maxX, '    maxY = ',maxY, sep='') # Выводим найденные значения\n",
        "\n",
        "# Рисуем ограничивающую рамку\n",
        "for i in range(10):\n",
        "  img1.rectangle([minX+i,minY+i,maxX-i,maxY-i], outline = 'green')\n",
        "plt.imshow(image)"
      ],
      "execution_count": null,
      "outputs": [
        {
          "output_type": "stream",
          "text": [
            "minX = 202    minY = 293    maxX = 1711    maxY = 706\n"
          ],
          "name": "stdout"
        },
        {
          "output_type": "execute_result",
          "data": {
            "text/plain": [
              "<matplotlib.image.AxesImage at 0x7fdb507bcc18>"
            ]
          },
          "metadata": {
            "tags": []
          },
          "execution_count": 22
        },
        {
          "output_type": "display_data",
          "data": {
            "image/png": "[encoded data removed]",
            "text/plain": [
              "<Figure size 432x288 with 1 Axes>"
            ]
          },
          "metadata": {
            "tags": [],
            "needs_background": "light"
          }
        }
      ]
    },
    {
      "cell_type": "code",
      "metadata": {
        "id": "mTOCTcTHMS6_",
        "colab": {
          "base_uri": "https://localhost:8080/"
        },
        "outputId": "d487ac93-18c8-4173-ba7c-c9b65c74d551"
      },
      "source": [
        "# Запишем всю информацию об объекте в словарь\n",
        "dictionary = {} # Создаем словарь\n",
        "class_id = 0 # Номер класса. У нас всего один класс\n",
        "key = filename # Значение ключа соответсвует имени модели\n",
        "dictionary[key] = 'Самолеты/'+key+'.jpg'+' '+str(minX)+','+str(minY)+','+str(maxX)+','+str(maxY)+','+str(class_id) # Записываем\n",
        "      # информацию об изображении: Имя_файла minX,minY,maxX,maxY,class_id\n",
        "print (dictionary) # Выводим словарь"
      ],
      "execution_count": null,
      "outputs": [
        {
          "output_type": "stream",
          "text": [
            "{'airplane_50': 'Самолеты/airplane_50.jpg 202,293,1711,706,0'}\n"
          ],
          "name": "stdout"
        }
      ]
    },
    {
      "cell_type": "code",
      "metadata": {
        "id": "sRC3OYssMS9l",
        "colab": {
          "base_uri": "https://localhost:8080/",
          "height": 295
        },
        "outputId": "45347e1c-e65a-4136-c4b3-d7bebd13612a"
      },
      "source": [
        "# Загружаем оригинальное изображение\n",
        "line = dictionary[filename].split() # Сплитим по пробелу значение в словаре: 'Air/airplane_10.jpg 332,360,1661,736,0'\n",
        "image = Image.open(path+line[0]) # Загружаем файл изображения\n",
        "iw, ih = image.size # Запоминаем оригинальные размеры изображения\n",
        "w, h = (416,416) # Устанавливаем ширину и высоту изображения для модели YOLO\n",
        "box = np.array([np.array(list(map(lambda x: int((float)(x)),box.split(',')))) for box in line[1:]]) # Получаем список параметров для ограничивающих рамом для всех объектов\n",
        "                                                                                            # на изображении. В нашем случае будет всего одна ограничивающая рамка\n",
        "plt.imshow(image)   # рисуем изображение\n",
        "print ('Размер исходного изображения: ',iw, ih) # Выводим размер исходного изображения\n",
        "print ('Размерность входных данных для модели:', h, w) # Выводим размеры изображения для входного слоя модели YOLO\n",
        "print ('Параметры ограничивающей рамки', box) # Выводим параметры ограничивающей рамки"
      ],
      "execution_count": null,
      "outputs": [
        {
          "output_type": "stream",
          "text": [
            "Размер исходного изображения:  1920 1080\n",
            "Размерность входных данных для модели: 416 416\n",
            "Параметры ограничивающей рамки [[ 202  293 1711  706    0]]\n"
          ],
          "name": "stdout"
        },
        {
          "output_type": "display_data",
          "data": {
            "image/png": "[encoded data removed]",
            "text/plain": [
              "<Figure size 432x288 with 1 Axes>"
            ]
          },
          "metadata": {
            "tags": [],
            "needs_background": "light"
          }
        }
      ]
    },
    {
      "cell_type": "code",
      "metadata": {
        "id": "aVhH9HQhLmgM",
        "colab": {
          "base_uri": "https://localhost:8080/",
          "height": 324
        },
        "outputId": "cc4d429c-13a2-4ac0-e42b-8c630ceab436"
      },
      "source": [
        "# Аугментация изображения\n",
        "\n",
        "# Функция получения случайного числа\n",
        "def rand(a = 0, b = 1):\n",
        "  return np.random.rand() * (b - a) + a\n",
        "\n",
        "# -----\n",
        "# Параметры для аугментации изображения\n",
        "# -----\n",
        "jitter = .3\n",
        "hue = .1\n",
        "sat = 1.5\n",
        "val = 1.5\n",
        "\n",
        "# Масштабируем изображение\n",
        "new_ar = w / h * rand(1 - jitter, 1 + jitter) / rand(1 - jitter, 1 + jitter)\n",
        "scale = rand(.65, 2)\n",
        "print ('Коэффициент масштабирования: ', scale)\n",
        "# Масштабируем изображение\n",
        "if new_ar < 1:\n",
        "    nh = int(scale * h)\n",
        "    nw = int(nh * new_ar)\n",
        "else:\n",
        "    nw = int(scale * w)\n",
        "    nh = int(nw / new_ar)\n",
        "print ('Новый размер изображения: ',nw, nh)\n",
        "image1 = image.resize((nw,nh), Image.BICUBIC) # Изменяем размер исходного изображения\n",
        "plt.imshow(image1) # Рисуем изображение"
      ],
      "execution_count": null,
      "outputs": [
        {
          "output_type": "stream",
          "text": [
            "Коэффициент масштабирования:  1.4727556082705229\n",
            "Новый размер изображения:  612 575\n"
          ],
          "name": "stdout"
        },
        {
          "output_type": "execute_result",
          "data": {
            "text/plain": [
              "<matplotlib.image.AxesImage at 0x7fdb507128d0>"
            ]
          },
          "metadata": {
            "tags": []
          },
          "execution_count": 25
        },
        {
          "output_type": "display_data",
          "data": {
            "image/png": "[encoded data removed]",
            "text/plain": [
              "<Figure size 432x288 with 1 Axes>"
            ]
          },
          "metadata": {
            "tags": [],
            "needs_background": "light"
          }
        }
      ]
    },
    {
      "cell_type": "code",
      "metadata": {
        "id": "CUIh8l_jNQpu",
        "colab": {
          "base_uri": "https://localhost:8080/",
          "height": 287
        },
        "outputId": "4592b22b-968b-46b6-f6a9-92e59bb579f3"
      },
      "source": [
        "# Приводим к размеру 416 на 416 пикселей для модели YOLO и размещаем в случайном месте на изображении\n",
        "dx = int(rand(0, w - nw))\n",
        "dy = int(rand(0, h - nh))\n",
        "new_image = Image.new('RGB', (w, h), (128,128,128))\n",
        "new_image.paste(image1, (dx, dy))\n",
        "image2 = new_image\n",
        "plt.imshow(image2)"
      ],
      "execution_count": null,
      "outputs": [
        {
          "output_type": "execute_result",
          "data": {
            "text/plain": [
              "<matplotlib.image.AxesImage at 0x7fdb50673b70>"
            ]
          },
          "metadata": {
            "tags": []
          },
          "execution_count": 26
        },
        {
          "output_type": "display_data",
          "data": {
            "image/png": "[encoded data removed]",
            "text/plain": [
              "<Figure size 432x288 with 1 Axes>"
            ]
          },
          "metadata": {
            "tags": [],
            "needs_background": "light"
          }
        }
      ]
    },
    {
      "cell_type": "code",
      "metadata": {
        "id": "BpVkfSpONQr1",
        "colab": {
          "base_uri": "https://localhost:8080/",
          "height": 287
        },
        "outputId": "ea7cda93-e092-4f12-8f9a-6877fa1ba015"
      },
      "source": [
        "# Случаным образом отображаем изображение по горизонтале\n",
        "flip = rand() < .5 # с вероятностью 50% получаем параметр отражения картинки\n",
        "if flip:\n",
        "    image2 = image2.transpose(Image.FLIP_LEFT_RIGHT) # Если требуется, то отражаем картику по горизонтале\n",
        "plt.imshow(image2) # Рисуем картинку"
      ],
      "execution_count": null,
      "outputs": [
        {
          "output_type": "execute_result",
          "data": {
            "text/plain": [
              "<matplotlib.image.AxesImage at 0x7fdbc060c978>"
            ]
          },
          "metadata": {
            "tags": []
          },
          "execution_count": 27
        },
        {
          "output_type": "display_data",
          "data": {
            "image/png": "[encoded data removed]",
            "text/plain": [
              "<Figure size 432x288 with 1 Axes>"
            ]
          },
          "metadata": {
            "tags": [],
            "needs_background": "light"
          }
        }
      ]
    },
    {
      "cell_type": "code",
      "metadata": {
        "id": "KnVW6GTTNQug",
        "colab": {
          "base_uri": "https://localhost:8080/",
          "height": 306
        },
        "outputId": "ad0987fe-7fb0-48d2-ae50-4c3d77a23b25"
      },
      "source": [
        "# Случайным образом меняем освещенность, экспозицию, гамму изображения\n",
        "hue1 = rand(-hue, hue)\n",
        "sat1 = rand(1, sat) if rand() < .5 else 1 / rand(1, sat)\n",
        "val1 = rand(1, val) if rand() < .5 else 1 / rand(1, val)\n",
        "x = rgb_to_hsv(np.array(image2) / 255.)\n",
        "x[..., 0] += hue1\n",
        "x[..., 0][x[..., 0] > 1] -= 1\n",
        "x[..., 0][x[..., 0] < 0] += 1\n",
        "x[..., 1] *= sat1\n",
        "x[..., 2] *= val1\n",
        "x[x > 1] = 1\n",
        "x[x < 0] = 0\n",
        "image_data = hsv_to_rgb(x) # numpy array, 0 to 1\n",
        "print (image_data.shape) # Входные данные для модели YOLO, соответствующие изображению, размерностью 416х416х3\n",
        "plt.imshow(image_data) # Рисуем изображение"
      ],
      "execution_count": null,
      "outputs": [
        {
          "output_type": "stream",
          "text": [
            "(416, 416, 3)\n"
          ],
          "name": "stdout"
        },
        {
          "output_type": "execute_result",
          "data": {
            "text/plain": [
              "<matplotlib.image.AxesImage at 0x7fdb50ca9048>"
            ]
          },
          "metadata": {
            "tags": []
          },
          "execution_count": 28
        },
        {
          "output_type": "display_data",
          "data": {
            "image/png": "[encoded data removed]",
            "text/plain": [
              "<Figure size 432x288 with 1 Axes>"
            ]
          },
          "metadata": {
            "tags": [],
            "needs_background": "light"
          }
        }
      ]
    },
    {
      "cell_type": "code",
      "metadata": {
        "id": "n1REdTuiNQxH",
        "colab": {
          "base_uri": "https://localhost:8080/",
          "height": 306
        },
        "outputId": "63c21107-2b9a-4390-c3dc-1c0e15797383"
      },
      "source": [
        "# Корректируем параметры ограничивающей рамки\n",
        "max_boxes = 5 # Устанавливаем максимальное кличество ограничивающих рамок\n",
        "box_data = np.zeros((max_boxes,5)) # Массив будет хранить параметры ограничивающих рамок. Всего 5 параметров. Первые 4 - координаты minX, minY, maxX, maxY. 5-ый  - номер класса объекта ( в нашем случае всего один класс - самолеты)\n",
        "\n",
        "box_mod = box.copy()\n",
        "# Проходим те же модификации с ограничивающей рамкой, что и с изображением: масштабирование, отраженгие\n",
        "box_mod[:, [0,2]] = box_mod[:, [0,2]] * nw / iw + dx\n",
        "box_mod[:, [1,3]] = box_mod[:, [1,3]] * nh / ih + dy\n",
        "if flip:\n",
        "    box_mod[:, [0,2]] = w - box_mod[:, [2,0]]\n",
        "box_mod[:, 0:2][box_mod[:, 0:2] < 0] = 0\n",
        "box_mod[:, 2][box_mod[:, 2] > w] = w # Если выходит за ширину\n",
        "box_mod[:, 3][box_mod[:, 3] > h] = h # Если выходит за высотц\n",
        "box_w = box_mod[:, 2] - box_mod[:, 0]\n",
        "box_h = box_mod[:, 3] - box_mod[:, 1]\n",
        "box_mod = box_mod[np.logical_and(box_w > 1, box_h > 1)] # Отсекаем маленькие рамки\n",
        "\n",
        "if len(box_mod) > max_boxes:\n",
        "    box_mod = box_mod[:max_boxes] # Если количество ограничивающих рамок больше установленного нами ранее\n",
        "box_data[:len(box_mod)] = box_mod # Записываем в box_data информацию об ограничивающих рамках аугментированного изображения\n",
        "print(box_data[0]) # Выводим параметры рамки для аугментированного изображения\n",
        "img1 = ImageDraw.Draw(image2) # Создаем экземпляр изображения\n",
        "for i in range(4): # Рисуем ограничивающую рамку\n",
        "    img1.rectangle([box_data[0][0] + i, box_data[0][1] + i, box_data[0][2] - i, box_data[0][3] - i], outline = 'green')\n",
        "plt.imshow(image2)"
      ],
      "execution_count": null,
      "outputs": [
        {
          "output_type": "stream",
          "text": [
            "[  0.  53. 383. 273.   0.]\n"
          ],
          "name": "stdout"
        },
        {
          "output_type": "execute_result",
          "data": {
            "text/plain": [
              "<matplotlib.image.AxesImage at 0x7fdb50d7e4e0>"
            ]
          },
          "metadata": {
            "tags": []
          },
          "execution_count": 29
        },
        {
          "output_type": "display_data",
          "data": {
            "image/png": "[encoded data removed]",
            "text/plain": [
              "<Figure size 432x288 with 1 Axes>"
            ]
          },
          "metadata": {
            "tags": [],
            "needs_background": "light"
          }
        }
      ]
    },
    {
      "cell_type": "code",
      "metadata": {
        "id": "AzlLtcpQNQz3",
        "colab": {
          "base_uri": "https://localhost:8080/"
        },
        "outputId": "cf27cfef-6228-43d2-906a-4d9132637035"
      },
      "source": [
        "num_layers = 3 # Количество анкоров на каждую сетку (в нашем случае каждая сетка будет иметь анкоры 3 разных размеров)\n",
        "anchor_mask = [[6,7,8], [3,4,5], [0,1,2]] # Маска дял выбора анкоров\n",
        "\n",
        "real_boxes = np.array(box_data, dtype='float32') # Переводим в numpy\n",
        "input_shape = np.array((416,416), dtype='int32') # Переводим в numpy\n",
        "\n",
        "# Определяем центр ограничивающей рамки и ее ширину и высоту\n",
        "boxes_xy = (real_boxes[:,0:2] + real_boxes[:,2:4]) // 2\n",
        "boxes_wh = real_boxes[..., 2:4] - real_boxes[..., 0:2]\n",
        "\n",
        "print('Центр ограничивающей рамки: ', boxes_xy[0])\n",
        "print('Ширина и высота ограничивающей рамки:', boxes_wh[0])"
      ],
      "execution_count": null,
      "outputs": [
        {
          "output_type": "stream",
          "text": [
            "Центр ограничивающей рамки:  [191. 163.]\n",
            "Ширина и высота ограничивающей рамки: [383. 220.]\n"
          ],
          "name": "stdout"
        }
      ]
    },
    {
      "cell_type": "code",
      "metadata": {
        "id": "FbkCVrfFNQ2c",
        "colab": {
          "base_uri": "https://localhost:8080/"
        },
        "outputId": "98eb00f2-57b6-4ee8-caa9-29ebc5c1bc99"
      },
      "source": [
        "# Переводим параметры ограничивающей рамки в относительные координаты (от 0 до 1)\n",
        "real_boxes[:, 0:2] = boxes_xy/input_shape[0]\n",
        "real_boxes[:, 2:4] = boxes_wh/input_shape[1]\n",
        "print(real_boxes[0])  # Первые два элемента - центр ограничивабщей рамки в относительных координатах,\n",
        "                      # Вторые два элемента - ширина и высотка ограничивающей рамки в относительных размерах\n",
        "                      # Пятый элемент - класс объекта"
      ],
      "execution_count": null,
      "outputs": [
        {
          "output_type": "stream",
          "text": [
            "[0.4591346  0.39182693 0.9206731  0.52884614 0.        ]\n"
          ],
          "name": "stdout"
        }
      ]
    },
    {
      "cell_type": "code",
      "metadata": {
        "id": "hrnsLZF_NQ5P",
        "colab": {
          "base_uri": "https://localhost:8080/"
        },
        "outputId": "198227a8-703e-4b56-daef-41093c133846"
      },
      "source": [
        "# Создадим заготовку под входные слои y_true\n",
        "cells = [13,26,52]\n",
        "y_true = [np.zeros((cells[l],cells[l],len(anchor_mask[l]),5+num_classes),dtype='float32') for l in range(num_layers)]\n",
        "print(y_true[0].shape)\n",
        "print(y_true[1].shape)\n",
        "print(y_true[2].shape)\n",
        "# Таким образом получаем массив из трех сеток разных размеров (13х13, 26х26, 52х52), где каждая ячейка содержит\n",
        "# три варинта пар анкоров и 5+1 параметр описания каждой из пар анкоров"
      ],
      "execution_count": null,
      "outputs": [
        {
          "output_type": "stream",
          "text": [
            "(13, 13, 3, 6)\n",
            "(26, 26, 3, 6)\n",
            "(52, 52, 3, 6)\n"
          ],
          "name": "stdout"
        }
      ]
    },
    {
      "cell_type": "code",
      "metadata": {
        "id": "0VG63frGNQ7w",
        "colab": {
          "base_uri": "https://localhost:8080/"
        },
        "outputId": "85b422a4-fc56-42ea-816f-580632e3e162"
      },
      "source": [
        "# из 9 анкоров фиксированного размера требуется найти тот, котоырй максимально охватывает ограничивающую рамку\n",
        "# для этого пробегаем по всем имеющимся анкорам и считаем IoU всех вариантов\n",
        "\n",
        "# Площадь, занятая ограничивающей рамкой\n",
        "wh = boxes_wh[0, :] # Получаем ширину и высоту\n",
        "box_area = wh[0] * wh[1] # Считаем площадь рамки\n",
        "print (wh[0],'*',wh[1],'=', box_area)"
      ],
      "execution_count": null,
      "outputs": [
        {
          "output_type": "stream",
          "text": [
            "383.0 * 220.0 = 84260.0\n"
          ],
          "name": "stdout"
        }
      ]
    },
    {
      "cell_type": "code",
      "metadata": {
        "id": "Ew3yMpfFNQ-V",
        "colab": {
          "base_uri": "https://localhost:8080/"
        },
        "outputId": "bd592a76-6872-451d-b2a3-5085a7e9cf20"
      },
      "source": [
        "# Площади, которые занимаю анкоры\n",
        "anchor_area = anchors[:, 0] * anchors[:, 1]\n",
        "print (anchor_area)"
      ],
      "execution_count": null,
      "outputs": [
        {
          "output_type": "stream",
          "text": [
            "[   130    480    759   1830   2790   7021  10440  30888 121598]\n"
          ],
          "name": "stdout"
        }
      ]
    },
    {
      "cell_type": "code",
      "metadata": {
        "id": "tuduYHwjNRAo",
        "colab": {
          "base_uri": "https://localhost:8080/"
        },
        "outputId": "342770c3-dfdc-4418-e254-36fdd53ea53e"
      },
      "source": [
        "# Получим новые параметры анкоров, значения которых не превышают значения высоты и ширины ограничивающей рамки\n",
        "correct_anchors = []\n",
        "for elem in anchors:\n",
        "    correct_anchors.append ([min(elem[0], wh[0]), min(elem[1], wh[1])])\n",
        "correct_anchors = np.array(correct_anchors)\n",
        "print(correct_anchors)\n",
        "# Площади, которые занимаю скорректированные анкоры\n",
        "correct_anchors_area = correct_anchors[:,0] * correct_anchors[:,1]\n",
        "print(correct_anchors_area)\n"
      ],
      "execution_count": null,
      "outputs": [
        {
          "output_type": "stream",
          "text": [
            "[[ 10.  13.]\n",
            " [ 16.  30.]\n",
            " [ 33.  23.]\n",
            " [ 30.  61.]\n",
            " [ 62.  45.]\n",
            " [ 59. 119.]\n",
            " [116.  90.]\n",
            " [156. 198.]\n",
            " [373. 220.]]\n",
            "[  130.   480.   759.  1830.  2790.  7021. 10440. 30888. 82060.]\n"
          ],
          "name": "stdout"
        }
      ]
    },
    {
      "cell_type": "code",
      "metadata": {
        "id": "xKvQg5wANRDD",
        "colab": {
          "base_uri": "https://localhost:8080/"
        },
        "outputId": "87d17a26-8c92-489e-c87d-59046e41b95f"
      },
      "source": [
        "# Подсчитвываем iou всех вариантов\n",
        "iou = correct_anchors_area / (box_area + anchor_area - correct_anchors_area)\n",
        "print(iou)"
      ],
      "execution_count": null,
      "outputs": [
        {
          "output_type": "stream",
          "text": [
            "[0.00154284 0.00569665 0.00900783 0.02171849 0.0331118  0.08332542\n",
            " 0.12390221 0.36657963 0.662854  ]\n"
          ],
          "name": "stdout"
        }
      ]
    },
    {
      "cell_type": "code",
      "metadata": {
        "id": "RJkcFeOiNRFa",
        "colab": {
          "base_uri": "https://localhost:8080/"
        },
        "outputId": "cf800aa3-95ed-4fd1-809b-53e2372dcf5d"
      },
      "source": [
        "# Определяем позицию лучшего анкора\n",
        "best_anchor = np.argmax(iou, axis=-1)\n",
        "print (best_anchor)"
      ],
      "execution_count": null,
      "outputs": [
        {
          "output_type": "stream",
          "text": [
            "8\n"
          ],
          "name": "stdout"
        }
      ]
    },
    {
      "cell_type": "code",
      "metadata": {
        "id": "hjOWqyXPNRH7",
        "colab": {
          "base_uri": "https://localhost:8080/"
        },
        "outputId": "7525cc03-a8ec-4882-844f-5e85a6627a6f"
      },
      "source": [
        "print('Параметры ограничивающей рамки',real_boxes[0])\n",
        "for l in range(num_layers): # Пробегаем по всем 3 уровням анкорв\n",
        "    if best_anchor in anchor_mask[l]: # Если лучший анкор есть в l-ом элементе маски анкоров\n",
        "        print('Уровень анкора =',l)\n",
        "        i = np.floor(real_boxes[0,0]*cells[l]).astype('int32') # Определяем позицию ячейки по горизонтале\n",
        "        print ('i =',i)\n",
        "        j = np.floor(real_boxes[0,1]*cells[l]).astype('int32') # Определяем позицию ячейки по вертикале\n",
        "        print ('j =',j)\n",
        "        k = anchor_mask[l].index(best_anchor) # Определяем номре анкора в маске анкоров\n",
        "        print('Номер поданкора =',k)\n",
        "        c = real_boxes[0, 4].astype('int32') # Записываем номер класса объекта\n",
        "        print ('Номер класса =',c)\n",
        "        y_true[l][j, i, k, 0:4] = real_boxes[0, 0:4] # Записываем 4 параметра объекта - координаты центра, ширина и высота\n",
        "        y_true[l][j, i, k, 4] = 1 # Записываем вероятность того, что найден объект (для обучающей выборки всегда 1)\n",
        "        y_true[l][j, i, k, 5+c] = 1  # В позицию 5+с записываем класс объекта (ohe)\n",
        "        break\n",
        "\n",
        "print(y_true[l][j,i,...])\n",
        "# Таким образом массив y_true состоит полностью из 0 и только в 0-ом элементе, который соответсвует сетке, разбиением 13 на 13,\n",
        "# в ячейке (6,6), которая соответствует позиции центра ограничивающей рамки (0.5, 0.4903846) в позиции 1 анкора,\n",
        "# максимально охватывающего наш объект будет записана вся необходимая информация\n",
        "# [0.5       0.4903846 1.        0.46875   1.        1.       ]\n",
        "# первые 4 элемента - координаты центр объекта, ширина и высота, 5ый элемент - вероятность объекта (1),\n",
        "# 6ой-элемент - единица в позиции класса объекта"
      ],
      "execution_count": null,
      "outputs": [
        {
          "output_type": "stream",
          "text": [
            "Параметры ограничивающей рамки [0.4591346  0.39182693 0.9206731  0.52884614 0.        ]\n",
            "Уровень анкора = 0\n",
            "i = 5\n",
            "j = 5\n",
            "Номер поданкора = 2\n",
            "Номер класса = 0\n",
            "[[0.         0.         0.         0.         0.         0.        ]\n",
            " [0.         0.         0.         0.         0.         0.        ]\n",
            " [0.4591346  0.39182693 0.9206731  0.52884614 1.         1.        ]]\n"
          ],
          "name": "stdout"
        }
      ]
    },
    {
      "cell_type": "markdown",
      "metadata": {
        "id": "dNYrzT9bNhlB"
      },
      "source": [
        "### 4.3.2 Подготовка функций"
      ]
    },
    {
      "cell_type": "code",
      "metadata": {
        "id": "vylRIJm-NRKg"
      },
      "source": [
        "# Функция генерации данных\n",
        "def data_generator(annotation_lines, batch_size, anchors, input_shape):\n",
        "    n = len(annotation_lines) # Получаем количество элементов в словаре аннотаций\n",
        "    i = 0 # Задаем начальный индекс\n",
        "    while True:\n",
        "        image_data = [] # Массив для хранения изображений 416х416\n",
        "        box_data = [] # Массив для хранения bounding_box данных\n",
        "        for b in range(batch_size): # Пробегаем по всему batch_size\n",
        "            if i==0: # Если первая итерация цикла\n",
        "                np.random.shuffle(annotation_lines) # Перемешиваем элементы\n",
        "            image, box = augmentation(annotation_lines[i]) # Делаем аугментацию картинок и ограничивающих рамок\n",
        "            image_data.append(image) # Добавляем полученную картинку в результирующий массив\n",
        "            box_data.append(box) # Добавляем полученную ограничивающую рамку в массив bounfing_box\n",
        "            i = (i+1) % n # Обновляем значение индека (не превышая общего количества элементов)\n",
        "        image_data = np.array(image_data) # Преобразуем в numpy\n",
        "        box_data = np.array(box_data) # Преобразуем в numpy\n",
        "        y_true = get_y(box_data, anchors, input_shape) # По значению ограничивающей рамки получаем y_true\n",
        "        yield [image_data, *y_true], np.zeros(batch_size) # Возвращаем порцию данных для обучения"
      ],
      "execution_count": null,
      "outputs": []
    },
    {
      "cell_type": "code",
      "metadata": {
        "id": "S9dtfKsuNRM6"
      },
      "source": [
        "# Случайная аугментация изображения\n",
        "def augmentation(data):\n",
        "    # Словарь с параметрами аугментации\n",
        "    params = {\n",
        "        'jitter' : .3,\n",
        "        'hue'    : .1,\n",
        "        'sat'    : 1.5,\n",
        "        'val'    : 1.5\n",
        "    }\n",
        "\n",
        "    data = data.split() # Сплитим входную строку словаря\n",
        "    image = Image.open(path + data[0]) # Открываем изображение самолета\n",
        "    width_i, height_i = image.size # Получаем ширину и высоту оригинального изображения\n",
        "    widht_shape, height_shape = input_shape[:2] # Получаем ширину и высоту входного изображения для модели RetinaNet\n",
        "\n",
        "    # Получаем координаты ограничивающей рамки\n",
        "    box = np.array([np.array(list(map(lambda x: int(float(x)),box.split(',')))) for box in data[1:]])\n",
        "\n",
        "    # Случайным образом масштабируем изображение\n",
        "    new_ar = widht_shape / height_shape * rand(1 - params['jitter'], 1 + params['jitter']) / rand(1 - params['jitter'], 1 + params['jitter'])\n",
        "    scale = rand(.65, 2)\n",
        "    if new_ar < 1:\n",
        "        nh = int(scale * height_shape)\n",
        "        nw = int(nh * new_ar)\n",
        "    else:\n",
        "        nw = int(scale * widht_shape)\n",
        "        nh = int(nw / new_ar)\n",
        "    image = image.resize((nw, nh), Image.BICUBIC)\n",
        "\n",
        "    # Преобразуем картинку к input_shape и размещаем случайным образом\n",
        "    dx = int(rand(0, widht_shape - nw))\n",
        "    dy = int(rand(0, height_shape - nh))\n",
        "    new_image = Image.new('RGB', (widht_shape, height_shape), (128,128,128))\n",
        "    new_image.paste(image, (dx, dy))\n",
        "    image = new_image\n",
        "\n",
        "    # С вероятностью 50% отображаем по горизонтале\n",
        "    flip = rand() < .5\n",
        "    if flip:\n",
        "        image = image.transpose(Image.FLIP_LEFT_RIGHT)\n",
        "\n",
        "    # Случайным образом меняем освещенность, экспозицию, гамму изображения\n",
        "    hue1 = rand(-params['hue'], params['hue'])\n",
        "    sat1 = rand(1, params['sat']) if rand() < .5 else 1 / rand(1, params['sat'])\n",
        "    val1 = rand(1, params['val']) if rand() < .5 else 1 / rand(1, params['val'])\n",
        "    x = rgb_to_hsv(np.array(image) / 255.)\n",
        "    x[..., 0] += hue1\n",
        "    x[..., 0][x[..., 0] > 1] -= 1\n",
        "    x[..., 0][x[..., 0] < 0] += 1\n",
        "    x[..., 1] *= sat1\n",
        "    x[..., 2] *= val1\n",
        "    x[x > 1] = 1\n",
        "    x[x < 0] = 0\n",
        "    image_data = hsv_to_rgb(x) # Получаем окончательный массив\n",
        "\n",
        "    max_boxes = 4 # Устанавливаем максимальное количество рамок на изображении\n",
        "    # Корректируем параметры ограничивающей рамки в соответсвии с проведенными выше преобразованиями\n",
        "    box_data = np.zeros((max_boxes,5)) # Создаем массив из нулей размерностью (max_boxes, 5)\n",
        "    if len(box)>0:\n",
        "        # Ресайзим и перемещаем\n",
        "        box[:, [0,2]] = box[:, [0,2]] * nw/width_i + dx\n",
        "        box[:, [1,3]] = box[:, [1,3]] * nh/height_i + dy\n",
        "        # Отражаем по горизонтале\n",
        "        if flip: box[:, [0,2]] = widht_shape - box[:, [2,0]]\n",
        "        box[:, 0:2][box[:, 0:2]<0] = 0\n",
        "        # Ограничиваем, если вышли за пределы input_shape\n",
        "        box[:, 2][box[:, 2] > widht_shape] = widht_shape\n",
        "        box[:, 3][box[:, 3] > height_shape] = height_shape\n",
        "        # Считаем высоту и ширину рамок и оставляем только те, значения которых больше 1\n",
        "        box_w = box[:, 2] - box[:, 0] # xRight - xLeft\n",
        "        box_h = box[:, 3] - box[:, 1] # yBottom - yTop\n",
        "        box = box[np.logical_and(box_w > 1, box_h > 1)]\n",
        "        if len(box) > max_boxes: # Оставляем только max_boxes рамок\n",
        "            box = box[:max_boxes]\n",
        "        box_data[:len(box)] = box # Записываем данные в box_data\n",
        "\n",
        "    # Возвращаем изменные изображение и ограничивающую рамку\n",
        "    return image_data, box_data # Возвращаем аугментированные изображение и bounding_box"
      ],
      "execution_count": null,
      "outputs": []
    },
    {
      "cell_type": "code",
      "metadata": {
        "id": "pREJgPasNRPg"
      },
      "source": [
        "# Функция подсчета y\n",
        "def get_y(true_boxes, anchors, input_shape):\n",
        "    num_layers = len(anchors) // 3 # Получаем количество анкоров для каждого уровня сеток\n",
        "    anchor_mask = [[6,7,8], [3,4,5], [0,1,2]] # Задаем маску анкоров для каждого уровня\n",
        "\n",
        "    true_boxes = np.array(true_boxes, dtype='float32') # Преобразуем bounding_box в numpy\n",
        "    input_shape = np.array(input_shape, dtype='int32') # Преобразуем input_shape в numpy\n",
        "    boxes_xy = (true_boxes[..., 0:2] + true_boxes[..., 2:4]) // 2 # Получаем координаты центра bounding_box (xRight+xLeft / 2)\n",
        "    boxes_wh = true_boxes[..., 2:4] - true_boxes[..., 0:2] # Получаем ширину и высоту bounding_box (xRight - xLeft)\n",
        "    true_boxes[..., 0:2] = boxes_xy / input_shape[::-1] # Получаем координаты центра bounding_box в относительных координатах\n",
        "    true_boxes[..., 2:4] = boxes_wh / input_shape[::-1] # Получаем высоту и ширину bounding_box В относительных значениях\n",
        "\n",
        "    m = true_boxes.shape[0] # Получаем количество элементов в batch_size\n",
        "    grid_shapes = [input_shape//{0:32, 1:16, 2:8}[l] for l in range(num_layers)] # Создаем список из трех элементов ([13, 13], [26, 26], [52, 52])\n",
        "\n",
        "    # Создаем 0-вые списки для y_true\n",
        "    # y_true[0].shape = (None, 13, 13, 3, 6)\n",
        "    # y_true[1].shape = (None, 26, 26, 3, 6)\n",
        "    # y_true[2].shape = (None, 52, 52, 3, 6)\n",
        "    y_true = [np.zeros((m,grid_shapes[l][0],grid_shapes[l][1],len(anchor_mask[l]),5+num_classes),\n",
        "        dtype='float32') for l in range(num_layers)]\n",
        "\n",
        "    anchors = np.expand_dims(anchors, 0) # Добавляем размерность\n",
        "\n",
        "    # Параметры для IoU\n",
        "    anchor_maxes = anchors / 2.\n",
        "    anchor_mins = -anchor_maxes\n",
        "    valid_mask = boxes_wh[..., 0] > 0\n",
        "\n",
        "    for b in range(m):\n",
        "        wh = boxes_wh[b, valid_mask[b]] # Получаем ширину и высоту текущего bounding_box\n",
        "        if len(wh)==0: continue # Выходим если она нулевая\n",
        "        wh = np.expand_dims(wh, -2) # Добавляем размерность\n",
        "\n",
        "        # Параметры для IoU\n",
        "        box_maxes = wh / 2.\n",
        "        box_mins = -box_maxes\n",
        "\n",
        "        intersect_mins = np.maximum(box_mins, anchor_mins)\n",
        "        intersect_maxes = np.minimum(box_maxes, anchor_maxes)\n",
        "        intersect_wh = np.maximum(intersect_maxes - intersect_mins, 0.)\n",
        "        intersect_area = intersect_wh[..., 0] * intersect_wh[..., 1]\n",
        "        box_area = wh[..., 0] * wh[..., 1]\n",
        "        anchor_area = anchors[..., 0] * anchors[..., 1]\n",
        "        iou = intersect_area / (box_area + anchor_area - intersect_area)\n",
        "\n",
        "        best_anchor = np.argmax(iou, axis=-1) # Находим лучшее значение iou для всех анкоров\n",
        "\n",
        "        for t, n in enumerate(best_anchor):\n",
        "            for l in range(num_layers):\n",
        "                if n in anchor_mask[l]:\n",
        "                    i = np.floor(true_boxes[b,t,0] * grid_shapes[l][1]).astype('int32')\n",
        "                    j = np.floor(true_boxes[b,t,1] * grid_shapes[l][0]).astype('int32')\n",
        "                    k = anchor_mask[l].index(n)\n",
        "                    c = true_boxes[b,t, 4].astype('int32')\n",
        "                    y_true[l][b, j, i, k, 0:4] = true_boxes[b,t, 0:4]\n",
        "                    y_true[l][b, j, i, k, 4] = 1\n",
        "                    y_true[l][b, j, i, k, 5+c] = 1\n",
        "    return y_true"
      ],
      "execution_count": null,
      "outputs": []
    },
    {
      "cell_type": "code",
      "metadata": {
        "id": "bcXxqMj1NRSP"
      },
      "source": [
        "# Получение координат ограничивающей рамки\n",
        "def getXY(image):\n",
        "    image_red = np.array(image)[:,:,0]  # Считываем красный канал изображения\n",
        "    indexes = np.where(image_red > 20) # Получаем индексы пискселей красного цвета\n",
        "\n",
        "    # Возвращаем координаты ограничивающей рамки [Xmin, Ymin, Xmax, Ymax]\n",
        "    return [min(indexes[1]), min(indexes[0]), max(indexes[1]), max(indexes[0]) ]\n",
        "\n",
        "# Создание словаря {Имя файла: параметры файла}\n",
        "def get_dict():\n",
        "    dictionary = {} # Создаем пустой словарь\n",
        "    files = os.listdir(path + 'Segment/') # Получаем список файлов\n",
        "    class_id = 0 # Задаем параметр номера класса (у нас всего один класс \"Самолет\")\n",
        "    for f in files:\n",
        "        image = Image.open(path + 'Segment/'+f) # Открываем сегментированное изображение\n",
        "        xy = getXY(image) # Получаем координаты ограничивающей рамки\n",
        "        key = f # Получаем ключ словаря (имя файла)\n",
        "\n",
        "        # Записываем значение в словарь\n",
        "        dictionary[key] = 'Самолеты/'+key+' ' +str (xy[0]) +',' + str(xy[1])+','+str(xy[2])+','+str(xy[3])+','+str(class_id)\n",
        "    print ('Завершена обработка класса: ', name_classes[0]) # Выводим сообщение о заврешении обработки\n",
        "\n",
        "    return dictionary # Возвращаем словарь\n",
        "\n",
        "def rand(a=0, b=1):\n",
        "    return np.random.rand()*(b-a) + a"
      ],
      "execution_count": null,
      "outputs": []
    },
    {
      "cell_type": "markdown",
      "metadata": {
        "id": "j-g3f3NwNsv_"
      },
      "source": [
        "### 4.3.3 Подготовка данных"
      ]
    },
    {
      "cell_type": "code",
      "metadata": {
        "id": "TApuAUVWNRU6",
        "colab": {
          "base_uri": "https://localhost:8080/"
        },
        "outputId": "4d71b4c1-9b3e-44ae-da1f-d9768b4efd60"
      },
      "source": [
        "# Создаем словарь аннотаций (Формат: Имя_файла Xmin,Ymin,Xmax,Ymax,class_id)\n",
        "startTime = time.time() # Засекаем время старта процесса создания словаря\n",
        "dictionary = get_dict() # Вызываем функцию создания словаря\n",
        "\n",
        "# Выводим сообщение о создании словаря и время, потраченное на создание словаря\n",
        "print ('Словарь аннотаций создан! Время создания словаря:'+str(round(time.time() - startTime)) +'сек')"
      ],
      "execution_count": null,
      "outputs": [
        {
          "output_type": "stream",
          "text": [
            "Завершена обработка класса:  Самолеты\n",
            "Словарь аннотаций создан! Время создания словаря:45сек\n"
          ],
          "name": "stdout"
        }
      ]
    },
    {
      "cell_type": "code",
      "metadata": {
        "id": "b_9tXaDhNRXa",
        "colab": {
          "base_uri": "https://localhost:8080/"
        },
        "outputId": "86977370-6a5a-4cb6-caca-97c967450d45"
      },
      "source": [
        "print ('Количество изображений:', len(dictionary)) # Отображаем количество элементов в словаре"
      ],
      "execution_count": null,
      "outputs": [
        {
          "output_type": "stream",
          "text": [
            "Количество изображений: 74\n"
          ],
          "name": "stdout"
        }
      ]
    },
    {
      "cell_type": "code",
      "metadata": {
        "id": "zdAC22qVNRaJ",
        "colab": {
          "base_uri": "https://localhost:8080/"
        },
        "outputId": "cbea4dfe-9236-496e-82f7-4504fc4dd91e"
      },
      "source": [
        "dictionary_np = np.array(list(dictionary.values())) #Создаем numpy массив из значений словаря\n",
        "\n",
        "# Выведем информацию из словаря и из его numpy представления\n",
        "print (dictionary['airplane_2.jpg'])\n",
        "print(dictionary_np[0])"
      ],
      "execution_count": null,
      "outputs": [
        {
          "output_type": "stream",
          "text": [
            "Самолеты/airplane_2.jpg 210,266,1715,742,0\n",
            "Самолеты/airplane_5.jpg 180,246,1734,763,0\n"
          ],
          "name": "stdout"
        }
      ]
    },
    {
      "cell_type": "code",
      "metadata": {
        "id": "xT0QpkF7Lmie",
        "colab": {
          "base_uri": "https://localhost:8080/"
        },
        "outputId": "fc7d9103-f2e4-47e8-bbc8-10b617055af7"
      },
      "source": [
        "val_split = 0.1 # Коэфициент разделения на обучающую и проверочную выборку\n",
        "\n",
        "# Перемешаем значения в массиве\n",
        "np.random.seed(17)\n",
        "np.random.shuffle(dictionary_np)\n",
        "np.random.seed(None)\n",
        "\n",
        "num_val = int(len(dictionary_np) * val_split) # Количество элементов проверочной выборки\n",
        "num_train = len(dictionary_np) - num_val # Количество элементов обучающей выборки\n",
        "print (num_val)\n",
        "print (num_train)"
      ],
      "execution_count": null,
      "outputs": [
        {
          "output_type": "stream",
          "text": [
            "7\n",
            "67\n"
          ],
          "name": "stdout"
        }
      ]
    },
    {
      "cell_type": "markdown",
      "metadata": {
        "id": "U6KhjcDIN2KC"
      },
      "source": [
        "### 4.4.4 Обучение с различными шагами"
      ]
    },
    {
      "cell_type": "markdown",
      "metadata": {
        "id": "waCSUpSxOWS_"
      },
      "source": [
        "#### lr_value = 1e-3 (200 эпох)"
      ]
    },
    {
      "cell_type": "markdown",
      "metadata": {
        "id": "R8Ij9CXqOZCe"
      },
      "source": [
        "Эпохи 1-100"
      ]
    },
    {
      "cell_type": "code",
      "metadata": {
        "id": "eVJYWWLPN1Pc"
      },
      "source": [
        "lr_value = 1e-3 # Задаем размер шага обучения\n",
        "\n",
        "# Компилируем модель\n",
        "model_YOLO.compile(optimizer=Adam(lr=lr_value), loss={'yolo_loss': lambda y_true, y_pred: y_pred})"
      ],
      "execution_count": null,
      "outputs": []
    },
    {
      "cell_type": "code",
      "metadata": {
        "id": "BYryn5lhN1R2",
        "colab": {
          "base_uri": "https://localhost:8080/"
        },
        "outputId": "bd74f6ba-c281-4591-b32d-e462e38a9539"
      },
      "source": [
        "startTime = time.time() # Засекаем время начала процесса обучения\n",
        "batch_size = 8 #Задаем размер пакета\n",
        "model_filename = path +'weights/YOLO/YOLOv3__el1000__opt0.001__ep0_100.h5' # Указываем имя файла для сохранения модели\n",
        "# Запускаем процесс обучения на 100 эпохах\n",
        "history = model_YOLO.fit_generator(data_generator(dictionary_np[:num_train], batch_size, anchors, input_shape),\n",
        "                    steps_per_epoch = max (1, num_train//batch_size),\n",
        "                    validation_data = data_generator(dictionary_np[num_train:], batch_size, anchors, input_shape),\n",
        "                    validation_steps = max (1, num_val//batch_size),\n",
        "                    epochs = 100,\n",
        "                    verbose = 1,\n",
        "                    initial_epoch = 0\n",
        "                    )\n",
        "\n",
        "# Сохраним веса модели\n",
        "model_YOLO.save_weights(model_filename)\n",
        "\n",
        "# Сохраним значения ошибок в csv\n",
        "loss = np.array(history.history['loss']) # Получаем значения ошибки на обучающей выборке\n",
        "val_loss = np.array(history.history['val_loss']) # Получаем значения ошибки на проверочной выборке\n",
        "pd.DataFrame(loss).to_csv(path+'csv/YOLO/loss__el1000_opt0.001__ep0_100.csv') # Сохраняем обучающую выборку\n",
        "pd.DataFrame(val_loss).to_csv(path+'csv/YOLO/valloss__el1000_opt0.001__ep0_100.csv') # Сохраняем проверочную выборку\n",
        "\n",
        "print ('Время обработки: '+ str(round(time.time() - startTime)) + 'сек') # Отображаем время, потраченное на процесс обучения"
      ],
      "execution_count": null,
      "outputs": [
        {
          "output_type": "stream",
          "text": [
            "/usr/local/lib/python3.6/dist-packages/tensorflow/python/keras/engine/training.py:1844: UserWarning: `Model.fit_generator` is deprecated and will be removed in a future version. Please use `Model.fit`, which supports generators.\n",
            "  warnings.warn('`Model.fit_generator` is deprecated and '\n"
          ],
          "name": "stderr"
        },
        {
          "output_type": "stream",
          "text": [
            "Epoch 1/100\n",
            "8/8 [==============================] - 22s 2s/step - loss: 3.0405 - val_loss: 9.7520\n",
            "Epoch 2/100\n",
            "8/8 [==============================] - 9s 1s/step - loss: 2.8295 - val_loss: 52.8191\n",
            "Epoch 3/100\n",
            "8/8 [==============================] - 10s 1s/step - loss: 2.9234 - val_loss: 87.7585\n",
            "Epoch 4/100\n",
            "8/8 [==============================] - 10s 1s/step - loss: 2.9300 - val_loss: 27.2946\n",
            "Epoch 5/100\n",
            "8/8 [==============================] - 9s 1s/step - loss: 2.6231 - val_loss: 7.9236\n",
            "Epoch 6/100\n",
            "8/8 [==============================] - 9s 1s/step - loss: 2.7095 - val_loss: 4.1354\n",
            "Epoch 7/100\n",
            "8/8 [==============================] - 10s 1s/step - loss: 2.6228 - val_loss: 5.8888\n",
            "Epoch 8/100\n",
            "8/8 [==============================] - 10s 1s/step - loss: 2.5376 - val_loss: 7.7458\n",
            "Epoch 9/100\n",
            "8/8 [==============================] - 10s 1s/step - loss: 2.5474 - val_loss: 4.2657\n",
            "Epoch 10/100\n",
            "8/8 [==============================] - 10s 1s/step - loss: 5.2089 - val_loss: 6.4478\n",
            "Epoch 11/100\n",
            "8/8 [==============================] - 10s 1s/step - loss: 2.7981 - val_loss: 40.1313\n",
            "Epoch 12/100\n",
            "8/8 [==============================] - 10s 1s/step - loss: 3.1282 - val_loss: 35.8369\n",
            "Epoch 13/100\n",
            "8/8 [==============================] - 10s 1s/step - loss: 3.1030 - val_loss: 22.5796\n",
            "Epoch 14/100\n",
            "8/8 [==============================] - 10s 1s/step - loss: 3.3601 - val_loss: 30.3741\n",
            "Epoch 15/100\n",
            "8/8 [==============================] - 9s 1s/step - loss: 3.2223 - val_loss: 29.6563\n",
            "Epoch 16/100\n",
            "8/8 [==============================] - 9s 1s/step - loss: 2.8531 - val_loss: 17.5063\n",
            "Epoch 17/100\n",
            "8/8 [==============================] - 10s 1s/step - loss: 2.8225 - val_loss: 44.7174\n",
            "Epoch 18/100\n",
            "8/8 [==============================] - 10s 1s/step - loss: 2.9184 - val_loss: 14.7681\n",
            "Epoch 19/100\n",
            "8/8 [==============================] - 9s 1s/step - loss: 2.9604 - val_loss: 10.1261\n",
            "Epoch 20/100\n",
            "8/8 [==============================] - 10s 1s/step - loss: 2.7312 - val_loss: 5.4797\n",
            "Epoch 21/100\n",
            "8/8 [==============================] - 9s 1s/step - loss: 2.5861 - val_loss: 3.0910\n",
            "Epoch 22/100\n",
            "8/8 [==============================] - 10s 1s/step - loss: 2.6860 - val_loss: 2.7444\n",
            "Epoch 23/100\n",
            "8/8 [==============================] - 10s 1s/step - loss: 2.6168 - val_loss: 2.8532\n",
            "Epoch 24/100\n",
            "8/8 [==============================] - 10s 1s/step - loss: 2.7269 - val_loss: 3.1074\n",
            "Epoch 25/100\n",
            "8/8 [==============================] - 10s 1s/step - loss: 2.5310 - val_loss: 35060.7695\n",
            "Epoch 26/100\n",
            "8/8 [==============================] - 10s 1s/step - loss: 2.5745 - val_loss: 9.2599\n",
            "Epoch 27/100\n",
            "8/8 [==============================] - 9s 1s/step - loss: 2.7065 - val_loss: 4.5154\n",
            "Epoch 28/100\n",
            "8/8 [==============================] - 9s 1s/step - loss: 5.1922 - val_loss: 3.3598\n",
            "Epoch 29/100\n",
            "8/8 [==============================] - 9s 1s/step - loss: 3.1065 - val_loss: 18.5333\n",
            "Epoch 30/100\n",
            "8/8 [==============================] - 10s 1s/step - loss: 3.2492 - val_loss: 25.8446\n",
            "Epoch 31/100\n",
            "8/8 [==============================] - 10s 1s/step - loss: 3.2878 - val_loss: 17.2203\n",
            "Epoch 32/100\n",
            "8/8 [==============================] - 9s 1s/step - loss: 3.1923 - val_loss: 8.1053\n",
            "Epoch 33/100\n",
            "8/8 [==============================] - 10s 1s/step - loss: 4.1223 - val_loss: 5.7496\n",
            "Epoch 34/100\n",
            "8/8 [==============================] - 10s 1s/step - loss: 3.3580 - val_loss: 8.8172\n",
            "Epoch 35/100\n",
            "8/8 [==============================] - 10s 1s/step - loss: 3.0362 - val_loss: 8.8697\n",
            "Epoch 36/100\n",
            "8/8 [==============================] - 9s 1s/step - loss: 3.3538 - val_loss: 5.4139\n",
            "Epoch 37/100\n",
            "8/8 [==============================] - 10s 1s/step - loss: 3.3466 - val_loss: 14.4397\n",
            "Epoch 38/100\n",
            "8/8 [==============================] - 10s 1s/step - loss: 3.3724 - val_loss: 9.9546\n",
            "Epoch 39/100\n",
            "8/8 [==============================] - 10s 1s/step - loss: 3.2360 - val_loss: 10.4884\n",
            "Epoch 40/100\n",
            "8/8 [==============================] - 10s 1s/step - loss: 3.0349 - val_loss: 4.2401\n",
            "Epoch 41/100\n",
            "8/8 [==============================] - 10s 1s/step - loss: 3.0610 - val_loss: 3.7039\n",
            "Epoch 42/100\n",
            "8/8 [==============================] - 10s 1s/step - loss: 2.8566 - val_loss: 3.0901\n",
            "Epoch 43/100\n",
            "8/8 [==============================] - 10s 1s/step - loss: 3.3434 - val_loss: 4.1445\n",
            "Epoch 44/100\n",
            "8/8 [==============================] - 10s 1s/step - loss: 2.7271 - val_loss: 3.4968\n",
            "Epoch 45/100\n",
            "8/8 [==============================] - 10s 1s/step - loss: 2.7953 - val_loss: 5.8532\n",
            "Epoch 46/100\n",
            "8/8 [==============================] - 9s 1s/step - loss: 2.7489 - val_loss: 3.3340\n",
            "Epoch 47/100\n",
            "8/8 [==============================] - 10s 1s/step - loss: 2.9884 - val_loss: 3.9157\n",
            "Epoch 48/100\n",
            "8/8 [==============================] - 10s 1s/step - loss: 2.7371 - val_loss: 4.5560\n",
            "Epoch 49/100\n",
            "8/8 [==============================] - 10s 1s/step - loss: 2.8138 - val_loss: 3.8114\n",
            "Epoch 50/100\n",
            "8/8 [==============================] - 10s 1s/step - loss: 3.4880 - val_loss: 2.9091\n",
            "Epoch 51/100\n",
            "8/8 [==============================] - 10s 1s/step - loss: 2.9349 - val_loss: 3.5588\n",
            "Epoch 52/100\n",
            "8/8 [==============================] - 10s 1s/step - loss: 2.9561 - val_loss: 3.1795\n",
            "Epoch 53/100\n",
            "8/8 [==============================] - 10s 1s/step - loss: 3.2276 - val_loss: 3.2878\n",
            "Epoch 54/100\n",
            "8/8 [==============================] - 10s 1s/step - loss: 2.8378 - val_loss: 5.2047\n",
            "Epoch 55/100\n",
            "8/8 [==============================] - 9s 1s/step - loss: 2.7675 - val_loss: 2.8725\n",
            "Epoch 56/100\n",
            "8/8 [==============================] - 10s 1s/step - loss: 2.8068 - val_loss: 2.7145\n",
            "Epoch 57/100\n",
            "8/8 [==============================] - 10s 1s/step - loss: 2.7690 - val_loss: 3.0105\n",
            "Epoch 58/100\n",
            "8/8 [==============================] - 10s 1s/step - loss: 2.7555 - val_loss: 5.7051\n",
            "Epoch 59/100\n",
            "8/8 [==============================] - 9s 1s/step - loss: 2.8919 - val_loss: 3.1710\n",
            "Epoch 60/100\n",
            "8/8 [==============================] - 10s 1s/step - loss: 3.2652 - val_loss: 2.8923\n",
            "Epoch 61/100\n",
            "8/8 [==============================] - 10s 1s/step - loss: 3.1581 - val_loss: 3.6969\n",
            "Epoch 62/100\n",
            "8/8 [==============================] - 10s 1s/step - loss: 3.2282 - val_loss: 2.8082\n",
            "Epoch 63/100\n",
            "8/8 [==============================] - 10s 1s/step - loss: 2.7604 - val_loss: 5.4492\n",
            "Epoch 64/100\n",
            "8/8 [==============================] - 10s 1s/step - loss: 2.7868 - val_loss: 3.3875\n",
            "Epoch 65/100\n",
            "8/8 [==============================] - 10s 1s/step - loss: 2.9845 - val_loss: 4.7215\n",
            "Epoch 66/100\n",
            "8/8 [==============================] - 10s 1s/step - loss: 2.7217 - val_loss: 4.0036\n",
            "Epoch 67/100\n",
            "8/8 [==============================] - 10s 1s/step - loss: 2.7578 - val_loss: 6.7606\n",
            "Epoch 68/100\n",
            "8/8 [==============================] - 10s 1s/step - loss: 2.8288 - val_loss: 12.3359\n",
            "Epoch 69/100\n",
            "8/8 [==============================] - 10s 1s/step - loss: 2.8993 - val_loss: 6.1450\n",
            "Epoch 70/100\n",
            "8/8 [==============================] - 10s 1s/step - loss: 3.0647 - val_loss: 5.7070\n",
            "Epoch 71/100\n",
            "8/8 [==============================] - 10s 1s/step - loss: 2.8120 - val_loss: 5.0982\n",
            "Epoch 72/100\n",
            "8/8 [==============================] - 10s 1s/step - loss: 2.6710 - val_loss: 3.5085\n",
            "Epoch 73/100\n",
            "8/8 [==============================] - 9s 1s/step - loss: 3.4103 - val_loss: 4.4854\n",
            "Epoch 74/100\n",
            "8/8 [==============================] - 10s 1s/step - loss: 2.8509 - val_loss: 3.1513\n",
            "Epoch 75/100\n",
            "8/8 [==============================] - 10s 1s/step - loss: 2.5607 - val_loss: 5.0864\n",
            "Epoch 76/100\n",
            "8/8 [==============================] - 10s 1s/step - loss: 2.6398 - val_loss: 2.9976\n",
            "Epoch 77/100\n",
            "8/8 [==============================] - 10s 1s/step - loss: 3.3609 - val_loss: 3.0251\n",
            "Epoch 78/100\n",
            "8/8 [==============================] - 10s 1s/step - loss: 2.6648 - val_loss: 3.4181\n",
            "Epoch 79/100\n",
            "8/8 [==============================] - 9s 1s/step - loss: 2.8195 - val_loss: 2.9467\n",
            "Epoch 80/100\n",
            "8/8 [==============================] - 9s 1s/step - loss: 2.7705 - val_loss: 3.0653\n",
            "Epoch 81/100\n",
            "8/8 [==============================] - 10s 1s/step - loss: 2.7028 - val_loss: 2.9480\n",
            "Epoch 82/100\n",
            "8/8 [==============================] - 10s 1s/step - loss: 2.9487 - val_loss: 4.0605\n",
            "Epoch 83/100\n",
            "8/8 [==============================] - 10s 1s/step - loss: 3.1205 - val_loss: 3.7843\n",
            "Epoch 84/100\n",
            "8/8 [==============================] - 9s 1s/step - loss: 2.7126 - val_loss: 6.1683\n",
            "Epoch 85/100\n",
            "8/8 [==============================] - 10s 1s/step - loss: 2.8887 - val_loss: 6.5047\n",
            "Epoch 86/100\n",
            "8/8 [==============================] - 10s 1s/step - loss: 2.5793 - val_loss: 4.7740\n",
            "Epoch 87/100\n",
            "8/8 [==============================] - 10s 1s/step - loss: 3.1175 - val_loss: 4.0057\n",
            "Epoch 88/100\n",
            "8/8 [==============================] - 10s 1s/step - loss: 3.1429 - val_loss: 2.8234\n",
            "Epoch 89/100\n",
            "8/8 [==============================] - 10s 1s/step - loss: 3.1064 - val_loss: 4.9461\n",
            "Epoch 90/100\n",
            "8/8 [==============================] - 10s 1s/step - loss: 2.9389 - val_loss: 5.1720\n",
            "Epoch 91/100\n",
            "8/8 [==============================] - 10s 1s/step - loss: 3.0108 - val_loss: 3.5563\n",
            "Epoch 92/100\n",
            "8/8 [==============================] - 10s 1s/step - loss: 3.0216 - val_loss: 5.3509\n",
            "Epoch 93/100\n",
            "8/8 [==============================] - 9s 1s/step - loss: 3.0158 - val_loss: 3.9900\n",
            "Epoch 94/100\n",
            "8/8 [==============================] - 9s 1s/step - loss: 2.9633 - val_loss: 4.0064\n",
            "Epoch 95/100\n",
            "8/8 [==============================] - 10s 1s/step - loss: 2.8598 - val_loss: 3.7605\n",
            "Epoch 96/100\n",
            "8/8 [==============================] - 10s 1s/step - loss: 2.9333 - val_loss: 3.3350\n",
            "Epoch 97/100\n",
            "8/8 [==============================] - 10s 1s/step - loss: 2.6686 - val_loss: 3.3041\n",
            "Epoch 98/100\n",
            "8/8 [==============================] - 10s 1s/step - loss: 2.7549 - val_loss: 2.5624\n",
            "Epoch 99/100\n",
            "8/8 [==============================] - 9s 1s/step - loss: 2.6997 - val_loss: 6.6719\n",
            "Epoch 100/100\n",
            "8/8 [==============================] - 10s 1s/step - loss: 2.7021 - val_loss: 3.7361\n",
            "Время обработки: 971сек\n"
          ],
          "name": "stdout"
        }
      ]
    },
    {
      "cell_type": "markdown",
      "metadata": {
        "id": "f5s6Zo7BOjlV"
      },
      "source": [
        "Эпохи 101-200"
      ]
    },
    {
      "cell_type": "code",
      "metadata": {
        "id": "-fAX3k-bN1UJ"
      },
      "source": [
        "#\n",
        "# Если была перезагрузка сессии colab, то создаем модель, загружаем веса и  компилируем\n",
        "#\n",
        "model_weight =  path +'weights/YOLO/YOLOv3__el1000__opt0.001__ep0_100.h5' # Указываем файл с весами модели\n",
        "model_YOLO = create_model(input_shape, num_anchors, use_weights=True, weights_path=model_weight)\n",
        "lr_value = 1e-3 # Задаем размер шага обучения\n",
        "\n",
        "# Компилируем модель\n",
        "model_YOLO.compile(optimizer=Adam(lr=lr_value), loss={'yolo_loss':lambda y_true, y_pred: y_pred})"
      ],
      "execution_count": null,
      "outputs": []
    },
    {
      "cell_type": "code",
      "metadata": {
        "id": "Rr-K2yxgN1Wi",
        "colab": {
          "base_uri": "https://localhost:8080/"
        },
        "outputId": "0ded0285-5288-413d-ad13-bf590c74108e"
      },
      "source": [
        "startTime = time.time() # Засекаем время начала процесса обучения\n",
        "batch_size = 8 #Задаем размер пакета\n",
        "model_filename = path +'weights/YOLO/YOLOv3__el1000__opt0.001__ep100_200.h5' # Указываем имя файла для сохранения модели\n",
        "\n",
        "# Запускаем процесс обучения еще на 100 эпохах\n",
        "history = model_YOLO.fit_generator(data_generator(dictionary_np[:num_train], batch_size, anchors, input_shape),\n",
        "                    steps_per_epoch = max (1, num_train//batch_size),\n",
        "                    validation_data = data_generator(dictionary_np[num_train:], batch_size, anchors, input_shape),\n",
        "                    validation_steps = max (1, num_val//batch_size),\n",
        "                    epochs = 200,\n",
        "                    verbose = 1,\n",
        "                    initial_epoch = 100\n",
        "                    )\n",
        "\n",
        "# Сохраним веса модели\n",
        "model_YOLO.save_weights(model_filename)\n",
        "\n",
        "# Сохраним значения ошибок в csv\n",
        "loss = np.array(history.history['loss']) # Получаем значения ошибки на обучающей выборке\n",
        "val_loss = np.array(history.history['val_loss']) # Получаем значения ошибки на проверочной выборке\n",
        "pd.DataFrame(loss).to_csv(path+'csv/YOLO/loss__el1000_opt0.001__ep100_200.csv') # Сохраняем обучающую выборку\n",
        "pd.DataFrame(val_loss).to_csv(path+'csv/YOLO/valloss__el1000_opt0.001__ep100_200.csv') # Сохраняем проверочную выборку\n",
        "\n",
        "print ('Время обработки: '+ str(round(time.time() - startTime)) + 'сек') # Отображаем время, потраченное на процесс обучения"
      ],
      "execution_count": null,
      "outputs": [
        {
          "output_type": "stream",
          "text": [
            "/usr/local/lib/python3.6/dist-packages/tensorflow/python/keras/engine/training.py:1844: UserWarning: `Model.fit_generator` is deprecated and will be removed in a future version. Please use `Model.fit`, which supports generators.\n",
            "  warnings.warn('`Model.fit_generator` is deprecated and '\n"
          ],
          "name": "stderr"
        },
        {
          "output_type": "stream",
          "text": [
            "Epoch 101/200\n",
            "8/8 [==============================] - 10s 1s/step - loss: 3.0365 - val_loss: 25.3441\n",
            "Epoch 102/200\n",
            "8/8 [==============================] - 9s 1s/step - loss: 2.9066 - val_loss: 3.8071\n",
            "Epoch 103/200\n",
            "8/8 [==============================] - 10s 1s/step - loss: 2.9039 - val_loss: 4.4755\n",
            "Epoch 104/200\n",
            "8/8 [==============================] - 10s 1s/step - loss: 2.9394 - val_loss: 5.9149\n",
            "Epoch 105/200\n",
            "8/8 [==============================] - 9s 1s/step - loss: 3.1532 - val_loss: 3.6894\n",
            "Epoch 106/200\n",
            "8/8 [==============================] - 9s 1s/step - loss: 3.0594 - val_loss: 2.9899\n",
            "Epoch 107/200\n",
            "8/8 [==============================] - 10s 1s/step - loss: 2.8117 - val_loss: 2.8103\n",
            "Epoch 108/200\n",
            "8/8 [==============================] - 9s 1s/step - loss: 2.8661 - val_loss: 2.9888\n",
            "Epoch 109/200\n",
            "8/8 [==============================] - 9s 1s/step - loss: 2.8827 - val_loss: 3.9865\n",
            "Epoch 110/200\n",
            "8/8 [==============================] - 9s 1s/step - loss: 2.8370 - val_loss: 3.8477\n",
            "Epoch 111/200\n",
            "8/8 [==============================] - 9s 1s/step - loss: 2.7304 - val_loss: 4.0008\n",
            "Epoch 112/200\n",
            "8/8 [==============================] - 9s 1s/step - loss: 2.6299 - val_loss: 3.3103\n",
            "Epoch 113/200\n",
            "8/8 [==============================] - 9s 1s/step - loss: 2.5236 - val_loss: 2.8865\n",
            "Epoch 114/200\n",
            "8/8 [==============================] - 9s 1s/step - loss: 2.6806 - val_loss: 3.7995\n",
            "Epoch 115/200\n",
            "8/8 [==============================] - 10s 1s/step - loss: 2.5598 - val_loss: 3.5214\n",
            "Epoch 116/200\n",
            "8/8 [==============================] - 10s 1s/step - loss: 2.6069 - val_loss: 3.6676\n",
            "Epoch 117/200\n",
            "8/8 [==============================] - 10s 1s/step - loss: 2.6119 - val_loss: 2.7439\n",
            "Epoch 118/200\n",
            "8/8 [==============================] - 10s 1s/step - loss: 2.5987 - val_loss: 5.3453\n",
            "Epoch 119/200\n",
            "8/8 [==============================] - 10s 1s/step - loss: 2.7993 - val_loss: 4.1092\n",
            "Epoch 120/200\n",
            "8/8 [==============================] - 9s 1s/step - loss: 2.7023 - val_loss: 4.1171\n",
            "Epoch 121/200\n",
            "8/8 [==============================] - 9s 1s/step - loss: 2.7193 - val_loss: 3.4413\n",
            "Epoch 122/200\n",
            "8/8 [==============================] - 9s 1s/step - loss: 2.6022 - val_loss: 3.2023\n",
            "Epoch 123/200\n",
            "8/8 [==============================] - 10s 1s/step - loss: 2.7221 - val_loss: 5.2093\n",
            "Epoch 124/200\n",
            "8/8 [==============================] - 9s 1s/step - loss: 3.2878 - val_loss: 3.5827\n",
            "Epoch 125/200\n",
            "8/8 [==============================] - 10s 1s/step - loss: 2.9364 - val_loss: 3.1377\n",
            "Epoch 126/200\n",
            "8/8 [==============================] - 9s 1s/step - loss: 2.8467 - val_loss: 4.3897\n",
            "Epoch 127/200\n",
            "8/8 [==============================] - 9s 1s/step - loss: 2.7879 - val_loss: 4.5233\n",
            "Epoch 128/200\n",
            "8/8 [==============================] - 9s 1s/step - loss: 2.6587 - val_loss: 3.2944\n",
            "Epoch 129/200\n",
            "8/8 [==============================] - 9s 1s/step - loss: 2.9203 - val_loss: 4.2876\n",
            "Epoch 130/200\n",
            "8/8 [==============================] - 10s 1s/step - loss: 2.6377 - val_loss: 3.8175\n",
            "Epoch 131/200\n",
            "8/8 [==============================] - 9s 1s/step - loss: 2.6032 - val_loss: 3.4023\n",
            "Epoch 132/200\n",
            "8/8 [==============================] - 10s 1s/step - loss: 2.6674 - val_loss: 3.0671\n",
            "Epoch 133/200\n",
            "8/8 [==============================] - 9s 1s/step - loss: 2.7655 - val_loss: 4.0417\n",
            "Epoch 134/200\n",
            "8/8 [==============================] - 10s 1s/step - loss: 2.7235 - val_loss: 4.4551\n",
            "Epoch 135/200\n",
            "8/8 [==============================] - 10s 1s/step - loss: 2.6103 - val_loss: 5.4389\n",
            "Epoch 136/200\n",
            "8/8 [==============================] - 10s 1s/step - loss: 2.6970 - val_loss: 4.1032\n",
            "Epoch 137/200\n",
            "8/8 [==============================] - 9s 1s/step - loss: 2.5276 - val_loss: 2.7625\n",
            "Epoch 138/200\n",
            "8/8 [==============================] - 9s 1s/step - loss: 2.4572 - val_loss: 3.8011\n",
            "Epoch 139/200\n",
            "8/8 [==============================] - 9s 1s/step - loss: 2.4237 - val_loss: 3.1658\n",
            "Epoch 140/200\n",
            "8/8 [==============================] - 9s 1s/step - loss: 2.6181 - val_loss: 3.5385\n",
            "Epoch 141/200\n",
            "8/8 [==============================] - 9s 1s/step - loss: 2.4477 - val_loss: 3.9381\n",
            "Epoch 142/200\n",
            "8/8 [==============================] - 9s 1s/step - loss: 2.3553 - val_loss: 4.1198\n",
            "Epoch 143/200\n",
            "8/8 [==============================] - 9s 1s/step - loss: 2.4263 - val_loss: 3.3601\n",
            "Epoch 144/200\n",
            "8/8 [==============================] - 9s 1s/step - loss: 2.5352 - val_loss: 2.8368\n",
            "Epoch 145/200\n",
            "8/8 [==============================] - 10s 1s/step - loss: 2.5177 - val_loss: 3.0411\n",
            "Epoch 146/200\n",
            "8/8 [==============================] - 10s 1s/step - loss: 2.7140 - val_loss: 4.5341\n",
            "Epoch 147/200\n",
            "8/8 [==============================] - 9s 1s/step - loss: 2.4898 - val_loss: 3.2028\n",
            "Epoch 148/200\n",
            "8/8 [==============================] - 9s 1s/step - loss: 2.5898 - val_loss: 3.4025\n",
            "Epoch 149/200\n",
            "8/8 [==============================] - 10s 1s/step - loss: 2.4440 - val_loss: 2.9002\n",
            "Epoch 150/200\n",
            "8/8 [==============================] - 9s 1s/step - loss: 2.4305 - val_loss: 4.3489\n",
            "Epoch 151/200\n",
            "8/8 [==============================] - 9s 1s/step - loss: 2.4761 - val_loss: 2.5790\n",
            "Epoch 152/200\n",
            "8/8 [==============================] - 9s 1s/step - loss: 2.3216 - val_loss: 3.1084\n",
            "Epoch 153/200\n",
            "8/8 [==============================] - 10s 1s/step - loss: 2.3931 - val_loss: 3.3939\n",
            "Epoch 154/200\n",
            "8/8 [==============================] - 9s 1s/step - loss: 2.4465 - val_loss: 3.6247\n",
            "Epoch 155/200\n",
            "8/8 [==============================] - 9s 1s/step - loss: 2.4680 - val_loss: 4.1273\n",
            "Epoch 156/200\n",
            "8/8 [==============================] - 9s 1s/step - loss: 2.5387 - val_loss: 3.4831\n",
            "Epoch 157/200\n",
            "8/8 [==============================] - 10s 1s/step - loss: 2.4344 - val_loss: 3.5468\n",
            "Epoch 158/200\n",
            "8/8 [==============================] - 9s 1s/step - loss: 2.6814 - val_loss: 3.6501\n",
            "Epoch 159/200\n",
            "8/8 [==============================] - 9s 1s/step - loss: 2.4920 - val_loss: 3.5969\n",
            "Epoch 160/200\n",
            "8/8 [==============================] - 9s 1s/step - loss: 2.6842 - val_loss: 2.9799\n",
            "Epoch 161/200\n",
            "8/8 [==============================] - 10s 1s/step - loss: 2.5300 - val_loss: 3.8052\n",
            "Epoch 162/200\n",
            "8/8 [==============================] - 10s 1s/step - loss: 2.4659 - val_loss: 3.1635\n",
            "Epoch 163/200\n",
            "8/8 [==============================] - 10s 1s/step - loss: 2.8645 - val_loss: 3.2098\n",
            "Epoch 164/200\n",
            "8/8 [==============================] - 9s 1s/step - loss: 2.7866 - val_loss: 3.2668\n",
            "Epoch 165/200\n",
            "8/8 [==============================] - 10s 1s/step - loss: 2.7590 - val_loss: 4.4070\n",
            "Epoch 166/200\n",
            "8/8 [==============================] - 10s 1s/step - loss: 2.6056 - val_loss: 5.3157\n",
            "Epoch 167/200\n",
            "8/8 [==============================] - 9s 1s/step - loss: 3.1067 - val_loss: 9.8520\n",
            "Epoch 168/200\n",
            "8/8 [==============================] - 9s 1s/step - loss: 3.1387 - val_loss: 9.9751\n",
            "Epoch 169/200\n",
            "8/8 [==============================] - 10s 1s/step - loss: 2.8377 - val_loss: 6.6755\n",
            "Epoch 170/200\n",
            "8/8 [==============================] - 10s 1s/step - loss: 3.1654 - val_loss: 15.5777\n",
            "Epoch 171/200\n",
            "8/8 [==============================] - 9s 1s/step - loss: 2.9363 - val_loss: 33.8131\n",
            "Epoch 172/200\n",
            "8/8 [==============================] - 9s 1s/step - loss: 3.0420 - val_loss: 10.3544\n",
            "Epoch 173/200\n",
            "8/8 [==============================] - 9s 1s/step - loss: 2.9501 - val_loss: 6.8783\n",
            "Epoch 174/200\n",
            "8/8 [==============================] - 10s 1s/step - loss: 2.9956 - val_loss: 7.8013\n",
            "Epoch 175/200\n",
            "8/8 [==============================] - 10s 1s/step - loss: 3.1180 - val_loss: 4.9464\n",
            "Epoch 176/200\n",
            "8/8 [==============================] - 10s 1s/step - loss: 2.9173 - val_loss: 8.9700\n",
            "Epoch 177/200\n",
            "8/8 [==============================] - 10s 1s/step - loss: 2.9610 - val_loss: 8.7850\n",
            "Epoch 178/200\n",
            "8/8 [==============================] - 9s 1s/step - loss: 3.1356 - val_loss: 5.5522\n",
            "Epoch 179/200\n",
            "8/8 [==============================] - 10s 1s/step - loss: 2.9019 - val_loss: 4.0491\n",
            "Epoch 180/200\n",
            "8/8 [==============================] - 9s 1s/step - loss: 2.8825 - val_loss: 5.8105\n",
            "Epoch 181/200\n",
            "8/8 [==============================] - 10s 1s/step - loss: 2.7636 - val_loss: 3.2730\n",
            "Epoch 182/200\n",
            "8/8 [==============================] - 10s 1s/step - loss: 2.7973 - val_loss: 2.8963\n",
            "Epoch 183/200\n",
            "8/8 [==============================] - 9s 1s/step - loss: 2.8860 - val_loss: 2.9646\n",
            "Epoch 184/200\n",
            "8/8 [==============================] - 10s 1s/step - loss: 2.8398 - val_loss: 3.2724\n",
            "Epoch 185/200\n",
            "8/8 [==============================] - 9s 1s/step - loss: 2.9294 - val_loss: 3.7308\n",
            "Epoch 186/200\n",
            "8/8 [==============================] - 10s 1s/step - loss: 2.9473 - val_loss: 2.7468\n",
            "Epoch 187/200\n",
            "8/8 [==============================] - 10s 1s/step - loss: 3.0009 - val_loss: 2.9211\n",
            "Epoch 188/200\n",
            "8/8 [==============================] - 9s 1s/step - loss: 2.8418 - val_loss: 4.4508\n",
            "Epoch 189/200\n",
            "8/8 [==============================] - 10s 1s/step - loss: 2.8838 - val_loss: 3.5585\n",
            "Epoch 190/200\n",
            "8/8 [==============================] - 9s 1s/step - loss: 2.6442 - val_loss: 4.6359\n",
            "Epoch 191/200\n",
            "8/8 [==============================] - 9s 1s/step - loss: 2.8711 - val_loss: 4.8402\n",
            "Epoch 192/200\n",
            "8/8 [==============================] - 10s 1s/step - loss: 2.9131 - val_loss: 3.0625\n",
            "Epoch 193/200\n",
            "8/8 [==============================] - 10s 1s/step - loss: 2.7991 - val_loss: 2.7078\n",
            "Epoch 194/200\n",
            "8/8 [==============================] - 9s 1s/step - loss: 2.4013 - val_loss: 2.9786\n",
            "Epoch 195/200\n",
            "8/8 [==============================] - 10s 1s/step - loss: 2.7332 - val_loss: 2.5315\n",
            "Epoch 196/200\n",
            "8/8 [==============================] - 9s 1s/step - loss: 2.3997 - val_loss: 2.9668\n",
            "Epoch 197/200\n",
            "8/8 [==============================] - 9s 1s/step - loss: 2.5850 - val_loss: 2.6535\n",
            "Epoch 198/200\n",
            "8/8 [==============================] - 9s 1s/step - loss: 2.8313 - val_loss: 4.2470\n",
            "Epoch 199/200\n",
            "8/8 [==============================] - 10s 1s/step - loss: 2.5491 - val_loss: 3.0334\n",
            "Epoch 200/200\n",
            "8/8 [==============================] - 10s 1s/step - loss: 2.5299 - val_loss: 3.4843\n",
            "Время обработки: 953сек\n"
          ],
          "name": "stdout"
        }
      ]
    },
    {
      "cell_type": "markdown",
      "metadata": {
        "id": "gGu0sXgjOpvf"
      },
      "source": [
        "#### lr_value = 1e-4 (200 эпох)"
      ]
    },
    {
      "cell_type": "markdown",
      "metadata": {
        "id": "rUDtNdC7Otis"
      },
      "source": [
        "Эпохи 201-300"
      ]
    },
    {
      "cell_type": "code",
      "metadata": {
        "id": "YWZm3ONoN1Yp"
      },
      "source": [
        "#\n",
        "# Если была перезагрузка сессии colab, то создаем модель, загружаем веса и  компилируем\n",
        "#\n",
        "\n",
        "model_weight =  path +'weights/YOLO/YOLOv3__el1000__opt0.001__ep100_200.h5' # Указываем файл с весами модели\n",
        "model_YOLO = create_model(input_shape, num_anchors, use_weights=True, weights_path=model_weight)\n",
        "model_YOLO.load_weights(model_weight) # Загружаем посчитанные веса модели\n",
        "lr_value = 1e-4 # Задаем размер шага обучения\n",
        "\n",
        "# Компилируем модель\n",
        "model_YOLO.compile(optimizer=Adam(lr=lr_value), loss={'yolo_loss':lambda y_true, y_pred: y_pred})"
      ],
      "execution_count": null,
      "outputs": []
    },
    {
      "cell_type": "code",
      "metadata": {
        "id": "OnW4fnNjN1bG",
        "colab": {
          "base_uri": "https://localhost:8080/"
        },
        "outputId": "c779ad7a-7f5f-42a5-ef3a-a36edc8b38d5"
      },
      "source": [
        "startTime = time.time() # Засекаем время начала процесса обучения\n",
        "batch_size = 8 #Задаем размер пакета\n",
        "model_filename = path +'weights/YOLO/YOLOv3__el1000__opt0.0001__ep0_100.h5' # Указываем имя файла для сохранения модели\n",
        "\n",
        "# Запускаем процесс обучения на 100 эпохах\n",
        "history = model_YOLO.fit_generator(data_generator(dictionary_np[:num_train], batch_size, anchors, input_shape),\n",
        "                    steps_per_epoch = max (1, num_train//batch_size),\n",
        "                    validation_data = data_generator(dictionary_np[num_train:], batch_size, anchors, input_shape),\n",
        "                    validation_steps = max (1, num_val//batch_size),\n",
        "                    epochs = 100,\n",
        "                    verbose = 1,\n",
        "                    initial_epoch = 0\n",
        "                    )\n",
        "\n",
        "# Сохраним веса модели\n",
        "model_YOLO.save_weights(model_filename)\n",
        "\n",
        "# Сохраним значения ошибок в csv\n",
        "loss = np.array(history.history['loss']) # Получаем значения ошибки на обучающей выборке\n",
        "val_loss = np.array(history.history['val_loss']) # Получаем значения ошибки на проверочной выборке\n",
        "pd.DataFrame(loss).to_csv(path+'csv/YOLO/loss__el1000_opt0.0001__ep0_100.csv') # Сохраняем обучающую выборку\n",
        "pd.DataFrame(val_loss).to_csv(path+'csv/YOLO/valloss__el1000_opt0.0001__ep0_100.csv') # Сохраняем проверочную выборку\n",
        "\n",
        "print ('Время обработки: '+ str(round(time.time() - startTime)) + 'сек') # Отображаем время, потраченное на процесс обучения"
      ],
      "execution_count": null,
      "outputs": [
        {
          "output_type": "stream",
          "text": [
            "/usr/local/lib/python3.6/dist-packages/tensorflow/python/keras/engine/training.py:1844: UserWarning: `Model.fit_generator` is deprecated and will be removed in a future version. Please use `Model.fit`, which supports generators.\n",
            "  warnings.warn('`Model.fit_generator` is deprecated and '\n"
          ],
          "name": "stderr"
        },
        {
          "output_type": "stream",
          "text": [
            "Epoch 1/100\n",
            "8/8 [==============================] - 10s 1s/step - loss: 2.9170 - val_loss: 2.7236\n",
            "Epoch 2/100\n",
            "8/8 [==============================] - 10s 1s/step - loss: 2.6254 - val_loss: 3.4271\n",
            "Epoch 3/100\n",
            "8/8 [==============================] - 9s 1s/step - loss: 2.5081 - val_loss: 5.5834\n",
            "Epoch 4/100\n",
            "8/8 [==============================] - 9s 1s/step - loss: 2.7323 - val_loss: 3.2383\n",
            "Epoch 5/100\n",
            "8/8 [==============================] - 9s 1s/step - loss: 2.5238 - val_loss: 3.5300\n",
            "Epoch 6/100\n",
            "8/8 [==============================] - 9s 1s/step - loss: 2.4959 - val_loss: 3.8469\n",
            "Epoch 7/100\n",
            "8/8 [==============================] - 9s 1s/step - loss: 2.7328 - val_loss: 3.2049\n",
            "Epoch 8/100\n",
            "8/8 [==============================] - 9s 1s/step - loss: 2.4216 - val_loss: 3.7130\n",
            "Epoch 9/100\n",
            "8/8 [==============================] - 10s 1s/step - loss: 2.5067 - val_loss: 3.3633\n",
            "Epoch 10/100\n",
            "8/8 [==============================] - 9s 1s/step - loss: 2.6199 - val_loss: 4.1280\n",
            "Epoch 11/100\n",
            "8/8 [==============================] - 10s 1s/step - loss: 2.6574 - val_loss: 3.7655\n",
            "Epoch 12/100\n",
            "8/8 [==============================] - 10s 1s/step - loss: 2.6151 - val_loss: 2.4012\n",
            "Epoch 13/100\n",
            "8/8 [==============================] - 10s 1s/step - loss: 2.4301 - val_loss: 3.2703\n",
            "Epoch 14/100\n",
            "8/8 [==============================] - 10s 1s/step - loss: 2.5101 - val_loss: 3.9665\n",
            "Epoch 15/100\n",
            "8/8 [==============================] - 10s 1s/step - loss: 2.4360 - val_loss: 2.4496\n",
            "Epoch 16/100\n",
            "8/8 [==============================] - 10s 1s/step - loss: 2.4835 - val_loss: 2.8210\n",
            "Epoch 17/100\n",
            "8/8 [==============================] - 10s 1s/step - loss: 2.6512 - val_loss: 4.5020\n",
            "Epoch 18/100\n",
            "8/8 [==============================] - 10s 1s/step - loss: 2.5388 - val_loss: 2.8892\n",
            "Epoch 19/100\n",
            "8/8 [==============================] - 10s 1s/step - loss: 2.5026 - val_loss: 3.2464\n",
            "Epoch 20/100\n",
            "8/8 [==============================] - 9s 1s/step - loss: 2.5779 - val_loss: 2.4026\n",
            "Epoch 21/100\n",
            "8/8 [==============================] - 10s 1s/step - loss: 2.3550 - val_loss: 3.0259\n",
            "Epoch 22/100\n",
            "8/8 [==============================] - 9s 1s/step - loss: 2.5952 - val_loss: 2.8576\n",
            "Epoch 23/100\n",
            "8/8 [==============================] - 10s 1s/step - loss: 2.5283 - val_loss: 3.6523\n",
            "Epoch 24/100\n",
            "8/8 [==============================] - 10s 1s/step - loss: 2.5195 - val_loss: 2.6934\n",
            "Epoch 25/100\n",
            "8/8 [==============================] - 9s 1s/step - loss: 2.5001 - val_loss: 2.5674\n",
            "Epoch 26/100\n",
            "8/8 [==============================] - 9s 1s/step - loss: 2.3991 - val_loss: 2.3812\n",
            "Epoch 27/100\n",
            "8/8 [==============================] - 9s 1s/step - loss: 2.5204 - val_loss: 3.8740\n",
            "Epoch 28/100\n",
            "8/8 [==============================] - 10s 1s/step - loss: 2.5062 - val_loss: 4.2428\n",
            "Epoch 29/100\n",
            "8/8 [==============================] - 10s 1s/step - loss: 2.4451 - val_loss: 3.4021\n",
            "Epoch 30/100\n",
            "8/8 [==============================] - 9s 1s/step - loss: 2.2664 - val_loss: 3.1409\n",
            "Epoch 31/100\n",
            "8/8 [==============================] - 9s 1s/step - loss: 2.4461 - val_loss: 3.8086\n",
            "Epoch 32/100\n",
            "8/8 [==============================] - 9s 1s/step - loss: 2.7120 - val_loss: 3.0950\n",
            "Epoch 33/100\n",
            "8/8 [==============================] - 9s 1s/step - loss: 2.5892 - val_loss: 3.8281\n",
            "Epoch 34/100\n",
            "8/8 [==============================] - 10s 1s/step - loss: 2.3807 - val_loss: 5.9929\n",
            "Epoch 35/100\n",
            "8/8 [==============================] - 9s 1s/step - loss: 2.7493 - val_loss: 5.3274\n",
            "Epoch 36/100\n",
            "8/8 [==============================] - 9s 1s/step - loss: 2.6238 - val_loss: 3.3078\n",
            "Epoch 37/100\n",
            "8/8 [==============================] - 9s 1s/step - loss: 2.4703 - val_loss: 4.5154\n",
            "Epoch 38/100\n",
            "8/8 [==============================] - 9s 1s/step - loss: 2.9507 - val_loss: 3.9822\n",
            "Epoch 39/100\n",
            "8/8 [==============================] - 10s 1s/step - loss: 2.5338 - val_loss: 3.6620\n",
            "Epoch 40/100\n",
            "8/8 [==============================] - 9s 1s/step - loss: 2.6226 - val_loss: 4.0636\n",
            "Epoch 41/100\n",
            "8/8 [==============================] - 10s 1s/step - loss: 2.4883 - val_loss: 3.5558\n",
            "Epoch 42/100\n",
            "8/8 [==============================] - 9s 1s/step - loss: 2.6564 - val_loss: 4.2324\n",
            "Epoch 43/100\n",
            "8/8 [==============================] - 9s 1s/step - loss: 2.4057 - val_loss: 4.9120\n",
            "Epoch 44/100\n",
            "8/8 [==============================] - 10s 1s/step - loss: 2.5191 - val_loss: 3.0429\n",
            "Epoch 45/100\n",
            "8/8 [==============================] - 10s 1s/step - loss: 2.5236 - val_loss: 2.6048\n",
            "Epoch 46/100\n",
            "8/8 [==============================] - 10s 1s/step - loss: 2.3784 - val_loss: 3.0088\n",
            "Epoch 47/100\n",
            "8/8 [==============================] - 9s 1s/step - loss: 2.4451 - val_loss: 2.9159\n",
            "Epoch 48/100\n",
            "8/8 [==============================] - 10s 1s/step - loss: 2.3944 - val_loss: 3.5385\n",
            "Epoch 49/100\n",
            "8/8 [==============================] - 10s 1s/step - loss: 2.3394 - val_loss: 2.6003\n",
            "Epoch 50/100\n",
            "8/8 [==============================] - 10s 1s/step - loss: 2.4409 - val_loss: 2.5515\n",
            "Epoch 51/100\n",
            "8/8 [==============================] - 9s 1s/step - loss: 2.5526 - val_loss: 2.3060\n",
            "Epoch 52/100\n",
            "8/8 [==============================] - 9s 1s/step - loss: 2.5467 - val_loss: 3.2445\n",
            "Epoch 53/100\n",
            "8/8 [==============================] - 10s 1s/step - loss: 2.9236 - val_loss: 2.5853\n",
            "Epoch 54/100\n",
            "8/8 [==============================] - 10s 1s/step - loss: 2.6771 - val_loss: 4.2018\n",
            "Epoch 55/100\n",
            "8/8 [==============================] - 10s 1s/step - loss: 3.1867 - val_loss: 13.1024\n",
            "Epoch 56/100\n",
            "8/8 [==============================] - 10s 1s/step - loss: 2.9049 - val_loss: 30.0537\n",
            "Epoch 57/100\n",
            "8/8 [==============================] - 10s 1s/step - loss: 2.9760 - val_loss: 78.3361\n",
            "Epoch 58/100\n",
            "8/8 [==============================] - 10s 1s/step - loss: 2.7531 - val_loss: 139.7097\n",
            "Epoch 59/100\n",
            "8/8 [==============================] - 9s 1s/step - loss: 2.6384 - val_loss: 55.8402\n",
            "Epoch 60/100\n",
            "8/8 [==============================] - 10s 1s/step - loss: 2.5874 - val_loss: 20.5248\n",
            "Epoch 61/100\n",
            "8/8 [==============================] - 10s 1s/step - loss: 2.6015 - val_loss: 6.8204\n",
            "Epoch 62/100\n",
            "8/8 [==============================] - 10s 1s/step - loss: 2.5539 - val_loss: 4.8563\n",
            "Epoch 63/100\n",
            "8/8 [==============================] - 10s 1s/step - loss: 2.4491 - val_loss: 3.4142\n",
            "Epoch 64/100\n",
            "8/8 [==============================] - 10s 1s/step - loss: 2.5866 - val_loss: 3.8670\n",
            "Epoch 65/100\n",
            "8/8 [==============================] - 10s 1s/step - loss: 2.7014 - val_loss: 3.4880\n",
            "Epoch 66/100\n",
            "8/8 [==============================] - 10s 1s/step - loss: 2.4959 - val_loss: 3.0493\n",
            "Epoch 67/100\n",
            "8/8 [==============================] - 10s 1s/step - loss: 2.5183 - val_loss: 4.3003\n",
            "Epoch 68/100\n",
            "8/8 [==============================] - 10s 1s/step - loss: 2.3947 - val_loss: 3.5995\n",
            "Epoch 69/100\n",
            "8/8 [==============================] - 9s 1s/step - loss: 2.4663 - val_loss: 5.5101\n",
            "Epoch 70/100\n",
            "8/8 [==============================] - 10s 1s/step - loss: 2.9447 - val_loss: 4.2110\n",
            "Epoch 71/100\n",
            "8/8 [==============================] - 10s 1s/step - loss: 2.7188 - val_loss: 5.3721\n",
            "Epoch 72/100\n",
            "8/8 [==============================] - 10s 1s/step - loss: 2.7335 - val_loss: 2.9143\n",
            "Epoch 73/100\n",
            "8/8 [==============================] - 10s 1s/step - loss: 2.7010 - val_loss: 2.9115\n",
            "Epoch 74/100\n",
            "8/8 [==============================] - 10s 1s/step - loss: 2.4845 - val_loss: 2.9881\n",
            "Epoch 75/100\n",
            "8/8 [==============================] - 10s 1s/step - loss: 2.5929 - val_loss: 3.2446\n",
            "Epoch 76/100\n",
            "8/8 [==============================] - 9s 1s/step - loss: 2.9021 - val_loss: 4.2704\n",
            "Epoch 77/100\n",
            "8/8 [==============================] - 10s 1s/step - loss: 2.6219 - val_loss: 4.3296\n",
            "Epoch 78/100\n",
            "8/8 [==============================] - 9s 1s/step - loss: 2.7512 - val_loss: 3.2886\n",
            "Epoch 79/100\n",
            "8/8 [==============================] - 9s 1s/step - loss: 2.6154 - val_loss: 2.9950\n",
            "Epoch 80/100\n",
            "8/8 [==============================] - 10s 1s/step - loss: 2.7634 - val_loss: 5.3739\n",
            "Epoch 81/100\n",
            "8/8 [==============================] - 10s 1s/step - loss: 2.6861 - val_loss: 13.7287\n",
            "Epoch 82/100\n",
            "8/8 [==============================] - 9s 1s/step - loss: 2.7903 - val_loss: 3.6386\n",
            "Epoch 83/100\n",
            "8/8 [==============================] - 10s 1s/step - loss: 2.4465 - val_loss: 4.9752\n",
            "Epoch 84/100\n",
            "8/8 [==============================] - 9s 1s/step - loss: 2.6178 - val_loss: 3.6766\n",
            "Epoch 85/100\n",
            "8/8 [==============================] - 9s 1s/step - loss: 3.0786 - val_loss: 2.9731\n",
            "Epoch 86/100\n",
            "8/8 [==============================] - 10s 1s/step - loss: 2.6684 - val_loss: 8.0215\n",
            "Epoch 87/100\n",
            "8/8 [==============================] - 9s 1s/step - loss: 2.6592 - val_loss: 4.8186\n",
            "Epoch 88/100\n",
            "8/8 [==============================] - 10s 1s/step - loss: 2.7149 - val_loss: 4.8832\n",
            "Epoch 89/100\n",
            "8/8 [==============================] - 10s 1s/step - loss: 2.6256 - val_loss: 2.7278\n",
            "Epoch 90/100\n",
            "8/8 [==============================] - 10s 1s/step - loss: 2.5467 - val_loss: 3.7704\n",
            "Epoch 91/100\n",
            "8/8 [==============================] - 10s 1s/step - loss: 2.4626 - val_loss: 4.7719\n",
            "Epoch 92/100\n",
            "8/8 [==============================] - 10s 1s/step - loss: 2.5617 - val_loss: 3.0503\n",
            "Epoch 93/100\n",
            "8/8 [==============================] - 10s 1s/step - loss: 2.4645 - val_loss: 2.5799\n",
            "Epoch 94/100\n",
            "8/8 [==============================] - 9s 1s/step - loss: 2.3923 - val_loss: 4.1488\n",
            "Epoch 95/100\n",
            "8/8 [==============================] - 9s 1s/step - loss: 2.5885 - val_loss: 3.1590\n",
            "Epoch 96/100\n",
            "8/8 [==============================] - 9s 1s/step - loss: 2.5848 - val_loss: 4.5209\n",
            "Epoch 97/100\n",
            "8/8 [==============================] - 10s 1s/step - loss: 2.6258 - val_loss: 4.2255\n",
            "Epoch 98/100\n",
            "8/8 [==============================] - 10s 1s/step - loss: 2.5042 - val_loss: 2.7998\n",
            "Epoch 99/100\n",
            "8/8 [==============================] - 9s 1s/step - loss: 2.5143 - val_loss: 3.0444\n",
            "Epoch 100/100\n",
            "8/8 [==============================] - 9s 1s/step - loss: 2.3843 - val_loss: 2.9003\n",
            "Время обработки: 955сек\n"
          ],
          "name": "stdout"
        }
      ]
    },
    {
      "cell_type": "markdown",
      "metadata": {
        "id": "r1Spk4-2O1f-"
      },
      "source": [
        "Эпохи 301-400"
      ]
    },
    {
      "cell_type": "code",
      "metadata": {
        "id": "NbY3UYtaN1dr"
      },
      "source": [
        "#\n",
        "# Если была перезагрузка сессии colab, то создаем модель, загружаем веса и  компилируем\n",
        "#\n",
        "model_weight =  path +'weights/YOLO/YOLOv3__el1000__opt0.0001__ep0_100.h5' # Указываем файл с весами модели\n",
        "model_YOLO = create_model(input_shape, num_anchors, use_weights=True, weights_path=model_weight)\n",
        "model_YOLO.load_weights(model_weight) # Загружаем посчитанные веса модели\n",
        "lr_value = 1e-4 # Задаем размер шага обучения\n",
        "\n",
        "# Компилируем модель\n",
        "model_YOLO.compile(optimizer=Adam(lr=lr_value), loss={'yolo_loss':lambda y_true, y_pred: y_pred})"
      ],
      "execution_count": null,
      "outputs": []
    },
    {
      "cell_type": "code",
      "metadata": {
        "id": "jm95VuabN1gS",
        "colab": {
          "base_uri": "https://localhost:8080/"
        },
        "outputId": "9ff04364-66b7-4259-e058-aa2ac38e129b"
      },
      "source": [
        "startTime = time.time() # Засекаем время начала процесса обучения\n",
        "batch_size = 8 #Задаем размер пакета\n",
        "model_filename = path +'weights/YOLO/YOLOv3__el1000__opt0.0001__ep100_200.h5' # Указываем имя файла для сохранения модели\n",
        "\n",
        "# Запускаем процесс обучения еще на 100 эпохах\n",
        "history = model_YOLO.fit_generator(data_generator(dictionary_np[:num_train], batch_size, anchors, input_shape),\n",
        "                    steps_per_epoch = max (1, num_train//batch_size),\n",
        "                    validation_data = data_generator(dictionary_np[num_train:], batch_size, anchors, input_shape),\n",
        "                    validation_steps = max (1, num_val//batch_size),\n",
        "                    epochs = 200,\n",
        "                    verbose = 1,\n",
        "                    initial_epoch = 100\n",
        "                    )\n",
        "\n",
        "# Сохраним веса модели\n",
        "model_YOLO.save_weights(model_filename)\n",
        "\n",
        "# Сохраним значения ошибок в csv\n",
        "loss = np.array(history.history['loss']) # Получаем значения ошибки на обучающей выборке\n",
        "val_loss = np.array(history.history['val_loss']) # Получаем значения ошибки на проверочной выборке\n",
        "pd.DataFrame(loss).to_csv(path+'csv/YOLO/loss__el1000_opt0.0001__ep100_200.csv') # Сохраняем обучающую выборку\n",
        "pd.DataFrame(val_loss).to_csv(path+'csv/YOLO/valloss__el1000_opt0.0001__ep100_200.csv') # Сохраняем проверочную выборку\n",
        "\n",
        "print ('Время обработки: '+ str(round(time.time() - startTime)) + 'сек') # Отображаем время, потраченное на процесс обучения"
      ],
      "execution_count": null,
      "outputs": [
        {
          "output_type": "stream",
          "text": [
            "/usr/local/lib/python3.6/dist-packages/tensorflow/python/keras/engine/training.py:1844: UserWarning: `Model.fit_generator` is deprecated and will be removed in a future version. Please use `Model.fit`, which supports generators.\n",
            "  warnings.warn('`Model.fit_generator` is deprecated and '\n"
          ],
          "name": "stderr"
        },
        {
          "output_type": "stream",
          "text": [
            "Epoch 101/200\n",
            "8/8 [==============================] - 10s 1s/step - loss: 2.5796 - val_loss: 2.7027\n",
            "Epoch 102/200\n",
            "8/8 [==============================] - 10s 1s/step - loss: 2.5326 - val_loss: 2.7757\n",
            "Epoch 103/200\n",
            "8/8 [==============================] - 9s 1s/step - loss: 2.4208 - val_loss: 2.5987\n",
            "Epoch 104/200\n",
            "8/8 [==============================] - 9s 1s/step - loss: 2.5144 - val_loss: 2.4639\n",
            "Epoch 105/200\n",
            "8/8 [==============================] - 9s 1s/step - loss: 2.4377 - val_loss: 4.9410\n",
            "Epoch 106/200\n",
            "8/8 [==============================] - 9s 1s/step - loss: 2.6005 - val_loss: 3.8140\n",
            "Epoch 107/200\n",
            "8/8 [==============================] - 10s 1s/step - loss: 2.4300 - val_loss: 2.5659\n",
            "Epoch 108/200\n",
            "8/8 [==============================] - 9s 1s/step - loss: 2.4308 - val_loss: 3.7133\n",
            "Epoch 109/200\n",
            "8/8 [==============================] - 10s 1s/step - loss: 2.4535 - val_loss: 3.6326\n",
            "Epoch 110/200\n",
            "8/8 [==============================] - 10s 1s/step - loss: 2.3568 - val_loss: 3.1107\n",
            "Epoch 111/200\n",
            "8/8 [==============================] - 9s 1s/step - loss: 2.5504 - val_loss: 3.2805\n",
            "Epoch 112/200\n",
            "8/8 [==============================] - 9s 1s/step - loss: 2.4460 - val_loss: 3.2767\n",
            "Epoch 113/200\n",
            "8/8 [==============================] - 10s 1s/step - loss: 2.4741 - val_loss: 5.5622\n",
            "Epoch 114/200\n",
            "8/8 [==============================] - 9s 1s/step - loss: 2.4495 - val_loss: 3.1071\n",
            "Epoch 115/200\n",
            "8/8 [==============================] - 9s 1s/step - loss: 2.8456 - val_loss: 12.1359\n",
            "Epoch 116/200\n",
            "8/8 [==============================] - 9s 1s/step - loss: 2.7491 - val_loss: 19.6110\n",
            "Epoch 117/200\n",
            "8/8 [==============================] - 9s 1s/step - loss: 2.8462 - val_loss: 4.8443\n",
            "Epoch 118/200\n",
            "8/8 [==============================] - 9s 1s/step - loss: 2.8254 - val_loss: 3.1093\n",
            "Epoch 119/200\n",
            "8/8 [==============================] - 10s 1s/step - loss: 2.5606 - val_loss: 2.5922\n",
            "Epoch 120/200\n",
            "8/8 [==============================] - 9s 1s/step - loss: 2.7262 - val_loss: 3.7928\n",
            "Epoch 121/200\n",
            "8/8 [==============================] - 9s 1s/step - loss: 2.6215 - val_loss: 3.2457\n",
            "Epoch 122/200\n",
            "8/8 [==============================] - 9s 1s/step - loss: 2.5248 - val_loss: 2.7019\n",
            "Epoch 123/200\n",
            "8/8 [==============================] - 9s 1s/step - loss: 2.4871 - val_loss: 3.6456\n",
            "Epoch 124/200\n",
            "8/8 [==============================] - 10s 1s/step - loss: 2.3769 - val_loss: 2.6458\n",
            "Epoch 125/200\n",
            "8/8 [==============================] - 9s 1s/step - loss: 2.4705 - val_loss: 2.9719\n",
            "Epoch 126/200\n",
            "8/8 [==============================] - 9s 1s/step - loss: 2.3694 - val_loss: 3.9549\n",
            "Epoch 127/200\n",
            "8/8 [==============================] - 9s 1s/step - loss: 2.8468 - val_loss: 3.5183\n",
            "Epoch 128/200\n",
            "8/8 [==============================] - 9s 1s/step - loss: 2.5134 - val_loss: 4.1375\n",
            "Epoch 129/200\n",
            "8/8 [==============================] - 10s 1s/step - loss: 2.4200 - val_loss: 2.7076\n",
            "Epoch 130/200\n",
            "8/8 [==============================] - 10s 1s/step - loss: 2.6024 - val_loss: 4.2658\n",
            "Epoch 131/200\n",
            "8/8 [==============================] - 9s 1s/step - loss: 2.5192 - val_loss: 5.0704\n",
            "Epoch 132/200\n",
            "8/8 [==============================] - 9s 1s/step - loss: 2.4987 - val_loss: 6.8888\n",
            "Epoch 133/200\n",
            "8/8 [==============================] - 9s 1s/step - loss: 2.4206 - val_loss: 2.7564\n",
            "Epoch 134/200\n",
            "8/8 [==============================] - 9s 1s/step - loss: 2.4068 - val_loss: 2.5929\n",
            "Epoch 135/200\n",
            "8/8 [==============================] - 10s 1s/step - loss: 2.4185 - val_loss: 4.0319\n",
            "Epoch 136/200\n",
            "8/8 [==============================] - 9s 1s/step - loss: 2.4151 - val_loss: 3.8553\n",
            "Epoch 137/200\n",
            "8/8 [==============================] - 9s 1s/step - loss: 2.3243 - val_loss: 2.9664\n",
            "Epoch 138/200\n",
            "8/8 [==============================] - 9s 1s/step - loss: 2.4182 - val_loss: 2.6193\n",
            "Epoch 139/200\n",
            "8/8 [==============================] - 9s 1s/step - loss: 2.3215 - val_loss: 3.1605\n",
            "Epoch 140/200\n",
            "8/8 [==============================] - 9s 1s/step - loss: 2.3439 - val_loss: 3.5338\n",
            "Epoch 141/200\n",
            "8/8 [==============================] - 10s 1s/step - loss: 2.2275 - val_loss: 3.0826\n",
            "Epoch 142/200\n",
            "8/8 [==============================] - 10s 1s/step - loss: 2.3481 - val_loss: 2.6666\n",
            "Epoch 143/200\n",
            "8/8 [==============================] - 9s 1s/step - loss: 2.5058 - val_loss: 3.4316\n",
            "Epoch 144/200\n",
            "8/8 [==============================] - 9s 1s/step - loss: 2.4876 - val_loss: 3.7632\n",
            "Epoch 145/200\n",
            "8/8 [==============================] - 9s 1s/step - loss: 2.4202 - val_loss: 3.5613\n",
            "Epoch 146/200\n",
            "8/8 [==============================] - 9s 1s/step - loss: 2.4801 - val_loss: 2.9992\n",
            "Epoch 147/200\n",
            "8/8 [==============================] - 9s 1s/step - loss: 2.5669 - val_loss: 3.7173\n",
            "Epoch 148/200\n",
            "8/8 [==============================] - 9s 1s/step - loss: 2.4115 - val_loss: 3.0695\n",
            "Epoch 149/200\n",
            "8/8 [==============================] - 10s 1s/step - loss: 2.4376 - val_loss: 3.0175\n",
            "Epoch 150/200\n",
            "8/8 [==============================] - 9s 1s/step - loss: 2.5899 - val_loss: 6.1606\n",
            "Epoch 151/200\n",
            "8/8 [==============================] - 10s 1s/step - loss: 2.3170 - val_loss: 5.8256\n",
            "Epoch 152/200\n",
            "8/8 [==============================] - 9s 1s/step - loss: 3.1012 - val_loss: 41.6130\n",
            "Epoch 153/200\n",
            "8/8 [==============================] - 10s 1s/step - loss: 2.8007 - val_loss: 130.6407\n",
            "Epoch 154/200\n",
            "8/8 [==============================] - 9s 1s/step - loss: 2.8174 - val_loss: 22.1928\n",
            "Epoch 155/200\n",
            "8/8 [==============================] - 9s 1s/step - loss: 3.0359 - val_loss: 13.0656\n",
            "Epoch 156/200\n",
            "8/8 [==============================] - 9s 1s/step - loss: 2.8273 - val_loss: 12.8918\n",
            "Epoch 157/200\n",
            "8/8 [==============================] - 10s 1s/step - loss: 2.9205 - val_loss: 14.2066\n",
            "Epoch 158/200\n",
            "8/8 [==============================] - 10s 1s/step - loss: 3.0233 - val_loss: 6.8128\n",
            "Epoch 159/200\n",
            "8/8 [==============================] - 10s 1s/step - loss: 2.6706 - val_loss: 5.5447\n",
            "Epoch 160/200\n",
            "8/8 [==============================] - 9s 1s/step - loss: 2.7492 - val_loss: 3.0251\n",
            "Epoch 161/200\n",
            "8/8 [==============================] - 9s 1s/step - loss: 2.6636 - val_loss: 5.4837\n",
            "Epoch 162/200\n",
            "8/8 [==============================] - 10s 1s/step - loss: 3.4005 - val_loss: 3.0690\n",
            "Epoch 163/200\n",
            "8/8 [==============================] - 9s 1s/step - loss: 2.6904 - val_loss: 10.4267\n",
            "Epoch 164/200\n",
            "8/8 [==============================] - 10s 1s/step - loss: 2.6655 - val_loss: 5.9443\n",
            "Epoch 165/200\n",
            "8/8 [==============================] - 10s 1s/step - loss: 2.6840 - val_loss: 2.5734\n",
            "Epoch 166/200\n",
            "8/8 [==============================] - 9s 1s/step - loss: 2.8691 - val_loss: 3.4966\n",
            "Epoch 167/200\n",
            "8/8 [==============================] - 9s 1s/step - loss: 2.6917 - val_loss: 2.8997\n",
            "Epoch 168/200\n",
            "8/8 [==============================] - 10s 1s/step - loss: 2.5059 - val_loss: 2.8456\n",
            "Epoch 169/200\n",
            "8/8 [==============================] - 9s 1s/step - loss: 2.6286 - val_loss: 2.8145\n",
            "Epoch 170/200\n",
            "8/8 [==============================] - 9s 1s/step - loss: 2.5703 - val_loss: 2.5977\n",
            "Epoch 171/200\n",
            "8/8 [==============================] - 9s 1s/step - loss: 2.9245 - val_loss: 3.1661\n",
            "Epoch 172/200\n",
            "8/8 [==============================] - 10s 1s/step - loss: 2.5402 - val_loss: 9.3613\n",
            "Epoch 173/200\n",
            "8/8 [==============================] - 9s 1s/step - loss: 2.5293 - val_loss: 4.3990\n",
            "Epoch 174/200\n",
            "8/8 [==============================] - 9s 1s/step - loss: 2.4675 - val_loss: 2.7612\n",
            "Epoch 175/200\n",
            "8/8 [==============================] - 10s 1s/step - loss: 2.5076 - val_loss: 3.5347\n",
            "Epoch 176/200\n",
            "8/8 [==============================] - 9s 1s/step - loss: 2.6143 - val_loss: 2.4681\n",
            "Epoch 177/200\n",
            "8/8 [==============================] - 9s 1s/step - loss: 2.5109 - val_loss: 4.0035\n",
            "Epoch 178/200\n",
            "8/8 [==============================] - 9s 1s/step - loss: 2.5288 - val_loss: 2.9321\n",
            "Epoch 179/200\n",
            "8/8 [==============================] - 9s 1s/step - loss: 2.6998 - val_loss: 5.5262\n",
            "Epoch 180/200\n",
            "8/8 [==============================] - 10s 1s/step - loss: 2.6025 - val_loss: 3.8886\n",
            "Epoch 181/200\n",
            "8/8 [==============================] - 9s 1s/step - loss: 2.5870 - val_loss: 2.5450\n",
            "Epoch 182/200\n",
            "8/8 [==============================] - 9s 1s/step - loss: 2.6290 - val_loss: 2.6221\n",
            "Epoch 183/200\n",
            "8/8 [==============================] - 9s 1s/step - loss: 3.1681 - val_loss: 22.5138\n",
            "Epoch 184/200\n",
            "8/8 [==============================] - 9s 1s/step - loss: 2.8093 - val_loss: 19.8076\n",
            "Epoch 185/200\n",
            "8/8 [==============================] - 9s 1s/step - loss: 2.6821 - val_loss: 34.1027\n",
            "Epoch 186/200\n",
            "8/8 [==============================] - 9s 1s/step - loss: 2.7466 - val_loss: 62.9696\n",
            "Epoch 187/200\n",
            "8/8 [==============================] - 10s 1s/step - loss: 2.8459 - val_loss: 30.5154\n",
            "Epoch 188/200\n",
            "8/8 [==============================] - 9s 1s/step - loss: 2.6055 - val_loss: 9.7877\n",
            "Epoch 189/200\n",
            "8/8 [==============================] - 9s 1s/step - loss: 2.6914 - val_loss: 5.7318\n",
            "Epoch 190/200\n",
            "8/8 [==============================] - 9s 1s/step - loss: 2.6526 - val_loss: 2.8496\n",
            "Epoch 191/200\n",
            "8/8 [==============================] - 9s 1s/step - loss: 2.7257 - val_loss: 2.9158\n",
            "Epoch 192/200\n",
            "8/8 [==============================] - 9s 1s/step - loss: 2.7104 - val_loss: 4.4410\n",
            "Epoch 193/200\n",
            "8/8 [==============================] - 9s 1s/step - loss: 2.7417 - val_loss: 3.6171\n",
            "Epoch 194/200\n",
            "8/8 [==============================] - 9s 1s/step - loss: 2.5648 - val_loss: 4.0049\n",
            "Epoch 195/200\n",
            "8/8 [==============================] - 9s 1s/step - loss: 2.7847 - val_loss: 3.0347\n",
            "Epoch 196/200\n",
            "8/8 [==============================] - 9s 1s/step - loss: 2.4942 - val_loss: 2.8480\n",
            "Epoch 197/200\n",
            "8/8 [==============================] - 10s 1s/step - loss: 2.5055 - val_loss: 2.5875\n",
            "Epoch 198/200\n",
            "8/8 [==============================] - 10s 1s/step - loss: 2.4276 - val_loss: 2.7004\n",
            "Epoch 199/200\n",
            "8/8 [==============================] - 10s 1s/step - loss: 2.4866 - val_loss: 2.6516\n",
            "Epoch 200/200\n",
            "8/8 [==============================] - 9s 1s/step - loss: 2.3531 - val_loss: 3.7071\n",
            "Время обработки: 950сек\n"
          ],
          "name": "stdout"
        }
      ]
    },
    {
      "cell_type": "markdown",
      "metadata": {
        "id": "PdATx_DYO6IL"
      },
      "source": [
        "#### lr_value = 1e-5 (100 эпох)"
      ]
    },
    {
      "cell_type": "markdown",
      "metadata": {
        "id": "63BG6s5vPFTS"
      },
      "source": [
        "Эпохи 401-500"
      ]
    },
    {
      "cell_type": "code",
      "metadata": {
        "id": "kpVljqD9N1ir",
        "colab": {
          "base_uri": "https://localhost:8080/"
        },
        "outputId": "002056bc-af9d-4180-aeae-49865cc56851"
      },
      "source": [
        "#\n",
        "# Если была перезагрузка сессии colab, то создаем модель, загружаем веса и  компилируем\n",
        "#\n",
        "model_weight =  path +'weights/YOLO/YOLOv3__el1000__opt0.0001__ep100_200.h5' # Указываем файл с весами модели\n",
        "model_YOLO = create_model(input_shape, num_anchors, use_weights=True, weights_path=model_weight)\n",
        "model_YOLO.load_weights(model_weight) # Загружаем посчитанные веса модели\n",
        "print ('{} загружены.'.format(model_weight))\n",
        "lr_value = 1e-5 # Задаем размер шага обучения\n",
        "\n",
        "# Компилируем модель\n",
        "model_YOLO.compile(optimizer=Adam(lr=lr_value), loss={'yolo_loss':lambda y_true, y_pred: y_pred})"
      ],
      "execution_count": null,
      "outputs": [
        {
          "output_type": "stream",
          "text": [
            "Создана модель YOLOv3. Количество классов: 1.\n",
            "Загружены веса из файла /content/drive/My Drive/HW_31/Самолётики/weights/YOLO/YOLOv3__el1000__opt0.0001__ep100_200.h5.\n",
            "/content/drive/My Drive/HW_31/Самолётики/weights/YOLO/YOLOv3__el1000__opt0.0001__ep100_200.h5 загружены.\n"
          ],
          "name": "stdout"
        }
      ]
    },
    {
      "cell_type": "code",
      "metadata": {
        "id": "W3HypQxON1lL",
        "colab": {
          "base_uri": "https://localhost:8080/",
          "height": 1000
        },
        "outputId": "27d19ff6-381c-4979-eb02-8581d22f2a08"
      },
      "source": [
        "startTime = time.time() # Засекаем время начала процесса обучения\n",
        "batch_size = 8 #Задаем размер пакета\n",
        "model_filename = path +'weight/YOLO/YOLOv3__el1000__opt0.00001__ep0_100.h5' # Указываем имя файла для сохранения модели\n",
        "\n",
        "# Запускаем процесс обучения на 100 эпохах\n",
        "history = model_YOLO.fit_generator(data_generator(dictionary_np[:num_train], batch_size, anchors, input_shape),\n",
        "                    steps_per_epoch = max (1, num_train//batch_size),\n",
        "                    validation_data = data_generator(dictionary_np[num_train:], batch_size, anchors, input_shape),\n",
        "                    validation_steps = max (1, num_val//batch_size),\n",
        "                    epochs = 100,\n",
        "                    verbose = 1,\n",
        "                    initial_epoch = 0\n",
        "                    )\n",
        "\n",
        "# Сохраним веса модели\n",
        "model_YOLO.save_weights(model_filename)\n",
        "\n",
        "# Сохраним значения ошибок в csv\n",
        "loss = np.array(history.history['loss']) # Получаем значения ошибки на обучающей выборке\n",
        "val_loss = np.array(history.history['val_loss']) # Получаем значения ошибки на проверочной выборке\n",
        "pd.DataFrame(loss).to_csv(path+'csv/YOLO/loss__el1000_opt0.00001__ep0_100.csv') # Сохраняем обучающую выборку\n",
        "pd.DataFrame(val_loss).to_csv(path+'csv/YOLO/valloss__el1000_opt0.00001__ep0_100.csv') # Сохраняем проверочную выборку\n",
        "\n",
        "print ('Время обработки: '+ str(round(time.time() - startTime)) + 'сек') # Отображаем время, потраченное на процесс обучения"
      ],
      "execution_count": null,
      "outputs": [
        {
          "output_type": "stream",
          "text": [
            "/usr/local/lib/python3.6/dist-packages/tensorflow/python/keras/engine/training.py:1844: UserWarning: `Model.fit_generator` is deprecated and will be removed in a future version. Please use `Model.fit`, which supports generators.\n",
            "  warnings.warn('`Model.fit_generator` is deprecated and '\n"
          ],
          "name": "stderr"
        },
        {
          "output_type": "stream",
          "text": [
            "Epoch 1/100\n",
            "8/8 [==============================] - 49s 5s/step - loss: 2.3512 - val_loss: 2.3342\n",
            "Epoch 2/100\n",
            "8/8 [==============================] - 9s 1s/step - loss: 2.4475 - val_loss: 3.3698\n",
            "Epoch 3/100\n",
            "8/8 [==============================] - 9s 1s/step - loss: 2.6278 - val_loss: 2.8784\n",
            "Epoch 4/100\n",
            "8/8 [==============================] - 9s 1s/step - loss: 2.3247 - val_loss: 2.2685\n",
            "Epoch 5/100\n",
            "8/8 [==============================] - 9s 1s/step - loss: 2.3039 - val_loss: 3.4888\n",
            "Epoch 6/100\n",
            "8/8 [==============================] - 9s 1s/step - loss: 2.4382 - val_loss: 2.5433\n",
            "Epoch 7/100\n",
            "8/8 [==============================] - 9s 1s/step - loss: 2.3623 - val_loss: 2.4653\n",
            "Epoch 8/100\n",
            "8/8 [==============================] - 9s 1s/step - loss: 2.4348 - val_loss: 2.6708\n",
            "Epoch 9/100\n",
            "8/8 [==============================] - 9s 1s/step - loss: 2.3907 - val_loss: 2.7345\n",
            "Epoch 10/100\n",
            "8/8 [==============================] - 9s 1s/step - loss: 2.4534 - val_loss: 3.2333\n",
            "Epoch 11/100\n",
            "8/8 [==============================] - 9s 1s/step - loss: 2.3518 - val_loss: 2.7739\n",
            "Epoch 12/100\n",
            "8/8 [==============================] - 9s 1s/step - loss: 2.4282 - val_loss: 3.4710\n",
            "Epoch 13/100\n",
            "8/8 [==============================] - 9s 1s/step - loss: 2.3732 - val_loss: 2.4644\n",
            "Epoch 14/100\n",
            "8/8 [==============================] - 9s 1s/step - loss: 2.3283 - val_loss: 2.5035\n",
            "Epoch 15/100\n",
            "8/8 [==============================] - 9s 1s/step - loss: 2.3125 - val_loss: 3.8981\n",
            "Epoch 16/100\n",
            "8/8 [==============================] - 9s 1s/step - loss: 2.4042 - val_loss: 2.6103\n",
            "Epoch 17/100\n",
            "8/8 [==============================] - 9s 1s/step - loss: 2.3040 - val_loss: 2.6284\n",
            "Epoch 18/100\n",
            "8/8 [==============================] - 9s 1s/step - loss: 2.4660 - val_loss: 2.4780\n",
            "Epoch 19/100\n",
            "8/8 [==============================] - 9s 1s/step - loss: 2.6240 - val_loss: 2.4877\n",
            "Epoch 20/100\n",
            "8/8 [==============================] - 9s 1s/step - loss: 2.5144 - val_loss: 2.6275\n",
            "Epoch 21/100\n",
            "8/8 [==============================] - 9s 1s/step - loss: 2.3297 - val_loss: 3.2094\n",
            "Epoch 22/100\n",
            "8/8 [==============================] - 9s 1s/step - loss: 2.3789 - val_loss: 2.7747\n",
            "Epoch 23/100\n",
            "8/8 [==============================] - 9s 1s/step - loss: 2.3742 - val_loss: 2.8656\n",
            "Epoch 24/100\n",
            "8/8 [==============================] - 9s 1s/step - loss: 2.4263 - val_loss: 2.9351\n",
            "Epoch 25/100\n",
            "8/8 [==============================] - 9s 1s/step - loss: 2.2707 - val_loss: 3.0694\n",
            "Epoch 26/100\n",
            "8/8 [==============================] - 9s 1s/step - loss: 2.3659 - val_loss: 2.5539\n",
            "Epoch 27/100\n",
            "8/8 [==============================] - 9s 1s/step - loss: 2.6007 - val_loss: 2.8063\n",
            "Epoch 28/100\n",
            "8/8 [==============================] - 9s 1s/step - loss: 2.6905 - val_loss: 2.2553\n",
            "Epoch 29/100\n",
            "8/8 [==============================] - 9s 1s/step - loss: 2.2786 - val_loss: 2.5708\n",
            "Epoch 30/100\n",
            "8/8 [==============================] - 9s 1s/step - loss: 2.2806 - val_loss: 3.7986\n",
            "Epoch 31/100\n",
            "8/8 [==============================] - 9s 1s/step - loss: 2.3623 - val_loss: 2.3895\n",
            "Epoch 32/100\n",
            "8/8 [==============================] - 9s 1s/step - loss: 2.2559 - val_loss: 2.2085\n",
            "Epoch 33/100\n",
            "8/8 [==============================] - 9s 1s/step - loss: 2.3836 - val_loss: 3.5032\n",
            "Epoch 34/100\n",
            "8/8 [==============================] - 9s 1s/step - loss: 2.3312 - val_loss: 2.5760\n",
            "Epoch 35/100\n",
            "8/8 [==============================] - 9s 1s/step - loss: 2.3544 - val_loss: 2.8182\n",
            "Epoch 36/100\n",
            "8/8 [==============================] - 9s 1s/step - loss: 2.2525 - val_loss: 2.9578\n",
            "Epoch 37/100\n",
            "8/8 [==============================] - 9s 1s/step - loss: 2.3323 - val_loss: 2.7729\n",
            "Epoch 38/100\n",
            "8/8 [==============================] - 9s 1s/step - loss: 2.3627 - val_loss: 2.3891\n",
            "Epoch 39/100\n",
            "8/8 [==============================] - 9s 1s/step - loss: 2.2305 - val_loss: 2.4388\n",
            "Epoch 40/100\n",
            "8/8 [==============================] - 9s 1s/step - loss: 2.3273 - val_loss: 2.4235\n",
            "Epoch 41/100\n",
            "8/8 [==============================] - 9s 1s/step - loss: 2.3552 - val_loss: 2.7663\n",
            "Epoch 42/100\n",
            "8/8 [==============================] - 9s 1s/step - loss: 2.4689 - val_loss: 2.9423\n",
            "Epoch 43/100\n",
            "8/8 [==============================] - 9s 1s/step - loss: 2.3449 - val_loss: 2.2781\n",
            "Epoch 44/100\n",
            "8/8 [==============================] - 9s 1s/step - loss: 2.3287 - val_loss: 2.2171\n",
            "Epoch 45/100\n",
            "8/8 [==============================] - 9s 1s/step - loss: 2.4395 - val_loss: 3.5915\n",
            "Epoch 46/100\n",
            "8/8 [==============================] - 9s 1s/step - loss: 2.4229 - val_loss: 2.6247\n",
            "Epoch 47/100\n",
            "8/8 [==============================] - 9s 1s/step - loss: 2.2380 - val_loss: 2.4008\n",
            "Epoch 48/100\n",
            "8/8 [==============================] - 9s 1s/step - loss: 2.2854 - val_loss: 2.6907\n",
            "Epoch 49/100\n",
            "8/8 [==============================] - 9s 1s/step - loss: 2.3754 - val_loss: 3.4686\n",
            "Epoch 50/100\n",
            "8/8 [==============================] - 9s 1s/step - loss: 2.2216 - val_loss: 2.6247\n",
            "Epoch 51/100\n",
            "8/8 [==============================] - 9s 1s/step - loss: 2.2700 - val_loss: 2.3725\n",
            "Epoch 52/100\n",
            "8/8 [==============================] - 9s 1s/step - loss: 2.2481 - val_loss: 3.1622\n",
            "Epoch 53/100\n",
            "8/8 [==============================] - 9s 1s/step - loss: 2.3893 - val_loss: 4.3145\n",
            "Epoch 54/100\n",
            "8/8 [==============================] - 9s 1s/step - loss: 2.2676 - val_loss: 3.2538\n",
            "Epoch 55/100\n",
            "8/8 [==============================] - 9s 1s/step - loss: 2.3859 - val_loss: 2.4243\n",
            "Epoch 56/100\n",
            "8/8 [==============================] - 9s 1s/step - loss: 2.4099 - val_loss: 2.6624\n",
            "Epoch 57/100\n",
            "8/8 [==============================] - 9s 1s/step - loss: 2.2670 - val_loss: 2.8189\n",
            "Epoch 58/100\n",
            "8/8 [==============================] - 9s 1s/step - loss: 2.2717 - val_loss: 3.7404\n",
            "Epoch 59/100\n",
            "8/8 [==============================] - 9s 1s/step - loss: 2.4294 - val_loss: 2.8867\n",
            "Epoch 60/100\n",
            "8/8 [==============================] - 9s 1s/step - loss: 2.4086 - val_loss: 3.5696\n",
            "Epoch 61/100\n",
            "8/8 [==============================] - 9s 1s/step - loss: 2.4227 - val_loss: 2.8663\n",
            "Epoch 62/100\n",
            "8/8 [==============================] - 9s 1s/step - loss: 2.3414 - val_loss: 2.4897\n",
            "Epoch 63/100\n",
            "8/8 [==============================] - 9s 1s/step - loss: 2.3538 - val_loss: 2.5951\n",
            "Epoch 64/100\n",
            "8/8 [==============================] - 9s 1s/step - loss: 2.3885 - val_loss: 3.7106\n",
            "Epoch 65/100\n",
            "8/8 [==============================] - 9s 1s/step - loss: 2.3223 - val_loss: 4.3884\n",
            "Epoch 66/100\n",
            "8/8 [==============================] - 9s 1s/step - loss: 2.3132 - val_loss: 2.1610\n",
            "Epoch 67/100\n",
            "8/8 [==============================] - 9s 1s/step - loss: 2.3046 - val_loss: 3.3940\n",
            "Epoch 68/100\n",
            "8/8 [==============================] - 9s 1s/step - loss: 2.3419 - val_loss: 2.9728\n",
            "Epoch 69/100\n",
            "8/8 [==============================] - 9s 1s/step - loss: 2.4850 - val_loss: 2.8011\n",
            "Epoch 70/100\n",
            "8/8 [==============================] - 9s 1s/step - loss: 2.3311 - val_loss: 2.4132\n",
            "Epoch 71/100\n",
            "8/8 [==============================] - 9s 1s/step - loss: 2.3322 - val_loss: 3.3284\n",
            "Epoch 72/100\n",
            "8/8 [==============================] - 9s 1s/step - loss: 2.3311 - val_loss: 2.6034\n",
            "Epoch 73/100\n",
            "8/8 [==============================] - 9s 1s/step - loss: 2.2811 - val_loss: 2.2268\n",
            "Epoch 74/100\n",
            "8/8 [==============================] - 9s 1s/step - loss: 2.4103 - val_loss: 2.6405\n",
            "Epoch 75/100\n",
            "8/8 [==============================] - 9s 1s/step - loss: 2.5685 - val_loss: 2.6128\n",
            "Epoch 76/100\n",
            "8/8 [==============================] - 9s 1s/step - loss: 2.2825 - val_loss: 2.7603\n",
            "Epoch 77/100\n",
            "8/8 [==============================] - 9s 1s/step - loss: 2.3012 - val_loss: 2.5904\n",
            "Epoch 78/100\n",
            "8/8 [==============================] - 9s 1s/step - loss: 2.3060 - val_loss: 2.7382\n",
            "Epoch 79/100\n",
            "8/8 [==============================] - 9s 1s/step - loss: 2.2709 - val_loss: 3.2763\n",
            "Epoch 80/100\n",
            "8/8 [==============================] - 9s 1s/step - loss: 2.3209 - val_loss: 2.3932\n",
            "Epoch 81/100\n",
            "8/8 [==============================] - 9s 1s/step - loss: 2.1837 - val_loss: 2.6260\n",
            "Epoch 82/100\n",
            "8/8 [==============================] - 9s 1s/step - loss: 2.2605 - val_loss: 2.2162\n",
            "Epoch 83/100\n",
            "8/8 [==============================] - 9s 1s/step - loss: 2.4267 - val_loss: 2.5807\n",
            "Epoch 84/100\n",
            "8/8 [==============================] - 9s 1s/step - loss: 2.3923 - val_loss: 2.5123\n",
            "Epoch 85/100\n",
            "8/8 [==============================] - 9s 1s/step - loss: 2.1845 - val_loss: 2.5182\n",
            "Epoch 86/100\n",
            "8/8 [==============================] - 9s 1s/step - loss: 2.2148 - val_loss: 2.5032\n",
            "Epoch 87/100\n",
            "8/8 [==============================] - 9s 1s/step - loss: 2.1994 - val_loss: 2.5517\n",
            "Epoch 88/100\n",
            "8/8 [==============================] - 9s 1s/step - loss: 2.3278 - val_loss: 2.3845\n",
            "Epoch 89/100\n",
            "8/8 [==============================] - 9s 1s/step - loss: 2.2854 - val_loss: 3.4355\n",
            "Epoch 90/100\n",
            "8/8 [==============================] - 9s 1s/step - loss: 2.2881 - val_loss: 2.4890\n",
            "Epoch 91/100\n",
            "8/8 [==============================] - 9s 1s/step - loss: 2.2862 - val_loss: 2.5077\n",
            "Epoch 92/100\n",
            "8/8 [==============================] - 9s 1s/step - loss: 2.4165 - val_loss: 2.4202\n",
            "Epoch 93/100\n",
            "8/8 [==============================] - 9s 1s/step - loss: 2.2890 - val_loss: 2.2081\n",
            "Epoch 94/100\n",
            "8/8 [==============================] - 9s 1s/step - loss: 2.2042 - val_loss: 2.4898\n",
            "Epoch 95/100\n",
            "8/8 [==============================] - 9s 1s/step - loss: 2.3110 - val_loss: 2.6510\n",
            "Epoch 96/100\n",
            "8/8 [==============================] - 9s 1s/step - loss: 2.2442 - val_loss: 2.4809\n",
            "Epoch 97/100\n",
            "8/8 [==============================] - 9s 1s/step - loss: 2.4010 - val_loss: 2.5861\n",
            "Epoch 98/100\n",
            "8/8 [==============================] - 8s 1s/step - loss: 2.6781 - val_loss: 2.4585\n",
            "Epoch 99/100\n",
            "8/8 [==============================] - 9s 1s/step - loss: 2.3050 - val_loss: 3.1620\n",
            "Epoch 100/100\n",
            "8/8 [==============================] - 9s 1s/step - loss: 2.5581 - val_loss: 2.5725\n"
          ],
          "name": "stdout"
        },
        {
          "output_type": "error",
          "ename": "OSError",
          "evalue": "ignored",
          "traceback": [
            "\u001b[0;31m---------------------------------------------------------------------------\u001b[0m",
            "\u001b[0;31mOSError\u001b[0m                                   Traceback (most recent call last)",
            "\u001b[0;32m<ipython-input-51-2b6679554bfd>\u001b[0m in \u001b[0;36m<module>\u001b[0;34m()\u001b[0m\n\u001b[1;32m     14\u001b[0m \u001b[0;34m\u001b[0m\u001b[0m\n\u001b[1;32m     15\u001b[0m \u001b[0;31m# Сохраним веса модели\u001b[0m\u001b[0;34m\u001b[0m\u001b[0;34m\u001b[0m\u001b[0;34m\u001b[0m\u001b[0m\n\u001b[0;32m---> 16\u001b[0;31m \u001b[0mmodel_YOLO\u001b[0m\u001b[0;34m.\u001b[0m\u001b[0msave_weights\u001b[0m\u001b[0;34m(\u001b[0m\u001b[0mmodel_filename\u001b[0m\u001b[0;34m)\u001b[0m\u001b[0;34m\u001b[0m\u001b[0;34m\u001b[0m\u001b[0m\n\u001b[0m\u001b[1;32m     17\u001b[0m \u001b[0;34m\u001b[0m\u001b[0m\n\u001b[1;32m     18\u001b[0m \u001b[0;31m# Сохраним значения ошибок в csv\u001b[0m\u001b[0;34m\u001b[0m\u001b[0;34m\u001b[0m\u001b[0;34m\u001b[0m\u001b[0m\n",
            "\u001b[0;32m/usr/local/lib/python3.6/dist-packages/tensorflow/python/keras/engine/training.py\u001b[0m in \u001b[0;36msave_weights\u001b[0;34m(self, filepath, overwrite, save_format, options)\u001b[0m\n\u001b[1;32m   2105\u001b[0m         \u001b[0;32mreturn\u001b[0m\u001b[0;34m\u001b[0m\u001b[0;34m\u001b[0m\u001b[0m\n\u001b[1;32m   2106\u001b[0m     \u001b[0;32mif\u001b[0m \u001b[0msave_format\u001b[0m \u001b[0;34m==\u001b[0m \u001b[0;34m'h5'\u001b[0m\u001b[0;34m:\u001b[0m\u001b[0;34m\u001b[0m\u001b[0;34m\u001b[0m\u001b[0m\n\u001b[0;32m-> 2107\u001b[0;31m       \u001b[0;32mwith\u001b[0m \u001b[0mh5py\u001b[0m\u001b[0;34m.\u001b[0m\u001b[0mFile\u001b[0m\u001b[0;34m(\u001b[0m\u001b[0mfilepath\u001b[0m\u001b[0;34m,\u001b[0m \u001b[0;34m'w'\u001b[0m\u001b[0;34m)\u001b[0m \u001b[0;32mas\u001b[0m \u001b[0mf\u001b[0m\u001b[0;34m:\u001b[0m\u001b[0;34m\u001b[0m\u001b[0;34m\u001b[0m\u001b[0m\n\u001b[0m\u001b[1;32m   2108\u001b[0m         \u001b[0mhdf5_format\u001b[0m\u001b[0;34m.\u001b[0m\u001b[0msave_weights_to_hdf5_group\u001b[0m\u001b[0;34m(\u001b[0m\u001b[0mf\u001b[0m\u001b[0;34m,\u001b[0m \u001b[0mself\u001b[0m\u001b[0;34m.\u001b[0m\u001b[0mlayers\u001b[0m\u001b[0;34m)\u001b[0m\u001b[0;34m\u001b[0m\u001b[0;34m\u001b[0m\u001b[0m\n\u001b[1;32m   2109\u001b[0m     \u001b[0;32melse\u001b[0m\u001b[0;34m:\u001b[0m\u001b[0;34m\u001b[0m\u001b[0;34m\u001b[0m\u001b[0m\n",
            "\u001b[0;32m/usr/local/lib/python3.6/dist-packages/h5py/_hl/files.py\u001b[0m in \u001b[0;36m__init__\u001b[0;34m(self, name, mode, driver, libver, userblock_size, swmr, rdcc_nslots, rdcc_nbytes, rdcc_w0, track_order, **kwds)\u001b[0m\n\u001b[1;32m    406\u001b[0m                 fid = make_fid(name, mode, userblock_size,\n\u001b[1;32m    407\u001b[0m                                \u001b[0mfapl\u001b[0m\u001b[0;34m,\u001b[0m \u001b[0mfcpl\u001b[0m\u001b[0;34m=\u001b[0m\u001b[0mmake_fcpl\u001b[0m\u001b[0;34m(\u001b[0m\u001b[0mtrack_order\u001b[0m\u001b[0;34m=\u001b[0m\u001b[0mtrack_order\u001b[0m\u001b[0;34m)\u001b[0m\u001b[0;34m,\u001b[0m\u001b[0;34m\u001b[0m\u001b[0;34m\u001b[0m\u001b[0m\n\u001b[0;32m--> 408\u001b[0;31m                                swmr=swmr)\n\u001b[0m\u001b[1;32m    409\u001b[0m \u001b[0;34m\u001b[0m\u001b[0m\n\u001b[1;32m    410\u001b[0m             \u001b[0;32mif\u001b[0m \u001b[0misinstance\u001b[0m\u001b[0;34m(\u001b[0m\u001b[0mlibver\u001b[0m\u001b[0;34m,\u001b[0m \u001b[0mtuple\u001b[0m\u001b[0;34m)\u001b[0m\u001b[0;34m:\u001b[0m\u001b[0;34m\u001b[0m\u001b[0;34m\u001b[0m\u001b[0m\n",
            "\u001b[0;32m/usr/local/lib/python3.6/dist-packages/h5py/_hl/files.py\u001b[0m in \u001b[0;36mmake_fid\u001b[0;34m(name, mode, userblock_size, fapl, fcpl, swmr)\u001b[0m\n\u001b[1;32m    177\u001b[0m         \u001b[0mfid\u001b[0m \u001b[0;34m=\u001b[0m \u001b[0mh5f\u001b[0m\u001b[0;34m.\u001b[0m\u001b[0mcreate\u001b[0m\u001b[0;34m(\u001b[0m\u001b[0mname\u001b[0m\u001b[0;34m,\u001b[0m \u001b[0mh5f\u001b[0m\u001b[0;34m.\u001b[0m\u001b[0mACC_EXCL\u001b[0m\u001b[0;34m,\u001b[0m \u001b[0mfapl\u001b[0m\u001b[0;34m=\u001b[0m\u001b[0mfapl\u001b[0m\u001b[0;34m,\u001b[0m \u001b[0mfcpl\u001b[0m\u001b[0;34m=\u001b[0m\u001b[0mfcpl\u001b[0m\u001b[0;34m)\u001b[0m\u001b[0;34m\u001b[0m\u001b[0;34m\u001b[0m\u001b[0m\n\u001b[1;32m    178\u001b[0m     \u001b[0;32melif\u001b[0m \u001b[0mmode\u001b[0m \u001b[0;34m==\u001b[0m \u001b[0;34m'w'\u001b[0m\u001b[0;34m:\u001b[0m\u001b[0;34m\u001b[0m\u001b[0;34m\u001b[0m\u001b[0m\n\u001b[0;32m--> 179\u001b[0;31m         \u001b[0mfid\u001b[0m \u001b[0;34m=\u001b[0m \u001b[0mh5f\u001b[0m\u001b[0;34m.\u001b[0m\u001b[0mcreate\u001b[0m\u001b[0;34m(\u001b[0m\u001b[0mname\u001b[0m\u001b[0;34m,\u001b[0m \u001b[0mh5f\u001b[0m\u001b[0;34m.\u001b[0m\u001b[0mACC_TRUNC\u001b[0m\u001b[0;34m,\u001b[0m \u001b[0mfapl\u001b[0m\u001b[0;34m=\u001b[0m\u001b[0mfapl\u001b[0m\u001b[0;34m,\u001b[0m \u001b[0mfcpl\u001b[0m\u001b[0;34m=\u001b[0m\u001b[0mfcpl\u001b[0m\u001b[0;34m)\u001b[0m\u001b[0;34m\u001b[0m\u001b[0;34m\u001b[0m\u001b[0m\n\u001b[0m\u001b[1;32m    180\u001b[0m     \u001b[0;32melif\u001b[0m \u001b[0mmode\u001b[0m \u001b[0;34m==\u001b[0m \u001b[0;34m'a'\u001b[0m\u001b[0;34m:\u001b[0m\u001b[0;34m\u001b[0m\u001b[0;34m\u001b[0m\u001b[0m\n\u001b[1;32m    181\u001b[0m         \u001b[0;31m# Open in append mode (read/write).\u001b[0m\u001b[0;34m\u001b[0m\u001b[0;34m\u001b[0m\u001b[0;34m\u001b[0m\u001b[0m\n",
            "\u001b[0;32mh5py/_objects.pyx\u001b[0m in \u001b[0;36mh5py._objects.with_phil.wrapper\u001b[0;34m()\u001b[0m\n",
            "\u001b[0;32mh5py/_objects.pyx\u001b[0m in \u001b[0;36mh5py._objects.with_phil.wrapper\u001b[0;34m()\u001b[0m\n",
            "\u001b[0;32mh5py/h5f.pyx\u001b[0m in \u001b[0;36mh5py.h5f.create\u001b[0;34m()\u001b[0m\n",
            "\u001b[0;31mOSError\u001b[0m: Unable to create file (unable to open file: name = '/content/drive/My Drive/HW_31/Самолётики/weight/YOLO/YOLOv3__el1000__opt0.00001__ep0_100.h5', errno = 2, error message = 'No such file or directory', flags = 13, o_flags = 242)"
          ]
        }
      ]
    },
    {
      "cell_type": "markdown",
      "metadata": {
        "id": "MoTduaGuPMcG"
      },
      "source": [
        "### 4.4.5 Графики обучения"
      ]
    },
    {
      "cell_type": "markdown",
      "metadata": {
        "id": "E4EwEkfHPWQB"
      },
      "source": [
        "#### 100 эпох"
      ]
    },
    {
      "cell_type": "code",
      "metadata": {
        "id": "CXjzGzP9N1nn",
        "colab": {
          "base_uri": "https://localhost:8080/",
          "height": 316
        },
        "outputId": "315e41f6-4337-4345-963a-516e93b799c8"
      },
      "source": [
        "# Первые 100 эпох\n",
        "loss1 = pd.read_csv(path+'csv/YOLO/loss__el1000_opt0.001__ep0_100.csv')\n",
        "values = loss1.values[:, 1]\n",
        "plt.plot(values[10:100],\n",
        "         label='Loss на обучающем наборе')\n",
        "plt.xlabel('Эпоха обучения')\n",
        "plt.ylabel('Ошибка')\n",
        "plt.legend()\n",
        "plt.show()\n",
        "print ('min:', values.min())\n",
        "print ('last:', values[-1])"
      ],
      "execution_count": null,
      "outputs": [
        {
          "output_type": "display_data",
          "data": {
            "image/png": "[encoded data removed]",
            "text/plain": [
              "<Figure size 432x288 with 1 Axes>"
            ]
          },
          "metadata": {
            "tags": [],
            "needs_background": "light"
          }
        },
        {
          "output_type": "stream",
          "text": [
            "min: 2.3850011825561523\n",
            "last: 2.751800537109375\n"
          ],
          "name": "stdout"
        }
      ]
    },
    {
      "cell_type": "markdown",
      "metadata": {
        "id": "coJ2k2-XPbXY"
      },
      "source": [
        "#### 200 эпох"
      ]
    },
    {
      "cell_type": "code",
      "metadata": {
        "id": "DKSfwhRnN1qL",
        "colab": {
          "base_uri": "https://localhost:8080/",
          "height": 316
        },
        "outputId": "c3211c42-69f5-4dd4-a752-6c198a325640"
      },
      "source": [
        "# 200 эпох\n",
        "loss2 = pd.read_csv(path+'csv/YOLO/loss__el1000_opt0.001__ep100_200.csv')\n",
        "values2 = loss2.values[:, 1]\n",
        "full_loss = np.concatenate((values, values2))\n",
        "plt.plot(full_loss[10:],\n",
        "         label='Loss на обучающем наборе')\n",
        "plt.xlabel('Эпоха обучения')\n",
        "plt.ylabel('Ошибка')\n",
        "plt.legend()\n",
        "plt.show()\n",
        "print ('min:', full_loss.min())\n",
        "print ('last:', full_loss[-1])"
      ],
      "execution_count": null,
      "outputs": [
        {
          "output_type": "display_data",
          "data": {
            "image/png": "[encoded data removed]",
            "text/plain": [
              "<Figure size 432x288 with 1 Axes>"
            ]
          },
          "metadata": {
            "tags": [],
            "needs_background": "light"
          }
        },
        {
          "output_type": "stream",
          "text": [
            "min: 2.1987175941467285\n",
            "last: 2.777672529220581\n"
          ],
          "name": "stdout"
        }
      ]
    },
    {
      "cell_type": "markdown",
      "metadata": {
        "id": "Yhebc-ewPcn4"
      },
      "source": [
        "#### 300 эпох"
      ]
    },
    {
      "cell_type": "code",
      "metadata": {
        "id": "TSibOxpxN1vM",
        "colab": {
          "base_uri": "https://localhost:8080/",
          "height": 316
        },
        "outputId": "d2fb9092-0f9f-4c10-ddf1-39d0a0500725"
      },
      "source": [
        "# 300 эпох\n",
        "loss3 = pd.read_csv(path+'csv/YOLO/loss__el1000_opt0.0001__ep0_100.csv')\n",
        "values3 = loss3.values[:, 1]\n",
        "full_loss = np.concatenate((full_loss, values3))\n",
        "plt.plot(full_loss[10:],\n",
        "         label='Loss на обучающем наборе')\n",
        "plt.xlabel('Эпоха обучения')\n",
        "plt.ylabel('Ошибка')\n",
        "plt.legend()\n",
        "plt.show()\n",
        "print ('min:', full_loss.min())\n",
        "print ('last:', full_loss[-1])"
      ],
      "execution_count": null,
      "outputs": [
        {
          "output_type": "display_data",
          "data": {
            "image/png": "[encoded data removed]",
            "text/plain": [
              "<Figure size 432x288 with 1 Axes>"
            ]
          },
          "metadata": {
            "tags": [],
            "needs_background": "light"
          }
        },
        {
          "output_type": "stream",
          "text": [
            "min: 2.1987175941467285\n",
            "last: 2.5951380729675293\n"
          ],
          "name": "stdout"
        }
      ]
    },
    {
      "cell_type": "code",
      "metadata": {
        "id": "uS7CKyVjPgNc",
        "colab": {
          "base_uri": "https://localhost:8080/",
          "height": 297
        },
        "outputId": "2b359ead-2a27-4276-bf3b-01347118180c"
      },
      "source": [
        "plt.plot(full_loss[-80:],\n",
        "         label='Loss на обучающем наборе')\n",
        "plt.xlabel('Эпоха обучения')\n",
        "plt.ylabel('Ошибка')\n",
        "plt.legend()\n",
        "plt.show()\n",
        "print ('min:', full_loss.min())"
      ],
      "execution_count": null,
      "outputs": [
        {
          "output_type": "display_data",
          "data": {
            "image/png": "[encoded data removed]",
            "text/plain": [
              "<Figure size 432x288 with 1 Axes>"
            ]
          },
          "metadata": {
            "tags": [],
            "needs_background": "light"
          }
        },
        {
          "output_type": "stream",
          "text": [
            "min: 2.1987175941467285\n"
          ],
          "name": "stdout"
        }
      ]
    },
    {
      "cell_type": "markdown",
      "metadata": {
        "id": "3qZz7d52PntZ"
      },
      "source": [
        "#### 400 эпох"
      ]
    },
    {
      "cell_type": "code",
      "metadata": {
        "id": "nlBdQCJPPgPz",
        "colab": {
          "base_uri": "https://localhost:8080/",
          "height": 316
        },
        "outputId": "8ea72652-8673-4dad-ebbf-1e17158c08a9"
      },
      "source": [
        "# 400 эпох\n",
        "loss4 = pd.read_csv(path+'csv/YOLO/loss__el1000_opt0.0001__ep100_200.csv')\n",
        "values4 = loss4.values[:, 1]\n",
        "full_loss = np.concatenate((full_loss, values4))\n",
        "plt.plot(full_loss[10:],\n",
        "         label='Loss на обучающем наборе')\n",
        "plt.xlabel('Эпоха обучения')\n",
        "plt.ylabel('Ошибка')\n",
        "plt.legend()\n",
        "plt.show()\n",
        "print ('min:', full_loss.min())\n",
        "print ('last:', full_loss[-1])"
      ],
      "execution_count": null,
      "outputs": [
        {
          "output_type": "display_data",
          "data": {
            "image/png": "[encoded data removed]",
            "text/plain": [
              "<Figure size 432x288 with 1 Axes>"
            ]
          },
          "metadata": {
            "tags": [],
            "needs_background": "light"
          }
        },
        {
          "output_type": "stream",
          "text": [
            "min: 2.193307399749756\n",
            "last: 46.7202377319336\n"
          ],
          "name": "stdout"
        }
      ]
    },
    {
      "cell_type": "code",
      "metadata": {
        "id": "I2MGXBSvPgSU",
        "colab": {
          "base_uri": "https://localhost:8080/",
          "height": 316
        },
        "outputId": "f0e930fb-9def-4020-dec4-52eece108443"
      },
      "source": [
        "plt.plot(full_loss[-80:],\n",
        "         label='Loss на обучающем наборе')\n",
        "plt.xlabel('Эпоха обучения')\n",
        "plt.ylabel('Ошибка')\n",
        "plt.legend()\n",
        "plt.show()\n",
        "print ('min:', full_loss.min())\n",
        "print ('last:', full_loss[-1])"
      ],
      "execution_count": null,
      "outputs": [
        {
          "output_type": "display_data",
          "data": {
            "image/png": "[encoded data removed]",
            "text/plain": [
              "<Figure size 432x288 with 1 Axes>"
            ]
          },
          "metadata": {
            "tags": [],
            "needs_background": "light"
          }
        },
        {
          "output_type": "stream",
          "text": [
            "min: 2.193307399749756\n",
            "last: 46.7202377319336\n"
          ],
          "name": "stdout"
        }
      ]
    },
    {
      "cell_type": "markdown",
      "metadata": {
        "id": "tbEJba14Pr6i"
      },
      "source": [
        "#### 500 эпох"
      ]
    },
    {
      "cell_type": "code",
      "metadata": {
        "id": "jMEdPbSdPgVB"
      },
      "source": [
        "# 500 эпох\n",
        "loss5 = pd.read_csv(path+'csv/YOLO/loss__el1000_opt0.00001__ep0_100.csv')\n",
        "values5 = loss5.values[:, 1]\n",
        "full_loss = np.concatenate((full_loss, values5))\n",
        "plt.plot(full_loss[10:],\n",
        "         label='Loss на обучающем наборе')\n",
        "plt.xlabel('Эпоха обучения')\n",
        "plt.ylabel('Ошибка')\n",
        "plt.legend()\n",
        "plt.show()\n",
        "print ('min:', full_loss.min())\n",
        "print ('last:', full_loss[-1])"
      ],
      "execution_count": null,
      "outputs": []
    },
    {
      "cell_type": "code",
      "metadata": {
        "id": "qKp24LzIPgXh"
      },
      "source": [
        "plt.plot(full_loss[-80:],\n",
        "         label='Loss на обучающем наборе')\n",
        "plt.xlabel('Эпоха обучения')\n",
        "plt.ylabel('Ошибка')\n",
        "plt.legend()\n",
        "plt.show()\n",
        "print ('min:', full_loss.min())\n",
        "print ('last:', full_loss[-1])"
      ],
      "execution_count": null,
      "outputs": []
    },
    {
      "cell_type": "markdown",
      "metadata": {
        "id": "xEKRRkyZPw3E"
      },
      "source": [
        "#### На тестовой выборке"
      ]
    },
    {
      "cell_type": "code",
      "metadata": {
        "id": "g2l1wqPrPgaI",
        "colab": {
          "base_uri": "https://localhost:8080/"
        },
        "outputId": "e0d35230-9ee5-4875-ea7f-e0028529a208"
      },
      "source": [
        "val_loss1 = pd.read_csv(path+'csv/YOLO/valloss__el1000_opt0.001__ep0_100.csv').values[:,1]\n",
        "val_loss2 = pd.read_csv(path+'csv/YOLO/valloss__el1000_opt0.001__ep100_200.csv').values[:,1]\n",
        "val_loss3 = pd.read_csv(path+'csv/YOLO/valloss__el1000_opt0.0001__ep0_100.csv').values[:,1]\n",
        "val_loss4= pd.read_csv(path+'csv/YOLO/valloss__el1000_opt0.0001__ep100_200.csv').values[:,1]\n",
        "#val_loss5= pd.read_csv(path+'csv/YOLO/valloss__el1000_opt0.00001__ep0_100.csv').values[:,1]\n",
        "print ('Ошибки на последней эпохе каждого шага:')\n",
        "print ('100 эпох:', str(round(val_loss1[-1], 4)))\n",
        "print ('210 эпох:', str(round(val_loss2[-1], 4)))\n",
        "print ('300 эпох:', str(round(val_loss3[-1], 4)))\n",
        "print ('400 эпох:', str(round(val_loss4[-1], 4)))\n",
        "#print ('500 эпох:', str(round(val_loss5[-1], 4)))"
      ],
      "execution_count": null,
      "outputs": [
        {
          "output_type": "stream",
          "text": [
            "Ошибки на последней эпохе каждого шага:\n",
            "100 эпох: 4.1225\n",
            "210 эпох: 3.251\n",
            "300 эпох: 3.4302\n",
            "400 эпох: 40668.8516\n"
          ],
          "name": "stdout"
        }
      ]
    },
    {
      "cell_type": "markdown",
      "metadata": {
        "id": "8vWLqLH2P2TF"
      },
      "source": [
        "# 5 Обнаружение объектов"
      ]
    },
    {
      "cell_type": "code",
      "metadata": {
        "id": "zueZXD5mPgc3"
      },
      "source": [
        "model_weight = path + 'weights/YOLOv3__el1000__opt0.00001__ep0_100.h5' # Указываем файл с весами модели\n",
        "max_boxes = 5 # Максимальное количество ограничивающих рамок на изображении"
      ],
      "execution_count": null,
      "outputs": []
    },
    {
      "cell_type": "code",
      "metadata": {
        "id": "nufqkNNcPgfc"
      },
      "source": [
        "model_YOLO = create_YOLOv3(Input(shape=(416, 416, 3)), 9//3) # Создаем модель"
      ],
      "execution_count": null,
      "outputs": []
    },
    {
      "cell_type": "code",
      "metadata": {
        "id": "fjUv_KofPgh7"
      },
      "source": [
        "model_YOLO.load_weights(model_weight) # Загружаем посчитанные веса модели\n",
        "print ('{} загружены.'.format(model_weight))"
      ],
      "execution_count": null,
      "outputs": []
    },
    {
      "cell_type": "code",
      "metadata": {
        "id": "F0sEgiBrPgkb"
      },
      "source": [
        "# Создаем набор цветов для ограничивающих рамок\n",
        "import colorsys\n",
        "hsv_tuples = [(x / len(name_classes), 1., 1.) for x in range(len(name_classes))]\n",
        "colors = list(map(lambda x: colorsys.hsv_to_rgb(*x), hsv_tuples))\n",
        "colors = list(map(lambda x:(int(x[0]*255), int(x[1]*255), int(x[2]*255)), colors))\n",
        "np.random.seed(43)\n",
        "np.random.shuffle(colors)\n",
        "np.random.seed(None)"
      ],
      "execution_count": null,
      "outputs": []
    },
    {
      "cell_type": "code",
      "metadata": {
        "id": "fuVeMdOFN1yG"
      },
      "source": [
        "# Берем изображение из набора или с компьютера\n",
        "#line = annotation['airplane_922'].split()\n",
        "#image = Image.open(path_main_directory+line[0])\n",
        "model_image_size = (416,416) # Задаем размер входных данных\n",
        "image = Image.open(path+'test/plane3.jpg') # Загружаем изображение\n",
        "plt.imshow (image) # Выводим изображение"
      ],
      "execution_count": null,
      "outputs": []
    },
    {
      "cell_type": "code",
      "metadata": {
        "id": "h9NMvywPLmkZ"
      },
      "source": [
        "# Изменяем размер картинки под input_shape\n",
        "iw, ih = image.size\n",
        "w, h = (416, 416)\n",
        "scale = min(w / iw, h / ih)\n",
        "nw = int(iw * scale)\n",
        "nh = int(ih * scale)\n",
        "image_for_predict = image.resize((nw, nh), Image.BICUBIC)\n",
        "new_image = Image.new('RGB', (416,416), (128, 128, 128))\n",
        "new_image.paste(image_for_predict, ((w - nw) // 2, (h - nh) // 2))\n",
        "image_for_predict = new_image\n",
        "image_for_predict = np.array(image_for_predict) / 255.\n",
        "plt.imshow(image_for_predict)\n",
        "image_for_predict = image_for_predict.reshape(1, 416, 416, 3)\n",
        "print (image_for_predict.shape)"
      ],
      "execution_count": null,
      "outputs": []
    },
    {
      "cell_type": "code",
      "metadata": {
        "id": "niWR-GCLQCqN"
      },
      "source": [
        "predict = model_YOLO.predict(image_for_predict)\n",
        "num_layers = len(predict) # Получаем количество сеток\n",
        "anchor_mask = [[6,7,8], [3,4,5], [0,1,2]] # Задаем маски для 3 уровней анкоров\n",
        "input_shape = np.array(predict[0].shape[1:3]) * 32  # Получаем размер выходного изображения\n",
        "image_shape = np.array([image.size[1], image.size[0]]) # Сохраняем размер оригинального изображения\n",
        "print(input_shape)\n",
        "print(image_shape)"
      ],
      "execution_count": null,
      "outputs": []
    },
    {
      "cell_type": "code",
      "metadata": {
        "id": "ndxCDc-bQCst"
      },
      "source": [
        "level_anchor = 0 # Укажем уровень сетки\n",
        "num_anchors = len(anchors[anchor_mask[level_anchor]]) # Получаем количество анкоров\n",
        "anchors_tensor = np.reshape(anchors[anchor_mask[level_anchor]], (1,1,1,num_anchors,2)) # Выбираем анкоры для нашего уровня сетки и решейпим\n",
        "print(anchors_tensor.shape)\n",
        "print(anchors_tensor)"
      ],
      "execution_count": null,
      "outputs": []
    },
    {
      "cell_type": "code",
      "metadata": {
        "id": "iHzbzwanQCyy"
      },
      "source": [
        "grid_shape = predict[level_anchor].shape[1:3] # Получим размерность сетки\n",
        "grid = [] # Массив для финальной сетки\n",
        "grid_row = [] # Массив для столбца\n",
        "for i in range(grid_shape[0]): # По всем строкам\n",
        "  for j in range(grid_shape[1]): # По всем столбцам\n",
        "    grid_row.append([j , i]) # Создаем элемент [j, i]\n",
        "  grid.append(grid_row) # Добавляем столбец в финальную сетку\n",
        "  grid_row = [] # Обнуляем данные для столбца\n",
        "grid = np.array(grid) # Переводим в numpy\n",
        "grid = np.expand_dims(grid, axis=2) # Добавляем размерность\n",
        "print(grid.shape) # Отборажаем размерность сетки"
      ],
      "execution_count": null,
      "outputs": []
    },
    {
      "cell_type": "code",
      "metadata": {
        "id": "C1dxT-VNQC1i"
      },
      "source": [
        "# Решейпим предикт\n",
        "feats = np.reshape(predict[level_anchor], (-1, grid_shape[0], grid_shape[1], num_anchors, num_classes+5))\n",
        "print(feats.shape)\n",
        "print (feats[0][6][7][1])"
      ],
      "execution_count": null,
      "outputs": []
    },
    {
      "cell_type": "code",
      "metadata": {
        "id": "0XIfyZZvQC3r"
      },
      "source": [
        "print (feats[0][2][8][2])"
      ],
      "execution_count": null,
      "outputs": []
    },
    {
      "cell_type": "code",
      "metadata": {
        "id": "zwLIfaoxQC51"
      },
      "source": [
        "print (feats[0][2][2][2])"
      ],
      "execution_count": null,
      "outputs": []
    },
    {
      "cell_type": "code",
      "metadata": {
        "id": "VniTR6vqQJuR"
      },
      "source": [
        "# Функция расчета сигмоиды для вектора\n",
        "def sigmoid(x): # На вход подаем массив данных\n",
        "  return 1/(1+np.exp(-x)) # Возвращаем сигмоиду для всех элементов массива"
      ],
      "execution_count": null,
      "outputs": []
    },
    {
      "cell_type": "code",
      "metadata": {
        "id": "fcdtl-_3QJwf"
      },
      "source": [
        "# Получаем параметры бокса\n",
        "\n",
        "# Координаты центра bounding box\n",
        "xy_param = feats[..., :2] # Выцепляем 0 и 1 параметры из предикта (соответствуют параметрам смещения центра анкора)\n",
        "box_xy = (sigmoid(xy_param) + grid)/grid_shape[::-1] # Получаем координаты центра bounding box\n",
        "\n",
        "# Высота и ширна bounding box\n",
        "wh_param = feats[..., 2:4] # Выцепляем 2 и 3 параметры из предикта (соответствуют праметрам изменения высоты и ширины анкора)\n",
        "box_wh = np.exp(wh_param) * anchors_tensor / input_shape[::-1] # Получаем высоту и ширину bounding box\n",
        "\n",
        "# Вероятность наличия объекта в анкоре\n",
        "conf_param = feats[..., 4:5] # Выцепляем 4 параметр из предикта (соответствуют вероятности обнаружения объекта)\n",
        "box_confidence = sigmoid(conf_param) # Получаем вероятность наличия объекта в bounding box\n",
        "\n",
        "# Класс объекта\n",
        "class_param = feats[...,5:] # Выцепляем 5+ параметры из предикта (соответствуют вероятностям классов объектов)\n",
        "box_class_probs = sigmoid(class_param) # Получаем вероятности классов объектов\n",
        "print(box_xy.shape)\n",
        "print(box_wh.shape)\n",
        "print(box_confidence.shape)\n",
        "print(box_class_probs.shape)\n",
        "print(box_xy[0][6][7][1])\n",
        "print(box_wh[0][6][7][1])\n",
        "print(box_confidence[0][6][7][1])\n",
        "print(box_class_probs[0][6][7][1])"
      ],
      "execution_count": null,
      "outputs": []
    },
    {
      "cell_type": "code",
      "metadata": {
        "id": "bS-_YzkDQJzL"
      },
      "source": [
        "print(box_xy[0][2][2][2])\n",
        "print(box_wh[0][2][2][2])\n",
        "print(box_confidence[0][2][2][2])\n",
        "print(box_class_probs[0][2][2][2])"
      ],
      "execution_count": null,
      "outputs": []
    },
    {
      "cell_type": "code",
      "metadata": {
        "id": "7S3G8VG0QJ1Z"
      },
      "source": [
        "# Корректируем ограничивающие рамки (Размер изображения на выходе 416х416)\n",
        "# И найденные параметры соответствуют именно этой размерности\n",
        "# Необходимо найти координаты bounding box для рамерности исходного изображения\n",
        "box_yx = box_xy[..., ::-1].copy()\n",
        "box_hw = box_wh[..., ::-1].copy()\n",
        "\n",
        "new_shape = np.round(image_shape * np.min(input_shape/image_shape)) # Находим размерность пропорциональную исходной с одной из сторон 416\n",
        "offset = (input_shape-new_shape)/2./input_shape # Смотрим на сколько надо сместить в относительных координатах\n",
        "scale = input_shape/new_shape  # Находим коэфициент масштабирования\n",
        "box_yx = (box_yx - offset) * scale # Смещаем по координатам\n",
        "box_hw *= scale # Масштабируем ширину и высоту\n",
        "\n",
        "box_mins = box_yx - (box_hw / 2.) # Получаем левые верхние координаты (от середины отнимаем половину ширины и высоты)\n",
        "box_maxes = box_yx + (box_hw / 2.) # Получаем правые нижнние координаты (к середине прибавляем половину ширины и высоты)\n",
        "_boxes =  np.concatenate([\n",
        "    box_mins[..., 0:1], # yMin\n",
        "    box_mins[..., 1:2], # xMin\n",
        "    box_maxes[..., 0:1], # yMax\n",
        "    box_maxes[..., 1:2]  # xMax\n",
        "], axis=-1)\n",
        "print(new_shape)\n",
        "print(offset)\n",
        "print(scale)\n",
        "print(_boxes.shape)\n",
        "print()\n",
        "print(_boxes[0][6][7][1])\n",
        "print(image_shape)\n",
        "_boxes *= np.concatenate([image_shape, image_shape]) # Переводим из относительных координат в абсолютные\n",
        "print(_boxes[0][6][7][1])\n"
      ],
      "execution_count": null,
      "outputs": []
    },
    {
      "cell_type": "code",
      "metadata": {
        "id": "Gx_bY6mpQJ31"
      },
      "source": [
        "# Получаем выходные параметры\n",
        "_boxes_reshape = np.reshape(_boxes, (-1, 4)) # Решейпим все боксы в один массив\n",
        "_box_scores = box_confidence * box_class_probs # Получаем вероятность каждого класса (умноженную на веоятность наличия объекта)\n",
        "_box_scores_reshape = np.reshape(_box_scores, (-1, num_classes)) # Решейпим в один массив\n",
        "print(_boxes_reshape.shape)\n",
        "print(_box_scores_reshape.shape)\n",
        "print(_boxes_reshape[256])\n",
        "print(_box_scores_reshape[256]) # Вероятность того, что объект 0-го класса"
      ],
      "execution_count": null,
      "outputs": []
    },
    {
      "cell_type": "code",
      "metadata": {
        "id": "gtmvL_0wQJ6I"
      },
      "source": [
        "mask = _box_scores_reshape >= 0.7 # Берем все объекты, обнаруженные с вероятностью больше 0.7\n",
        "print(np.where(mask == True))"
      ],
      "execution_count": null,
      "outputs": []
    },
    {
      "cell_type": "code",
      "metadata": {
        "id": "DIS4s-wuQJ8c"
      },
      "source": [
        "_boxes_out = _boxes_reshape[mask[:,0]]\n",
        "_scores_out = _box_scores_reshape[:, 0][mask[:,0]]\n",
        "classes_out = np.ones_like(_scores_out,'int32') * 0\n",
        "print(_boxes_out)\n",
        "print(_scores_out)\n",
        "print (classes_out)"
      ],
      "execution_count": null,
      "outputs": []
    },
    {
      "cell_type": "code",
      "metadata": {
        "id": "hTuM0rYBQR2c"
      },
      "source": [
        "font = ImageFont.truetype(font=path + 'font.otf',\n",
        "                    size=np.floor(3e-2 * image.size[1] + 0.5).astype('int32'))\n",
        "thickness = (image.size[0] + image.size[1]) // 300"
      ],
      "execution_count": null,
      "outputs": []
    },
    {
      "cell_type": "code",
      "metadata": {
        "id": "lj56qCAFQR46"
      },
      "source": [
        "image_pred = image.copy()\n",
        "for i, c in reversed(list(enumerate(classes_out))):\n",
        "  print(c)\n",
        "  draw = ImageDraw.Draw(image_pred)\n",
        "  predicted_class = name_classes[c]\n",
        "  box = _boxes_out[i]\n",
        "  score = _scores_out[i]\n",
        "\n",
        "  label = '{} {:.2f}'.format(predicted_class, score)\n",
        "  label_size = draw.textsize(label, font)\n",
        "\n",
        "  top, left, bottom, right = box\n",
        "  top = max(0, np.floor(top + 0.5).astype('int32'))\n",
        "  left = max(0, np.floor(left + 0.5).astype('int32'))\n",
        "  bottom = min(image.size[1], np.floor(bottom + 0.5).astype('int32'))\n",
        "  right = min(image.size[0], np.floor(right + 0.5).astype('int32'))\n",
        "  print(label, (left, top), (right, bottom))\n",
        "\n",
        "  if top - label_size[1] >= 0:\n",
        "      text_origin = np.array([left, top - label_size[1]])\n",
        "  else:\n",
        "      text_origin = np.array([left, top + 1])\n",
        "\n",
        "  for i in range(thickness):\n",
        "      draw.rectangle(\n",
        "          [left + i, top + i, right - i, bottom - i],\n",
        "          outline=colors[c])\n",
        "  draw.rectangle(\n",
        "      [tuple(text_origin), tuple(text_origin + label_size)],\n",
        "      fill=colors[c])\n",
        "  draw.text(text_origin, label, fill=(0, 0, 0), font=font)\n",
        "  del draw\n",
        "image_pred.save('new_image.jpg')\n",
        "plt.imshow(image_pred)"
      ],
      "execution_count": null,
      "outputs": []
    },
    {
      "cell_type": "markdown",
      "metadata": {
        "id": "YhSST1YbQXDz"
      },
      "source": [
        "**Non-Maximum Suppression**"
      ]
    },
    {
      "cell_type": "code",
      "metadata": {
        "id": "LwJ_00_kQR7o"
      },
      "source": [
        "def non_max_suppression_fast(boxes, scores, overlapThresh):\n",
        "  if len(boxes) == 0: # Если нет ни одного бокса\n",
        "    return []\n",
        "\n",
        "  pick = [] # Индексы возвращаемых боксов\n",
        "\n",
        "  x1 = boxes[:,0] # координаты x левыъ верхних углов\n",
        "  y1 = boxes[:,1]\n",
        "  x2 = boxes[:,2]\n",
        "  y2 = boxes[:,3]\n",
        "\n",
        "  area = (x2 - x1 + 1) * (y2 - y1 + 1)\n",
        "  idxs = np.argsort(scores)\n",
        "\n",
        "  while len(idxs) > 0:\n",
        "    last = len(idxs) - 1\n",
        "    i = idxs[last]\n",
        "    pick.append(i)\n",
        "\n",
        "    xx1 = np.maximum(x1[i], x1[idxs[:last]])\n",
        "    yy1 = np.maximum(y1[i], y1[idxs[:last]])\n",
        "    xx2 = np.minimum(x2[i], x2[idxs[:last]])\n",
        "    yy2 = np.minimum(y2[i], y2[idxs[:last]])\n",
        "\n",
        "    w = np.maximum(0, xx2 - xx1 + 1)\n",
        "    h = np.maximum(0, yy2 - yy1 + 1)\n",
        "\n",
        "    overlap = (w * h) / area[idxs[:last]]\n",
        "    idxs = np.delete(idxs, np.concatenate(([last],\n",
        "                                           np.where(overlap > overlapThresh)[0])))\n",
        "\n",
        "  return boxes[pick].astype(\"int\"), scores[pick]"
      ],
      "execution_count": null,
      "outputs": []
    },
    {
      "cell_type": "code",
      "metadata": {
        "id": "ssI6jD9XQR99"
      },
      "source": [
        "new_boxes, new_scores = non_max_suppression_fast(_boxes_out, _scores_out, 0.15)\n",
        "new_classes = np.ones_like(new_scores,'int32') * 0\n",
        "print(new_boxes)"
      ],
      "execution_count": null,
      "outputs": []
    },
    {
      "cell_type": "code",
      "metadata": {
        "id": "5sEs1ob5QSAT"
      },
      "source": [
        "image_pred = image.copy()\n",
        "for i, c in reversed(list(enumerate(new_classes))):\n",
        "  draw = ImageDraw.Draw(image_pred)\n",
        "  predicted_class = name_classes[c]\n",
        "  box = new_boxes[i]\n",
        "  score = new_scores[i]\n",
        "\n",
        "  label = '{} {:.2f}'.format(predicted_class, score)\n",
        "  label_size = draw.textsize(label, font)\n",
        "\n",
        "  top, left, bottom, right = box\n",
        "  top = max(0, np.floor(top + 0.5).astype('int32'))\n",
        "  left = max(0, np.floor(left + 0.5).astype('int32'))\n",
        "  bottom = min(image.size[1], np.floor(bottom + 0.5).astype('int32'))\n",
        "  right = min(image.size[0], np.floor(right + 0.5).astype('int32'))\n",
        "  print(label, (left, top), (right, bottom))\n",
        "\n",
        "  if top - label_size[1] >= 0:\n",
        "      text_origin = np.array([left, top - label_size[1]])\n",
        "  else:\n",
        "      text_origin = np.array([left, top + 1])\n",
        "\n",
        "  for i in range(thickness):\n",
        "      draw.rectangle(\n",
        "          [left + i, top + i, right - i, bottom - i],\n",
        "          outline=colors[c])\n",
        "  draw.rectangle(\n",
        "      [tuple(text_origin), tuple(text_origin + label_size)],\n",
        "      fill=colors[c])\n",
        "  draw.text(text_origin, label, fill=(0, 0, 0), font=font)\n",
        "  del draw\n",
        "image_pred.save('new_image.jpg')\n",
        "plt.imshow(image_pred)"
      ],
      "execution_count": null,
      "outputs": []
    },
    {
      "cell_type": "code",
      "metadata": {
        "id": "7GSEZ8vLQSEW"
      },
      "source": [
        "files.download('new_image.jpg')"
      ],
      "execution_count": null,
      "outputs": []
    },
    {
      "cell_type": "markdown",
      "metadata": {
        "id": "2xuzgKYN2s4_"
      },
      "source": [
        "# 6 Результаты"
      ]
    },
    {
      "cell_type": "code",
      "metadata": {
        "id": "Mlygqz437B3m"
      },
      "source": [
        "results_0 = {'Количество пройденных эпох обучения': [100, 200, 300, 400, 500],\n",
        "        'Шаг обучения': ['1e-3', '1e-3', '1e-4', '1e-4', '1e-5'],\n",
        "        'Время обучения (сек., на 1 эпоху)': [120, 135, 121, 125, 123],\n",
        "        'Значение ошибки': [5.2484, 5.4149, 2.8133, 2.5300, 2.5910]}\n",
        "\n",
        "results_0_base = pd.DataFrame(results_0)"
      ],
      "execution_count": null,
      "outputs": []
    },
    {
      "cell_type": "code",
      "metadata": {
        "id": "P9-fjXeW2yhi"
      },
      "source": [
        "results_1 = {'Количество пройденных эпох обучения': [100, 200, 300, 400, 500],\n",
        "        'Шаг обучения': ['1e-3', '1e-3', '1e-4', '1e-4', '1e-5'],\n",
        "        'Время обучения (сек., на 1 эпоху)': [10, 10, 9, 9, 9],\n",
        "        'Значение ошибки': [3.3598, 3.4843, 2.9003, 3.7071, 2.5725]}\n",
        "\n",
        "results_1_base = pd.DataFrame(results_1)"
      ],
      "execution_count": null,
      "outputs": []
    },
    {
      "cell_type": "code",
      "metadata": {
        "colab": {
          "base_uri": "https://localhost:8080/",
          "height": 225
        },
        "id": "oIDIQNbO7GaA",
        "outputId": "3d6400b8-6fd6-4040-fb93-dc2b89287886"
      },
      "source": [
        "print('Таблица 1 - Результаты обучения на большой выборке (981 объект)')\n",
        "results_0_base.head()"
      ],
      "execution_count": null,
      "outputs": [
        {
          "output_type": "stream",
          "text": [
            "Таблица 1 - Результаты обучения на большой выборке (981 объект)\n"
          ],
          "name": "stdout"
        },
        {
          "output_type": "execute_result",
          "data": {
            "text/html": [
              "<div>\n",
              "<style scoped>\n",
              "    .dataframe tbody tr th:only-of-type {\n",
              "        vertical-align: middle;\n",
              "    }\n",
              "\n",
              "    .dataframe tbody tr th {\n",
              "        vertical-align: top;\n",
              "    }\n",
              "\n",
              "    .dataframe thead th {\n",
              "        text-align: right;\n",
              "    }\n",
              "</style>\n",
              "<table border=\"1\" class=\"dataframe\">\n",
              "  <thead>\n",
              "    <tr style=\"text-align: right;\">\n",
              "      <th></th>\n",
              "      <th>Количество пройденных эпох обучения</th>\n",
              "      <th>Шаг обучения</th>\n",
              "      <th>Время обучения (сек., на 1 эпоху)</th>\n",
              "      <th>Значение ошибки</th>\n",
              "    </tr>\n",
              "  </thead>\n",
              "  <tbody>\n",
              "    <tr>\n",
              "      <th>0</th>\n",
              "      <td>100</td>\n",
              "      <td>1e-3</td>\n",
              "      <td>120</td>\n",
              "      <td>5.2484</td>\n",
              "    </tr>\n",
              "    <tr>\n",
              "      <th>1</th>\n",
              "      <td>200</td>\n",
              "      <td>1e-3</td>\n",
              "      <td>135</td>\n",
              "      <td>5.4149</td>\n",
              "    </tr>\n",
              "    <tr>\n",
              "      <th>2</th>\n",
              "      <td>300</td>\n",
              "      <td>1e-4</td>\n",
              "      <td>121</td>\n",
              "      <td>2.8133</td>\n",
              "    </tr>\n",
              "    <tr>\n",
              "      <th>3</th>\n",
              "      <td>400</td>\n",
              "      <td>1e-4</td>\n",
              "      <td>125</td>\n",
              "      <td>2.5300</td>\n",
              "    </tr>\n",
              "    <tr>\n",
              "      <th>4</th>\n",
              "      <td>500</td>\n",
              "      <td>1e-5</td>\n",
              "      <td>123</td>\n",
              "      <td>2.5910</td>\n",
              "    </tr>\n",
              "  </tbody>\n",
              "</table>\n",
              "</div>"
            ],
            "text/plain": [
              "   Количество пройденных эпох обучения  ... Значение ошибки\n",
              "0                                  100  ...          5.2484\n",
              "1                                  200  ...          5.4149\n",
              "2                                  300  ...          2.8133\n",
              "3                                  400  ...          2.5300\n",
              "4                                  500  ...          2.5910\n",
              "\n",
              "[5 rows x 4 columns]"
            ]
          },
          "metadata": {
            "tags": []
          },
          "execution_count": 66
        }
      ]
    },
    {
      "cell_type": "code",
      "metadata": {
        "colab": {
          "base_uri": "https://localhost:8080/",
          "height": 225
        },
        "id": "CDGm9KQz2yjt",
        "outputId": "2f3db962-7ed8-4431-b681-9e15bd5a69c0"
      },
      "source": [
        "print('Таблица 2 - Результаты обучения на уменьшенной выборке (74 объекта)')\n",
        "results_1_base.head()"
      ],
      "execution_count": null,
      "outputs": [
        {
          "output_type": "stream",
          "text": [
            "Таблица 2 - Результаты обучения на уменьшенной выборке (74 объекта)\n"
          ],
          "name": "stdout"
        },
        {
          "output_type": "execute_result",
          "data": {
            "text/html": [
              "<div>\n",
              "<style scoped>\n",
              "    .dataframe tbody tr th:only-of-type {\n",
              "        vertical-align: middle;\n",
              "    }\n",
              "\n",
              "    .dataframe tbody tr th {\n",
              "        vertical-align: top;\n",
              "    }\n",
              "\n",
              "    .dataframe thead th {\n",
              "        text-align: right;\n",
              "    }\n",
              "</style>\n",
              "<table border=\"1\" class=\"dataframe\">\n",
              "  <thead>\n",
              "    <tr style=\"text-align: right;\">\n",
              "      <th></th>\n",
              "      <th>Количество пройденных эпох обучения</th>\n",
              "      <th>Шаг обучения</th>\n",
              "      <th>Время обучения (сек., на 1 эпоху)</th>\n",
              "      <th>Значение ошибки</th>\n",
              "    </tr>\n",
              "  </thead>\n",
              "  <tbody>\n",
              "    <tr>\n",
              "      <th>0</th>\n",
              "      <td>100</td>\n",
              "      <td>1e-3</td>\n",
              "      <td>10</td>\n",
              "      <td>3.3598</td>\n",
              "    </tr>\n",
              "    <tr>\n",
              "      <th>1</th>\n",
              "      <td>200</td>\n",
              "      <td>1e-3</td>\n",
              "      <td>10</td>\n",
              "      <td>3.4843</td>\n",
              "    </tr>\n",
              "    <tr>\n",
              "      <th>2</th>\n",
              "      <td>300</td>\n",
              "      <td>1e-4</td>\n",
              "      <td>9</td>\n",
              "      <td>2.9003</td>\n",
              "    </tr>\n",
              "    <tr>\n",
              "      <th>3</th>\n",
              "      <td>400</td>\n",
              "      <td>1e-4</td>\n",
              "      <td>9</td>\n",
              "      <td>3.7071</td>\n",
              "    </tr>\n",
              "    <tr>\n",
              "      <th>4</th>\n",
              "      <td>500</td>\n",
              "      <td>1e-5</td>\n",
              "      <td>9</td>\n",
              "      <td>2.5725</td>\n",
              "    </tr>\n",
              "  </tbody>\n",
              "</table>\n",
              "</div>"
            ],
            "text/plain": [
              "   Количество пройденных эпох обучения  ... Значение ошибки\n",
              "0                                  100  ...          3.3598\n",
              "1                                  200  ...          3.4843\n",
              "2                                  300  ...          2.9003\n",
              "3                                  400  ...          3.7071\n",
              "4                                  500  ...          2.5725\n",
              "\n",
              "[5 rows x 4 columns]"
            ]
          },
          "metadata": {
            "tags": []
          },
          "execution_count": 64
        }
      ]
    },
    {
      "cell_type": "markdown",
      "metadata": {
        "id": "-Dva7W-R1gFk"
      },
      "source": [
        "# 7 Выводы"
      ]
    },
    {
      "cell_type": "markdown",
      "metadata": {
        "id": "jbl8WUQS1jqp"
      },
      "source": [
        "Подготовлена и обучена свёрточная нейронная сеть (YOLO v3), предназначенная для обнаружения объектов.\n",
        "\n",
        "Проверена гипотеза об уменьшении размера обучающей выборки (с 981 до 74 объектов).\n",
        "\n",
        "К основным выводам можно отнести следующие:\n",
        "\n",
        "  1) при уменьшении обучающей выборки скорость обучения значительно возрасла (со 135 до 10 секунд на эпоху);\n",
        "\n",
        "  2)  не смотря на значительное уменьшение обучающей выборки, значение ошибки, в целом, снизилось, либо осталось на том же уровне (в пределах погрешности измерений);\n",
        "\n",
        "  3) представляется более эффективным обучение с меньшим количеством эпох для каждого шага обучения (например, по 100 эпох для каждого шага).\n",
        "\n",
        "  К недостаткам проведённой рабоnы можно отнести следующее:\n",
        "  - не сформирована функция этапов распознования изображения;\n",
        "  - не удалось сохранить веса после обучения с шагом 1e-5 и, как следствие, отобразить график обучения и наглядные результаты распознования объектов."
      ]
    }
  ]
}