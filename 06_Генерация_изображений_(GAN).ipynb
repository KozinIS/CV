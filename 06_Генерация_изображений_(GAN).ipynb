{
  "nbformat": 4,
  "nbformat_minor": 0,
  "metadata": {
    "colab": {
      "provenance": [],
      "toc_visible": true,
      "include_colab_link": true
    },
    "kernelspec": {
      "name": "python3",
      "display_name": "Python 3"
    },
    "accelerator": "GPU"
  },
  "cells": [
    {
      "cell_type": "markdown",
      "metadata": {
        "id": "view-in-github",
        "colab_type": "text"
      },
      "source": [
        "<a href=\"https://colab.research.google.com/github/KozinIS/CV/blob/main/06_%D0%93%D0%B5%D0%BD%D0%B5%D1%80%D0%B0%D1%86%D0%B8%D1%8F_%D0%B8%D0%B7%D0%BE%D0%B1%D1%80%D0%B0%D0%B6%D0%B5%D0%BD%D0%B8%D0%B9_(GAN).ipynb\" target=\"_parent\"><img src=\"https://colab.research.google.com/assets/colab-badge.svg\" alt=\"Open In Colab\"/></a>"
      ]
    },
    {
      "cell_type": "markdown",
      "metadata": {
        "id": "nq-dxFDDRxT2"
      },
      "source": [
        "# **Генерация изображений (GAN)**"
      ]
    },
    {
      "cell_type": "markdown",
      "source": [
        "# 1 Постановка задачи"
      ],
      "metadata": {
        "id": "ieojzmQ85QqM"
      }
    },
    {
      "cell_type": "markdown",
      "source": [
        "*Подготовьте генеративную сеть, предназначенную для генерации рукописных цифр*"
      ],
      "metadata": {
        "id": "wIqmmolK5TJ9"
      }
    },
    {
      "cell_type": "markdown",
      "metadata": {
        "id": "3soLXLQuR1uB"
      },
      "source": [
        "# 2 Подгрузка библиотек и подключение диска"
      ]
    },
    {
      "cell_type": "code",
      "metadata": {
        "id": "3J14N2KnhPxO"
      },
      "source": [
        "from keras.datasets import mnist, cifar10                     # Mnist - набор рукописных цифр, cifar10 - изображения объектов 10-ти классов\n",
        "from keras.layers import Input, Dense, Reshape, Flatten, Dropout, BatchNormalization, Activation, MaxPooling2D, concatenate, Embedding, multiply # Базовые слои keras\n",
        "from keras.layers.advanced_activations import LeakyReLU       # LeakyReLU - функция активации\n",
        "from keras.layers.convolutional import UpSampling2D, Conv2D   # Сверточные слои keras\n",
        "from keras.models import Sequential, Model                    # Формат модели keras\n",
        "from tensorflow.keras.optimizers import Adam                  # Оптимизатор\n",
        "\n",
        "import matplotlib.pyplot as plt\n",
        "import numpy as np\n",
        "\n",
        "import seaborn as sns\n",
        "sns.set_style('darkgrid')"
      ],
      "execution_count": null,
      "outputs": []
    },
    {
      "cell_type": "code",
      "metadata": {
        "id": "dZnyfnBShROW",
        "outputId": "66826a44-4547-4a7f-c6ca-f206125d3a8f",
        "colab": {
          "base_uri": "https://localhost:8080/"
        }
      },
      "source": [
        "from google.colab import drive\n",
        "drive.mount('/content/drive')"
      ],
      "execution_count": null,
      "outputs": [
        {
          "output_type": "stream",
          "text": [
            "Mounted at /content/drive\n"
          ],
          "name": "stdout"
        }
      ]
    },
    {
      "cell_type": "markdown",
      "metadata": {
        "id": "6ZXWA_YYhY0R"
      },
      "source": [
        "# 3 Создание генератора"
      ]
    },
    {
      "cell_type": "code",
      "metadata": {
        "id": "lHJAyLUbhSZa"
      },
      "source": [
        "img_rows = 28 # Высота изображения в пикселях\n",
        "img_cols = 28 # Ширина изображения в пикселях\n",
        "channels = 1 # Количество каналов (глубина изображения)\n",
        "img_shape = (img_rows, img_cols, channels) # Размерность входных данных для набора Mnist\n",
        "latent_dim = 100 # Размерность скрытого пространства\n",
        "batch_size = 128 # Размер batch_size\n",
        "\n",
        "optimizer = Adam(0.0002, 0.5) # Оптимайзер"
      ],
      "execution_count": null,
      "outputs": []
    },
    {
      "cell_type": "code",
      "metadata": {
        "id": "z41gtRC0hSbn"
      },
      "source": [
        "!mkdir images # Создаем каталог 'images'"
      ],
      "execution_count": null,
      "outputs": []
    },
    {
      "cell_type": "code",
      "metadata": {
        "id": "t2eDIPKyhSeA"
      },
      "source": [
        "def create_generator(): # Функция создания генератора\n",
        "  generator = Sequential() # Инициализируем модель generator\n",
        "\n",
        "  generator.add(Dense(256, input_dim=latent_dim)) # Добавляем Dense-слой на 256 нейронов (размерность входных данных = latent_dim)\n",
        "  generator.add(LeakyReLU(alpha=0.2)) # Добавляем слой активационной функции с параметром 0.2\n",
        "  generator.add(BatchNormalization(momentum=0.8)) # Добавляем слой BatchNormalization  (momentum - параметр расчета скользящего среднего и дисперсии)\n",
        "  generator.add(Dense(512)) # Добавляем Dense-слой на 512 нейронов\n",
        "  generator.add(LeakyReLU(alpha=0.2)) # Добавляем слой активационной функции с параметром 0.2\n",
        "  generator.add(BatchNormalization(momentum=0.8)) # Добавляем слой BatchNormalization  (momentum - параметр расчета скользящего среднего и дисперсии)\n",
        "  generator.add(Dense(1024)) # Добавляем Dense-слой на 1024 нейронов\n",
        "  generator.add(LeakyReLU(alpha=0.2)) # Добавляем слой активационной функции с параметром 0.2\n",
        "  generator.add(BatchNormalization(momentum=0.8)) # Добавляем слой BatchNormalization  (momentum - параметр расчета скользящего среднего и дисперсии)\n",
        "  generator.add(Dense(np.prod(img_shape), activation='tanh')) # Добавляем Dense-слой на  img_rows*img_cols*channels нейронов с активационной функцией tanh\n",
        "  generator.add(Reshape(img_shape)) # Добавляем слой Reshape (размерность выходного слоя будет (img_rows, img_cols, channels))\n",
        "\n",
        "  noise = Input(shape=(latent_dim,)) # Создаем слой Input (Записываем входные данные рамерностью letent_dim в noise)\n",
        "  img = generator(noise) # Записываем в переменную img значение, возвращаемое generator'ом  с входным параметром noise\n",
        "\n",
        "  generator = Model(noise, img) # создаем модель generator (входные данные: noise, выходные данные: img)\n",
        "\n",
        "  return generator # Функция возвращаем generator"
      ],
      "execution_count": null,
      "outputs": []
    },
    {
      "cell_type": "code",
      "metadata": {
        "id": "nIs8uhMGhSgU",
        "outputId": "f257d6cb-6c05-4dbe-c8b9-23fa46b9975f",
        "colab": {
          "base_uri": "https://localhost:8080/"
        }
      },
      "source": [
        "gen = create_generator()\n",
        "gen.summary()"
      ],
      "execution_count": null,
      "outputs": [
        {
          "output_type": "stream",
          "text": [
            "Model: \"functional_1\"\n",
            "_________________________________________________________________\n",
            "Layer (type)                 Output Shape              Param #   \n",
            "=================================================================\n",
            "input_1 (InputLayer)         [(None, 100)]             0         \n",
            "_________________________________________________________________\n",
            "sequential (Sequential)      (None, 28, 28, 1)         1493520   \n",
            "=================================================================\n",
            "Total params: 1,493,520\n",
            "Trainable params: 1,489,936\n",
            "Non-trainable params: 3,584\n",
            "_________________________________________________________________\n"
          ],
          "name": "stdout"
        }
      ]
    },
    {
      "cell_type": "code",
      "metadata": {
        "id": "DgonlILGhSiq",
        "outputId": "2cc53406-dceb-4632-d246-4cfdb1f529a4",
        "colab": {
          "base_uri": "https://localhost:8080/"
        }
      },
      "source": [
        "input1 = np.random.random(size=(1, 100))\n",
        "plt.figure(figsize=(20,15))\n",
        "plt.imshow(input1, cmap='gray')\n",
        "plt.axis('off')\n",
        "plt.show()"
      ],
      "execution_count": null,
      "outputs": [
        {
          "output_type": "display_data",
          "data": {
            "image/png": "[encoded data removed]",
            "text/plain": [
              "<Figure size 1440x1080 with 1 Axes>"
            ]
          },
          "metadata": {
            "tags": [],
            "needs_background": "light"
          }
        }
      ]
    },
    {
      "cell_type": "code",
      "metadata": {
        "id": "xeGxhazdhSk1",
        "outputId": "5cb7185c-9731-4c38-98af-f6a46585bbde",
        "colab": {
          "base_uri": "https://localhost:8080/"
        }
      },
      "source": [
        "plt.figure(figsize=(14,7))\n",
        "predict_gen = gen.predict(input1)\n",
        "plt.imshow(predict_gen[0].reshape(28, 28), cmap='gray')\n",
        "plt.show()"
      ],
      "execution_count": null,
      "outputs": [
        {
          "output_type": "display_data",
          "data": {
            "image/png": "[encoded data removed]",
            "text/plain": [
              "<Figure size 1008x504 with 1 Axes>"
            ]
          },
          "metadata": {
            "tags": [],
            "needs_background": "light"
          }
        }
      ]
    },
    {
      "cell_type": "markdown",
      "metadata": {
        "id": "yjtprXajhp18"
      },
      "source": [
        "# 4 Создание дискриминатора"
      ]
    },
    {
      "cell_type": "code",
      "metadata": {
        "id": "uCUmRo0ohSnD"
      },
      "source": [
        "def create_discriminator(): # Функция создания дискриминатора\n",
        "  discriminator = Sequential() # Инициализируем модель discriminator\n",
        "\n",
        "  discriminator.add(Flatten(input_shape=img_shape)) # Создаем слой Flatten (размерность входных данных = (img_rows, img_cols, channels), размерность выходных данных = img_rows * img_cols * channels )\n",
        "  discriminator.add(Dense(512))  # Добавляем Dense-слой на 512 нейронов\n",
        "  discriminator.add(LeakyReLU(alpha=0.2)) # Добавляем слой активационной функции с параметром 0.2\n",
        "  discriminator.add(Dense(256)) # Добавляем Dense-слой на 256 нейронов\n",
        "  discriminator.add(LeakyReLU(alpha=0.2)) # Добавляем слой активационной функции с параметром 0.2\n",
        "  discriminator.add(Dense(1, activation='sigmoid')) # Добавляем Dense-слой c 1 нейроном с активационной функцией sigmoid\n",
        "\n",
        "  img = Input(shape=img_shape) # Создаем слой Input (записываем входные данные размерностью (img_rows, img_cols, channels) в img)\n",
        "  validity = discriminator(img) # Записываем в переменную validity значение, возвращаемое discriminator'ом с входным параметром img\n",
        "\n",
        "  discriminator = Model(img, validity) # Создаем модель discriminator (входные данные: img, выходные данные: validity)\n",
        "\n",
        "  # Компилируем модель дискриманотра\n",
        "  discriminator.compile(loss='binary_crossentropy',\n",
        "              optimizer=optimizer,\n",
        "              metrics=['accuracy'])\n",
        "\n",
        "  discriminator.trainable = False  # Замораживаем обучение дискриматора\n",
        "\n",
        "  return discriminator # Функция возвращает discriminator"
      ],
      "execution_count": null,
      "outputs": []
    },
    {
      "cell_type": "code",
      "metadata": {
        "id": "L35WRREhhSpn",
        "outputId": "af32721f-68d7-4934-a993-a8ba66959dd9",
        "colab": {
          "base_uri": "https://localhost:8080/"
        }
      },
      "source": [
        "dis = create_discriminator()\n",
        "dis.summary()"
      ],
      "execution_count": null,
      "outputs": [
        {
          "output_type": "stream",
          "text": [
            "Model: \"functional_3\"\n",
            "_________________________________________________________________\n",
            "Layer (type)                 Output Shape              Param #   \n",
            "=================================================================\n",
            "input_2 (InputLayer)         [(None, 28, 28, 1)]       0         \n",
            "_________________________________________________________________\n",
            "sequential_1 (Sequential)    (None, 1)                 533505    \n",
            "=================================================================\n",
            "Total params: 533,505\n",
            "Trainable params: 0\n",
            "Non-trainable params: 533,505\n",
            "_________________________________________________________________\n"
          ],
          "name": "stdout"
        }
      ]
    },
    {
      "cell_type": "code",
      "metadata": {
        "id": "3pmea7nLhSsC",
        "outputId": "1aab9056-30a8-42b3-a6a4-2a6c8de68873",
        "colab": {
          "base_uri": "https://localhost:8080/"
        }
      },
      "source": [
        "predict_dis = dis.predict(predict_gen)\n",
        "print(predict_dis)"
      ],
      "execution_count": null,
      "outputs": [
        {
          "output_type": "stream",
          "text": [
            "[[0.46407276]]\n"
          ],
          "name": "stdout"
        }
      ]
    },
    {
      "cell_type": "code",
      "metadata": {
        "id": "KDzCWlVuhSuO",
        "outputId": "fd9a643f-54cb-43ad-c83d-d6aa07447613",
        "colab": {
          "base_uri": "https://localhost:8080/"
        }
      },
      "source": [
        "batch_size = 128 # Размер batch_size\n",
        "\n",
        "(X_train, _), (_, _) = mnist.load_data() # Загружаем в X_train изображения рукописных цифр из mnist\n",
        "\n",
        "X_train = X_train / 127.5 - 1. # Трансофрмируем значение в диапазон от -1 до 1\n",
        "X_train = np.expand_dims(X_train, axis=3) # Добавляем третью размерность для X_train ((28,28) => (28,28,1))"
      ],
      "execution_count": null,
      "outputs": [
        {
          "output_type": "stream",
          "text": [
            "Downloading data from https://storage.googleapis.com/tensorflow/tf-keras-datasets/mnist.npz\n",
            "11493376/11490434 [==============================] - 0s 0us/step\n"
          ],
          "name": "stdout"
        }
      ]
    },
    {
      "cell_type": "code",
      "metadata": {
        "id": "TIRE6sEkhSwn"
      },
      "source": [
        "def sample_images(epoch, gen): # Функция печати изображений\n",
        "  r, c = 5, 5 # Параметры вывода (количество строк (r) и количество столбцов (c))\n",
        "  noise = np.random.normal(0, 1, (r * c, latent_dim)) # Создаем вектор размерностью (r*c,latent_dim (25,100)) из нормально распределенных значений\n",
        "  gen_imgs = gen.predict(noise) # Предиктим картинку с помощью входной переменной gen\n",
        "\n",
        "  #gen_imgs = 0.5 * gen_imgs + 0.5 # Трансформируем значения в диапазон от 0 до 1\n",
        "  fig, axs = plt.subplots(r, c,figsize=(14,10)) # Создаем окно вывода r на c (5 на 5) ячеек\n",
        "  cnt = 0 # Порядковый номер картинки\n",
        "  for i in range(r):\n",
        "      for j in range(c):\n",
        "          axs[i,j].imshow(gen_imgs[cnt, :,:,0], cmap='gray') # Записываем в axs[i,j] сгенерироввнное изображение из gen_img с индексом cnt\n",
        "          axs[i,j].axis('off') # Отключаем печать названия осей\n",
        "          cnt += 1 # Увеличиваем индекс изображения\n",
        "  plt.show() # Рисуем сгенерированные изображения\n",
        "  fig.savefig(\"images/%d.png\" % epoch) # Сохраняем изображения в папке images\n",
        "  plt.close() # Завершаем работу с plt"
      ],
      "execution_count": null,
      "outputs": []
    },
    {
      "cell_type": "code",
      "metadata": {
        "id": "It08sLzShSy8"
      },
      "source": [
        "def train(generator, discriminator, epochs=30000, batch_size=128): # Функция обучения\n",
        "\n",
        "  valid = np.ones((batch_size, 1)) # Создаем массив единиц длинной batch_size\n",
        "  fake = np.zeros((batch_size, 1)) # Создаем массив нулей длинной batch_size\n",
        "\n",
        "  z = Input(shape=(latent_dim,)) # Создаем слой Input (Записываем входные данные рамерностью letent_dim в z)\n",
        "  img = generator(z) # Записываем в переменную img значение, возвращаемое generator'ом  с входным параметром z\n",
        "  validity = discriminator(img) # Записываем в переменную validity значение, возвращаемое discriminator'ом с входным параметром img\n",
        "\n",
        "  combined = Model(z, validity) # Создаем полную сеть combined (входные данные: z, выходные данне: validity)\n",
        "  combined.compile(loss='binary_crossentropy', optimizer=optimizer) # Компилируем сеть combined, используя в качестве функции ошибки binary_crossentropy\n",
        "\n",
        "  sample_interval = 200 # Указываем интервал, через который будем текущие сгенерированые изображения\n",
        "\n",
        "  d_loss_list = [] # Массив значений ошибки дескриминатора\n",
        "  g_loss_list = [] # Массив значений ошибки генератора\n",
        "  d_acc_list = [] # Массив значений точности модели\n",
        "\n",
        "  for epoch in range(epochs):\n",
        "    # ---------------------\n",
        "    #  Train Discriminator\n",
        "    # ---------------------\n",
        "\n",
        "    idx = np.random.randint(0, X_train.shape[0], batch_size) # Создаем массив случайных значений в диапазоне от 0 до X_train.shape[0] длинной batch_size\n",
        "    imgs = X_train[idx] # В переменную imgs записываем значение из X_train с индексами из idx\n",
        "\n",
        "    noise = np.random.normal(0, 1, (batch_size, latent_dim)) # Создаем массив размерностью (batch_size,latent_dim) из нормально распределенных значений\n",
        "\n",
        "    gen_imgs = generator.predict(noise) # Предиктим картинку с помощью входной переменной generator\n",
        "\n",
        "    # Train the discriminator\n",
        "    d_loss_real = discriminator.train_on_batch(imgs, valid) # Получаем ошибку дискриминатора, обученного на реальной картинке (для этого передаем в функцию train_on_batch реальные изображения (imgs) и массив единици (valid))\n",
        "    d_loss_fake = discriminator.train_on_batch(gen_imgs, fake) # Получаем ошибку дискриминатора, обученного на сгенерированной картинке (для этого передаем в функцию train_on_batch сгенерирпованные изображения (gen_imgs) и массив нулей (fake))\n",
        "    d_loss = 0.5 * np.add(d_loss_real, d_loss_fake) # Получаем массив ошибок дискриминатора (поэлементно складываем массивы d_loss_real и d_loss_fake) и делим каждое значение пополам\n",
        "\n",
        "    # ---------------------\n",
        "    #  Train Generator\n",
        "    # ---------------------\n",
        "\n",
        "    g_loss = combined.train_on_batch(noise, valid) # Получаем ошибку генератора (для этого передаем в функцию train_on_batch шум (noise) и массив единиц (valid))\n",
        "\n",
        "    print (\"%d [D loss: %f, acc.: %.2f%%] [G loss: %f]\" % (epoch, d_loss[0], 100*d_loss[1], g_loss)) # Печатаем номер эпохи и значения ошибок на этой эпохе\n",
        "\n",
        "    d_loss_list.append(d_loss[0]) # Добавляем в маасив значений ошибок дискриматора первое значение в массиве d_loss\n",
        "    g_loss_list.append(g_loss) # Добавляем в массив значений ошибок генератора g_loss\n",
        "    d_acc_list.append(100*d_loss[1]) # Добавляем в массив значений точности модели второе значение в массиве d_loss умноженное на 100\n",
        "\n",
        "    # Проверяем на условие вывода информации раз в sample_interval эпох:\n",
        "    if ((epoch % sample_interval == 0) | (epoch == epochs-1)):\n",
        "        sample_images(epoch, generator) # Вызываем функцию sample_images для печати изображений\n",
        "\n",
        "  # Выводим графики, 1 - график ошибок дискриминатора и генератора, 2 - график точности распознавания:\n",
        "  plt.figure(figsize=(14,7))\n",
        "  plt.plot(d_loss_list, label=\"Ошибка дискриминатора\")\n",
        "  plt.plot(g_loss_list, label=\"Ошибка генератора\")\n",
        "  plt.legend()\n",
        "  plt.show()\n",
        "  plt.plot(d_acc_list, label=\"Точность распознавания дискриминатора\")\n",
        "  plt.legend()\n",
        "  plt.show()\n"
      ],
      "execution_count": null,
      "outputs": []
    },
    {
      "cell_type": "code",
      "metadata": {
        "id": "BGOs9FGuhz-Q"
      },
      "source": [
        "generator = create_generator()          # Вызываем функцию create_generator и записываем значение в переменную generator\n",
        "discriminator = create_discriminator()  # Вызываем функцию create_discriminator и записываем значение в переменную discriminator\n",
        "train(generator, discriminator, 30000)  # Вызываем функцию train с параметрами: generator, discriminator, 30000 (30000 - количество эпох)"
      ],
      "execution_count": null,
      "outputs": []
    },
    {
      "cell_type": "code",
      "metadata": {
        "id": "-TWZKNM5h0Ap"
      },
      "source": [
        "generator.save_weights('drive/My Drive/generator30K.h5')\n",
        "#generator.load_weights('drive/My Drive/generator30K.h5')"
      ],
      "execution_count": null,
      "outputs": []
    },
    {
      "cell_type": "markdown",
      "source": [
        "# 5 Результаты"
      ],
      "metadata": {
        "id": "8SlEI5Nd54ze"
      }
    },
    {
      "cell_type": "code",
      "metadata": {
        "id": "7uDQg4tih0C2",
        "outputId": "7ac3a709-7708-4a11-c5e5-044d30ac0238",
        "colab": {
          "base_uri": "https://localhost:8080/",
          "height": 265
        }
      },
      "source": [
        "input1 = np.random.random(size=(1, 100))\n",
        "predict_gen = generator.predict(input1)\n",
        "plt.imshow(predict_gen[0].reshape(28, 28), cmap='gray')\n",
        "plt.show()"
      ],
      "execution_count": null,
      "outputs": [
        {
          "output_type": "display_data",
          "data": {
            "image/png": "[encoded data removed]",
            "text/plain": [
              "<Figure size 432x288 with 1 Axes>"
            ]
          },
          "metadata": {
            "tags": [],
            "needs_background": "light"
          }
        }
      ]
    },
    {
      "cell_type": "markdown",
      "metadata": {
        "id": "GhPCqOxaiQP_"
      },
      "source": [
        "# 6 Выводы"
      ]
    },
    {
      "cell_type": "markdown",
      "metadata": {
        "id": "o_8i5GdQiRYV"
      },
      "source": [
        "Разработана и обучена на базе Mnist генеративная нейронная сеть, предназначенная для генерации цифр. Результат обучения нейросети продемонстрирован генерацией цифры \"0\"."
      ]
    }
  ]
}