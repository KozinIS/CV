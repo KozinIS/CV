{
  "nbformat": 4,
  "nbformat_minor": 0,
  "metadata": {
    "colab": {
      "provenance": [],
      "toc_visible": true,
      "include_colab_link": true
    },
    "kernelspec": {
      "name": "python3",
      "display_name": "Python 3"
    },
    "accelerator": "GPU"
  },
  "cells": [
    {
      "cell_type": "markdown",
      "metadata": {
        "id": "view-in-github",
        "colab_type": "text"
      },
      "source": [
        "<a href=\"https://colab.research.google.com/github/KozinIS/CV/blob/main/03_%D0%9F%D1%80%D0%B5%D0%B4%D1%81%D0%BA%D0%B0%D0%B7%D0%B0%D0%BD%D0%B8%D0%B5_%D1%81%D1%82%D0%BE%D0%B8%D0%BC%D0%BE%D1%81%D1%82%D0%B8_%D0%BA%D0%B2%D0%B0%D1%80%D1%82%D0%B8%D1%80_(DNN).ipynb\" target=\"_parent\"><img src=\"https://colab.research.google.com/assets/colab-badge.svg\" alt=\"Open In Colab\"/></a>"
      ]
    },
    {
      "cell_type": "markdown",
      "metadata": {
        "id": "EwkVRO8k_EcB"
      },
      "source": [
        "# **Предсказание стоимости квартир (DNN)**"
      ]
    },
    {
      "cell_type": "markdown",
      "source": [
        "# 1 Постановка задачи"
      ],
      "metadata": {
        "id": "g_unMZWkTGPz"
      }
    },
    {
      "cell_type": "markdown",
      "source": [
        "Необходимо подготовить нейронную сеть, предназначенную для предсказания стоимости квартир на основе сведений о них.\n",
        "\n",
        "Требуется:\n",
        "- загрузить xTrain на числовых данных;\n",
        "- загрузить xTrainС из \"Примечаний\" (тексты);\n",
        "- создать словарь;\n",
        "- превратить xTrainC в формат bag of words (2000 самых популярных слов);\n",
        "- сделать нормирование данных;\n",
        "- написать нейронную сеть."
      ],
      "metadata": {
        "id": "LsUN8sKNTIaU"
      }
    },
    {
      "cell_type": "markdown",
      "metadata": {
        "id": "49lI0Xvz_SQW"
      },
      "source": [
        "# 2 Подгрузка библиотек и подключение диска"
      ]
    },
    {
      "cell_type": "code",
      "metadata": {
        "id": "N-F1HlI0_Uvc"
      },
      "source": [
        "import numpy as np #Библиотека работы с массивами\n",
        "import pandas as pd # Библиотека для работы с базами\n",
        "\n",
        "from tensorflow.keras.models import Sequential, Model #\n",
        "from tensorflow.keras.layers import concatenate, Input, Dense, Dropout, BatchNormalization, Flatten #\n",
        "from tensorflow.keras import utils #Используем для to_categoricall\n",
        "from tensorflow.keras.optimizers import Adam,Adadelta,SGD,Adagrad,RMSprop #\n",
        "from tensorflow.keras.preprocessing.text import Tokenizer, text_to_word_sequence #\n",
        "from tensorflow.keras.preprocessing.sequence import pad_sequences #\n",
        "from tensorflow.keras.callbacks import LambdaCallback # подключаем колбэки\n",
        "\n",
        "from sklearn.preprocessing import StandardScaler #\n",
        "from sklearn.model_selection import train_test_split # Для разбивки на выборки\n",
        "from sklearn.metrics import mean_squared_error, mean_absolute_error #\n",
        "#from google.colab import files #Для загрузки своей картинки\n",
        "\n",
        "import random #Для генерации случайных чисел\n",
        "import math # Для округления\n",
        "#import os #Для работы с файлами\n",
        "import re #\n",
        "import matplotlib.pyplot as plt #\n",
        "%matplotlib inline\n",
        "\n",
        "from IPython.display import clear_output"
      ],
      "execution_count": null,
      "outputs": []
    },
    {
      "cell_type": "code",
      "metadata": {
        "id": "0D3mhKpF_Uxu",
        "colab": {
          "base_uri": "https://localhost:8080/"
        },
        "outputId": "e44eb095-acbc-4656-fc30-036836249bbd"
      },
      "source": [
        "from google.colab import drive # Подключаем диск\n",
        "drive.mount('/content/drive')"
      ],
      "execution_count": null,
      "outputs": [
        {
          "output_type": "stream",
          "name": "stdout",
          "text": [
            "Mounted at /content/drive\n"
          ]
        }
      ]
    },
    {
      "cell_type": "markdown",
      "metadata": {
        "id": "QvumIgI1_dWA"
      },
      "source": [
        "# 3 Подгрузка базы"
      ]
    },
    {
      "cell_type": "code",
      "metadata": {
        "id": "6FQ3GR79_U03"
      },
      "source": [
        "df = pd.read_csv('/content/drive/My Drive/HW_19/moscow.csv', sep=\";\") #Загружаем данные в data frame\n",
        "df = df.iloc[::2,:] #Выбираем нечётные строки, в чётных строках в исходном фрейме пустые строки для комментариев\n",
        "data = df.values #Вытаскиваем данные в numpy array"
      ],
      "execution_count": null,
      "outputs": []
    },
    {
      "cell_type": "code",
      "metadata": {
        "id": "dWHE-SLQ_i2i",
        "colab": {
          "base_uri": "https://localhost:8080/",
          "height": 574
        },
        "outputId": "d16f4800-aabb-4328-a5ff-026f0eface60"
      },
      "source": [
        "df.head() #Показываем пример данных (первые 6 колонок)"
      ],
      "execution_count": null,
      "outputs": [
        {
          "output_type": "execute_result",
          "data": {
            "text/html": [
              "<div>\n",
              "<style scoped>\n",
              "    .dataframe tbody tr th:only-of-type {\n",
              "        vertical-align: middle;\n",
              "    }\n",
              "\n",
              "    .dataframe tbody tr th {\n",
              "        vertical-align: top;\n",
              "    }\n",
              "\n",
              "    .dataframe thead th {\n",
              "        text-align: right;\n",
              "    }\n",
              "</style>\n",
              "<table border=\"1\" class=\"dataframe\">\n",
              "  <thead>\n",
              "    <tr style=\"text-align: right;\">\n",
              "      <th></th>\n",
              "      <th>Комнат</th>\n",
              "      <th>Метро / ЖД станции</th>\n",
              "      <th>От станции</th>\n",
              "      <th>Дом</th>\n",
              "      <th>Балкон</th>\n",
              "      <th>Санузел</th>\n",
              "      <th>Площадь</th>\n",
              "      <th>Цена, руб.</th>\n",
              "      <th>ГРМ</th>\n",
              "      <th>Бонус агенту</th>\n",
              "      <th>Дата</th>\n",
              "      <th>Кол-во дней в экспозиции</th>\n",
              "      <th>Источник</th>\n",
              "      <th>Примечание</th>\n",
              "    </tr>\n",
              "  </thead>\n",
              "  <tbody>\n",
              "    <tr>\n",
              "      <th>0</th>\n",
              "      <td>1</td>\n",
              "      <td>Шелепиха м.</td>\n",
              "      <td>12п</td>\n",
              "      <td>35/37 М</td>\n",
              "      <td>NaN</td>\n",
              "      <td>2</td>\n",
              "      <td>64.1/23/20</td>\n",
              "      <td>19500000.0</td>\n",
              "      <td>NaN</td>\n",
              "      <td>NaN</td>\n",
              "      <td>25.07.2019</td>\n",
              "      <td>1.0</td>\n",
              "      <td>Привлекательные</td>\n",
              "      <td>Собственность оформлена! Ключи на руках! Опера...</td>\n",
              "    </tr>\n",
              "    <tr>\n",
              "      <th>2</th>\n",
              "      <td>1</td>\n",
              "      <td>Пятницкое шоссе м.</td>\n",
              "      <td>30т</td>\n",
              "      <td>11/14 П</td>\n",
              "      <td>Л</td>\n",
              "      <td>Р</td>\n",
              "      <td>38.4/17/9</td>\n",
              "      <td>4800000.0</td>\n",
              "      <td>NaN</td>\n",
              "      <td>NaN</td>\n",
              "      <td>25.07.2019</td>\n",
              "      <td>2.0</td>\n",
              "      <td>Привлекательные</td>\n",
              "      <td>Зеленоград к.1820 однокомнатная квартира общ.3...</td>\n",
              "    </tr>\n",
              "    <tr>\n",
              "      <th>4</th>\n",
              "      <td>1</td>\n",
              "      <td>Планерная м.</td>\n",
              "      <td>5т</td>\n",
              "      <td>11/22 П</td>\n",
              "      <td>Б</td>\n",
              "      <td>С</td>\n",
              "      <td>38.2/19.9/9.9</td>\n",
              "      <td>7990000.0</td>\n",
              "      <td>NaN</td>\n",
              "      <td>NaN</td>\n",
              "      <td>25.07.2019</td>\n",
              "      <td>4.0</td>\n",
              "      <td>Привлекательные</td>\n",
              "      <td>Уютная, светлая квартира, застекленный балкон ...</td>\n",
              "    </tr>\n",
              "    <tr>\n",
              "      <th>6</th>\n",
              "      <td>1</td>\n",
              "      <td>Шаболовская м.</td>\n",
              "      <td>12п</td>\n",
              "      <td>8/12 ?</td>\n",
              "      <td>Б</td>\n",
              "      <td>Р</td>\n",
              "      <td>38/15/7</td>\n",
              "      <td>11200000.0</td>\n",
              "      <td>NaN</td>\n",
              "      <td>NaN</td>\n",
              "      <td>25.07.2019</td>\n",
              "      <td>7.0</td>\n",
              "      <td>Привлекательные</td>\n",
              "      <td>Предлагаю 1- комн квартиру, в шаговой доступно...</td>\n",
              "    </tr>\n",
              "    <tr>\n",
              "      <th>8</th>\n",
              "      <td>1</td>\n",
              "      <td>Бабушкинская м.</td>\n",
              "      <td>15п</td>\n",
              "      <td>4/14 П</td>\n",
              "      <td>NaN</td>\n",
              "      <td>С</td>\n",
              "      <td>34/17/8</td>\n",
              "      <td>6250000.0</td>\n",
              "      <td>NaN</td>\n",
              "      <td>NaN</td>\n",
              "      <td>25.07.2019</td>\n",
              "      <td>11.0</td>\n",
              "      <td>Привлекательные</td>\n",
              "      <td>Продается хорошая 1 комнатная квартира. 1 взро...</td>\n",
              "    </tr>\n",
              "  </tbody>\n",
              "</table>\n",
              "</div>"
            ],
            "text/plain": [
              "  Комнат  ...                                         Примечание\n",
              "0      1  ...  Собственность оформлена! Ключи на руках! Опера...\n",
              "2      1  ...  Зеленоград к.1820 однокомнатная квартира общ.3...\n",
              "4      1  ...  Уютная, светлая квартира, застекленный балкон ...\n",
              "6      1  ...  Предлагаю 1- комн квартиру, в шаговой доступно...\n",
              "8      1  ...  Продается хорошая 1 комнатная квартира. 1 взро...\n",
              "\n",
              "[5 rows x 14 columns]"
            ]
          },
          "metadata": {},
          "execution_count": 4
        }
      ]
    },
    {
      "cell_type": "code",
      "metadata": {
        "id": "rsRQn9hM_i4x",
        "colab": {
          "base_uri": "https://localhost:8080/"
        },
        "outputId": "03b94a74-ba90-4c3d-a6c6-3b3aded18e18"
      },
      "source": [
        "print(df.columns) #Показываем имена колонок данных\n",
        "#Мы будем использовать\n",
        "\n",
        "#В xTrain - база числовых значени\n",
        "#Комнат\n",
        "#Метро / ЖД станции\n",
        "#От станции\n",
        "#Дом\n",
        "#Балкон\n",
        "#Санузел\n",
        "#Площадь\n",
        "\n",
        "#В xTrainC - база текстов о квартирах\n",
        "#Примечание\n",
        "\n",
        "#В yTrain\n",
        "#Цена, руб.\n",
        "\n",
        "#Остальные колонки игнорируем"
      ],
      "execution_count": null,
      "outputs": [
        {
          "output_type": "stream",
          "name": "stdout",
          "text": [
            "Index(['Комнат', 'Метро / ЖД станции', 'От станции', 'Дом', 'Балкон',\n",
            "       'Санузел', 'Площадь', 'Цена, руб.', 'ГРМ', 'Бонус агенту', 'Дата',\n",
            "       'Кол-во дней в экспозиции', 'Источник', 'Примечание'],\n",
            "      dtype='object')\n"
          ]
        }
      ]
    },
    {
      "cell_type": "markdown",
      "metadata": {
        "id": "yJls78D2_qvU"
      },
      "source": [
        "# 4 Парсинг базы"
      ]
    },
    {
      "cell_type": "code",
      "metadata": {
        "id": "mmsnoX_k_i7U"
      },
      "source": [
        "#Во всех функция дальше\n",
        "#d - описание квартиры, одна строка из data1\n",
        "\n",
        "#Вычисляем количество комнат\n",
        "#maxRoomCount - максимальное число комнат в квартире\n",
        "def getRoomsCount(d, maxRoomCount):\n",
        "  roomsCountStr = d[0] #Получаем строку с числом комнат\n",
        "\n",
        "  roomsCount = 0\n",
        "  try:\n",
        "    roomsCount = int(roomsCountStr) #Пробуем превратить строку в число\n",
        "    if (roomsCount > maxRoomCount):\n",
        "      roomsCount = maxRoomCount #Если число комнат больше максимального, то присваиваем максимальное\n",
        "  except: #Если не получается превратить строку в число\n",
        "    if (roomsCountStr == roomsCountStr): #Проверяем строку на nan (сравнение с самим собой)\n",
        "      if (\"Ст\" in roomsCountStr): #Еcть строка = \"Ст\", значит это Студия\n",
        "        roomsCount = maxRoomCount + 1\n",
        "\n",
        "  return roomsCount\n",
        "\n",
        "#Превращаем число комнат в категорию\n",
        "def getRoomsCountCategory(d, maxRoomCount):\n",
        "  roomsCount = getRoomsCount(d, maxRoomCount) #Получаем число комнат\n",
        "  roomsCount = utils.to_categorical(roomsCount, maxRoomCount+2) #Превращаем в категорию\n",
        "  #maxRoomCount+2 потому что 0 зарезервирован на неопознаное число комнат, а maxRoomCount+1 на \"Студию\"\n",
        "  return roomsCount\n",
        "\n",
        "#Получаем индекс станции метро\n",
        "#allMetroNames - все уникальные названия метро в базе\n",
        "def getMetro(d, allMetroNames):\n",
        "  metroStr = d[1] #Получаем строку метро\n",
        "  metro = 0\n",
        "\n",
        "  if (metroStr in allMetroNames): #Если находим метро во всех названиях\n",
        "    metro = allMetroNames.index(metroStr)+1 #Присваиваем индекс\n",
        "    #+1 так как 0 зарезервирован на неопознанное метро\n",
        "\n",
        "  return metro\n",
        "\n",
        "#Получаем тип метро\n",
        "#0 - внутри кольца\n",
        "#1 - кольцо\n",
        "#2 - 1-3 станции от конца\n",
        "#3 - 4-8 станций от кольца\n",
        "#4 - больше 8 станций от кольца\n",
        "def getMetroType(d):\n",
        "  metroTypeStr = d[1] #Получаем строку метро\n",
        "  metroTypeClasses = 5 #Число классов метро\n",
        "  metroType = metroTypeClasses - 1 #Изначально считаем последний класс\n",
        "\n",
        "  #Метро внутри кольца\n",
        "  metroNamesInsideCircle = [\"Площадь Революции\", \"Арбатская\", \"Смоленская\", \"Красные Ворота\", \"Чистые пруды\", \"Лубянка\", \"Охотный Ряд\", \"Библиотека имени Ленина\", \"Кропоткинская\", \"Сухаревская\", \"Тургеневская\", \"Китай-город\", \"Третьяковская\", \"Трубная\", \"Сретенский бульвар\", \"Цветной бульвар\", \"Чеховская\", \"Боровицкая\", \"Полянка\", \"Маяковская\", \"Тверская\", \"Театральная\", \"Новокузнецкая\", \"Пушкинская\", \"Кузнецкий Мост\", \"Китай-город\", \"Александровский сад\"]\n",
        "  #Метро на кольце\n",
        "  metroNamesCircle = [\"Киевская\", \"Парк Культуры\", \"Октябрьская\", \"Добрынинская\", \"Павелецкая\", \"Таганская\", \"Курская\", \"Комсомольская\", \"Проспект Мира\", \"Новослободская\", \"Белорусская\", \"Краснопресненская\"]\n",
        "  #Метро 1-3 станции от кольца\n",
        "  metroNames13FromCircle = [\"Бауманская\", \"Электрозаводская\", \"Семёновская\", \"Площадь Ильича\", \"Авиамоторная\", \"Шоссе Энтузиастов\", \"Римская\", \"Крестьянская Застава\", \"Дубровка\", \"Пролетарская\", \"Волгоградский проспект\", \"Текстильщики\", \"Автозаводская\", \"Технопарк\", \"Коломенская\", \"Тульская\", \"Нагатинская\", \"Нагорная\", \"Шаболовская\", \"Ленинский проспект\", \"Академическая\", \"Фрунзенская\", \"Спортивная\", \"Воробьёвы горы\", \"Студенческая\", \"Кутузовская\", \"Фили\", \"Парк Победы\", \"Выставочная\", \"Международная\", \"Улица 1905 года\", \"Беговая\", \"Полежаевская\", \"Динамо\", \"Аэропорт\", \"Сокол\", \"Деловой центр\", \"Шелепиха\", \"Хорошёвская\", \"ЦСКА\", \"Петровский парк\", \"Савёловская\", \"Дмитровская\", \"Тимирязевская\", \"Достоевская\", \"Марьина Роща\", \"Бутырская\", \"Фонвизинская\", \"Рижская\", \"Алексеевская\", \"ВДНХ\", \"Красносельская\", \"Сокольники\", \"Преображенская площадь\"]\n",
        "  #Метро 4-8 станций от кольа\n",
        "  metroNames48FromCircle = [\"Партизанская\", \"Измайловская\", \"Первомайская\", \"Щёлковская\", \"Новокосино\", \"Новогиреево\", \"Перово\", \"Кузьминки\", \"Рязанский проспект\", \"Выхино\", \"Лермонтовский проспект\", \"Жулебино\", \"Партизанская\", \"Измайловская\", \"Первомайская\", \"Щёлковская\", \"Новокосино\", \"Новогиреево\", \"Перово\", \"Кузьминки\", \"Рязанский проспект\", \"Выхино\", \"Лермонтовский проспект\", \"Жулебино\", \"Улица Дмитриевского\", \"Кожуховская\", \"Печатники\", \"Волжская\", \"Люблино\", \"Братиславская\", \"Коломенская\", \"Каширская\", \"Кантемировская\", \"Царицыно\", \"Орехово\", \"Севастопольская\", \"Чертановская\", \"Южная\", \"Пражская\", \"Варшавская\", \"Профсоюзная\", \"Новые Черёмушки\", \"Калужская\", \"Беляево\", \"Коньково\", \"Университет\", \"Багратионовская\", \"Филёвский парк\", \"Пионерская\", \"Кунцевская\", \"Молодёжная\", \"Октябрьское Поле\", \"Щукинская\", \"Спартак\", \"Тушинская\", \"Сходненская\", \"Войковская\", \"Водный стадион\", \"Речной вокзал\", \"Беломорская\", \"Ховрино\", \"Петровско-Разумовская\", \"Владыкино\", \"Отрадное\", \"Бибирево\", \"Алтуфьево\", \"Фонвизинская\", \"Окружная\", \"Верхние Лихоборы\", \"Селигерская\", \"ВДНХ\", \"Ботанический сад\", \"Свиблово\", \"Бабушкинская\", \"Медведково\", \"Преображенская площадь\", \"Черкизовская\", \"Бульвар Рокоссовского\"]\n",
        "\n",
        "  #Проверяем, в какую категорию попадает наша станция\n",
        "  if (metroTypeStr in metroNamesInsideCircle):\n",
        "    metroType = 0\n",
        "  if (metroTypeStr in metroNamesCircle):\n",
        "    metroType = 1\n",
        "  if (metroTypeStr in metroNames13FromCircle):\n",
        "    metroType = 2\n",
        "  if (metroTypeStr in metroNames48FromCircle):\n",
        "    metroType = 3\n",
        "\n",
        "  #Превращаем результат в категорию\n",
        "  metroType = utils.to_categorical(metroType, metroTypeClasses)\n",
        "  return metroType\n",
        "\n",
        "\n",
        "#Вычисляем растояние до метро\n",
        "def getMetroDistance(d):\n",
        "  metroDistanceStr = d[2] #Получаем строку\n",
        "\n",
        "  metroDistance = 0 #Расстояние до метро\n",
        "  metroDistanceType = 0 #Тип расстояния - пешком или на транспорте\n",
        "\n",
        "  #Еcли строка не равна nan\n",
        "  if (metroDistanceStr == metroDistanceStr):\n",
        "    if (len(metroDistanceStr) > 0):\n",
        "      #Определяем тип расстояния\n",
        "      if (metroDistanceStr[-1] == \"п\"):\n",
        "        metroDistanceType = 1 #Пешком\n",
        "      elif (metroDistanceStr[-1] == \"т\"):\n",
        "        metroDistanceType = 2 #На транспорте\n",
        "\n",
        "      #Выбрасываем последний символ, чтобы осталось только число\n",
        "      metroDistanceStr = metroDistanceStr[:-1]\n",
        "      try:\n",
        "        #Разделяем дистанции на категории\n",
        "        metroDistance = int(metroDistanceStr)\n",
        "        if (metroDistance < 3):\n",
        "          metroDistance = 1\n",
        "        elif (metroDistance < 6):\n",
        "          metroDistance = 2\n",
        "        elif (metroDistance < 10):\n",
        "          metroDistance = 3\n",
        "        elif (metroDistance < 15):\n",
        "          metroDistance = 4\n",
        "        elif (metroDistance < 20):\n",
        "          metroDistance = 5\n",
        "        else:\n",
        "          metroDistance = 6\n",
        "      except: #Если в строке не число, то категория 0\n",
        "        metroDistance = 0\n",
        "\n",
        "  #Число классов дистанции\n",
        "  metroDistanceClasses = 7\n",
        "\n",
        "  #У нас 7 категорий дистанции по расстоянию\n",
        "  #И 3 типа дистанции - неопознанный, пешком и транспортом\n",
        "  #Мы создадим вектор длины 3*7 = 21\n",
        "  #Будем преобразовывать индекс расстояния 0-6 в 0-20\n",
        "  #Для типа \"Пешком\" - ничего не меняем\n",
        "  if (metroDistanceType == 2):\n",
        "    metroDistance += metroDistanceClasses #Для типа \"Транспортом\" добавляем 7\n",
        "  if (metroDistanceType == 0):\n",
        "    metroDistance += 2*metroDistanceClasses #Для неопознанного типа добавляем 14\n",
        "\n",
        "  #Превращаем в категории\n",
        "  metroDistance = utils.to_categorical(metroDistance, 3*metroDistanceClasses)\n",
        "  return metroDistance\n",
        "\n",
        "#Получаем 4 данных\n",
        "#- этаж квартиры\n",
        "#- этажность дома\n",
        "#- индикатор, что последний этаж\n",
        "#- тип дома\n",
        "def getHouseTypeAndFloor(d):\n",
        "  try:\n",
        "    houseStr = d[3] #Получаем строку типа дома и этажей\n",
        "  except:\n",
        "    houseStr = \"\"\n",
        "\n",
        "  houseType = 0 #Тип дома\n",
        "  floor = 0 #Этаж квартиры\n",
        "  floors = 0 #Этажность дома\n",
        "  isLastFloor = 0 #Индикатор последнего этажа\n",
        "\n",
        "  #Проверяем строку на nan\n",
        "  if (houseStr == houseStr):\n",
        "    if (len(houseStr) > 1):\n",
        "\n",
        "      try:\n",
        "        slashIndex = houseStr.index(\"/\") #Ищем разделитель /\n",
        "      except:\n",
        "        print(houseStr)\n",
        "\n",
        "      try:\n",
        "        spaceIndex = houseStr.index(\" \") #Ищем разделитель \" \"\n",
        "      except:\n",
        "        print(houseStr)\n",
        "\n",
        "      #Вытаскиваем строки\n",
        "      floorStr = houseStr[:slashIndex] #Строка этажа\n",
        "      floorsStr = houseStr[slashIndex+1:spaceIndex] #Строка этажнгости дома\n",
        "      houseTypeStr = houseStr[spaceIndex+1:] #Строка типа дома\n",
        "\n",
        "      #Выбираем категорию этажа\n",
        "      try:\n",
        "        floor = int(floorStr) #Превращаем строку в число\n",
        "        floorSave = floor\n",
        "        if (floorSave < 5):\n",
        "          floor = 2\n",
        "        if (floorSave < 10):\n",
        "          floor = 3\n",
        "        if (floorSave < 20):\n",
        "          floor = 4\n",
        "        if (floorSave >= 20):\n",
        "          floor = 5\n",
        "        if (floorSave == 1): #Первый этаж выделяем в отдельную категорию\n",
        "          floor = 1\n",
        "\n",
        "        if (floor == floors): #Если этаж последний, включаем индикатор последнего этажа\n",
        "          isLastFloor = 1\n",
        "      except:\n",
        "        floor = 0 #Если строка не парсится в число, то категория этажа = 0 (отдельная)\n",
        "\n",
        "      #Выбираем категорию этажности дома\n",
        "      try:\n",
        "        floors = int(floorsStr) #Превращаем строку в число\n",
        "        floorsSave = floors\n",
        "        if (floorsSave < 5):\n",
        "          floors = 1\n",
        "        if (floorsSave < 10):\n",
        "          floors = 2\n",
        "        if (floorsSave < 20):\n",
        "          floors = 3\n",
        "        if (floorsSave >= 20):\n",
        "          floors = 4\n",
        "      except:\n",
        "        floors = 0 #Если строка не парсится в число, то категория этажности = 0 (отдельная)\n",
        "\n",
        "      #Определяем категорию типа дома\n",
        "      if (len(houseTypeStr) > 0):\n",
        "        if (\"М\" in houseTypeStr):\n",
        "          houseType = 1\n",
        "        if (\"К\" in houseTypeStr):\n",
        "          houseType = 2\n",
        "        if (\"П\" in houseTypeStr):\n",
        "          houseType = 3\n",
        "        if (\"Б\" in houseTypeStr):\n",
        "          houseType = 4\n",
        "        if (\"?\" in houseTypeStr):\n",
        "          houseType = 5\n",
        "        if (\"-\" in houseTypeStr):\n",
        "          houseType = 6\n",
        "\n",
        "    #Превращаем все категории в one hot encoding\n",
        "    floor = utils.to_categorical(floor, 6)\n",
        "    floors = utils.to_categorical(floors, 5)\n",
        "    houseType = utils.to_categorical(houseType, 7)\n",
        "\n",
        "\n",
        "  return floor, floors, isLastFloor, houseType\n",
        "\n",
        "\n",
        "#Вычисляем тип балкона\n",
        "def getBalcony(d):\n",
        "  balconyStr = d[4] #Полуаем строку\n",
        "  #Выписываем все варианты балконов в базе\n",
        "  balconyVariants = ['Л', 'Б', '2Б', '-', '2Б2Л', 'БЛ', '3Б', '2Л', 'Эрк', 'Б2Л', 'ЭркЛ', '3Л', '4Л', '*Л', '*Б']\n",
        "  #Проверяем на nan\n",
        "  if (balconyStr == balconyStr):\n",
        "    balcony = balconyVariants.index(balconyStr)+1 #Находим индекс строки балкона во всех строках\n",
        "  else:\n",
        "    balcony = 0 #Индекс 0 выделяем на строку nan\n",
        "\n",
        "  #Превращаем в one hot encoding\n",
        "  balcony = utils.to_categorical(balcony, 16)\n",
        "\n",
        "  return balcony\n",
        "\n",
        "#Определяем тип санузла\n",
        "def getWC(d):\n",
        "  wcStr = d[5] #Получаем строку\n",
        "  #Выписываем все варианты санузлов в базе\n",
        "  wcVariants = ['2', 'Р', 'С', '-', '2С', '+', '4Р', '2Р', '3С', '4С', '4', '3', '3Р']\n",
        "  #Проверяем на nan\n",
        "  if (wcStr == wcStr):\n",
        "    wc = wcVariants.index(wcStr)+1 #Находим индекс строки санузла во всех строках\n",
        "  else:\n",
        "    wc = 0 #Индекс 0 выделяем на строку nan\n",
        "\n",
        "  #Превращаем в one hot encoding\n",
        "  wc = utils.to_categorical(wc, 14)\n",
        "\n",
        "  return wc\n",
        "\n",
        "#Определяем площадь\n",
        "def getArea(d):\n",
        "  areaStr = d[6] #Поулачем строку площади\n",
        "\n",
        "  if (\"/\" in areaStr):\n",
        "    slashIndex = areaStr.index(\"/\") #Находим разделитель /\n",
        "    try:\n",
        "      area = float(areaStr[:slashIndex]) #Берём число до разделителя и превращаем в число\n",
        "    except:\n",
        "      area = 0 #Если не получается, возвращаем 0\n",
        "  else:\n",
        "    area = 0 #Или если нет разделителя, возвращаем 0\n",
        "\n",
        "  return area\n",
        "\n",
        "#Получаем цену\n",
        "def getCost(d):\n",
        "  costStr = d[7] #Загружаем строку\n",
        "\n",
        "  try:\n",
        "    cost = float(costStr) #Пробуем превратить в число\n",
        "  except:\n",
        "    cost = 0 #Если не получается, возвращаем 0\n",
        "\n",
        "  return cost\n",
        "\n",
        "#Получаем комментарий\n",
        "def getComment(d):\n",
        "  commentStr = d[-1] #Возвращаем данные из последней колонки\n",
        "\n",
        "  return commentStr\n",
        "\n",
        "#Объединяем все числовые параметры вместе\n",
        "def getAllParameters(d, allMetroNames):\n",
        "  #Загружаем все данные по отдельности\n",
        "  roomsCountType = getRoomsCountCategory(d, 30)\n",
        "  metro = getMetro(d, allMetroNames)\n",
        "  metroType = getMetroType(d)\n",
        "  metroDistance = getMetroDistance(d)\n",
        "  floor, floors, isLastFloor, houseType = getHouseTypeAndFloor(d)\n",
        "  balcony = getBalcony(d)\n",
        "  wc = getWC(d)\n",
        "  area = getArea(d)\n",
        "\n",
        "  #Объединяем в один лист\n",
        "  out = list(roomsCountType)\n",
        "  out.append(metro)\n",
        "  out.extend(metroType)\n",
        "  out.extend(metroDistance)\n",
        "  out.extend(floor)\n",
        "  out.extend(floors)\n",
        "  out.append(isLastFloor)\n",
        "  out.extend(houseType)\n",
        "  out.extend(balcony)\n",
        "  out.extend(wc)\n",
        "  out.append(area)\n",
        "\n",
        "  return out\n",
        "\n",
        "#Генерируем обучающаюу выборку - xTrain\n",
        "def getXTrain(data):\n",
        "\n",
        "  #Получаем строку во всеми вариантами метро\n",
        "  allMertroNames = list(df[\"Метро / ЖД станции\"].unique())\n",
        "\n",
        "  #Всевращаем все строки в data1 в векторы параметров и записываем в xTrain\n",
        "  xTrain = [getAllParameters(d, allMertroNames) for d in data]\n",
        "  xTrain = np.array(xTrain)\n",
        "\n",
        "  return xTrain\n",
        "\n",
        "#Генерируем обучающую выборку - yTrain\n",
        "def getYTrain(data):\n",
        "\n",
        "  #Зашружаем лист всех цен квартир по всем строкам data1\n",
        "  costList = [getCost(d) for d in data]\n",
        "  yTrain = np.array(costList)\n",
        "\n",
        "  return yTrain"
      ],
      "execution_count": null,
      "outputs": []
    },
    {
      "cell_type": "markdown",
      "metadata": {
        "id": "acSqH8krBBfQ"
      },
      "source": [
        "# 5 Формирование обучающих выборок № 1"
      ]
    },
    {
      "cell_type": "code",
      "metadata": {
        "id": "jHmbASdRBAGH",
        "colab": {
          "base_uri": "https://localhost:8080/"
        },
        "outputId": "7d46a343-6f8b-41aa-81f4-cd517f2353b3"
      },
      "source": [
        "oneRoomMask = [getRoomsCount(d, 30) == 1 for d in data] #Делаем маску однокомнатных квартир, принцип (getRoomsCount(d, 30) == 1)\n",
        "data1 = data[oneRoomMask] #В data1 оставляем только однокомнатные квартиры\n",
        "print(data.shape)\n",
        "print(data1.shape)"
      ],
      "execution_count": null,
      "outputs": [
        {
          "output_type": "stream",
          "name": "stdout",
          "text": [
            "(126268, 14)\n",
            "(62504, 14)\n"
          ]
        }
      ]
    },
    {
      "cell_type": "code",
      "metadata": {
        "id": "tMJLpxD0_yU1"
      },
      "source": [
        "xTrain = getXTrain(data1)\n",
        "yTrain = getYTrain(data1)"
      ],
      "execution_count": null,
      "outputs": []
    },
    {
      "cell_type": "code",
      "metadata": {
        "id": "9ZAoxFV9nRy4",
        "outputId": "47f44587-851c-4c63-de0a-33fad66abcfa",
        "colab": {
          "base_uri": "https://localhost:8080/"
        }
      },
      "source": [
        "type(xTrain)"
      ],
      "execution_count": null,
      "outputs": [
        {
          "output_type": "execute_result",
          "data": {
            "text/plain": [
              "numpy.ndarray"
            ]
          },
          "metadata": {},
          "execution_count": 16
        }
      ]
    },
    {
      "cell_type": "code",
      "metadata": {
        "id": "mpIGRhAZ_yXC",
        "colab": {
          "base_uri": "https://localhost:8080/"
        },
        "outputId": "43f5b1f8-c7dc-47b9-a3a7-5c6253d91e4e"
      },
      "source": [
        "print(xTrain.shape)"
      ],
      "execution_count": null,
      "outputs": [
        {
          "output_type": "stream",
          "name": "stdout",
          "text": [
            "(62504, 109)\n"
          ]
        }
      ]
    },
    {
      "cell_type": "markdown",
      "metadata": {
        "id": "gWa3dA-7AWxk"
      },
      "source": [
        "# 6 Формирование обычающих выборок № 2"
      ]
    },
    {
      "cell_type": "code",
      "metadata": {
        "id": "aI6ILLqQ_yZU"
      },
      "source": [
        "###########################\n",
        "# Очистка текста и превращение в набор слов\n",
        "##########################\n",
        "def text2Words(text):\n",
        "\n",
        "  #Удаляем лишние символы\n",
        "  text = text.replace(\".\", \"\")# удаляем лишние символы\n",
        "  text = text.replace(\"—\", \"\")\n",
        "  text = text.replace(\",\", \"\")\n",
        "  text = text.replace(\"!\", \"\")\n",
        "  text = text.replace(\"?\", \"\")\n",
        "  text = text.replace(\"…\", \"\")\n",
        "  text = text.lower() #Переводим в нижний регистр\n",
        "\n",
        "\n",
        "  words = [] #Тут будут все слов\n",
        "  currWord = \"\" #Тут будет накапливаться текущее слово, между двумя пробелами\n",
        "\n",
        "  #идём по всем символам\n",
        "  for symbol in text:\n",
        "\n",
        "    if (symbol != \"\\ufeff\"): #Игнорируем системынй символ в начале строки\n",
        "      if (symbol != \" \"): #Если символ не пробел\n",
        "        currWord += symbol #То добавляем вимвол в текущее слово\n",
        "      else: #Если символ пробел\n",
        "        if (currWord != \"\"):\n",
        "          words.append(currWord) #Добавляем тккущее слово в список слов\n",
        "          currWord = \"\" #И обнуляем текущее слово\n",
        "\n",
        "  #Добавляем финальное слово, если оно не пустое\n",
        "  #Если не сделать, то потеряем финальное слово, потому что текст чаще всего заканчивается на не пробел\n",
        "  if (currWord != \"\"):\n",
        "        words.append(currWord)\n",
        "\n",
        "  return words\n",
        "\n",
        "\n",
        "###########################\n",
        "# Создание словаря - все слова, упорядоченные по частоте появления\n",
        "##########################\n",
        "def createVocabulary(allWords):\n",
        "\n",
        "  #Создаём словарь, в котором будут слова и количество их поялвений во всём текста\n",
        "  #Ключи - все наши слова\n",
        "  #Количество появлений пока везде 0\n",
        "  wCount = dict.fromkeys(allWords, 0)\n",
        "\n",
        "  #Проходим по всем словам\n",
        "  for word in allWords:\n",
        "    wCount[word] += 1 #И увеличиаем количество появлений текущего слова на 1\n",
        "\n",
        "  #Выцепляем лист из словаря\n",
        "  wordsList = list(wCount.items())\n",
        "  #И сортируем по частоте появления\n",
        "  wordsList.sort(key = lambda i:i[1], reverse=1)\n",
        "  #key = lambda i:i[1] - говорит, что сортировать надо по частоте появления\n",
        "  #В i[0] у нас слово, в i[1] - частота появления\n",
        "  #reverse=1 говорить сортироваться по убыванию\n",
        "\n",
        "  sortedWords = [] #Тут будет лист всех отсортированных слов\n",
        "\n",
        "  #Проходим по всем словам в отсортированном списке\n",
        "  for word in wordsList:\n",
        "    sortedWords.append(word[0]) #Докидываем слово в лист отсортированных слов\n",
        "\n",
        "  #Это словарь слово - индекс\n",
        "  #Изначально заполнен всеми словами\n",
        "  #У всех индекс 0\n",
        "  wordIndexes = dict.fromkeys(allWords, 0)\n",
        "  #Проходим по всем словам\n",
        "  for word in wordIndexes.keys():\n",
        "    wordIndexes[word] = sortedWords.index(word)+1 #Ставим индекс = индекс слова в отсортированном листе слов + 1\n",
        "    #+1 потому, что индекс 0 резервируем под неопознанные слова\n",
        "\n",
        "  return wordIndexes\n",
        "\n",
        "\n",
        "###########################\n",
        "# Преобразования листа слов в лист индексов\n",
        "##########################\n",
        "def words2Indexes(words, vocabulary, maxWordsCount):\n",
        "  wordsIndexes = []\n",
        "\n",
        "  #Идём по всем словая\n",
        "  for word in words:\n",
        "\n",
        "    wordIndex = 0 #Тут будет индекс слова, изначально 0 - слово неопознано\n",
        "    wordInVocabulary = word in vocabulary #Проверяем, есть ли слово в словаре\n",
        "\n",
        "    #Если слово есть в словаре\n",
        "    if (wordInVocabulary):\n",
        "      index = vocabulary[word] #Индекс = индексу слова в словаре\n",
        "      if (index < maxWordsCount): #Если индекс ниже maxWordsCount - черты отсечения слов\n",
        "        wordIndex = index #То записываем индекс\n",
        "      #Иначе останется значение 0\n",
        "\n",
        "    wordsIndexes.append(wordIndex)\n",
        "\n",
        "  return wordsIndexes\n",
        "\n",
        "\n",
        "###########################\n",
        "# Преобразование одного короткого вектора в вектор из 0 и 1\n",
        "# По принципу words bag\n",
        "##########################\n",
        "def changeXTo01(trainVector, wordsCount):\n",
        "  #Создаём вектор длины wordsCount с нулями\n",
        "  out = np.zeros(wordsCount)\n",
        "\n",
        "  #Идём по всем индексам в строке\n",
        "  for x in trainVector:\n",
        "    out[x] = 1 #В позицию нужного индекса ставим 1\n",
        "\n",
        "  return out\n",
        "\n",
        "\n",
        "###########################\n",
        "# Преобразование выборки (обучающей или проверочной) к виду 0 и 1\n",
        "# По принципу words bag\n",
        "##########################\n",
        "def changeSetTo01(trainSet, wordsCount):\n",
        "  out = []\n",
        "\n",
        "  #Проходим по всем векторам в наборе\n",
        "  for x in trainSet:\n",
        "    out.append(changeXTo01(x, wordsCount)) #Добавляем в итоговый набор текущий вектор, преобразованный в bag of words\n",
        "\n",
        "  return np.array(out)"
      ],
      "execution_count": null,
      "outputs": []
    },
    {
      "cell_type": "markdown",
      "metadata": {
        "id": "nHygJbcw8Ikl"
      },
      "source": [
        "Формирование xTrain из столбца \"Примечание\""
      ]
    },
    {
      "cell_type": "code",
      "metadata": {
        "id": "dST1hQZ58HqJ"
      },
      "source": [
        "###########################\n",
        "# Формируем обучающую выборку из примечаний к квартирам\n",
        "# Пока в виде слов\n",
        "##########################\n",
        "def getXTrainComments(data):\n",
        "  xTrainComments = [] #Тут будет обучающся выборка\n",
        "  allTextComments = \"\" #Тут будуте все тексты вместе для словаря\n",
        "\n",
        "  #Идём по всем строкам квартир в базе\n",
        "  for d in data:\n",
        "    currText = getComment(d) #Вытаскиваем примечание к квартире\n",
        "    try:\n",
        "      if (currText == currText): #Проверяем на nan\n",
        "        allTextComments += currText + \" \" #Добавляем текст в общий текст для словаря\n",
        "    except:\n",
        "      currText = \"Нет комментария\" #Если не получается, то делаем стандартный текст \"Нет комментария\"\n",
        "    xTrainComments.append(currText) #Добавляем примечание новой строкой в обучающую выборку\n",
        "\n",
        "  xTrainComments = np.array(xTrainComments)\n",
        "\n",
        "  return (xTrainComments, allTextComments)\n",
        "\n",
        "###########################\n",
        "# Формируем обучающую выборку из примечаний к квартирам\n",
        "# Теперь в виде индексов\n",
        "##########################\n",
        "def changeSetToIndexes(xTrainComments, vocabulary, maxWordsCount):\n",
        "  xTrainCommentsIndexes = [] #Тут будет итоговый xTrain примечаний в виде индексов\n",
        "\n",
        "  #Идём по всем текстам\n",
        "  for text in xTrainComments:\n",
        "    currWords = text2Words(text) #Разбиваем текст на слова\n",
        "    currIndexes = words2Indexes(currWords, vocabulary, maxWordsCount) #Превращаем в лист индексов\n",
        "    currIndexes = np.array(currIndexes)\n",
        "    xTrainCommentsIndexes.append(currIndexes) #Добавляем в xTrain\n",
        "\n",
        "  xTrainCommentsIndexes = np.array(xTrainCommentsIndexes)\n",
        "  xTrainCommentsIndexes = changeSetTo01(xTrainCommentsIndexes, maxWordsCount) #Превращаем в формат bag of words\n",
        "  return xTrainCommentsIndexes\n",
        "\n",
        "###########################\n",
        "# Формируем обучающую выборку из примечаний к квартирам\n",
        "# Теперь в виде индексов\n",
        "# И с приведением к стандартной длине всех векторов - cropLen\n",
        "##########################\n",
        "def changeSetToIndexesCrop(xTrainComments, vocabulary, maxWordsCount, cropLen):\n",
        "  xTrainCommentsIndexes = [] #Тут будет итоговый xTrain примечаний в виде индексов\n",
        "\n",
        "  #Идём по всем текстам\n",
        "  for text in xTrainComments:\n",
        "    currWords = text2Words(text) #Разбиваем текст на слова\n",
        "    currIndexes = words2Indexes(currWords, vocabulary, maxWordsCount) #Превращаем в лист индексов\n",
        "    currIndexes = np.array(currIndexes)\n",
        "    xTrainCommentsIndexes.append(currIndexes) #Добавляем в xTrain\n",
        "\n",
        "  xTrainCommentsIndexes = np.array(xTrainCommentsIndexes)\n",
        "  xTrainCommentsIndexes = pad_sequences(xTrainCommentsIndexes, maxlen=cropLen) #Приводим все вектора к стандартной длине\n",
        "  return xTrainCommentsIndexes"
      ],
      "execution_count": null,
      "outputs": []
    },
    {
      "cell_type": "code",
      "metadata": {
        "id": "GR1HFn0Z_jAi",
        "colab": {
          "base_uri": "https://localhost:8080/"
        },
        "outputId": "07faecab-ee90-4643-8bbc-9ef607634d45"
      },
      "source": [
        "xTrainC, allTextComments = getXTrainComments(data1) #Создаём обучающую выборку по текстам и большо текст для словаря\n",
        "allWords = text2Words(allTextComments) #Собираем полный текст в слова\n",
        "allWords = allWords[::10] #Берём 10% слов (иначе словарь слишком долго формируется)\n",
        "vocabulary = createVocabulary(allWords) #Создаём словарь\n",
        "xTrainC01 = changeSetToIndexes(xTrainC, vocabulary, 2000) #Преобразеум xTrain в bag of words"
      ],
      "execution_count": null,
      "outputs": [
        {
          "output_type": "stream",
          "name": "stderr",
          "text": [
            "/usr/local/lib/python3.7/dist-packages/ipykernel_launcher.py:37: VisibleDeprecationWarning: Creating an ndarray from ragged nested sequences (which is a list-or-tuple of lists-or-tuples-or ndarrays with different lengths or shapes) is deprecated. If you meant to do this, you must specify 'dtype=object' when creating the ndarray\n"
          ]
        }
      ]
    },
    {
      "cell_type": "code",
      "metadata": {
        "id": "A1eb5LzKIizI",
        "colab": {
          "base_uri": "https://localhost:8080/"
        },
        "outputId": "7c45d8cf-8671-4dd6-88bb-6246ee82488b"
      },
      "source": [
        "#Выводим раземры обучающей выборки\n",
        "#Чтобы проверить, что мы всё правильно собрали\n",
        "print(xTrain.shape)\n",
        "print(xTrainC01.shape)\n",
        "print(yTrain.shape)"
      ],
      "execution_count": null,
      "outputs": [
        {
          "output_type": "stream",
          "name": "stdout",
          "text": [
            "(62504, 109)\n",
            "(62504, 2000)\n",
            "(62504,)\n"
          ]
        }
      ]
    },
    {
      "cell_type": "markdown",
      "metadata": {
        "id": "FTFUZK_IIvZT"
      },
      "source": [
        "# 7 Нормирование данных"
      ]
    },
    {
      "cell_type": "code",
      "metadata": {
        "id": "v-EecYPbIr2u",
        "colab": {
          "base_uri": "https://localhost:8080/"
        },
        "outputId": "5c2b7588-44ab-46bf-ad13-200be0a7486e"
      },
      "source": [
        "#Нормируем размер квартиры в xTrain\n",
        "xScaler = StandardScaler()                  # Создаём нормировщик нормальным распределением\n",
        "xScaler.fit(xTrain[:,-1].reshape(-1, 1))    # Обучаем его на площадях квартир (последня колонка в xTrain)\n",
        "xTrainScaled = xTrain.copy()\n",
        "xTrainScaled[:,-1] = xScaler.transform(xTrain[:,-1].reshape(-1, 1)).flatten() # Нормируем данные нормировщиком\n",
        "\n",
        "#Выводим размер и два примера для сравнения\n",
        "#Не нормированных данных и нормированных\n",
        "print(xTrainScaled.shape)\n",
        "print(xTrain[0])\n",
        "print(xTrainScaled[0])"
      ],
      "execution_count": null,
      "outputs": [
        {
          "output_type": "stream",
          "name": "stdout",
          "text": [
            "(62504, 109)\n",
            "[ 0.   1.   0.   0.   0.   0.   0.   0.   0.   0.   0.   0.   0.   0.\n",
            "  0.   0.   0.   0.   0.   0.   0.   0.   0.   0.   0.   0.   0.   0.\n",
            "  0.   0.   0.   0.   1.   0.   0.   0.   0.   1.   0.   0.   0.   0.\n",
            "  1.   0.   0.   0.   0.   0.   0.   0.   0.   0.   0.   0.   0.   0.\n",
            "  0.   0.   0.   0.   0.   0.   0.   0.   1.   0.   0.   0.   0.   1.\n",
            "  0.   0.   1.   0.   0.   0.   0.   0.   1.   0.   0.   0.   0.   0.\n",
            "  0.   0.   0.   0.   0.   0.   0.   0.   0.   0.   0.   1.   0.   0.\n",
            "  0.   0.   0.   0.   0.   0.   0.   0.   0.   0.  64.1]\n",
            "[0.         1.         0.         0.         0.         0.\n",
            " 0.         0.         0.         0.         0.         0.\n",
            " 0.         0.         0.         0.         0.         0.\n",
            " 0.         0.         0.         0.         0.         0.\n",
            " 0.         0.         0.         0.         0.         0.\n",
            " 0.         0.         1.         0.         0.         0.\n",
            " 0.         1.         0.         0.         0.         0.\n",
            " 1.         0.         0.         0.         0.         0.\n",
            " 0.         0.         0.         0.         0.         0.\n",
            " 0.         0.         0.         0.         0.         0.\n",
            " 0.         0.         0.         0.         1.         0.\n",
            " 0.         0.         0.         1.         0.         0.\n",
            " 1.         0.         0.         0.         0.         0.\n",
            " 1.         0.         0.         0.         0.         0.\n",
            " 0.         0.         0.         0.         0.         0.\n",
            " 0.         0.         0.         0.         0.         1.\n",
            " 0.         0.         0.         0.         0.         0.\n",
            " 0.         0.         0.         0.         0.         0.\n",
            " 1.28438086]\n"
          ]
        }
      ]
    },
    {
      "cell_type": "code",
      "metadata": {
        "id": "9rQkOgy3Ir4_",
        "colab": {
          "base_uri": "https://localhost:8080/"
        },
        "outputId": "89e6478e-eb90-4400-e85a-12ffa648893f"
      },
      "source": [
        "# Нормируем выход сети - цену квартиры\n",
        "yScaler = StandardScaler()                                 # Делаемнормальный нормировщик\n",
        "yScaler.fit(yTrain.reshape(-1, 1))                         # Обучаем на ценах квартир\n",
        "yTrainScaled = yScaler.transform(yTrain.reshape(-1, 1))    # Нормируем цены квартир\n",
        "\n",
        "# Выводим размер и два примера для сравнения\n",
        "# Не нормированных данных и нормированных\n",
        "print(yTrainScaled.shape)\n",
        "print(yTrain[0])\n",
        "print(yTrainScaled[0])"
      ],
      "execution_count": null,
      "outputs": [
        {
          "output_type": "stream",
          "text": [
            "(62504, 1)\n",
            "19500000.0\n",
            "[0.45013]\n"
          ],
          "name": "stdout"
        }
      ]
    },
    {
      "cell_type": "code",
      "metadata": {
        "id": "yIZ88mHQIr7R",
        "colab": {
          "base_uri": "https://localhost:8080/"
        },
        "outputId": "3d0d48ff-cb16-4e26-9974-49cb64109609"
      },
      "source": [
        "print(min(yTrain), max(yTrain))\n",
        "print(min(yTrainScaled), max(yTrainScaled))"
      ],
      "execution_count": null,
      "outputs": [
        {
          "output_type": "stream",
          "text": [
            "1500000.0 3000000015.0\n",
            "[-0.3458729] [132.25494456]\n"
          ],
          "name": "stdout"
        }
      ]
    },
    {
      "cell_type": "markdown",
      "metadata": {
        "id": "kGiLmJD4Q9z_"
      },
      "source": [
        "Формирование проверочной выборки"
      ]
    },
    {
      "cell_type": "code",
      "metadata": {
        "id": "arK7Iy6PIsAf"
      },
      "source": [
        "splitVal = 0.2                                                  # Процент, который выделяем в проверочную выборку\n",
        "valMask = np.random.sample(xTrainScaled.shape[0]) < splitVal    # Создаём маску True-False для создания проверочной выборки"
      ],
      "execution_count": null,
      "outputs": []
    },
    {
      "cell_type": "markdown",
      "metadata": {
        "id": "aieXqsxUJJQ-"
      },
      "source": [
        "# 8 Создание и обучение составной нейорнной сети"
      ]
    },
    {
      "cell_type": "code",
      "metadata": {
        "id": "0V_r4qxjJSPR"
      },
      "source": [
        "def on_epoch_end(epoch, logs):\n",
        "  pred = model.predict([xTrainScaled[valMask], xTrainC01[valMask]])             # Полуаем выход сети на проверочно выборке\n",
        "  predUnscaled = yScaler.inverse_transform(pred).flatten()                      # Делаем обратное нормирование выхода к изначальным величинам цен квартир\n",
        "  yTrainUnscaled = yScaler.inverse_transform(yTrainScaled[valMask]).flatten()   # Делаем такое же обратное нормирование yTrain к базовым ценам\n",
        "  delta = predUnscaled - yTrainUnscaled                                         # Считаем разность предсказания и правильных цен\n",
        "  absDelta = abs(delta)                                                         # Берём модуль отклонения\n",
        "  print(\"Эпоха\", epoch, \"модуль ошибки\", round(sum(absDelta) / (1e+6 * len(absDelta)),3)) # Выводим усреднённую ошибку в миллионах рублей\n",
        "\n",
        "# Коллбэки\n",
        "pltMae = LambdaCallback(on_epoch_end=on_epoch_end)"
      ],
      "execution_count": null,
      "outputs": []
    },
    {
      "cell_type": "code",
      "metadata": {
        "id": "vJ57tWt4JSVV",
        "colab": {
          "base_uri": "https://localhost:8080/",
          "height": 1000
        },
        "outputId": "66424ad5-cb90-4c44-c5ab-75816670f8e9"
      },
      "source": [
        "#Простая Dense сеть\n",
        "input1 = Input((xTrainScaled.shape[1],))\n",
        "input2 = Input((xTrainC01.shape[1],))\n",
        "\n",
        "x1 = Dense(10, activation=\"relu\")(input1)\n",
        "x2 = Dense(250, activation=\"relu\")(input2)\n",
        "\n",
        "x = concatenate([x1, x2])\n",
        "\n",
        "x = Dense(100, activation='relu')(x)\n",
        "x = Dense(10, activation='relu')(x)\n",
        "x = Dense(1, activation='linear')(x)\n",
        "\n",
        "model = Model((input1, input2), x)\n",
        "\n",
        "model.compile(optimizer=Adam(lr=1e-3), loss='mse')\n",
        "history = model.fit([xTrainScaled[~valMask], xTrainC01[~valMask]],\n",
        "                    yTrainScaled[~valMask],\n",
        "                    epochs=40,\n",
        "                    validation_data=([xTrainScaled[valMask], xTrainC01[valMask]],\n",
        "                    yTrainScaled[valMask]),\n",
        "                    verbose=0,\n",
        "                    callbacks=[pltMae])\n",
        "\n",
        "print()\n",
        "print('Меняем шаг обучения на 1e-4')\n",
        "model.compile(optimizer=Adam(lr=1e-4), loss='mse')\n",
        "history = model.fit([xTrainScaled[~valMask], xTrainC01[~valMask]],\n",
        "                    yTrainScaled[~valMask],\n",
        "                    epochs=40,\n",
        "                    validation_data=([xTrainScaled[valMask], xTrainC01[valMask]],\n",
        "                    yTrainScaled[valMask]),\n",
        "                    verbose=0,\n",
        "                    callbacks=[pltMae])\n",
        "\n",
        "\n",
        "\n",
        "print()\n",
        "print('Меняем шаг обучения на 1e-5')\n",
        "model.compile(optimizer=Adam(lr=1e-5), loss='mse')\n",
        "history = model.fit([xTrainScaled[~valMask], xTrainC01[~valMask]],\n",
        "                    yTrainScaled[~valMask],\n",
        "                    epochs=40,\n",
        "                    validation_data=([xTrainScaled[valMask], xTrainC01[valMask]],\n",
        "                    yTrainScaled[valMask]),\n",
        "                    verbose=0,\n",
        "                    callbacks=[pltMae])\n",
        "\n",
        "print()\n",
        "print('Меняем шаг обучения на 1e-6')\n",
        "model.compile(optimizer=Adam(lr=1e-6), loss='mse')\n",
        "history = model.fit([xTrainScaled[~valMask], xTrainC01[~valMask]],\n",
        "                    yTrainScaled[~valMask],\n",
        "                    epochs=40,\n",
        "                    validation_data=([xTrainScaled[valMask], xTrainC01[valMask]],\n",
        "                    yTrainScaled[valMask]),\n",
        "                    verbose=0,\n",
        "                    callbacks=[pltMae])\n",
        "\n",
        "print()\n",
        "print('Меняем шаг обучения на 1e-7')\n",
        "model.compile(optimizer=Adam(lr=1e-7), loss='mse')\n",
        "history = model.fit([xTrainScaled[~valMask], xTrainC01[~valMask]],\n",
        "                    yTrainScaled[~valMask],\n",
        "                    epochs=40,\n",
        "                    validation_data=([xTrainScaled[valMask], xTrainC01[valMask]],\n",
        "                    yTrainScaled[valMask]),\n",
        "                    verbose=0,\n",
        "                    callbacks=[pltMae])\n",
        "\n",
        "#Проверяем результаты\n",
        "pred = model.predict([xTrainScaled[valMask], xTrainC01[valMask]])             # Полуаем выход сети на проверочной выборке\n",
        "predUnscaled = yScaler.inverse_transform(pred).flatten()                      # Делаем обратное нормирование выхода к изначальным величинам цен квартир\n",
        "yTrainUnscaled = yScaler.inverse_transform(yTrainScaled[valMask]).flatten()   # Делаем такое же обратное нормирование yTrain к базовым ценам\n",
        "delta = predUnscaled - yTrainUnscaled                                         # Считаем разность предсказания и правильных цен\n",
        "absDelta = abs(delta)                                                         # Берём модуль отклонения\n",
        "print(\"Модуль ошибки\", sum(absDelta) / (1e+6 * len(absDelta)))                # Выводим усреднённую ошибку в миллионах рублей\n",
        "\n",
        "#Выводим графики ошибки\n",
        "plt.plot(history.history['loss'],\n",
        "         label='Средняя абсолютная ошибка на обучающем наборе')\n",
        "plt.plot(history.history['val_loss'],\n",
        "         label='Средняя абсолютная ошибка на проверочном наборе')\n",
        "plt.xlabel('Эпоха обучения')\n",
        "plt.ylabel('Средняя абсолютная ошибка')\n",
        "plt.legend()\n",
        "plt.show()"
      ],
      "execution_count": null,
      "outputs": [
        {
          "output_type": "stream",
          "text": [
            "Эпоха 0 модуль ошибки 2.059\n",
            "Эпоха 1 модуль ошибки 2.065\n",
            "Эпоха 2 модуль ошибки 1.548\n",
            "Эпоха 3 модуль ошибки 1.533\n",
            "Эпоха 4 модуль ошибки 1.186\n",
            "Эпоха 5 модуль ошибки 1.33\n",
            "Эпоха 6 модуль ошибки 1.136\n",
            "Эпоха 7 модуль ошибки 1.516\n",
            "Эпоха 8 модуль ошибки 1.233\n",
            "Эпоха 9 модуль ошибки 1.137\n",
            "Эпоха 10 модуль ошибки 1.062\n",
            "Эпоха 11 модуль ошибки 1.139\n",
            "Эпоха 12 модуль ошибки 1.213\n",
            "Эпоха 13 модуль ошибки 1.153\n",
            "Эпоха 14 модуль ошибки 1.032\n",
            "Эпоха 15 модуль ошибки 1.018\n",
            "Эпоха 16 модуль ошибки 1.079\n",
            "Эпоха 17 модуль ошибки 1.355\n",
            "Эпоха 18 модуль ошибки 1.017\n",
            "Эпоха 19 модуль ошибки 1.021\n",
            "Эпоха 20 модуль ошибки 1.048\n",
            "Эпоха 21 модуль ошибки 1.11\n",
            "Эпоха 22 модуль ошибки 1.015\n",
            "Эпоха 23 модуль ошибки 1.027\n",
            "Эпоха 24 модуль ошибки 0.994\n",
            "Эпоха 25 модуль ошибки 0.985\n",
            "Эпоха 26 модуль ошибки 1.085\n",
            "Эпоха 27 модуль ошибки 1.025\n",
            "Эпоха 28 модуль ошибки 1.046\n",
            "Эпоха 29 модуль ошибки 1.058\n",
            "Эпоха 30 модуль ошибки 0.966\n",
            "Эпоха 31 модуль ошибки 1.043\n",
            "Эпоха 32 модуль ошибки 0.963\n",
            "Эпоха 33 модуль ошибки 0.994\n",
            "Эпоха 34 модуль ошибки 1.076\n",
            "Эпоха 35 модуль ошибки 0.984\n",
            "Эпоха 36 модуль ошибки 1.008\n",
            "Эпоха 37 модуль ошибки 1.24\n",
            "Эпоха 38 модуль ошибки 1.077\n",
            "Эпоха 39 модуль ошибки 1.003\n",
            "\n",
            "Меняем шаг обучения на 1e-4\n",
            "Эпоха 0 модуль ошибки 0.951\n",
            "Эпоха 1 модуль ошибки 0.885\n",
            "Эпоха 2 модуль ошибки 0.884\n",
            "Эпоха 3 модуль ошибки 0.881\n",
            "Эпоха 4 модуль ошибки 0.922\n",
            "Эпоха 5 модуль ошибки 0.879\n",
            "Эпоха 6 модуль ошибки 0.877\n",
            "Эпоха 7 модуль ошибки 0.934\n",
            "Эпоха 8 модуль ошибки 0.895\n",
            "Эпоха 9 модуль ошибки 0.873\n",
            "Эпоха 10 модуль ошибки 0.866\n",
            "Эпоха 11 модуль ошибки 0.866\n",
            "Эпоха 12 модуль ошибки 0.871\n",
            "Эпоха 13 модуль ошибки 0.867\n",
            "Эпоха 14 модуль ошибки 0.91\n",
            "Эпоха 15 модуль ошибки 0.865\n",
            "Эпоха 16 модуль ошибки 0.865\n",
            "Эпоха 17 модуль ошибки 0.883\n",
            "Эпоха 18 модуль ошибки 0.858\n",
            "Эпоха 19 модуль ошибки 0.862\n",
            "Эпоха 20 модуль ошибки 0.867\n",
            "Эпоха 21 модуль ошибки 0.872\n",
            "Эпоха 22 модуль ошибки 0.866\n",
            "Эпоха 23 модуль ошибки 0.865\n",
            "Эпоха 24 модуль ошибки 0.864\n",
            "Эпоха 25 модуль ошибки 0.861\n",
            "Эпоха 26 модуль ошибки 0.878\n",
            "Эпоха 27 модуль ошибки 0.967\n",
            "Эпоха 28 модуль ошибки 0.858\n",
            "Эпоха 29 модуль ошибки 0.874\n",
            "Эпоха 30 модуль ошибки 0.884\n",
            "Эпоха 31 модуль ошибки 0.891\n",
            "Эпоха 32 модуль ошибки 0.86\n",
            "Эпоха 33 модуль ошибки 0.925\n",
            "Эпоха 34 модуль ошибки 0.855\n",
            "Эпоха 35 модуль ошибки 0.863\n",
            "Эпоха 36 модуль ошибки 0.856\n",
            "Эпоха 37 модуль ошибки 0.925\n",
            "Эпоха 38 модуль ошибки 0.866\n",
            "Эпоха 39 модуль ошибки 0.908\n",
            "\n",
            "Меняем шаг обучения на 1e-5\n",
            "Эпоха 0 модуль ошибки 0.854\n",
            "Эпоха 1 модуль ошибки 0.851\n",
            "Эпоха 2 модуль ошибки 0.85\n",
            "Эпоха 3 модуль ошибки 0.849\n",
            "Эпоха 4 модуль ошибки 0.85\n",
            "Эпоха 5 модуль ошибки 0.856\n",
            "Эпоха 6 модуль ошибки 0.856\n",
            "Эпоха 7 модуль ошибки 0.85\n",
            "Эпоха 8 модуль ошибки 0.85\n",
            "Эпоха 9 модуль ошибки 0.851\n",
            "Эпоха 10 модуль ошибки 0.854\n",
            "Эпоха 11 модуль ошибки 0.85\n",
            "Эпоха 12 модуль ошибки 0.852\n",
            "Эпоха 13 модуль ошибки 0.85\n",
            "Эпоха 14 модуль ошибки 0.85\n",
            "Эпоха 15 модуль ошибки 0.85\n",
            "Эпоха 16 модуль ошибки 0.851\n",
            "Эпоха 17 модуль ошибки 0.849\n",
            "Эпоха 18 модуль ошибки 0.852\n",
            "Эпоха 19 модуль ошибки 0.849\n",
            "Эпоха 20 модуль ошибки 0.85\n",
            "Эпоха 21 модуль ошибки 0.85\n",
            "Эпоха 22 модуль ошибки 0.85\n",
            "Эпоха 23 модуль ошибки 0.853\n",
            "Эпоха 24 модуль ошибки 0.85\n",
            "Эпоха 25 модуль ошибки 0.85\n",
            "Эпоха 26 модуль ошибки 0.849\n",
            "Эпоха 27 модуль ошибки 0.851\n",
            "Эпоха 28 модуль ошибки 0.849\n",
            "Эпоха 29 модуль ошибки 0.852\n",
            "Эпоха 30 модуль ошибки 0.849\n",
            "Эпоха 31 модуль ошибки 0.849\n",
            "Эпоха 32 модуль ошибки 0.865\n",
            "Эпоха 33 модуль ошибки 0.85\n",
            "Эпоха 34 модуль ошибки 0.855\n",
            "Эпоха 35 модуль ошибки 0.85\n",
            "Эпоха 36 модуль ошибки 0.85\n",
            "Эпоха 37 модуль ошибки 0.851\n",
            "Эпоха 38 модуль ошибки 0.85\n",
            "Эпоха 39 модуль ошибки 0.85\n",
            "\n",
            "Меняем шаг обучения на 1e-6\n",
            "Эпоха 0 модуль ошибки 0.85\n",
            "Эпоха 1 модуль ошибки 0.849\n",
            "Эпоха 2 модуль ошибки 0.851\n",
            "Эпоха 3 модуль ошибки 0.85\n",
            "Эпоха 4 модуль ошибки 0.85\n",
            "Эпоха 5 модуль ошибки 0.85\n",
            "Эпоха 6 модуль ошибки 0.85\n",
            "Эпоха 7 модуль ошибки 0.849\n",
            "Эпоха 8 модуль ошибки 0.849\n",
            "Эпоха 9 модуль ошибки 0.85\n",
            "Эпоха 10 модуль ошибки 0.849\n",
            "Эпоха 11 модуль ошибки 0.85\n",
            "Эпоха 12 модуль ошибки 0.849\n",
            "Эпоха 13 модуль ошибки 0.849\n",
            "Эпоха 14 модуль ошибки 0.849\n",
            "Эпоха 15 модуль ошибки 0.85\n",
            "Эпоха 16 модуль ошибки 0.849\n",
            "Эпоха 17 модуль ошибки 0.849\n",
            "Эпоха 18 модуль ошибки 0.849\n",
            "Эпоха 19 модуль ошибки 0.849\n",
            "Эпоха 20 модуль ошибки 0.849\n",
            "Эпоха 21 модуль ошибки 0.849\n",
            "Эпоха 22 модуль ошибки 0.849\n",
            "Эпоха 23 модуль ошибки 0.85\n",
            "Эпоха 24 модуль ошибки 0.85\n",
            "Эпоха 25 модуль ошибки 0.849\n",
            "Эпоха 26 модуль ошибки 0.849\n",
            "Эпоха 27 модуль ошибки 0.85\n",
            "Эпоха 28 модуль ошибки 0.849\n",
            "Эпоха 29 модуль ошибки 0.85\n",
            "Эпоха 30 модуль ошибки 0.85\n",
            "Эпоха 31 модуль ошибки 0.849\n",
            "Эпоха 32 модуль ошибки 0.849\n",
            "Эпоха 33 модуль ошибки 0.849\n",
            "Эпоха 34 модуль ошибки 0.849\n",
            "Эпоха 35 модуль ошибки 0.849\n",
            "Эпоха 36 модуль ошибки 0.849\n",
            "Эпоха 37 модуль ошибки 0.849\n",
            "Эпоха 38 модуль ошибки 0.85\n",
            "Эпоха 39 модуль ошибки 0.849\n",
            "\n",
            "Меняем шаг обучения на 1e-7\n",
            "Эпоха 0 модуль ошибки 0.849\n",
            "Эпоха 1 модуль ошибки 0.849\n",
            "Эпоха 2 модуль ошибки 0.849\n",
            "Эпоха 3 модуль ошибки 0.849\n",
            "Эпоха 4 модуль ошибки 0.849\n",
            "Эпоха 5 модуль ошибки 0.849\n",
            "Эпоха 6 модуль ошибки 0.849\n",
            "Эпоха 7 модуль ошибки 0.849\n",
            "Эпоха 8 модуль ошибки 0.849\n",
            "Эпоха 9 модуль ошибки 0.849\n",
            "Эпоха 10 модуль ошибки 0.849\n",
            "Эпоха 11 модуль ошибки 0.849\n",
            "Эпоха 12 модуль ошибки 0.849\n",
            "Эпоха 13 модуль ошибки 0.85\n",
            "Эпоха 14 модуль ошибки 0.849\n",
            "Эпоха 15 модуль ошибки 0.849\n",
            "Эпоха 16 модуль ошибки 0.849\n",
            "Эпоха 17 модуль ошибки 0.849\n",
            "Эпоха 18 модуль ошибки 0.849\n",
            "Эпоха 19 модуль ошибки 0.849\n",
            "Эпоха 20 модуль ошибки 0.849\n",
            "Эпоха 21 модуль ошибки 0.849\n",
            "Эпоха 22 модуль ошибки 0.85\n",
            "Эпоха 23 модуль ошибки 0.85\n",
            "Эпоха 24 модуль ошибки 0.849\n",
            "Эпоха 25 модуль ошибки 0.85\n",
            "Эпоха 26 модуль ошибки 0.849\n",
            "Эпоха 27 модуль ошибки 0.85\n",
            "Эпоха 28 модуль ошибки 0.85\n",
            "Эпоха 29 модуль ошибки 0.85\n",
            "Эпоха 30 модуль ошибки 0.85\n",
            "Эпоха 31 модуль ошибки 0.85\n",
            "Эпоха 32 модуль ошибки 0.85\n",
            "Эпоха 33 модуль ошибки 0.85\n",
            "Эпоха 34 модуль ошибки 0.849\n",
            "Эпоха 35 модуль ошибки 0.85\n",
            "Эпоха 36 модуль ошибки 0.849\n",
            "Эпоха 37 модуль ошибки 0.85\n",
            "Эпоха 38 модуль ошибки 0.85\n",
            "Эпоха 39 модуль ошибки 0.85\n",
            "Модуль ошибки 0.8495239535503465\n"
          ],
          "name": "stdout"
        },
        {
          "output_type": "display_data",
          "data": {
            "image/png": "[encoded data removed]",
            "text/plain": [
              "<Figure size 432x288 with 1 Axes>"
            ]
          },
          "metadata": {
            "tags": [],
            "needs_background": "light"
          }
        }
      ]
    },
    {
      "cell_type": "markdown",
      "metadata": {
        "id": "mSnU_wLJPo6z"
      },
      "source": [
        "# 9 Выводы"
      ]
    },
    {
      "cell_type": "markdown",
      "metadata": {
        "id": "qWuBhnOnPtBu"
      },
      "source": [
        "Разработана нейронная сеть с двумя входами, включающая в свой состав Dense-слои, состояие из:\n",
        "- 10 нейронов в первой ветке и 250 нейроно во второй ветке 1-го первого слоя;\n",
        "- 100 нейронов во 2-м слое, объединяющим две ветки;\n",
        "- 10 нейронов в 3-м слое;\n",
        "- 1 нейрон в выходном слое.\n",
        "\n",
        "Созданная нейронная сеть была обучена на 200 эпохах. Каждые 40 эпох шаг обучения увеличивался, начиная со значения 1e-3 и заканчивая значением 1e-7. При значени шага обучения 1e-5 (примерно 83-я эпоха) значение ошибки зафиксировалось в диапазоне 0,849 - 0,850.\n",
        "\n",
        "Таким образом, при выбранных параметрах нейронной сети установка значения шага обучения менее 1e-5 нецелесообразна."
      ]
    }
  ]
}