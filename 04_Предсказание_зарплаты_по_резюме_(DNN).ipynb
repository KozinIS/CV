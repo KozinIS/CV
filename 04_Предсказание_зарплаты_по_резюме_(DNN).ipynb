{
  "nbformat": 4,
  "nbformat_minor": 0,
  "metadata": {
    "colab": {
      "provenance": [],
      "toc_visible": true,
      "machine_shape": "hm",
      "include_colab_link": true
    },
    "kernelspec": {
      "name": "python3",
      "display_name": "Python 3"
    },
    "accelerator": "GPU"
  },
  "cells": [
    {
      "cell_type": "markdown",
      "metadata": {
        "id": "view-in-github",
        "colab_type": "text"
      },
      "source": [
        "<a href=\"https://colab.research.google.com/github/KozinIS/CV/blob/main/04_%D0%9F%D1%80%D0%B5%D0%B4%D1%81%D0%BA%D0%B0%D0%B7%D0%B0%D0%BD%D0%B8%D0%B5_%D0%B7%D0%B0%D1%80%D0%BF%D0%BB%D0%B0%D1%82%D1%8B_%D0%BF%D0%BE_%D1%80%D0%B5%D0%B7%D1%8E%D0%BC%D0%B5_(DNN).ipynb\" target=\"_parent\"><img src=\"https://colab.research.google.com/assets/colab-badge.svg\" alt=\"Open In Colab\"/></a>"
      ]
    },
    {
      "cell_type": "markdown",
      "metadata": {
        "id": "EwkVRO8k_EcB"
      },
      "source": [
        "# **Предсказание зарплаты по резюме (DNN)**"
      ]
    },
    {
      "cell_type": "markdown",
      "source": [
        "# 1 Постановка задачи"
      ],
      "metadata": {
        "id": "Bd1ObCO2ldYQ"
      }
    },
    {
      "cell_type": "markdown",
      "source": [
        "*Подготовьте составную нейронную сеть, предназначенную для предсказания размера заработной платы по резюме. Нейронная сеть должна учитывать различные типы данных (цифровые, текстовые). Для формирования обучающей выборки необходимо использовать базу hh.ru (прилагается к заданию).*"
      ],
      "metadata": {
        "id": "SfhJRNpOosyo"
      }
    },
    {
      "cell_type": "markdown",
      "metadata": {
        "id": "49lI0Xvz_SQW"
      },
      "source": [
        "# 2 Подгрузка библиотек и подключение диска"
      ]
    },
    {
      "cell_type": "code",
      "metadata": {
        "id": "N-F1HlI0_Uvc"
      },
      "source": [
        "import numpy as np #Библиотека работы с массивами\n",
        "import pandas as pd # Библиотека для работы с базами\n",
        "\n",
        "from tensorflow.keras.models import Sequential, Model #\n",
        "from tensorflow.keras.layers import concatenate, Input, Dense, Dropout, BatchNormalization, Flatten, Embedding, Flatten, Activation\n",
        "from tensorflow.keras import utils #Используем для to_categoricall\n",
        "from tensorflow.keras.optimizers import Adam,Adadelta,SGD,Adagrad,RMSprop #\n",
        "from tensorflow.keras.preprocessing.text import Tokenizer, text_to_word_sequence #\n",
        "from tensorflow.keras.preprocessing.sequence import pad_sequences #\n",
        "from tensorflow.keras.callbacks import LambdaCallback # подключаем колбэки\n",
        "\n",
        "from sklearn.preprocessing import StandardScaler #\n",
        "from sklearn.model_selection import train_test_split # Для разбивки на выборки\n",
        "from sklearn.metrics import mean_squared_error, mean_absolute_error #\n",
        "#from google.colab import files #Для загрузки своей картинки\n",
        "\n",
        "import random #Для генерации случайных чисел\n",
        "import math # Для округления\n",
        "#import os #Для работы с файлами\n",
        "import re #\n",
        "import matplotlib.pyplot as plt #\n",
        "%matplotlib inline\n",
        "\n",
        "from IPython.display import clear_output"
      ],
      "execution_count": null,
      "outputs": []
    },
    {
      "cell_type": "code",
      "metadata": {
        "id": "0D3mhKpF_Uxu",
        "outputId": "a74dc155-4ec4-4177-9ac7-b94b2b5cf662",
        "colab": {
          "base_uri": "https://localhost:8080/",
          "height": 35
        }
      },
      "source": [
        "from google.colab import drive # Подключаем диск\n",
        "drive.mount('/content/drive')"
      ],
      "execution_count": null,
      "outputs": [
        {
          "output_type": "stream",
          "text": [
            "Mounted at /content/drive\n"
          ],
          "name": "stdout"
        }
      ]
    },
    {
      "cell_type": "markdown",
      "metadata": {
        "id": "QvumIgI1_dWA"
      },
      "source": [
        "# 3 Подгрузка базы"
      ]
    },
    {
      "cell_type": "code",
      "metadata": {
        "id": "6FQ3GR79_U03"
      },
      "source": [
        "fixed_df = pd.read_csv('/content/drive/My Drive/HW_19/hh_fixed.csv')# Это то, куда вы скачали файл"
      ],
      "execution_count": null,
      "outputs": []
    },
    {
      "cell_type": "code",
      "metadata": {
        "id": "8K-vy96FgGCy",
        "outputId": "08cb6057-88b8-4dd6-af5b-45228df14cf6",
        "colab": {
          "base_uri": "https://localhost:8080/",
          "height": 35
        }
      },
      "source": [
        "print(fixed_df.shape)"
      ],
      "execution_count": null,
      "outputs": [
        {
          "output_type": "stream",
          "text": [
            "(62967, 13)\n"
          ],
          "name": "stdout"
        }
      ]
    },
    {
      "cell_type": "code",
      "metadata": {
        "id": "dWHE-SLQ_i2i",
        "outputId": "269cad55-105c-452a-d852-df460d35c354",
        "colab": {
          "base_uri": "https://localhost:8080/",
          "height": 397
        }
      },
      "source": [
        "fixed_df.head() #Показываем пример данных (первые 6 колонок)"
      ],
      "execution_count": null,
      "outputs": [
        {
          "output_type": "execute_result",
          "data": {
            "text/html": [
              "<div>\n",
              "<style scoped>\n",
              "    .dataframe tbody tr th:only-of-type {\n",
              "        vertical-align: middle;\n",
              "    }\n",
              "\n",
              "    .dataframe tbody tr th {\n",
              "        vertical-align: top;\n",
              "    }\n",
              "\n",
              "    .dataframe thead th {\n",
              "        text-align: right;\n",
              "    }\n",
              "</style>\n",
              "<table border=\"1\" class=\"dataframe\">\n",
              "  <thead>\n",
              "    <tr style=\"text-align: right;\">\n",
              "      <th></th>\n",
              "      <th>Unnamed: 0</th>\n",
              "      <th>Пол, возраст</th>\n",
              "      <th>ЗП</th>\n",
              "      <th>Ищет работу на должность:</th>\n",
              "      <th>Город</th>\n",
              "      <th>Занятость</th>\n",
              "      <th>График</th>\n",
              "      <th>Опыт (двойное нажатие для полной версии)</th>\n",
              "      <th>Последенее/нынешнее место работы</th>\n",
              "      <th>Последеняя/нынешняя должность</th>\n",
              "      <th>Образование и ВУЗ</th>\n",
              "      <th>Обновление резюме</th>\n",
              "      <th>Авто</th>\n",
              "    </tr>\n",
              "  </thead>\n",
              "  <tbody>\n",
              "    <tr>\n",
              "      <th>0</th>\n",
              "      <td>0</td>\n",
              "      <td>Мужчина ,  29 лет , родился 16 мая 1989</td>\n",
              "      <td>40000 руб.</td>\n",
              "      <td>Специалист по поддержке чата(support team) дом...</td>\n",
              "      <td>Новороссийск , готов к переезду (Анапа, Геленд...</td>\n",
              "      <td>полная занятость</td>\n",
              "      <td>полный день</td>\n",
              "      <td>Опыт работы 3 года 9 месяцев  Специалист по по...</td>\n",
              "      <td>ООО \"Гольфстрим\"</td>\n",
              "      <td>Генеральный директор</td>\n",
              "      <td>Высшее образование 2011  Международный юридиче...</td>\n",
              "      <td>26.04.2019 08:04</td>\n",
              "      <td>Не указано</td>\n",
              "    </tr>\n",
              "    <tr>\n",
              "      <th>1</th>\n",
              "      <td>1</td>\n",
              "      <td>Мужчина ,  38 лет , родился 25 мая 1980</td>\n",
              "      <td>40000 руб.</td>\n",
              "      <td>Системный администратор</td>\n",
              "      <td>Новосибирск ,  м. Березовая роща , не готов к ...</td>\n",
              "      <td>полная занятость</td>\n",
              "      <td>полный день</td>\n",
              "      <td>Опыт работы 11 лет 11 месяцев  Системный админ...</td>\n",
              "      <td>ООО «Завод модульных технологий»</td>\n",
              "      <td>Системный администратор</td>\n",
              "      <td>Высшее образование 2002 Новосибирский государс...</td>\n",
              "      <td>26.04.2019 04:30</td>\n",
              "      <td>Не указано</td>\n",
              "    </tr>\n",
              "    <tr>\n",
              "      <th>2</th>\n",
              "      <td>2</td>\n",
              "      <td>Мужчина ,  35 лет , родился 14 июня 1983</td>\n",
              "      <td>300000 руб.</td>\n",
              "      <td>DevOps TeamLead / DevOps архитектор</td>\n",
              "      <td>Москва , готов к переезду , готов к редким ком...</td>\n",
              "      <td>полная занятость</td>\n",
              "      <td>полный день</td>\n",
              "      <td>Опыт работы 12 лет 11 месяцев  DevOps TeamLead...</td>\n",
              "      <td>Банк ВТБ (ПАО)</td>\n",
              "      <td>Начальник отдела методологии разработки (DevOp...</td>\n",
              "      <td>DevOps TeamLead / DevOps архитектор 300 000 ру...</td>\n",
              "      <td>09.04.2019 14:40</td>\n",
              "      <td>Не указано</td>\n",
              "    </tr>\n",
              "    <tr>\n",
              "      <th>3</th>\n",
              "      <td>3</td>\n",
              "      <td>Мужчина ,  33 года , родился 2 августа 1985</td>\n",
              "      <td>180000 руб.</td>\n",
              "      <td>Руководитель IT отдела</td>\n",
              "      <td>Москва ,  м. Щукинская , не готов к переезду ,...</td>\n",
              "      <td>частичная занятость, полная занятость</td>\n",
              "      <td>удаленная работа, полный день</td>\n",
              "      <td>Опыт работы 15 лет 10 месяцев  Руководитель IT...</td>\n",
              "      <td>\"Ай-Теко\", ведущий российский системный интегр...</td>\n",
              "      <td>Старший системный администратор</td>\n",
              "      <td>Руководитель IT отдела 180 000 руб. Информацио...</td>\n",
              "      <td>09.04.2019 14:39</td>\n",
              "      <td>Имеется собственный автомобиль</td>\n",
              "    </tr>\n",
              "    <tr>\n",
              "      <th>4</th>\n",
              "      <td>4</td>\n",
              "      <td>Мужчина ,  22 года , родился 1 сентября 1996</td>\n",
              "      <td>40000 руб.</td>\n",
              "      <td>Junior Developer</td>\n",
              "      <td>Москва ,  м. Юго-Западная , не готов к переезд...</td>\n",
              "      <td>стажировка, частичная занятость, проектная работа</td>\n",
              "      <td>гибкий график, удаленная работа</td>\n",
              "      <td>Опыт работы 1 год 1 месяц  Junior Developer 40...</td>\n",
              "      <td>R-Style SoftLab</td>\n",
              "      <td>Менеджер IT-проектов</td>\n",
              "      <td>Junior Developer 40 000 руб. Информационные те...</td>\n",
              "      <td>29.03.2019 12:40</td>\n",
              "      <td>Не указано</td>\n",
              "    </tr>\n",
              "  </tbody>\n",
              "</table>\n",
              "</div>"
            ],
            "text/plain": [
              "   Unnamed: 0  ...                            Авто\n",
              "0           0  ...                      Не указано\n",
              "1           1  ...                      Не указано\n",
              "2           2  ...                      Не указано\n",
              "3           3  ...  Имеется собственный автомобиль\n",
              "4           4  ...                      Не указано\n",
              "\n",
              "[5 rows x 13 columns]"
            ]
          },
          "metadata": {
            "tags": []
          },
          "execution_count": 5
        }
      ]
    },
    {
      "cell_type": "code",
      "metadata": {
        "id": "rsRQn9hM_i4x",
        "outputId": "94008bd1-0bcb-4b29-efc7-922052c96aa9",
        "colab": {
          "base_uri": "https://localhost:8080/",
          "height": 276
        }
      },
      "source": [
        "# Пример данных\n",
        "n = 0 # Берем первое резюме\n",
        "for i in range(len(fixed_df.values[n])): # Выводим значение каждой графы резюме\n",
        "  print(i, \" \", fixed_df.values[n][i])"
      ],
      "execution_count": null,
      "outputs": [
        {
          "output_type": "stream",
          "text": [
            "0   0\n",
            "1   Мужчина ,  29 лет , родился 16 мая 1989\n",
            "2   40000 руб.\n",
            "3   Специалист по поддержке чата(support team) домашний агент\n",
            "4   Новороссийск , готов к переезду (Анапа, Геленджик) , не готов к командировкам\n",
            "5   полная занятость\n",
            "6   полный день\n",
            "7   Опыт работы 3 года 9 месяцев  Специалист по поддержке чата(support team) домашний агент 40 000 руб. Информационные технологии, интернет, телеком Системный администратор Сотовые, Беспроводные технологии Телекоммуникации Занятость: полная занятость График работы: полный день Опыт работы 3 года 9 месяцев Май 2012 — Январь  2016 3 года 9 месяцев ООО \"Гольфстрим\" Республика Башкортостан Строительство, недвижимость, эксплуатация, проектирование ... Строительство жилищное Управление и эксплуатация недвижимости Генеральный директор Руководство, отладка деловых связей, заключение договоров, развитие организации Ключевые навыки Теперь резюме открыто всему интернету — изменить можно в настройках видимости. Заключение договоров Деловое общение Деловая коммуникация Пользователь ПК Ведение переговоров Управление персоналом Деловая переписка Составление договоров Телефонные переговоры Грамотная речь MS Outlook Водительское удостоверение категории B Работа в команде Возникли неполадки. Попробуйте еще раз. Опыт вождения Права категории B Обо мне Электроника, новые технологии, автомобили, охота, природа, музыка, путешествия. Высшее образование 2011 Кликнув на название учебного заведения вы сможете найти кандидатов из этого вуза. Международный юридический институт при Министерстве юстиции Российской Федерации, Москва Юридический факультет, Юриспруденция Знание языков Русский — Родной Английский — A1 — Начальный Гражданство, время в пути до работы Гражданство: Россия Разрешение на работу: Россия Желательное время в пути до работы: Не имеет значения  Опыт работы 3 года 9 месяцев Май 2012 — Январь  2016 3 года 9 месяцев ООО \"Гольфстрим\" Республика Башкортостан Строительство, недвижимость, эксплуатация, проектирование ... Строительство жилищное Управление и эксплуатация недвижимости Генеральный директор Руководство, отладка деловых связей, заключение договоров, развитие организации  Май 2012 — Январь  2016 3 года 9 месяцев ООО \"Гольфстрим\" Республика Башкортостан Строительство, недвижимость, эксплуатация, проектирование ... Строительство жилищное Управление и эксплуатация недвижимости Генеральный директор Руководство, отладка деловых связей, заключение договоров, развитие организации\n",
            "8   ООО \"Гольфстрим\"\n",
            "9   Генеральный директор\n",
            "10   Высшее образование 2011  Международный юридический институт при Министерстве юстиции Российской Федерации, Москва Юридический факультет, Юриспруденция\n",
            "11   26.04.2019 08:04\n",
            "12   Не указано\n"
          ],
          "name": "stdout"
        }
      ]
    },
    {
      "cell_type": "markdown",
      "metadata": {
        "id": "yJls78D2_qvU"
      },
      "source": [
        "# 4 Парсинг базы"
      ]
    },
    {
      "cell_type": "code",
      "metadata": {
        "id": "mmsnoX_k_i7U"
      },
      "source": [
        "##############################################\n",
        "####Убрать кодировку в описаниях \\xa0 \\n\n",
        "##############################################\n",
        "fixed_df = fixed_df.drop(fixed_df.columns[0],axis = 1) # Убираем первый столбец с продублированными индексами. Он нам не нужен\n",
        "\n",
        "i=0\n",
        "for j in range(12):  # Для каждого из столбцов таблицы\n",
        "    for i in range(fixed_df.shape[0]): # По всем резюме\n",
        "        if type(fixed_df.values[i][j])!=float: # если данные текстовые, то заменяем фрагменты кодировки ASCII на отсутствие символов\n",
        "            fixed_df.values[i][j] = fixed_df.values[i][j].replace(\"\\xa0\",\"\")\n",
        "            fixed_df.values[i][j] = fixed_df.values[i][j].replace(\"\\n\",\" \")"
      ],
      "execution_count": null,
      "outputs": []
    },
    {
      "cell_type": "code",
      "metadata": {
        "id": "4tHMfNY-gPWW"
      },
      "source": [
        "# Данные о поле и возрасте\n",
        "def getParameterSexAge(arg):\n",
        "  out = [0,0]\n",
        "  #Если М, то 1. По умолчанию 0 - Ж\n",
        "  if \"М\" in arg:\n",
        "    out[0] = 1\n",
        "  # текущий год - год рождения\n",
        "  year_tec = 2020\n",
        "  if (len(arg) > 7):\n",
        "    out[1] = year_tec - int(re.findall(r'\\d{4}', arg)[0])\n",
        "  return out\n",
        "\n",
        "# Полученный возраст превращаем в класс возрастной категории\n",
        "def getParameterAgeVect(arg):\n",
        "  outClass =int((arg-13)/5)\n",
        "  outClass = max(0, min(10,outClass))\n",
        "  # На выходе получаем вектор с нужной категорией возраста\n",
        "  return list(utils.to_categorical(outClass, 11).astype('int'))\n",
        "\n",
        "\n",
        "# Зарплата\n",
        "def getParameterSalary(arg):\n",
        "    num = arg\n",
        "    # Сначала получаем чистое число, убираем лишние знаки\n",
        "    if (type(num) == str):\n",
        "        num = re.sub(' ','',num)\n",
        "        num = re.sub('[а-яА-ЯёЁ]','',num)\n",
        "        num = re.sub('[a-zA-Z]','',num)\n",
        "        num = num.replace('.','')\n",
        "\n",
        "        # Получаем чисто валюту, убираем цифры\n",
        "        curr = re.sub('[0-9]','',arg)\n",
        "        curr = curr.replace('.','').strip()\n",
        "\n",
        "        # Конвертируем в рубли, если валюта\n",
        "        if curr == 'USD':\n",
        "           num = float(num)*65\n",
        "        elif curr == 'KZT':\n",
        "           num = float(num)*0.17\n",
        "        elif curr=='грн':\n",
        "           num = float(num)*2.6\n",
        "        elif curr=='белруб':\n",
        "           num = float(num)*30.5\n",
        "        elif curr=='EUR':\n",
        "           num = float(num)*70\n",
        "        elif curr=='KGS':\n",
        "           num = float(num)*0.9\n",
        "        elif curr=='сум':\n",
        "           num = float(num)*0.007\n",
        "        elif curr=='AZN':\n",
        "           num = float(num)*37.5\n",
        "\n",
        "    salaryStr = int(num)\n",
        "\n",
        "\n",
        "    return salaryStr\n",
        "\n",
        "\n",
        "# Данные о городе\n",
        "def getParameterCity(arg):\n",
        "  millionCities = \"Новосибирск Екатеринбург Нижний Новгород Казань Челябинск Омск Самара Ростов-на-Дону Уфа Красноярск Пермь Воронеж Волгоград\"\n",
        "  sarg=arg.split(',')\n",
        "  for item in sarg:\n",
        "    item= item.strip()\n",
        "    if item == \"Москва\":          return [1, 0, 0, 0]\n",
        "    if item == \"Санкт-Петербург\": return [0, 1, 0, 0]\n",
        "    if item in millionCities:     return [0, 0, 1, 0]\n",
        "  return [0, 0, 0, 1]\n",
        "\n",
        "# Данные о желаемой занятости\n",
        "def getParameterEmployment(arg):\n",
        "  out= [0, 0, 0, 0]\n",
        "  if (\"стажировка\" in arg):           out[0]=1\n",
        "  if (\"частичная занятость\" in arg):  out[1]=1\n",
        "  if (\"проектная работа\" in arg):     out[2]=1\n",
        "  if (\"полная занятость\" in arg):     out[3]=1\n",
        "  return out\n",
        "\n",
        "# Данные о желаемом графике работы\n",
        "def getParameterSchedule(arg):\n",
        "  out = [0, 0, 0, 0]\n",
        "  if (\"гибкий график\" in arg):    out[0]=1\n",
        "  if (\"полный день\" in arg):      out[1]=1\n",
        "  if (\"сменный график\" in arg):   out[2]=1\n",
        "  if (\"удаленная работа\" in arg): out[3]=1\n",
        "  return out\n",
        "\n",
        "# Данные об образовании\n",
        "def getParameterEducation(arg):\n",
        "  out = [0, 0, 0, 0] #По умолчанию не указано\n",
        "  if arg in \"Высшее Higher education\":  out[0] = 1\n",
        "  if arg in \"Среднее специальное\":      out[1] = 1\n",
        "  if arg in \"Неоконченное высшее\":      out[2] = 1\n",
        "  if arg in \"Среднее образование\":      out[3] = 1\n",
        "  return out\n",
        "\n",
        "# Данные об опыте работы\n",
        "def getParameterExperience(arg):\n",
        "  arg = str(arg)\n",
        "  #Проверяем, если не пустая строка\n",
        "  symbols = 0\n",
        "  years = 0\n",
        "  months = 0\n",
        "  for s in arg:\n",
        "    if (s != \" \"):\n",
        "      symbols += 1\n",
        "\n",
        "  #Находим индексы пробелов около фразы \"опыт работы\"\n",
        "  if (symbols > 10):\n",
        "      spacesIndexes = []\n",
        "      index = 0\n",
        "      while ((len(spacesIndexes) < 5) & (index < len(arg))):\n",
        "          if (arg[index] == \" \"):\n",
        "              spacesIndexes.append(index)\n",
        "          index += 1\n",
        "\n",
        "      years = 0\n",
        "      months = 0\n",
        "      if (arg[spacesIndexes[2]+1] != \"м\"):\n",
        "         if (len(spacesIndexes) >= 3):\n",
        "            yearsStr = arg[spacesIndexes[1]:spacesIndexes[2]] # Записываем в строку значение лет\n",
        "            years = int(yearsStr)\n",
        "\n",
        "         if (len(spacesIndexes) >= 5):\n",
        "            monthsStr = arg[spacesIndexes[3]:spacesIndexes[4]] # Записываем в строку значение месяцев\n",
        "            if(arg[spacesIndexes[2]+1] == \"м\"):\n",
        "                months = int(monthsStr)\n",
        "      else:\n",
        "        if (len(spacesIndexes) >= 3):\n",
        "          monthsStr = arg[spacesIndexes[1]:spacesIndexes[2]]\n",
        "          months = int(monthsStr)\n",
        "\n",
        "  return 12*years+months\n",
        "\n",
        "# Категориальное представление опыта работы\n",
        "def getParameterExperienceVector(arg):\n",
        "  out = getParameterExperience(arg)\n",
        "  outClass = 0\n",
        "  if (out > 6): # если больше 6 месяцев\n",
        "    outClass = 1\n",
        "  if (out > 12): # если больше 12 месяцев\n",
        "    outClass = 2\n",
        "  if (out > 24): # если больше 24 месяцев\n",
        "    outClass = 3\n",
        "  if (out > 36): # если больше 36 месяцев\n",
        "    outClass = 4\n",
        "  if (out > 60): # если больше 60 месяцев\n",
        "    outClass = 5\n",
        "  if (out > 96): # если больше 96 месяцев\n",
        "    outClass = 6\n",
        "  if (out > 120): # если больше 120 месяцев\n",
        "    outClass = 7\n",
        "  if (out > 156): # если больше 156 месяцев\n",
        "    outClass = 8\n",
        "  if (out > 192): # если больше 192 месяцев\n",
        "    outClass = 9\n",
        "  if (out > 240): # если больше 240 месяцев\n",
        "    outClass = 10\n",
        "\n",
        "  return list(utils.to_categorical(outClass, 11).astype('int'))\n",
        "\n",
        "# Извлекаем все параметры\n",
        "def getAllParameters(val):\n",
        "  result = getParameterSexAge(val[0])\n",
        "  sex = result[0]  #getParameterSex() #параметры о поле\n",
        "  age =getParameterAgeVect(result[1]) #параметры о возрасте\n",
        "  city = getParameterCity(val[3]) #параметры о городе\n",
        "  employment = getParameterEmployment(val[4]) #параметры о желаемой занятости\n",
        "  shedule = getParameterSchedule(val[5]) #параметры о желаемом графике\n",
        "  education = getParameterEducation(val[9]) #параметры об образовании\n",
        "  experience = getParameterExperienceVector(val[6]) #параметры об опыте\n",
        "  out = []\n",
        "\n",
        "# Склеиваем все параметры в вектор\n",
        "  out.append(sex)\n",
        "  out += age\n",
        "  out += city\n",
        "  out += employment\n",
        "  out += shedule\n",
        "  out += education\n",
        "  out += experience\n",
        "\n",
        "  return out"
      ],
      "execution_count": null,
      "outputs": []
    },
    {
      "cell_type": "markdown",
      "metadata": {
        "id": "bJ0t9p7Mgv3q"
      },
      "source": [
        "# 5 Создание тренеровчной выборки для нейросети № 1 (в т.ч. общего yTrain)\n",
        "\n",
        "*(пол, возраст, город, занятость, график, образование, опыт (лет, месяцев))*"
      ]
    },
    {
      "cell_type": "code",
      "metadata": {
        "id": "6Tp4gu7zg2az"
      },
      "source": [
        "# Создаем тренировочную выборку\n",
        "def get01Data(values):\n",
        "  xTrain = []\n",
        "  yTrain = []\n",
        "\n",
        "  # Предсказывать будем зарплату\n",
        "  for val in values:\n",
        "    y = getParameterSalary(val[1])\n",
        "\n",
        "    # Все, что не зарплата - обучающая выборка\n",
        "    if (y != -1):\n",
        "      x = getAllParameters(val)\n",
        "      xTrain.append(x)\n",
        "      yTrain.append(y/1000)\n",
        "\n",
        "  xTrain = np.array(xTrain)\n",
        "  yTrain = np.array(yTrain)\n",
        "\n",
        "\n",
        "  return (xTrain, yTrain)"
      ],
      "execution_count": null,
      "outputs": []
    },
    {
      "cell_type": "code",
      "metadata": {
        "id": "jIm7v4eCgQ0I"
      },
      "source": [
        "(xTrain01, yTrain) = get01Data(fixed_df.values) # Извлекаем значения загруженного набора данных"
      ],
      "execution_count": null,
      "outputs": []
    },
    {
      "cell_type": "code",
      "metadata": {
        "id": "UYHEypd_gRn4",
        "outputId": "87174c2c-8c57-4fed-f1a5-6f0f801f6fe4",
        "colab": {
          "base_uri": "https://localhost:8080/",
          "height": 109
        }
      },
      "source": [
        "# Размер набора параметров и зарплат\n",
        "print(xTrain01.shape)\n",
        "print(yTrain.shape)\n",
        "# Пример обработанных данных\n",
        "n = 0\n",
        "print(xTrain01[n])\n",
        "print(yTrain[n])"
      ],
      "execution_count": null,
      "outputs": [
        {
          "output_type": "stream",
          "text": [
            "(62967, 39)\n",
            "(62967,)\n",
            "[1 0 0 0 1 0 0 0 0 0 0 0 0 0 0 1 0 0 0 1 0 1 0 0 0 0 0 0 0 0 0 1 0 0 0 0 0\n",
            " 0 0]\n",
            "40.0\n"
          ],
          "name": "stdout"
        }
      ]
    },
    {
      "cell_type": "markdown",
      "metadata": {
        "id": "LECwtwJ7J_QY"
      },
      "source": [
        "# 6 Эксперименты с нейросетью № 1"
      ]
    },
    {
      "cell_type": "code",
      "metadata": {
        "id": "9M3Jm1lGOFMr",
        "outputId": "c8109c91-fcd6-4714-a125-11cd9a1349ea",
        "colab": {
          "base_uri": "https://localhost:8080/",
          "height": 1000
        }
      },
      "source": [
        "# Обучаем модель полученными данными\n",
        "model = Sequential()\n",
        "model.add(BatchNormalization(input_shape=(xTrain01.shape[1],)))\n",
        "model.add(Dropout(0.4))\n",
        "model.add(Dense(128, activation='relu'))      # был relu\n",
        "\n",
        "\n",
        "model.add(Dense(256, activation='linear'))      # Лучшее кол-во (тангенс ,был, сделал linear)\n",
        "model.add(Dense(128, activation='relu'))\n",
        "\n",
        "model.add(Dense(128, activation='relu'))\n",
        "\n",
        "model.add(Dense(1, activation='linear'))    # linear\n",
        "\n",
        "model.compile(optimizer=Adam(lr=1e-4), loss='mse', metrics=['mae'])\n",
        "\n",
        "history = model.fit(xTrain01,\n",
        "                    yTrain,\n",
        "                    epochs=50,\n",
        "                    batch_size=250,\n",
        "                    validation_split=0.4,\n",
        "                    verbose=2)\n",
        "\n",
        "plt.plot(history.history['mae'],\n",
        "         label='Средняя абсолютная ошибка на обучающем наборе')\n",
        "plt.plot(history.history['val_mae'],\n",
        "         label='Средняя абсолютная ошибка на проверочном наборе')\n",
        "plt.xlabel('Эпоха обучения')\n",
        "plt.ylabel('Средняя абсолютная ошибка')\n",
        "plt.legend()\n",
        "plt.show()"
      ],
      "execution_count": null,
      "outputs": [
        {
          "output_type": "stream",
          "text": [
            "Epoch 1/50\n",
            "152/152 - 1s - loss: 25776.9180 - mae: 61.2413 - val_loss: 4979.2642 - val_mae: 39.4823\n",
            "Epoch 2/50\n",
            "152/152 - 1s - loss: 21920.4590 - mae: 42.3173 - val_loss: 3682.4109 - val_mae: 33.1697\n",
            "Epoch 3/50\n",
            "152/152 - 0s - loss: 21518.6523 - mae: 39.8288 - val_loss: 3308.1958 - val_mae: 31.9942\n",
            "Epoch 4/50\n",
            "152/152 - 0s - loss: 21387.0137 - mae: 38.7647 - val_loss: 3124.2700 - val_mae: 31.8202\n",
            "Epoch 5/50\n",
            "152/152 - 1s - loss: 21306.2051 - mae: 38.6238 - val_loss: 3108.6750 - val_mae: 31.6496\n",
            "Epoch 6/50\n",
            "152/152 - 1s - loss: 21354.5293 - mae: 38.3994 - val_loss: 3108.7954 - val_mae: 31.5683\n",
            "Epoch 7/50\n",
            "152/152 - 1s - loss: 21302.7910 - mae: 38.4900 - val_loss: 3051.3787 - val_mae: 31.5623\n",
            "Epoch 8/50\n",
            "152/152 - 0s - loss: 21293.6309 - mae: 38.5250 - val_loss: 3075.4082 - val_mae: 31.4324\n",
            "Epoch 9/50\n",
            "152/152 - 1s - loss: 21376.8613 - mae: 38.3967 - val_loss: 3063.7783 - val_mae: 31.3727\n",
            "Epoch 10/50\n",
            "152/152 - 0s - loss: 21244.8262 - mae: 38.4313 - val_loss: 3073.0437 - val_mae: 31.3147\n",
            "Epoch 11/50\n",
            "152/152 - 1s - loss: 21257.8008 - mae: 38.3585 - val_loss: 3101.4697 - val_mae: 31.3109\n",
            "Epoch 12/50\n",
            "152/152 - 0s - loss: 21275.4473 - mae: 38.2462 - val_loss: 3049.1643 - val_mae: 31.2229\n",
            "Epoch 13/50\n",
            "152/152 - 0s - loss: 21300.6270 - mae: 38.3436 - val_loss: 3057.6060 - val_mae: 31.1938\n",
            "Epoch 14/50\n",
            "152/152 - 1s - loss: 21278.3828 - mae: 38.2603 - val_loss: 3060.5801 - val_mae: 31.1523\n",
            "Epoch 15/50\n",
            "152/152 - 0s - loss: 21228.9473 - mae: 38.0989 - val_loss: 3065.5046 - val_mae: 31.0945\n",
            "Epoch 16/50\n",
            "152/152 - 0s - loss: 21268.9746 - mae: 38.1828 - val_loss: 3089.7168 - val_mae: 30.9596\n",
            "Epoch 17/50\n",
            "152/152 - 1s - loss: 21247.5410 - mae: 38.0300 - val_loss: 3040.0530 - val_mae: 30.9372\n",
            "Epoch 18/50\n",
            "152/152 - 0s - loss: 21245.5566 - mae: 38.0834 - val_loss: 2964.7434 - val_mae: 31.0271\n",
            "Epoch 19/50\n",
            "152/152 - 1s - loss: 21221.9180 - mae: 38.0754 - val_loss: 3052.4697 - val_mae: 30.8682\n",
            "Epoch 20/50\n",
            "152/152 - 1s - loss: 21286.3730 - mae: 37.7215 - val_loss: 2971.6040 - val_mae: 30.9231\n",
            "Epoch 21/50\n",
            "152/152 - 0s - loss: 21312.7520 - mae: 38.0044 - val_loss: 3062.0649 - val_mae: 30.8230\n",
            "Epoch 22/50\n",
            "152/152 - 1s - loss: 21209.0918 - mae: 37.9407 - val_loss: 3086.2417 - val_mae: 30.8260\n",
            "Epoch 23/50\n",
            "152/152 - 0s - loss: 21218.8809 - mae: 37.6745 - val_loss: 3044.5173 - val_mae: 30.8097\n",
            "Epoch 24/50\n",
            "152/152 - 1s - loss: 21256.0996 - mae: 37.9457 - val_loss: 3024.9392 - val_mae: 30.8491\n",
            "Epoch 25/50\n",
            "152/152 - 1s - loss: 21238.7070 - mae: 37.9207 - val_loss: 3085.0571 - val_mae: 30.7702\n",
            "Epoch 26/50\n",
            "152/152 - 1s - loss: 21239.7949 - mae: 37.7370 - val_loss: 3017.5732 - val_mae: 30.7650\n",
            "Epoch 27/50\n",
            "152/152 - 1s - loss: 21290.7734 - mae: 37.7858 - val_loss: 2995.9602 - val_mae: 30.7313\n",
            "Epoch 28/50\n",
            "152/152 - 0s - loss: 21183.9668 - mae: 37.7500 - val_loss: 2951.0818 - val_mae: 30.7940\n",
            "Epoch 29/50\n",
            "152/152 - 1s - loss: 21199.5469 - mae: 37.7896 - val_loss: 3000.5718 - val_mae: 30.7321\n",
            "Epoch 30/50\n",
            "152/152 - 0s - loss: 21265.8516 - mae: 37.7430 - val_loss: 3035.4548 - val_mae: 30.6389\n",
            "Epoch 31/50\n",
            "152/152 - 0s - loss: 21262.0332 - mae: 37.7969 - val_loss: 3020.2168 - val_mae: 30.6087\n",
            "Epoch 32/50\n",
            "152/152 - 0s - loss: 21204.5391 - mae: 37.6816 - val_loss: 2996.6990 - val_mae: 30.6174\n",
            "Epoch 33/50\n",
            "152/152 - 0s - loss: 21196.4180 - mae: 37.7797 - val_loss: 2983.4067 - val_mae: 30.5913\n",
            "Epoch 34/50\n",
            "152/152 - 0s - loss: 21164.3770 - mae: 37.7564 - val_loss: 2975.4780 - val_mae: 30.6586\n",
            "Epoch 35/50\n",
            "152/152 - 0s - loss: 21239.7402 - mae: 37.7562 - val_loss: 2953.2207 - val_mae: 30.7828\n",
            "Epoch 36/50\n",
            "152/152 - 1s - loss: 21280.3223 - mae: 37.8687 - val_loss: 3012.4121 - val_mae: 30.7201\n",
            "Epoch 37/50\n",
            "152/152 - 0s - loss: 21225.0469 - mae: 37.9404 - val_loss: 3014.5872 - val_mae: 30.6876\n",
            "Epoch 38/50\n",
            "152/152 - 0s - loss: 21246.7559 - mae: 37.5898 - val_loss: 3008.9636 - val_mae: 30.6799\n",
            "Epoch 39/50\n",
            "152/152 - 0s - loss: 21159.6289 - mae: 37.5440 - val_loss: 2975.8198 - val_mae: 30.6381\n",
            "Epoch 40/50\n",
            "152/152 - 1s - loss: 21200.2910 - mae: 37.7120 - val_loss: 3028.5518 - val_mae: 30.5899\n",
            "Epoch 41/50\n",
            "152/152 - 1s - loss: 21258.9395 - mae: 37.7210 - val_loss: 3030.3625 - val_mae: 30.6323\n",
            "Epoch 42/50\n",
            "152/152 - 1s - loss: 21196.1133 - mae: 37.6665 - val_loss: 2965.9160 - val_mae: 30.7493\n",
            "Epoch 43/50\n",
            "152/152 - 0s - loss: 21243.2051 - mae: 37.5740 - val_loss: 3024.6504 - val_mae: 30.6906\n",
            "Epoch 44/50\n",
            "152/152 - 1s - loss: 21198.8574 - mae: 37.6141 - val_loss: 2971.6025 - val_mae: 30.6317\n",
            "Epoch 45/50\n",
            "152/152 - 0s - loss: 21240.7148 - mae: 37.6983 - val_loss: 2992.8064 - val_mae: 30.6351\n",
            "Epoch 46/50\n",
            "152/152 - 1s - loss: 21203.8008 - mae: 37.6224 - val_loss: 2970.6438 - val_mae: 30.6681\n",
            "Epoch 47/50\n",
            "152/152 - 0s - loss: 21138.5566 - mae: 37.6870 - val_loss: 2940.6018 - val_mae: 30.5948\n",
            "Epoch 48/50\n",
            "152/152 - 0s - loss: 21167.1875 - mae: 37.3974 - val_loss: 2969.8022 - val_mae: 30.5201\n",
            "Epoch 49/50\n",
            "152/152 - 0s - loss: 21206.2012 - mae: 37.5213 - val_loss: 3030.4170 - val_mae: 30.5593\n",
            "Epoch 50/50\n",
            "152/152 - 1s - loss: 21178.5410 - mae: 37.5193 - val_loss: 2971.0327 - val_mae: 30.6123\n"
          ],
          "name": "stdout"
        },
        {
          "output_type": "display_data",
          "data": {
            "image/png": "[encoded data removed]",
            "text/plain": [
              "<Figure size 432x288 with 1 Axes>"
            ]
          },
          "metadata": {
            "tags": [],
            "needs_background": "light"
          }
        }
      ]
    },
    {
      "cell_type": "markdown",
      "metadata": {
        "id": "acSqH8krBBfQ"
      },
      "source": [
        "# 7 Создание тренеровчной выборки для нейросети № 2\n",
        "\n",
        "*(последняя должнотсь)*"
      ]
    },
    {
      "cell_type": "code",
      "metadata": {
        "id": "28C7qA04hdOH"
      },
      "source": [
        "# Выкачиваем данные по профессиям\n",
        "def getXTrainTProf(values):\n",
        "  xTrainTProf = []\n",
        "\n",
        "  for val in values:\n",
        "    currText = \"\"\n",
        "    if (type(val[2]) != float):\n",
        "      currText += val[2]\n",
        "    if (type(val[7]) != float):\n",
        "      currText += \" \" + val[7]\n",
        "\n",
        "    if (getParameterSalary(val[1]) != -1): # Проверяем, если есть данные о зарплате\n",
        "      xTrainTProf.append(currText)\n",
        "\n",
        "  xTrainTProf = np.array(xTrainTProf)\n",
        "\n",
        "  return xTrainTProf"
      ],
      "execution_count": null,
      "outputs": []
    },
    {
      "cell_type": "code",
      "metadata": {
        "id": "xzg4pECIhfpW",
        "outputId": "c471bff3-933e-476f-f351-9ed6684d66d4",
        "colab": {
          "base_uri": "https://localhost:8080/",
          "height": 35
        }
      },
      "source": [
        "# Вытаскиваем професии для выборки\n",
        "xTrainTProf = getXTrainTProf(fixed_df.values)\n",
        "print(xTrainTProf[123]) # пример профессии 11го резюме"
      ],
      "execution_count": null,
      "outputs": [
        {
          "output_type": "stream",
          "text": [
            "Аналитик Комсомольская правда, ИД\n"
          ],
          "name": "stdout"
        }
      ]
    },
    {
      "cell_type": "code",
      "metadata": {
        "id": "WA0dEIMrhftH"
      },
      "source": [
        "#################\n",
        "#Преобразовываем текстовые данные в числовые/векторные для обучения нейросетью\n",
        "#################\n",
        "\n",
        "maxWordsCount = 10000 #определяем макс.кол-во слов/индексов, учитываемое при обучении текстов\n",
        "\n",
        "#для этого воспользуемся встроенной в Keras функцией Tokenizer для разбиения текста и превращения в матрицу числовых значений\n",
        "tokenizer = Tokenizer(num_words=maxWordsCount, filters='!\"#$%&()*+,-–—./:;<=>?@[\\\\]^_`{|}~\\t\\n\\xa0', lower=True, split=' ', oov_token='unknown', char_level=False)\n",
        "#выше задаем параметры:\n",
        "#(num_words=maxWordsCount) - определяем макс.кол-во слов/индексов, учитываемое при обучении текстов\n",
        "#(filters='!\"#$%&()*+,-./:;<=>?@[\\\\]^_`{|}~\\t\\n') - избавляемся от ненужных символов\n",
        "#(lower=True) - приводим слова к нижнему регистру\n",
        "#(split=' ') - разделяем слова по пробелу\n",
        "#(char_level=False) - просим токенайзер не удалять однобуквенные слова\n",
        "\n",
        "tokenizer.fit_on_texts(xTrainTProf) # \"скармливаем\" наши тексты, т.е даём в обработку методу, который соберет словарь частотности\n",
        "items = list(tokenizer.word_index.items())  #Вытаскиваем индексы слов для просмотра"
      ],
      "execution_count": null,
      "outputs": []
    },
    {
      "cell_type": "code",
      "metadata": {
        "id": "-HBgJjc0hfwr"
      },
      "source": [
        "#преобразовываем текст в последовательность индексов согласно частотному словарю\n",
        "xTrainProfIndexes = tokenizer.texts_to_sequences(xTrainTProf) #обучающие тесты в индексы"
      ],
      "execution_count": null,
      "outputs": []
    },
    {
      "cell_type": "code",
      "metadata": {
        "id": "IrONwh_ghio1",
        "outputId": "ded8a8f7-b5e3-4647-badc-c7c76b44c7c6",
        "colab": {
          "base_uri": "https://localhost:8080/",
          "height": 127
        }
      },
      "source": [
        "# Преобразовываем полученные выборки из последовательности индексов в матрицы нулей и единиц по принципу Bag of Words\n",
        "xTrainProf01 = tokenizer.sequences_to_matrix(xTrainProfIndexes) # Подаем xTrain в виде списка чтобы метод успешно сработал\n",
        "print(xTrainProf01.shape)                                       # Размер обучающей выборки, сформированной по Bag of Words\n",
        "print(xTrainProf01[0][0:100])"
      ],
      "execution_count": null,
      "outputs": [
        {
          "output_type": "stream",
          "text": [
            "(62967, 10000)\n",
            "[0. 0. 1. 0. 1. 1. 0. 0. 0. 0. 0. 0. 0. 0. 0. 0. 0. 0. 0. 0. 0. 0. 0. 0.\n",
            " 0. 0. 0. 0. 0. 0. 0. 0. 0. 0. 0. 0. 0. 0. 0. 0. 0. 0. 0. 0. 0. 0. 0. 0.\n",
            " 0. 0. 0. 0. 0. 0. 0. 0. 0. 0. 0. 0. 0. 0. 0. 0. 0. 0. 0. 0. 0. 0. 0. 0.\n",
            " 0. 0. 0. 0. 0. 0. 0. 0. 0. 0. 0. 0. 0. 0. 0. 0. 0. 0. 0. 0. 0. 0. 0. 0.\n",
            " 0. 0. 0. 0.]\n"
          ],
          "name": "stdout"
        }
      ]
    },
    {
      "cell_type": "code",
      "metadata": {
        "id": "IR4hPHGrhire",
        "outputId": "543dcadf-5446-416d-f54a-31f7cfa6663e",
        "colab": {
          "base_uri": "https://localhost:8080/",
          "height": 54
        }
      },
      "source": [
        "n = 0\n",
        "print(xTrainTProf[n])       # Профессия\n",
        "print(xTrainProfIndexes[n]) # Профессия через индексы"
      ],
      "execution_count": null,
      "outputs": [
        {
          "output_type": "stream",
          "text": [
            "Специалист по поддержке чата(support team) домашний агент ООО \"Гольфстрим\"\n",
            "[4, 5, 219, 2300, 402, 139, 2976, 2006, 2, 1613]\n"
          ],
          "name": "stdout"
        }
      ]
    },
    {
      "cell_type": "code",
      "metadata": {
        "id": "0CTmhr7IhiuS",
        "outputId": "d6c1a29d-37d8-41c8-c61d-324e2f5cfe83",
        "colab": {
          "base_uri": "https://localhost:8080/",
          "height": 35
        }
      },
      "source": [
        "xTrainProf01.shape"
      ],
      "execution_count": null,
      "outputs": [
        {
          "output_type": "execute_result",
          "data": {
            "text/plain": [
              "(62967, 10000)"
            ]
          },
          "metadata": {
            "tags": []
          },
          "execution_count": 18
        }
      ]
    },
    {
      "cell_type": "markdown",
      "metadata": {
        "id": "tOIP4P9QU63N"
      },
      "source": [
        "# 8 Эксперименты с нейросетью № 2"
      ]
    },
    {
      "cell_type": "code",
      "metadata": {
        "id": "SD0U7qLHWMiX",
        "outputId": "1e75c844-2f50-4649-acea-bfa1a5c5daeb",
        "colab": {
          "base_uri": "https://localhost:8080/",
          "height": 1000
        }
      },
      "source": [
        "# Предсказываем по предыдущей работе и желаемой\n",
        "modelTProf = Sequential()\n",
        "\n",
        "modelTProf.add(Dense(256, activation='relu', input_dim=(xTrainProf01.shape[1]) ) )  # Было Relu\n",
        "# modelTProf.add(BatchNormalization()) # Обучение и остановка за 10 эпох. Потом переобучение\n",
        "modelTProf.add(Dense(128, activation='relu')) # Вообще не было.\n",
        "modelTProf.add(Dense(256, activation='relu')) # Было 500. Но лучше 256\n",
        "modelTProf.add(Dense(256, activation='relu')) # Вообще не было\n",
        "\n",
        "modelTProf.add(Dense(128, activation='relu')) # Вообще не было.\n",
        "modelTProf.add(Dense(128, activation='relu')) # Вообще не было.\n",
        "\n",
        "modelTProf.add(Dense(1, activation='linear'))\n",
        "\n",
        "modelTProf.compile(optimizer=Adagrad(lr=1e-2), loss='mse', metrics=['mae']) # было 1e-3. Но 1e-2 лучше\n",
        "\n",
        "history = modelTProf.fit(xTrainProf01[:50000],\n",
        "                    yTrain[:50000],\n",
        "                    batch_size=20,   # Было 20 и это было хорошо, но долго\n",
        "                    epochs=50,\n",
        "                    #validation_split=0.2,\n",
        "                    validation_data=(xTrainProf01[50000:], yTrain[50000:]),\n",
        "                    verbose=1, shuffle=True)\n",
        "\n",
        "plt.plot(history.history['mae'],\n",
        "         label='Средняя абсолютная ошибка на обучающем наборе')\n",
        "plt.plot(history.history['val_mae'],\n",
        "         label='Средняя абсолютная ошибка на проверочном наборе')\n",
        "plt.xlabel('Эпоха обучения')\n",
        "plt.ylabel('Средняя абсолютная ошибка')\n",
        "plt.legend()\n",
        "plt.show()"
      ],
      "execution_count": null,
      "outputs": [
        {
          "output_type": "stream",
          "text": [
            "Epoch 1/50\n",
            "2500/2500 [==============================] - 7s 3ms/step - loss: 16033.3047 - mae: 30.3578 - val_loss: 1920.9639 - val_mae: 28.2306\n",
            "Epoch 2/50\n",
            "2500/2500 [==============================] - 7s 3ms/step - loss: 15228.0195 - mae: 24.2361 - val_loss: 1728.4047 - val_mae: 25.7088\n",
            "Epoch 3/50\n",
            "2500/2500 [==============================] - 7s 3ms/step - loss: 14669.1250 - mae: 20.1490 - val_loss: 1661.0970 - val_mae: 25.3424\n",
            "Epoch 4/50\n",
            "2500/2500 [==============================] - 7s 3ms/step - loss: 14184.9062 - mae: 18.1963 - val_loss: 1594.8264 - val_mae: 24.4526\n",
            "Epoch 5/50\n",
            "2500/2500 [==============================] - 7s 3ms/step - loss: 13851.4355 - mae: 15.8942 - val_loss: 1856.6637 - val_mae: 26.7934\n",
            "Epoch 6/50\n",
            "2500/2500 [==============================] - 7s 3ms/step - loss: 13114.1514 - mae: 15.1322 - val_loss: 1821.4117 - val_mae: 24.6951\n",
            "Epoch 7/50\n",
            "2500/2500 [==============================] - 7s 3ms/step - loss: 12357.2891 - mae: 14.5684 - val_loss: 1868.1006 - val_mae: 24.1156\n",
            "Epoch 8/50\n",
            "2500/2500 [==============================] - 7s 3ms/step - loss: 14736.0371 - mae: 13.5602 - val_loss: 1741.4619 - val_mae: 23.6680\n",
            "Epoch 9/50\n",
            "2500/2500 [==============================] - 7s 3ms/step - loss: 11392.0303 - mae: 12.7734 - val_loss: 1759.2592 - val_mae: 23.3121\n",
            "Epoch 10/50\n",
            "2500/2500 [==============================] - 7s 3ms/step - loss: 10889.2930 - mae: 12.2432 - val_loss: 1707.9834 - val_mae: 23.3549\n",
            "Epoch 11/50\n",
            "2500/2500 [==============================] - 7s 3ms/step - loss: 10835.8320 - mae: 11.7445 - val_loss: 1713.4238 - val_mae: 23.2710\n",
            "Epoch 12/50\n",
            "2500/2500 [==============================] - 7s 3ms/step - loss: 10069.9785 - mae: 10.8145 - val_loss: 2000.8973 - val_mae: 23.1540\n",
            "Epoch 13/50\n",
            "2500/2500 [==============================] - 7s 3ms/step - loss: 9824.8555 - mae: 10.2781 - val_loss: 2081.6682 - val_mae: 23.2606\n",
            "Epoch 14/50\n",
            "2500/2500 [==============================] - 7s 3ms/step - loss: 10595.2881 - mae: 10.6346 - val_loss: 1638.6603 - val_mae: 22.7182\n",
            "Epoch 15/50\n",
            "2500/2500 [==============================] - 7s 3ms/step - loss: 10474.5811 - mae: 10.1398 - val_loss: 1743.5499 - val_mae: 22.8646\n",
            "Epoch 16/50\n",
            "2500/2500 [==============================] - 7s 3ms/step - loss: 9480.6660 - mae: 9.4104 - val_loss: 2081.2473 - val_mae: 22.9379\n",
            "Epoch 17/50\n",
            "2500/2500 [==============================] - 7s 3ms/step - loss: 9306.2744 - mae: 8.9858 - val_loss: 2280.3655 - val_mae: 23.0849\n",
            "Epoch 18/50\n",
            "2500/2500 [==============================] - 7s 3ms/step - loss: 9673.5254 - mae: 9.4974 - val_loss: 1738.6603 - val_mae: 22.8758\n",
            "Epoch 19/50\n",
            "2500/2500 [==============================] - 7s 3ms/step - loss: 9762.5332 - mae: 9.1874 - val_loss: 1826.5269 - val_mae: 22.6407\n",
            "Epoch 20/50\n",
            "2500/2500 [==============================] - 7s 3ms/step - loss: 9454.4678 - mae: 8.5972 - val_loss: 1883.9747 - val_mae: 22.7703\n",
            "Epoch 21/50\n",
            "2500/2500 [==============================] - 7s 3ms/step - loss: 9292.8760 - mae: 8.3786 - val_loss: 1807.2032 - val_mae: 22.5422\n",
            "Epoch 22/50\n",
            "2500/2500 [==============================] - 8s 3ms/step - loss: 9247.6396 - mae: 8.3782 - val_loss: 1903.4263 - val_mae: 22.5856\n",
            "Epoch 23/50\n",
            "2500/2500 [==============================] - 7s 3ms/step - loss: 9149.7568 - mae: 8.1263 - val_loss: 1923.6132 - val_mae: 22.4837\n",
            "Epoch 24/50\n",
            "2500/2500 [==============================] - 7s 3ms/step - loss: 8735.2637 - mae: 7.9516 - val_loss: 2173.8176 - val_mae: 22.5649\n",
            "Epoch 25/50\n",
            "2500/2500 [==============================] - 7s 3ms/step - loss: 9112.4434 - mae: 7.7076 - val_loss: 2133.0359 - val_mae: 22.7875\n",
            "Epoch 26/50\n",
            "2500/2500 [==============================] - 7s 3ms/step - loss: 8914.8848 - mae: 7.7425 - val_loss: 2171.0059 - val_mae: 26.7276\n",
            "Epoch 27/50\n",
            "2500/2500 [==============================] - 7s 3ms/step - loss: 8935.5303 - mae: 7.6536 - val_loss: 2080.8208 - val_mae: 22.5737\n",
            "Epoch 28/50\n",
            "2500/2500 [==============================] - 7s 3ms/step - loss: 8853.7793 - mae: 7.5240 - val_loss: 2072.1924 - val_mae: 22.4331\n",
            "Epoch 29/50\n",
            "2500/2500 [==============================] - 7s 3ms/step - loss: 8524.0381 - mae: 7.3651 - val_loss: 2315.5044 - val_mae: 22.9226\n",
            "Epoch 30/50\n",
            "2500/2500 [==============================] - 7s 3ms/step - loss: 8760.4307 - mae: 7.7342 - val_loss: 2054.4553 - val_mae: 22.5294\n",
            "Epoch 31/50\n",
            "2500/2500 [==============================] - 7s 3ms/step - loss: 8494.8457 - mae: 7.4983 - val_loss: 2335.9478 - val_mae: 24.1613\n",
            "Epoch 32/50\n",
            "2500/2500 [==============================] - 7s 3ms/step - loss: 8763.1074 - mae: 7.3221 - val_loss: 2148.7405 - val_mae: 22.4867\n",
            "Epoch 33/50\n",
            "2500/2500 [==============================] - 7s 3ms/step - loss: 8668.0938 - mae: 7.2740 - val_loss: 2199.5667 - val_mae: 22.7932\n",
            "Epoch 34/50\n",
            "2500/2500 [==============================] - 7s 3ms/step - loss: 8381.7100 - mae: 6.9742 - val_loss: 2434.3923 - val_mae: 23.7382\n",
            "Epoch 35/50\n",
            "2500/2500 [==============================] - 7s 3ms/step - loss: 8598.4004 - mae: 7.3063 - val_loss: 2225.0620 - val_mae: 22.6660\n",
            "Epoch 36/50\n",
            "2500/2500 [==============================] - 7s 3ms/step - loss: 8347.6748 - mae: 7.1246 - val_loss: 2345.0935 - val_mae: 22.7052\n",
            "Epoch 37/50\n",
            "2500/2500 [==============================] - 7s 3ms/step - loss: 8574.5078 - mae: 6.9676 - val_loss: 2232.1204 - val_mae: 22.4562\n",
            "Epoch 38/50\n",
            "2500/2500 [==============================] - 7s 3ms/step - loss: 8486.8975 - mae: 6.9896 - val_loss: 2221.2893 - val_mae: 22.6058\n",
            "Epoch 39/50\n",
            "2500/2500 [==============================] - 7s 3ms/step - loss: 8440.0381 - mae: 6.9943 - val_loss: 2153.2085 - val_mae: 22.4969\n",
            "Epoch 40/50\n",
            "2500/2500 [==============================] - 7s 3ms/step - loss: 8459.4863 - mae: 6.8952 - val_loss: 2162.7717 - val_mae: 22.4984\n",
            "Epoch 41/50\n",
            "2500/2500 [==============================] - 7s 3ms/step - loss: 8248.3613 - mae: 6.7556 - val_loss: 2324.4016 - val_mae: 22.7227\n",
            "Epoch 42/50\n",
            "2500/2500 [==============================] - 7s 3ms/step - loss: 8263.7295 - mae: 6.7742 - val_loss: 2354.8630 - val_mae: 22.5160\n",
            "Epoch 43/50\n",
            "2500/2500 [==============================] - 7s 3ms/step - loss: 8411.7510 - mae: 6.6978 - val_loss: 2290.2600 - val_mae: 22.9264\n",
            "Epoch 44/50\n",
            "2500/2500 [==============================] - 7s 3ms/step - loss: 8363.6553 - mae: 6.6417 - val_loss: 2244.1692 - val_mae: 22.4741\n",
            "Epoch 45/50\n",
            "2500/2500 [==============================] - 7s 3ms/step - loss: 8180.4966 - mae: 6.6248 - val_loss: 2353.4456 - val_mae: 22.6281\n",
            "Epoch 46/50\n",
            "2500/2500 [==============================] - 7s 3ms/step - loss: 8314.0811 - mae: 6.7118 - val_loss: 2200.8086 - val_mae: 22.5054\n",
            "Epoch 47/50\n",
            "2500/2500 [==============================] - 7s 3ms/step - loss: 8161.1479 - mae: 6.7072 - val_loss: 2346.2244 - val_mae: 22.5372\n",
            "Epoch 48/50\n",
            "2500/2500 [==============================] - 7s 3ms/step - loss: 8158.4307 - mae: 6.4637 - val_loss: 2411.4043 - val_mae: 22.5719\n",
            "Epoch 49/50\n",
            "2500/2500 [==============================] - 7s 3ms/step - loss: 8168.3589 - mae: 6.4577 - val_loss: 2450.6807 - val_mae: 22.5483\n",
            "Epoch 50/50\n",
            "2500/2500 [==============================] - 7s 3ms/step - loss: 8283.6367 - mae: 6.5715 - val_loss: 2288.4194 - val_mae: 22.4530\n"
          ],
          "name": "stdout"
        },
        {
          "output_type": "display_data",
          "data": {
            "image/png": "[encoded data removed]",
            "text/plain": [
              "<Figure size 432x288 with 1 Axes>"
            ]
          },
          "metadata": {
            "tags": [],
            "needs_background": "light"
          }
        }
      ]
    },
    {
      "cell_type": "markdown",
      "metadata": {
        "id": "gWa3dA-7AWxk"
      },
      "source": [
        "# 9 Создание тренеровчной выборки для нейросети № 3\n",
        "\n",
        "*(опыт работы (текстовые данные))*"
      ]
    },
    {
      "cell_type": "code",
      "metadata": {
        "id": "A1eb5LzKIizI"
      },
      "source": [
        "# Выкачиваем данные по резюме\n",
        "def getXTrainTRez(values):\n",
        "  xTrainTRez = []\n",
        "\n",
        "  for val in values:\n",
        "    currText = \"\"\n",
        "    if (type(val[6]) != float):\n",
        "      currText += val[6]\n",
        "\n",
        "    if (getParameterSalary(val[1]) != -1):\n",
        "      xTrainTRez.append(currText)\n",
        "\n",
        "  xTrainTRez = np.array(xTrainTRez)\n",
        "\n",
        "  return xTrainTRez"
      ],
      "execution_count": null,
      "outputs": []
    },
    {
      "cell_type": "code",
      "metadata": {
        "id": "LW06svJ9hxBf"
      },
      "source": [
        "# Вытаскиваем резюме для выборки\n",
        "xTrainTRez = getXTrainTRez(fixed_df.values)"
      ],
      "execution_count": null,
      "outputs": []
    },
    {
      "cell_type": "code",
      "metadata": {
        "id": "fIqtf0P0hxEO",
        "outputId": "59e324fb-7b0c-43cf-b016-b07be9a891ed",
        "colab": {
          "base_uri": "https://localhost:8080/",
          "height": 55
        }
      },
      "source": [
        "print(xTrainTRez[10]) # Пример профессии 11го резюме"
      ],
      "execution_count": null,
      "outputs": [
        {
          "output_type": "stream",
          "text": [
            "Опыт работы 27 лет 4 месяца  Программист 2 000 EUR Информационные технологии, интернет, телеком Программирование, Разработка Системная интеграция Занятость: полная занятость График работы: полный день Опыт работы 27 лет 4 месяца Январь 2008 — по настоящее время 11 лет 4 месяца Консалтинг КАС Главный аналитик Программирование на разных версиях RPG для AS/400 (iSeries). Модификация и доработка существующего кода, расширения функциональности системы. Разработка новых модулей и подсистем. Постановка задач, управление проектами. Январь 1993 — Январь  2008 15 лет 1 месяц Артекс, крупнейший дилер БМВ в Москве Директор по ИТ Доработка существующей системы управления дилерским предприятием (AS/400, iSeries). Все версии RPG (RPG36, RPG400, ILE RPG). Работа с DB2. Расширение функциональности системы, изменение системы, согласно действующему законодательству РФ. Руководство проектами, координация действий различных подразделений компании и сторонних организаций. Бюджетирование. Исследование бизнес процессов и реинжиниринг. Разработка и реализация концепций дисконтных программ, программы стимулирования сотрудников, развития региональной дилерской сети, оперативного и бухгалтерского учета товаров. Математическая статистика. Январь 1992 — Январь  1993 1 год 1 месяц GEWIKA, немецкая фирма, единственный на тот момент импортер БМВ Эксперт по компьютерным системам Эксплуатация системы управления предприятием, предоставленной вендором. Доработка и настройка системы с учетом специфики российского законодательства. Программирование для IBM System36, AS/400 (iSeries) Опыт вождения Права категории B Обо мне Программирование для AS/400 (iSeries). Языки программирования RPG (все версии), CL, Java, SQL. Работа с DB2. Развитие и сопровождение существующего кода, расширение функциональности. Разработка больших систем. Формализация и постановка задач. Руководство проектами. WEB-программирование (JAVA, PHP, HTML, XML). Утилиты IDDU, DFU, SEU, RLU, Query. Высшее образование (Кандидат наук) 1980 РПИ (Рижский политехнический институт) Рига Инженерный Знание языков Английский — C2 — В совершенстве Немецкий — B2 — Средне-продвинутый Гражданство, время в пути до работы Гражданство: Россия Желательное время в пути до работы: Не имеет значения  Опыт работы 27 лет 4 месяца Январь 2008 — по настоящее время 11 лет 4 месяца Консалтинг КАС Главный аналитик Программирование на разных версиях RPG для AS/400 (iSeries). Модификация и доработка существующего кода, расширения функциональности системы. Разработка новых модулей и подсистем. Постановка задач, управление проектами. Январь 1993 — Январь  2008 15 лет 1 месяц Артекс, крупнейший дилер БМВ в Москве Директор по ИТ Доработка существующей системы управления дилерским предприятием (AS/400, iSeries). Все версии RPG (RPG36, RPG400, ILE RPG). Работа с DB2. Расширение функциональности системы, изменение системы, согласно действующему законодательству РФ. Руководство проектами, координация действий различных подразделений компании и сторонних организаций. Бюджетирование. Исследование бизнес процессов и реинжиниринг. Разработка и реализация концепций дисконтных программ, программы стимулирования сотрудников, развития региональной дилерской сети, оперативного и бухгалтерского учета товаров. Математическая статистика. Январь 1992 — Январь  1993 1 год 1 месяц GEWIKA, немецкая фирма, единственный на тот момент импортер БМВ Эксперт по компьютерным системам Эксплуатация системы управления предприятием, предоставленной вендором. Доработка и настройка системы с учетом специфики российского законодательства. Программирование для IBM System36, AS/400 (iSeries)  Январь 2008 — по настоящее время 11 лет 4 месяца Консалтинг КАС Главный аналитик Программирование на разных версиях RPG для AS/400 (iSeries). Модификация и доработка существующего кода, расширения функциональности системы. Разработка новых модулей и подсистем. Постановка задач, управление проектами.  Январь 1993 — Январь  2008 15 лет 1 месяц Артекс, крупнейший дилер БМВ в Москве Директор по ИТ Доработка существующей системы управления дилерским предприятием (AS/400, iSeries). Все версии RPG (RPG36, RPG400, ILE RPG). Работа с DB2. Расширение функциональности системы, изменение системы, согласно действующему законодательству РФ. Руководство проектами, координация действий различных подразделений компании и сторонних организаций. Бюджетирование. Исследование бизнес процессов и реинжиниринг. Разработка и реализация концепций дисконтных программ, программы стимулирования сотрудников, развития региональной дилерской сети, оперативного и бухгалтерского учета товаров. Математическая статистика.  Январь 1992 — Январь  1993 1 год 1 месяц GEWIKA, немецкая фирма, единственный на тот момент импортер БМВ Эксперт по компьютерным системам Эксплуатация системы управления предприятием, предоставленной вендором. Доработка и настройка системы с учетом специфики российского законодательства. Программирование для IBM System36, AS/400 (iSeries)\n"
          ],
          "name": "stdout"
        }
      ]
    },
    {
      "cell_type": "code",
      "metadata": {
        "id": "7US9fmyThxHJ"
      },
      "source": [
        "#################\n",
        "#Преобразовываем текстовые данные в числовые/векторные для обучения нейросетью\n",
        "#################\n",
        "\n",
        "maxWordsCount_3 = 5000 #определяем макс.кол-во слов/индексов, учитываемое при обучении текстов\n",
        "\n",
        "#для этого воспользуемся встроенной в Keras функцией Tokenizer для разбиения текста и превращения в матрицу числовых значений\n",
        "tokenizer = Tokenizer(num_words=maxWordsCount_3, filters='!\"#$%&()*+,-–—./:;<=>?@[\\\\]^_`{|}~\\t\\n\\xa0', lower=True, split=' ', oov_token='unknown', char_level=False)\n",
        "#выше задаем параметры:\n",
        "#(num_words=maxWordsCount) - определяем макс.кол-во слов/индексов, учитываемое при обучении текстов\n",
        "#(filters='!\"#$%&()*+,-./:;<=>?@[\\\\]^_`{|}~\\t\\n') - избавляемся от ненужных символов\n",
        "#(lower=True) - приводим слова к нижнему регистру\n",
        "#(split=' ') - разделяем слова по пробелу\n",
        "#(char_level=False) - просим токенайзер не удалять однобуквенные слова\n",
        "\n",
        "tokenizer.fit_on_texts(xTrainTRez)         # \"скармливаем\" наши тексты, т.е даём в обработку методу, который соберет словарь частотности\n",
        "items = list(tokenizer.word_index.items()) # Вытаскиваем индексы слов для просмотра"
      ],
      "execution_count": null,
      "outputs": []
    },
    {
      "cell_type": "code",
      "metadata": {
        "id": "kJOS1z8Jh0nz"
      },
      "source": [
        "# Преобразовываем текст в последовательность индексов согласно частотному словарю\n",
        "xTrainRezIndexes = tokenizer.texts_to_sequences(xTrainTRez) # Обучающие тесты в индексы"
      ],
      "execution_count": null,
      "outputs": []
    },
    {
      "cell_type": "code",
      "metadata": {
        "id": "mU3lOlLzh0qN",
        "outputId": "41d7fd23-5355-4ae0-a4fd-14ec55fef9e3",
        "colab": {
          "base_uri": "https://localhost:8080/",
          "height": 127
        }
      },
      "source": [
        "xTrainRez01 = tokenizer.sequences_to_matrix(xTrainRezIndexes) # Подаем xTrain в виде списка чтобы метод успешно сработал\n",
        "print(xTrainRez01.shape)                                      # Размер обучающей выборки, сформированной по Bag of Words\n",
        "print(xTrainRez01[0][0:100])"
      ],
      "execution_count": null,
      "outputs": [
        {
          "output_type": "stream",
          "text": [
            "(62967, 5000)\n",
            "[0. 0. 1. 1. 1. 0. 1. 1. 1. 0. 0. 0. 0. 0. 1. 0. 1. 1. 1. 0. 0. 1. 1. 0.\n",
            " 1. 0. 1. 0. 0. 0. 0. 0. 1. 1. 0. 0. 0. 0. 0. 0. 0. 0. 0. 0. 0. 0. 0. 0.\n",
            " 0. 0. 0. 1. 0. 0. 1. 0. 0. 1. 0. 0. 0. 0. 0. 0. 0. 0. 0. 1. 0. 1. 0. 0.\n",
            " 0. 0. 0. 1. 0. 1. 0. 0. 0. 0. 0. 0. 0. 0. 0. 0. 0. 0. 1. 0. 0. 0. 0. 1.\n",
            " 0. 0. 1. 0.]\n"
          ],
          "name": "stdout"
        }
      ]
    },
    {
      "cell_type": "code",
      "metadata": {
        "id": "82LJ4PDch0st",
        "outputId": "1d1225e3-8e9f-4a74-8ecb-6fa8ff3e4c2e",
        "colab": {
          "base_uri": "https://localhost:8080/",
          "height": 54
        }
      },
      "source": [
        "print(xTrainRez01.shape) # Размер выборки самых частых слов\n",
        "print(xTrainRez01[555]) # Пример из отформатированной выборки"
      ],
      "execution_count": null,
      "outputs": [
        {
          "output_type": "stream",
          "text": [
            "(62967, 5000)\n",
            "[0. 0. 1. ... 0. 0. 0.]\n"
          ],
          "name": "stdout"
        }
      ]
    },
    {
      "cell_type": "markdown",
      "metadata": {
        "id": "I4m0NDDI45Py"
      },
      "source": [
        "# 10 Эксперименты с нейрометью № 3"
      ]
    },
    {
      "cell_type": "code",
      "metadata": {
        "id": "SrH4ILHg56yd",
        "outputId": "5552aef8-9faf-4497-e8f3-652a6b511cab",
        "colab": {
          "base_uri": "https://localhost:8080/",
          "height": 1000
        }
      },
      "source": [
        "# здесь в параметрах maxWordCount = 2000\n",
        "maxWordCount = 2000\n",
        "\n",
        "modelTRez = Sequential()\n",
        "\n",
        "modelTRez.add(Dense(256, activation='relu',input_dim=(xTrainRez01.shape[1])))\n",
        "modelTRez.add(Dense(128, activation='relu'))\n",
        "modelTRez.add(Dense(256, activation='relu'))\n",
        "modelTRez.add(Dense(256, activation='relu'))\n",
        "\n",
        "modelTRez.add(Dense(128, activation='relu'))\n",
        "modelTRez.add(Dense(128, activation='relu'))\n",
        "\n",
        "modelTRez.add(Dense(1, activation='linear'))\n",
        "\n",
        "modelTRez.compile(optimizer=Adam(lr=1e-3), loss='mse', metrics=['mae'])\n",
        "\n",
        "history = modelTRez.fit(xTrainRez01[:50000],\n",
        "                    yTrain[:50000],\n",
        "                    batch_size=200,\n",
        "                    epochs=20,\n",
        "                    validation_data=(xTrainRez01[50000:], yTrain[50000:]),\n",
        "                    verbose=1, shuffle=True)\n",
        "\n",
        "plt.plot(history.history['mae'],\n",
        "         label='Средняя абсолютная ошибка на обучающем наборе')\n",
        "plt.plot(history.history['val_mae'],\n",
        "         label='Средняя абсолютная ошибка на проверочном наборе')\n",
        "plt.xlabel('Эпоха обучения')\n",
        "plt.ylabel('Средняя абсолютная ошибка')\n",
        "plt.legend()\n",
        "plt.show()"
      ],
      "execution_count": null,
      "outputs": [
        {
          "output_type": "stream",
          "text": [
            "Epoch 1/20\n",
            "250/250 [==============================] - 1s 5ms/step - loss: 16224.4365 - mae: 31.0786 - val_loss: 1580.4927 - val_mae: 25.4823\n",
            "Epoch 2/20\n",
            "250/250 [==============================] - 1s 4ms/step - loss: 14813.9062 - mae: 24.5501 - val_loss: 2778.7988 - val_mae: 40.0932\n",
            "Epoch 3/20\n",
            "250/250 [==============================] - 1s 4ms/step - loss: 19309.7207 - mae: 26.0390 - val_loss: 1555.7543 - val_mae: 24.4949\n",
            "Epoch 4/20\n",
            "250/250 [==============================] - 1s 4ms/step - loss: 14077.8564 - mae: 21.1239 - val_loss: 1785.0229 - val_mae: 26.8201\n",
            "Epoch 5/20\n",
            "250/250 [==============================] - 1s 4ms/step - loss: 11428.9561 - mae: 23.2189 - val_loss: 1290.2317 - val_mae: 22.3554\n",
            "Epoch 6/20\n",
            "250/250 [==============================] - 1s 4ms/step - loss: 9259.4033 - mae: 21.9895 - val_loss: 1406.8309 - val_mae: 23.2753\n",
            "Epoch 7/20\n",
            "250/250 [==============================] - 1s 4ms/step - loss: 3945.9424 - mae: 18.2959 - val_loss: 1720.0972 - val_mae: 24.7408\n",
            "Epoch 8/20\n",
            "250/250 [==============================] - 1s 4ms/step - loss: 54017.1680 - mae: 22.6792 - val_loss: 1240.0811 - val_mae: 21.6532\n",
            "Epoch 9/20\n",
            "250/250 [==============================] - 1s 4ms/step - loss: 6509.2314 - mae: 16.6197 - val_loss: 1171.0038 - val_mae: 20.8536\n",
            "Epoch 10/20\n",
            "250/250 [==============================] - 1s 4ms/step - loss: 2160.9043 - mae: 13.8942 - val_loss: 1335.7842 - val_mae: 21.4193\n",
            "Epoch 11/20\n",
            "250/250 [==============================] - 1s 4ms/step - loss: 10726.9062 - mae: 14.7745 - val_loss: 1166.4977 - val_mae: 20.3496\n",
            "Epoch 12/20\n",
            "250/250 [==============================] - 1s 4ms/step - loss: 10296.4316 - mae: 12.5197 - val_loss: 1215.3385 - val_mae: 20.5904\n",
            "Epoch 13/20\n",
            "250/250 [==============================] - 1s 4ms/step - loss: 5058.3188 - mae: 11.7095 - val_loss: 1196.5364 - val_mae: 20.6270\n",
            "Epoch 14/20\n",
            "250/250 [==============================] - 1s 4ms/step - loss: 1561.5869 - mae: 10.8795 - val_loss: 1165.0839 - val_mae: 19.5005\n",
            "Epoch 15/20\n",
            "250/250 [==============================] - 1s 4ms/step - loss: 4481.4268 - mae: 10.3174 - val_loss: 1164.9121 - val_mae: 19.3691\n",
            "Epoch 16/20\n",
            "250/250 [==============================] - 1s 4ms/step - loss: 2152.6753 - mae: 9.8520 - val_loss: 1130.1907 - val_mae: 19.2048\n",
            "Epoch 17/20\n",
            "250/250 [==============================] - 1s 4ms/step - loss: 6600.9819 - mae: 9.4413 - val_loss: 1162.9331 - val_mae: 19.4219\n",
            "Epoch 18/20\n",
            "250/250 [==============================] - 1s 4ms/step - loss: 474.3031 - mae: 8.0590 - val_loss: 1173.6592 - val_mae: 19.2339\n",
            "Epoch 19/20\n",
            "250/250 [==============================] - 1s 4ms/step - loss: 835.4832 - mae: 8.1922 - val_loss: 1152.9836 - val_mae: 19.0198\n",
            "Epoch 20/20\n",
            "250/250 [==============================] - 1s 4ms/step - loss: 2935.4138 - mae: 9.6215 - val_loss: 1138.5134 - val_mae: 19.2395\n"
          ],
          "name": "stdout"
        },
        {
          "output_type": "display_data",
          "data": {
            "image/png": "[encoded data removed]",
            "text/plain": [
              "<Figure size 432x288 with 1 Axes>"
            ]
          },
          "metadata": {
            "tags": [],
            "needs_background": "light"
          }
        }
      ]
    },
    {
      "cell_type": "markdown",
      "metadata": {
        "id": "FTFUZK_IIvZT"
      },
      "source": [
        "# 11 Создание и обучение составной нейронной сети"
      ]
    },
    {
      "cell_type": "markdown",
      "metadata": {
        "id": "jUtpbegyCYze"
      },
      "source": [
        "*(с учётом проведённых на составных частях экспериментов)*"
      ]
    },
    {
      "cell_type": "code",
      "metadata": {
        "id": "EB42JE0wTt-O",
        "outputId": "849c3655-afa6-4c55-f5f4-691daba9c93f",
        "colab": {
          "base_uri": "https://localhost:8080/",
          "height": 1000
        }
      },
      "source": [
        "input1 = Input((xTrain01.shape[1],))\n",
        "input2 = Input((xTrainProf01.shape[1],))\n",
        "input3 = Input((xTrainRez01.shape[1],))\n",
        "\n",
        "x1 = BatchNormalization()(input1) # Создаем ветку х1\n",
        "x1 = Dropout(0.4)(x1)\n",
        "x1 = Dense(128, activation=\"relu\")(x1)\n",
        "x1 = Dense(256, activation=\"relu\")(x1)\n",
        "x1 = Dense(128, activation = \"relu\")(x1)\n",
        "x1 = Dense(128, activation = \"relu\")(x1)\n",
        "x1 = Dense(1, activation = \"relu\")(x1)\n",
        "\n",
        "x2 = BatchNormalization()(input2) # Создаем ветку х2\n",
        "x2 = Dense(256, activation=\"relu\")(input2)\n",
        "x2 = Dense(128, activation=\"relu\")(x2)\n",
        "#x2 = Dropout(0.3)(x2)\n",
        "x2 = Dense(256, activation = \"relu\")(x2)\n",
        "#x2 = Dropout(0.3)(x2)\n",
        "x2 = Dense(256, activation = \"relu\")(x2)\n",
        "x2 = Dense(128, activation = \"relu\")(x2)\n",
        "x2 = Dense(128, activation = \"relu\")(x2)\n",
        "\n",
        "x3 = BatchNormalization()(input3) # Создаем ветку х3\n",
        "x3 = Dense(256, activation= \"relu\")(input3)\n",
        "x3 = Dense(128, activation = \"relu\")(x3)\n",
        "#x3 = Dropout(0.3)(x3)\n",
        "x3 = Dense(256, activation = \"relu\")(x3)\n",
        "#x3 = Dropout(0.3)(x3)\n",
        "x3 = Dense(255, activation = \"relu\")(x3)\n",
        "x3 = Dense(128, activation = \"relu\")(x3)\n",
        "x3 = Dense(128, activation = \"relu\")(x3)\n",
        "\n",
        "x = concatenate([x1, x2, x3]) # Объединяем все три ветки\n",
        "\n",
        "x = Dense(64, activation='relu')(x)   # не было вообще\n",
        "x = Dense(64, activation='linear')(x)   # было 15\n",
        "#x = Dropout(0.4)(x)\n",
        "x = Dense(1, activation='linear')(x) # Финальный нейрон, делает регрессию. Было relu !!!!!!!!!!!!!!!!!!!!!!!!!!!!!!!!!!!!!!!!!!!!!!!!!!!\n",
        "\n",
        "model = Model((input1, input2, input3), x) # В Model загружаем стартовые и последнюю точки\n",
        "\n",
        "model.compile(optimizer=Adam(lr=1e-3), loss='mse', metrics=['mae'])\n",
        "\n",
        "history = model.fit([xTrain01[:50000], xTrainProf01[:50000], xTrainRez01[:50000]],\n",
        "                    yTrain[:50000],\n",
        "                    epochs= 50,\n",
        "                    validation_data=([xTrain01[50000:], xTrainProf01[50000:], xTrainRez01[50000:]],\n",
        "                    yTrain[50000:]),\n",
        "                    verbose=1, shuffle=True)\n",
        "\n",
        "plt.plot(history.history['mae'],\n",
        "         label='Средняя абсолютная ошибка на обучающем наборе')\n",
        "plt.plot(history.history['val_mae'],\n",
        "         label='Средняя абсолютная ошибка на проверочном наборе')\n",
        "plt.xlabel('Эпоха обучения')\n",
        "plt.ylabel('Средняя абсолютная ошибка')\n",
        "plt.legend()\n",
        "plt.show()"
      ],
      "execution_count": null,
      "outputs": [
        {
          "output_type": "stream",
          "text": [
            "Epoch 1/50\n",
            "1563/1563 [==============================] - 10s 6ms/step - loss: 15601.3213 - mae: 26.3967 - val_loss: 1434.5361 - val_mae: 23.0212\n",
            "Epoch 2/50\n",
            "1563/1563 [==============================] - 9s 6ms/step - loss: 15137.5986 - mae: 23.1597 - val_loss: 1313.4753 - val_mae: 22.2019\n",
            "Epoch 3/50\n",
            "1563/1563 [==============================] - 9s 6ms/step - loss: 14927.8877 - mae: 19.5452 - val_loss: 3874.4604 - val_mae: 44.0499\n",
            "Epoch 4/50\n",
            "1563/1563 [==============================] - 9s 6ms/step - loss: 14075.2803 - mae: 19.1005 - val_loss: 1286.6373 - val_mae: 23.2553\n",
            "Epoch 5/50\n",
            "1563/1563 [==============================] - 9s 6ms/step - loss: 13804.6992 - mae: 19.4255 - val_loss: 1144.0177 - val_mae: 20.8405\n",
            "Epoch 6/50\n",
            "1563/1563 [==============================] - 9s 6ms/step - loss: 14968.4521 - mae: 16.9024 - val_loss: 1157.9963 - val_mae: 21.1128\n",
            "Epoch 7/50\n",
            "1563/1563 [==============================] - 9s 6ms/step - loss: 15410.9551 - mae: 19.5923 - val_loss: 1460.6147 - val_mae: 25.9318\n",
            "Epoch 8/50\n",
            "1563/1563 [==============================] - 9s 6ms/step - loss: 13271.7490 - mae: 16.9469 - val_loss: 1186.2361 - val_mae: 21.3397\n",
            "Epoch 9/50\n",
            "1563/1563 [==============================] - 9s 6ms/step - loss: 10843.3340 - mae: 17.1220 - val_loss: 1152.1648 - val_mae: 20.9502\n",
            "Epoch 10/50\n",
            "1563/1563 [==============================] - 9s 6ms/step - loss: 11042.8389 - mae: 13.6730 - val_loss: 1428.6388 - val_mae: 23.7710\n",
            "Epoch 11/50\n",
            "1563/1563 [==============================] - 9s 6ms/step - loss: 25878.9277 - mae: 14.3586 - val_loss: 1040.4170 - val_mae: 19.2624\n",
            "Epoch 12/50\n",
            "1563/1563 [==============================] - 9s 6ms/step - loss: 12015.9502 - mae: 11.3453 - val_loss: 1105.6876 - val_mae: 19.9072\n",
            "Epoch 13/50\n",
            "1563/1563 [==============================] - 9s 6ms/step - loss: 9354.5205 - mae: 11.5865 - val_loss: 1037.0667 - val_mae: 19.1606\n",
            "Epoch 14/50\n",
            "1563/1563 [==============================] - 9s 6ms/step - loss: 8003.1616 - mae: 13.1303 - val_loss: 1075.1644 - val_mae: 19.7612\n",
            "Epoch 15/50\n",
            "1563/1563 [==============================] - 9s 6ms/step - loss: 7164.2656 - mae: 12.9392 - val_loss: 1417.0814 - val_mae: 23.1347\n",
            "Epoch 16/50\n",
            "1563/1563 [==============================] - 9s 6ms/step - loss: 105090.8594 - mae: 14.1757 - val_loss: 1060.4967 - val_mae: 19.2358\n",
            "Epoch 17/50\n",
            "1563/1563 [==============================] - 9s 6ms/step - loss: 6219.5249 - mae: 12.6824 - val_loss: 1140.9098 - val_mae: 19.0211\n",
            "Epoch 18/50\n",
            "1563/1563 [==============================] - 9s 6ms/step - loss: 3966.8074 - mae: 12.0649 - val_loss: 1397.7432 - val_mae: 19.8733\n",
            "Epoch 19/50\n",
            "1563/1563 [==============================] - 9s 6ms/step - loss: 52893.7578 - mae: 13.1066 - val_loss: 1125.3286 - val_mae: 19.2914\n",
            "Epoch 20/50\n",
            "1563/1563 [==============================] - 9s 6ms/step - loss: 7059.5674 - mae: 9.9972 - val_loss: 1103.1348 - val_mae: 19.5339\n",
            "Epoch 21/50\n",
            "1563/1563 [==============================] - 9s 6ms/step - loss: 9515.5059 - mae: 10.5837 - val_loss: 1073.9465 - val_mae: 18.6951\n",
            "Epoch 22/50\n",
            "1563/1563 [==============================] - 9s 6ms/step - loss: 11770.6914 - mae: 9.4649 - val_loss: 1109.6957 - val_mae: 19.4398\n",
            "Epoch 23/50\n",
            "1563/1563 [==============================] - 9s 6ms/step - loss: 7168.3486 - mae: 10.3872 - val_loss: 1057.6638 - val_mae: 18.9421\n",
            "Epoch 24/50\n",
            "1563/1563 [==============================] - 9s 6ms/step - loss: 26855.7012 - mae: 12.0459 - val_loss: 1025.4193 - val_mae: 18.3384\n",
            "Epoch 25/50\n",
            "1563/1563 [==============================] - 9s 6ms/step - loss: 11993.5908 - mae: 10.6115 - val_loss: 1095.4189 - val_mae: 19.1893\n",
            "Epoch 26/50\n",
            "1563/1563 [==============================] - 9s 6ms/step - loss: 11273.5146 - mae: 16.3278 - val_loss: 1074.3950 - val_mae: 19.7427\n",
            "Epoch 27/50\n",
            "1563/1563 [==============================] - 9s 6ms/step - loss: 7852.9458 - mae: 12.7805 - val_loss: 1064.0240 - val_mae: 18.8367\n",
            "Epoch 28/50\n",
            "1563/1563 [==============================] - 9s 6ms/step - loss: 40802.9062 - mae: 13.1360 - val_loss: 1184.4637 - val_mae: 20.5070\n",
            "Epoch 29/50\n",
            "1563/1563 [==============================] - 9s 6ms/step - loss: 12168.0576 - mae: 10.6325 - val_loss: 1021.7916 - val_mae: 18.5303\n",
            "Epoch 30/50\n",
            "1563/1563 [==============================] - 9s 6ms/step - loss: 12221.1973 - mae: 11.0854 - val_loss: 1214.0658 - val_mae: 21.3378\n",
            "Epoch 31/50\n",
            "1563/1563 [==============================] - 10s 6ms/step - loss: 8247.9619 - mae: 11.6113 - val_loss: 1200.6813 - val_mae: 20.4061\n",
            "Epoch 32/50\n",
            "1563/1563 [==============================] - 10s 6ms/step - loss: 3263.0496 - mae: 11.4007 - val_loss: 1005.0677 - val_mae: 18.3628\n",
            "Epoch 33/50\n",
            "1563/1563 [==============================] - 9s 6ms/step - loss: 12073.1709 - mae: 10.3897 - val_loss: 1737.0822 - val_mae: 25.7326\n",
            "Epoch 34/50\n",
            "1563/1563 [==============================] - 9s 6ms/step - loss: 11143.8818 - mae: 12.4120 - val_loss: 1291.7151 - val_mae: 20.2526\n",
            "Epoch 35/50\n",
            "1563/1563 [==============================] - 9s 6ms/step - loss: 7114.7852 - mae: 11.3552 - val_loss: 1113.2727 - val_mae: 19.4817\n",
            "Epoch 36/50\n",
            "1563/1563 [==============================] - 9s 6ms/step - loss: 95890.2188 - mae: 11.5526 - val_loss: 1053.9106 - val_mae: 18.5617\n",
            "Epoch 37/50\n",
            "1563/1563 [==============================] - 9s 6ms/step - loss: 9561.9141 - mae: 7.5184 - val_loss: 1130.2029 - val_mae: 18.6468\n",
            "Epoch 38/50\n",
            "1563/1563 [==============================] - 9s 6ms/step - loss: 8357.6201 - mae: 7.8754 - val_loss: 983.2613 - val_mae: 17.7550\n",
            "Epoch 39/50\n",
            "1563/1563 [==============================] - 9s 6ms/step - loss: 10259.3203 - mae: 7.4203 - val_loss: 1047.2087 - val_mae: 18.4146\n",
            "Epoch 40/50\n",
            "1563/1563 [==============================] - 9s 6ms/step - loss: 3150.3711 - mae: 8.4111 - val_loss: 1046.9755 - val_mae: 18.1541\n",
            "Epoch 41/50\n",
            "1563/1563 [==============================] - 9s 6ms/step - loss: 26038.6816 - mae: 8.6753 - val_loss: 1085.9928 - val_mae: 18.3661\n",
            "Epoch 42/50\n",
            "1563/1563 [==============================] - 9s 6ms/step - loss: 12768.6123 - mae: 7.6471 - val_loss: 975.1705 - val_mae: 17.6537\n",
            "Epoch 43/50\n",
            "1563/1563 [==============================] - 9s 6ms/step - loss: 11388.0742 - mae: 8.3338 - val_loss: 1020.3151 - val_mae: 18.3529\n",
            "Epoch 44/50\n",
            "1563/1563 [==============================] - 9s 6ms/step - loss: 7558.1230 - mae: 7.6452 - val_loss: 981.7181 - val_mae: 17.3944\n",
            "Epoch 45/50\n",
            "1563/1563 [==============================] - 9s 6ms/step - loss: 963.2545 - mae: 6.3321 - val_loss: 1057.9515 - val_mae: 18.4506\n",
            "Epoch 46/50\n",
            "1563/1563 [==============================] - 9s 6ms/step - loss: 37953.0547 - mae: 8.6878 - val_loss: 1010.1103 - val_mae: 17.7407\n",
            "Epoch 47/50\n",
            "1563/1563 [==============================] - 9s 6ms/step - loss: 11083.4727 - mae: 7.5738 - val_loss: 982.4217 - val_mae: 17.2843\n",
            "Epoch 48/50\n",
            "1563/1563 [==============================] - 9s 6ms/step - loss: 8832.2012 - mae: 7.9384 - val_loss: 1022.8464 - val_mae: 17.9146\n",
            "Epoch 49/50\n",
            "1563/1563 [==============================] - 9s 6ms/step - loss: 2068.2668 - mae: 8.2853 - val_loss: 1001.9898 - val_mae: 17.9053\n",
            "Epoch 50/50\n",
            "1563/1563 [==============================] - 9s 6ms/step - loss: 14180.1904 - mae: 8.9446 - val_loss: 1021.3911 - val_mae: 17.9798\n"
          ],
          "name": "stdout"
        },
        {
          "output_type": "display_data",
          "data": {
            "image/png": "[encoded data removed]",
            "text/plain": [
              "<Figure size 432x288 with 1 Axes>"
            ]
          },
          "metadata": {
            "tags": [],
            "needs_background": "light"
          }
        }
      ]
    },
    {
      "cell_type": "markdown",
      "metadata": {
        "id": "XeRx5Cl9AKAA"
      },
      "source": [
        "# 12 Результаты\n",
        "\n",
        "Подготовлены три нейронные сети предназначанные для анализа отдельных сведений базы данных hh.ru.\n",
        "\n",
        "В результате экспериментов с изменением различных параметров нейронных сетей (количество и состав слоёв, активационных функций, отношения обучающих и проверочных выборок, шаги обучения) удалось добиться уменьшения значений отклонений:\n",
        "\n",
        "1) в первой нейросети (анализ \"простых\" данных) - с 34,9 тыс. руб. до 30,6 тыс. руб.;\n",
        "\n",
        "2) во второй нейросети (анализ \"простых текстовых\" данных) - с 32,0 тыс. руб. до  22,4 тыс. руб.;\n",
        "\n",
        "3) в третьей нейросети (анализ \"сложных текстовых\" данных) - с 23,7 тыс. руб. до 19,2 тыс. руб.\n",
        "\n",
        "Применение полученных результатов (параметров нейронных сетей) в составной нейронной сети не привело к значительному уменьшению значения ошибки."
      ]
    },
    {
      "cell_type": "markdown",
      "metadata": {
        "id": "mSnU_wLJPo6z"
      },
      "source": [
        "# 13 Выводы"
      ]
    },
    {
      "cell_type": "markdown",
      "metadata": {
        "id": "qWuBhnOnPtBu"
      },
      "source": [
        "Создана и обучена составная нейронная сеть, предназначенная для предсказания размера заработной платы, которую запросит соискатель, на основании сведений о соискателе.\n",
        "\n",
        "Проверена гипотеза о построении составной нейронной сети, основанной на параметрах составных частей, при которых достигаются наилучшие результаты обучения составных частей. Использование составной нейронной сети не привело к получению лучших результатов работы (значительном уменьшению ошибки).\n",
        "\n",
        "Поставленная цель достигнута.\n",
        "\n",
        "Для уменьшения размера ошибки представляется целесобразным продолжение дальнейших экспериментов:\n",
        "\n",
        "- на составной нейронной сети (не на составных частях по отдельности);\n",
        "\n",
        "- в более стабильной среде разработки (при обучении нейронной сети использовались ресурсы по подписке Colab Pro, не обеспечивающие стабильной работы)."
      ]
    }
  ]
}